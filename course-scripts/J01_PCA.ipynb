{
  "nbformat": 4,
  "nbformat_minor": 0,
  "metadata": {
    "colab": {
      "name": "01_PCA",
      "provenance": [],
      "toc_visible": true
    },
    "kernelspec": {
      "name": "python3",
      "display_name": "Python 3"
    },
    "language_info": {
      "name": "python"
    }
  },
  "cells": [
    {
      "cell_type": "code",
      "execution_count": null,
      "metadata": {
        "id": "A6IQdZOi8m12"
      },
      "outputs": [],
      "source": [
        "# TODO: initialize all necessary packages"
      ]
    },
    {
      "cell_type": "markdown",
      "source": [
        "# Exploratory Analysis via PCA\n",
        "\n",
        "TODO: comment on importance of understanding and visualizing data, especially in multivariate setting."
      ],
      "metadata": {
        "id": "_F7ck0Hl8rqw"
      }
    },
    {
      "cell_type": "code",
      "source": [
        "# TODO: load dataset Experiments_TrainSet.csv"
      ],
      "metadata": {
        "id": "-3-5gpitBlUL"
      },
      "execution_count": 1,
      "outputs": []
    },
    {
      "cell_type": "markdown",
      "source": [
        "# PCA of OWU matrix\n",
        "\n",
        "Details of OWU unfolding"
      ],
      "metadata": {
        "id": "jXTgRMZgBHAx"
      }
    },
    {
      "cell_type": "markdown",
      "source": [
        "### Visualize the OWU matrix\n",
        "\n",
        "In the OWU matrix, the 1st column corresponds to VCD, the 2nd to glucose, the 3rd to lactate, the 4th to titer, and the 5th to the feed rate.\n"
      ],
      "metadata": {
        "id": "WNd1QGP6B8is"
      }
    },
    {
      "cell_type": "code",
      "source": [
        "# TODO: plot OWU as table/matrix"
      ],
      "metadata": {
        "id": "6WdkPL1RCHEG"
      },
      "execution_count": null,
      "outputs": []
    },
    {
      "cell_type": "markdown",
      "source": [
        "### Plot correlation matrix\n",
        "\n",
        "The OWU matrix is used to plot the degree of correlation between the different variables."
      ],
      "metadata": {
        "id": "FD2i_fY_CMDx"
      }
    },
    {
      "cell_type": "code",
      "source": [
        "# TODO: correlation matrix"
      ],
      "metadata": {
        "id": "SZ8iGWmwCWN3"
      },
      "execution_count": null,
      "outputs": []
    },
    {
      "cell_type": "markdown",
      "source": [
        "### Unnormalized PCA\n",
        "\n",
        "PCA is run on the OWU matrix, without any variable normalization.\n"
      ],
      "metadata": {
        "id": "8Wl5VJDoCfb7"
      }
    },
    {
      "cell_type": "code",
      "source": [
        "# TODO: do pca and plot explained variance"
      ],
      "metadata": {
        "id": "rM7Pdn7FCmkd"
      },
      "execution_count": null,
      "outputs": []
    },
    {
      "cell_type": "markdown",
      "source": [
        "### Normalized PCA\n",
        "\n",
        "PCA is run on the OWU matrix, bu this time the variables are first normalized with respect to their mean and standard deviation.\n"
      ],
      "metadata": {
        "id": "a6DqqlXcCrHN"
      }
    },
    {
      "cell_type": "code",
      "source": [
        "# TODO: do normalization, do pca and plot explained variance"
      ],
      "metadata": {
        "id": "GLKQYJRKCzUd"
      },
      "execution_count": null,
      "outputs": []
    },
    {
      "cell_type": "markdown",
      "source": [
        "### Plot scores and loadings\n",
        "\n",
        "In the following plot, the PCA loadings are plotted together with the observation scores.\n",
        "\n",
        "Color according to run number / time step / display loadings\n"
      ],
      "metadata": {
        "id": "VKrDGuxIC865"
      }
    },
    {
      "cell_type": "code",
      "source": [
        "# TODO: Bi-plot, score plot, loadings plot, mahalanobis distances"
      ],
      "metadata": {
        "id": "74y8vH03DdbY"
      },
      "execution_count": null,
      "outputs": []
    },
    {
      "cell_type": "markdown",
      "source": [
        "### Task: Normalize by median VCD and run PCA on OWU matrix\n",
        "\n",
        "\n",
        "\n",
        "\n"
      ],
      "metadata": {
        "id": "aciLrWH0DqYO"
      }
    },
    {
      "cell_type": "markdown",
      "source": [
        "# PCA of BWU matrix\n",
        "\n",
        "Details of BWU unfolding"
      ],
      "metadata": {
        "id": "fWT3Tl3TBgHO"
      }
    },
    {
      "cell_type": "markdown",
      "source": [
        "### Visualize the BWU matrix\n",
        "\n",
        "In the BWU matrix, the 1st column corresponds to VCD at day 0, the 2nd to glucose at day 0, the 3rd to lactate at day 0, the 4th to titer at day 0, and the 5th to the feed rate at day 0. This is repeated for day 1 and the following days. So, column 6 corresponds to VCD at day1, column 7 corresponds to Glc at day1, ..., column 11 corresponds to VCD at day2, etc."
      ],
      "metadata": {
        "id": "EOdNOSwhEMCW"
      }
    },
    {
      "cell_type": "code",
      "source": [
        "# TODO: plot BWU as table/matrix"
      ],
      "metadata": {
        "id": "WKsg_5YVEYjm"
      },
      "execution_count": null,
      "outputs": []
    },
    {
      "cell_type": "markdown",
      "source": [
        "### Plot correlation matrix\n",
        "The BWU matrix is used to plot the degree of correlation between the different variables.\n"
      ],
      "metadata": {
        "id": "Fr9GNt5kEdrr"
      }
    },
    {
      "cell_type": "code",
      "source": [
        "# TODO: correlation matrix"
      ],
      "metadata": {
        "id": "OrUave-JEkf0"
      },
      "execution_count": null,
      "outputs": []
    },
    {
      "cell_type": "markdown",
      "source": [
        "### Normalized PCA\n",
        "\n",
        "PCA is run on the BWU matrix, bu this time the variables are first normalized with respect to their mean and standard deviation.\n"
      ],
      "metadata": {
        "id": "BSfvxt4hEnj2"
      }
    },
    {
      "cell_type": "code",
      "source": [
        "# TODO: do normalization, do pca and plot explained variance"
      ],
      "metadata": {
        "id": "n28vGzsxEtpo"
      },
      "execution_count": null,
      "outputs": []
    },
    {
      "cell_type": "markdown",
      "source": [
        "### Plot scores and loadings\n",
        "\n",
        "In the following plot, the PCA loadings are plotted first with the loadings and then without.\n"
      ],
      "metadata": {
        "id": "8QAIImyPE3rG"
      }
    },
    {
      "cell_type": "code",
      "source": [
        "# TODO: Bi-plot, score plot, loadings plot"
      ],
      "metadata": {
        "id": "3XCKuviEFBm0"
      },
      "execution_count": null,
      "outputs": []
    },
    {
      "cell_type": "markdown",
      "source": [
        "### Task: Compute Mahalanobis distances on BWU matrix"
      ],
      "metadata": {
        "id": "mx_SpSBmFNMn"
      }
    },
    {
      "cell_type": "markdown",
      "source": [
        "# Solutions to tasks"
      ],
      "metadata": {
        "id": "1L_-GViSFWzE"
      }
    },
    {
      "cell_type": "markdown",
      "source": [
        "\n",
        "# Main focus process characterization\n",
        "* degrees of freedom\n",
        "* univariate visualization\n",
        "* abnormalities\n",
        "\n",
        "# Main focus PCA\n",
        "* abnormalities in runs/variables\n",
        "* interpretation scores/loadings\n",
        "* differences between OWU/BWU\n"
      ],
      "metadata": {
        "id": "CSKHjGPSSdmp"
      }
    }
  ]
}
