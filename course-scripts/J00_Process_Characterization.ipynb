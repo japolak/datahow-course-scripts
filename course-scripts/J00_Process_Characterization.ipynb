{
  "nbformat": 4,
  "nbformat_minor": 0,
  "metadata": {
    "colab": {
      "name": "00_Process_Characterization",
      "provenance": [],
      "collapsed_sections": []
    },
    "kernelspec": {
      "name": "python3",
      "display_name": "Python 3"
    },
    "language_info": {
      "name": "python"
    }
  },
  "cells": [
    {
      "cell_type": "code",
      "execution_count": null,
      "metadata": {
        "id": "A6IQdZOi8m12"
      },
      "outputs": [],
      "source": [
        "# TODO: initialize all necessary packages"
      ]
    },
    {
      "cell_type": "markdown",
      "source": [
        "# Create a Design of Experiments\n",
        "\n",
        "In this section, we first create a set of experiments using a Latin Hypercube design (LHD). This will be used to create an observation-wise unfolder (OWU) matrix that will be analyzed using Principle Component Analysis (PCA) and also in later scripts.\n",
        "\n",
        "*Note: the created experimental design will be saved in the file \"Experiments_TrainSet.mat\" and used for comparison in the following lecture scripts.* \n",
        "\n",
        "For creating a DOE file, the following needs to be specified:\n",
        "*   Number of experiments\n",
        "*   Design limits\n",
        "*   Errors \n",
        "\n",
        "\n"
      ],
      "metadata": {
        "id": "tdNcUGdN9dms"
      }
    },
    {
      "cell_type": "code",
      "source": [
        "## Define the number of experiments\n",
        "Nruns = 24"
      ],
      "metadata": {
        "id": "jgcrMMx9-Yc-"
      },
      "execution_count": 1,
      "outputs": []
    },
    {
      "cell_type": "code",
      "source": [
        "## Define design limits\n",
        "glc_start_range = [10,80]\n",
        "vcd_start_range = [0.1,1]\n",
        "feed_start_range = [1,4]\n",
        "feed_end_range = [8,12]\n",
        "feed_rate_range = [5,20]"
      ],
      "metadata": {
        "id": "W926ZdN0_EJu"
      },
      "execution_count": null,
      "outputs": []
    },
    {
      "cell_type": "code",
      "source": [
        "## Define errors\n",
        "inputs_std_error = [0,0]  # absolute error on [VCD, Glc]\n",
        "outputs_std_error = [0,0,0,0,0] # absolute error on [VCD, Glc, Lac, Titer, Aggr]"
      ],
      "metadata": {
        "id": "IcEwJXgj_pSj"
      },
      "execution_count": null,
      "outputs": []
    },
    {
      "cell_type": "markdown",
      "source": [
        "## Create design"
      ],
      "metadata": {
        "id": "_F7ck0Hl8rqw"
      }
    },
    {
      "cell_type": "code",
      "source": [
        "# TODO: \n",
        "# lhsdesign function\n",
        "# add path\n",
        "# save file\n",
        "# load file"
      ],
      "metadata": {
        "id": "bgzs8H_pAdfT"
      },
      "execution_count": null,
      "outputs": []
    },
    {
      "cell_type": "markdown",
      "source": [
        "## Plot experiments"
      ],
      "metadata": {
        "id": "5P2eqSodAJHw"
      }
    },
    {
      "cell_type": "code",
      "source": [
        "# TODO:\n",
        "# plot VCD profiles\n",
        "# plot Glucose profiles\n",
        "# plot Lactate profiles\n",
        "# plot Titer profiles"
      ],
      "metadata": {
        "id": "C-Y61v1qAre5"
      },
      "execution_count": null,
      "outputs": []
    }
  ]
}
