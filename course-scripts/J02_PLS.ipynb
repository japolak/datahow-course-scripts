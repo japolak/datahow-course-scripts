{
  "nbformat": 4,
  "nbformat_minor": 0,
  "metadata": {
    "colab": {
      "name": "02_PLS",
      "provenance": [],
      "toc_visible": true
    },
    "kernelspec": {
      "name": "python3",
      "display_name": "Python 3"
    },
    "language_info": {
      "name": "python"
    }
  },
  "cells": [
    {
      "cell_type": "code",
      "execution_count": null,
      "metadata": {
        "id": "A6IQdZOi8m12"
      },
      "outputs": [],
      "source": [
        "# TODO: initialize all necessary packages"
      ]
    },
    {
      "cell_type": "markdown",
      "source": [
        "# Regression Modelling\n",
        "\n",
        "In this section, we first create load the train experiments that were create inthe PCA script and save in the file \"Experiment_Train_Set.mat\". \n",
        "These experimental data will be used to create a MLR model to predict final titer, which will serve as term of comparison for the PLS model trained below."
      ],
      "metadata": {
        "id": "_F7ck0Hl8rqw"
      }
    },
    {
      "cell_type": "markdown",
      "source": [
        "# Initial Conditions model\n"
      ],
      "metadata": {
        "id": "J-chgbGTTl4P"
      }
    },
    {
      "cell_type": "code",
      "source": [
        "# TODO: load dataset Experiments_TrainSet"
      ],
      "metadata": {
        "id": "7XKjKMUAGsp9"
      },
      "execution_count": null,
      "outputs": []
    },
    {
      "cell_type": "markdown",
      "source": [
        "## Multiple Linear Regression \n",
        "\n",
        "We first train (fit) a quadratic MLR model to the final titer, using the data loaded above.\n",
        "We then characterize the performance of the model using ANOVA, where the user can have information about the importance of each coefficient and of the overal model."
      ],
      "metadata": {
        "id": "kkEQIZOLGwjz"
      }
    },
    {
      "cell_type": "markdown",
      "source": [
        "### Create linear model using stepwise procedure"
      ],
      "metadata": {
        "id": "iXJI69b1HLZJ"
      }
    },
    {
      "cell_type": "code",
      "source": [
        "# TODO: create stepwiselm model and visualize model summary"
      ],
      "metadata": {
        "id": "GKUjnJdeG7Ab"
      },
      "execution_count": null,
      "outputs": []
    },
    {
      "cell_type": "markdown",
      "source": [
        "### Evaluate model prediction on train set\n",
        "In this section, we check the predictions of the models versus the training data for the final titer.\n"
      ],
      "metadata": {
        "id": "_HtEIdIyHVTo"
      }
    },
    {
      "cell_type": "code",
      "source": [
        "# TODO: plot observed vs predicted plot and calculate abs/rel RMSE"
      ],
      "metadata": {
        "id": "DyTQwmgnHd4N"
      },
      "execution_count": null,
      "outputs": []
    },
    {
      "cell_type": "markdown",
      "source": [
        "### Evaluate model prediction on test set\n",
        "\n",
        "In this section, we use the trained model to predict the final titer and we test it on the test set created in the script \"00_Process_Characterization.ipynb\".\n"
      ],
      "metadata": {
        "id": "7hNuCgH3Hnj2"
      }
    },
    {
      "cell_type": "code",
      "source": [
        "# TODO: plot observed vs predicted plot and calculate abs/rel RMSE"
      ],
      "metadata": {
        "id": "Sfuxid_UHyta"
      },
      "execution_count": null,
      "outputs": []
    },
    {
      "cell_type": "markdown",
      "source": [
        "## PLS Model\n",
        "\n",
        "In this section, we train a PLS1 model with the data loaded in the section above.\n"
      ],
      "metadata": {
        "id": "3C7-mXh8H1P6"
      }
    },
    {
      "cell_type": "markdown",
      "source": [
        "### Select number of latent variables\n",
        "\n",
        "Create a PLS model to predict the value of the final titer given the initial conditions.\n",
        "\n",
        "* Input matrix: \"DoE_nondim\". This corresponds to the non-dimensional values of the manipulated variables for each experiment.\n",
        "* Output target: \"f_DoE\". This corresponds to the final value of titer at the end of each experiment.\n",
        "\n",
        "Select the number of latent variables for the model (the maximum number of latent variables is 5, equal to the number of variables in the input matrix).\n",
        "\n",
        "\n",
        "```\n",
        "# This is formatted as code\n",
        "```\n",
        "\n",
        "\n"
      ],
      "metadata": {
        "id": "gPSnjAS5IGW6"
      }
    },
    {
      "cell_type": "code",
      "source": [
        "# Number of latent variables\n",
        "N_LV = 3"
      ],
      "metadata": {
        "id": "OgBkwZQ0ItJU"
      },
      "execution_count": null,
      "outputs": []
    },
    {
      "cell_type": "markdown",
      "source": [
        "### Train the PLS model\n",
        "\n",
        "Here we train the PLS1 model with final titer as our response"
      ],
      "metadata": {
        "id": "durqeoZiLfUN"
      }
    },
    {
      "cell_type": "code",
      "source": [
        "# TODO: train PLS1 mdoel"
      ],
      "metadata": {
        "id": "u2RWJm8QI81j"
      },
      "execution_count": null,
      "outputs": []
    },
    {
      "cell_type": "markdown",
      "source": [
        "### Plot variance explained in the Y"
      ],
      "metadata": {
        "id": "75UqadR0JEXQ"
      }
    },
    {
      "cell_type": "code",
      "source": [
        "# TODO: explained variance plot"
      ],
      "metadata": {
        "id": "ZuBZRdV4JMgr"
      },
      "execution_count": null,
      "outputs": []
    },
    {
      "cell_type": "markdown",
      "source": [
        "### Evaluate model on train/test set\n"
      ],
      "metadata": {
        "id": "N17NSQ25JQ6P"
      }
    },
    {
      "cell_type": "code",
      "source": [
        "# TODO: plot observed vs predicted experiments and calculate abs/rel RSME"
      ],
      "metadata": {
        "id": "UV2s1482JgAU"
      },
      "execution_count": null,
      "outputs": []
    },
    {
      "cell_type": "markdown",
      "source": [
        "### Check model diagnostics\n",
        "\n",
        "* plot fitted response residuals\n",
        "* plot T2 / Mahalanobis distance values"
      ],
      "metadata": {
        "id": "Ztb0lOjJJlGb"
      }
    },
    {
      "cell_type": "code",
      "source": [
        "# TODO: compute fitted response residuals and mahalanobis distance plots for experiments\n"
      ],
      "metadata": {
        "id": "Kv6YOpV-KF9v"
      },
      "execution_count": null,
      "outputs": []
    },
    {
      "cell_type": "markdown",
      "source": [
        "### Plot scores and loadings for the predictors\n"
      ],
      "metadata": {
        "id": "46c4EeopKPps"
      }
    },
    {
      "cell_type": "code",
      "source": [
        "# TODO: bi-plot / scores plot / loadings plot\n",
        "# Color by exp name / FINAL TITER"
      ],
      "metadata": {
        "id": "soJkRof-KVAX"
      },
      "execution_count": null,
      "outputs": []
    },
    {
      "cell_type": "markdown",
      "source": [
        "### Plot VIP scores"
      ],
      "metadata": {
        "id": "QPiuOsULKj3T"
      }
    },
    {
      "cell_type": "code",
      "source": [
        "# TODO: plot VIP scores"
      ],
      "metadata": {
        "id": "uAu_GXQSKnvq"
      },
      "execution_count": null,
      "outputs": []
    },
    {
      "cell_type": "markdown",
      "source": [
        "### Task: What number of latent variables produces best model?"
      ],
      "metadata": {
        "id": "AwZeyCw1KuAw"
      }
    },
    {
      "cell_type": "code",
      "source": [
        ""
      ],
      "metadata": {
        "id": "ChxmoF1YK7bG"
      },
      "execution_count": null,
      "outputs": []
    },
    {
      "cell_type": "markdown",
      "source": [
        "## Simulate Cross Validation\n",
        "\n",
        "In this section, we will simulate a typical cross- validation to define the optimal number of latent variables.\n"
      ],
      "metadata": {
        "id": "4NiwnjgvK6tg"
      }
    },
    {
      "cell_type": "markdown",
      "source": [
        "### Select number of folds\n",
        "First define the number of folds.\n"
      ],
      "metadata": {
        "id": "B9o_F0zfLOcc"
      }
    },
    {
      "cell_type": "code",
      "source": [
        "# Number of folds\n",
        "N_folds = 5"
      ],
      "metadata": {
        "id": "AyjxiHeFLReA"
      },
      "execution_count": null,
      "outputs": []
    },
    {
      "cell_type": "markdown",
      "source": [
        "### Compute cross validation\n",
        "\n",
        "Nfold PLS1 models are trained using (Nfolds-1) folds. For each model, the sum of squared residuals (SSR) is calculated and summed up.\n",
        "\n",
        "This is repeated for different numbers of latent variables. The number of latent variables returning the least value of the SSRs is chosen as optimal.\n",
        "A second criterion is selected, namely the Bayesian Information Criterion (BIC), which is weighting the effect of the number of latent variables, i.e., if two values of the number of latent variables are returning a similar value of the SSR, then the one using less variables is chosen to be more likely to produce robust predictions.:"
      ],
      "metadata": {
        "id": "deBiKJUHLa9k"
      }
    },
    {
      "cell_type": "code",
      "source": [
        "# TODO: wrap PLS in cross-validation"
      ],
      "metadata": {
        "id": "D6lr9WnDLzyz"
      },
      "execution_count": null,
      "outputs": []
    },
    {
      "cell_type": "markdown",
      "source": [
        "### Evaluate model in cross-validation\n"
      ],
      "metadata": {
        "id": "kYcq-JOqL3bG"
      }
    },
    {
      "cell_type": "code",
      "source": [
        "# TODO: RMSE_CV, RMSE_BIC"
      ],
      "metadata": {
        "id": "x1P6nPyLMAAR"
      },
      "execution_count": null,
      "outputs": []
    },
    {
      "cell_type": "markdown",
      "source": [
        "# Historical PLS Model\n",
        "\n",
        "In an so-called historical model, the data from different experiments are ordered into a batch-wise unfolded (BWU) matrix (i.e., every row corresponds to an experiment).\n",
        "\n",
        "The BWU can be used to compute final properties of the experiment, like CQAs, which are typically the effect of the cumulated effect of the experiment profile.\n",
        "\n",
        "In this example, we will use the BWU matrix to predict the final value of titer. Clearly, titer information are removed from the BWU matrix."
      ],
      "metadata": {
        "id": "0i44tIGKMIFp"
      }
    },
    {
      "cell_type": "code",
      "source": [
        "# Define number of days to include\n",
        "N_days = 13\n",
        "# Define number of latent variables\n",
        "N_LV = 5"
      ],
      "metadata": {
        "id": "J_Iz4C2wMf_B"
      },
      "execution_count": null,
      "outputs": []
    },
    {
      "cell_type": "markdown",
      "source": [
        "### Create BWU matrix\n",
        "\n",
        "Here the BWU matrix is created. The vaues of the manipulated variables are added as columns at the beginning of the matrix.\n",
        "\n",
        "* Remove titer\n",
        "* Remove exceeding days\n",
        "* Eliminate invariant columns\n",
        "* Remove linearly dependent columns\n",
        "* Create a PLS model from the initial design to the final titer\n"
      ],
      "metadata": {
        "id": "v1IMh8PMMs-s"
      }
    },
    {
      "cell_type": "code",
      "source": [
        "# TODO: code steps above"
      ],
      "metadata": {
        "id": "CXCdim6oNB1y"
      },
      "execution_count": null,
      "outputs": []
    },
    {
      "cell_type": "markdown",
      "source": [
        "### Train Historical PLS model"
      ],
      "metadata": {
        "id": "cLKo0hoPNDx-"
      }
    },
    {
      "cell_type": "code",
      "source": [
        "# TODO: train PLS on modified BWU"
      ],
      "metadata": {
        "id": "WDpN48qWNJs4"
      },
      "execution_count": null,
      "outputs": []
    },
    {
      "cell_type": "markdown",
      "source": [
        "### Evaluate model on train/test set"
      ],
      "metadata": {
        "id": "c2oIwzd1NNLi"
      }
    },
    {
      "cell_type": "code",
      "source": [
        "# TODO: plot obs vs predicted, compute abs/rel rmse"
      ],
      "metadata": {
        "id": "opLCJtcuNS6W"
      },
      "execution_count": null,
      "outputs": []
    },
    {
      "cell_type": "markdown",
      "source": [
        "### Plot scores, loadings and VIP"
      ],
      "metadata": {
        "id": "8KDUuEjCNYdy"
      }
    },
    {
      "cell_type": "code",
      "source": [
        "# TODO: plot bi-plot / scores / loadings / VIP values"
      ],
      "metadata": {
        "id": "JfO8t_EINqrb"
      },
      "execution_count": null,
      "outputs": []
    },
    {
      "cell_type": "markdown",
      "source": [
        "### Task: Check model diagnostics"
      ],
      "metadata": {
        "id": "1ZDg9ewmNfoj"
      }
    },
    {
      "cell_type": "code",
      "source": [
        "# TODO: Residuals, mahalanobis distances"
      ],
      "metadata": {
        "id": "wrjCJ-CZNlJo"
      },
      "execution_count": null,
      "outputs": []
    },
    {
      "cell_type": "markdown",
      "source": [
        "# Solutions to tasks"
      ],
      "metadata": {
        "id": "p9UUsmZ8N3aP"
      }
    },
    {
      "cell_type": "markdown",
      "source": [
        "# Main Focus\n",
        "* RMS model buildup\n",
        "* Model comparison"
      ],
      "metadata": {
        "id": "ldiE-BRXUcsS"
      }
    }
  ]
}
