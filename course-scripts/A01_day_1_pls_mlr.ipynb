{
 "cells": [
  {
   "cell_type": "markdown",
   "id": "0b106158",
   "metadata": {},
   "source": [
    "# Partial least squares regression (PLS) and Multiple Linear Regression (MLR)"
   ]
  },
  {
   "cell_type": "markdown",
   "id": "8574f973",
   "metadata": {},
   "source": [
    "In this notebook, the PLS and the MLR regression models will be presented and compared"
   ]
  },
  {
   "cell_type": "markdown",
   "id": "3a9b250b",
   "metadata": {},
   "source": [
    "## Data"
   ]
  },
  {
   "cell_type": "markdown",
   "id": "dacaffac",
   "metadata": {},
   "source": [
    "First off, to get a better grasp of the task at hand, the data that will be used in this notebook will be shown below"
   ]
  },
  {
   "cell_type": "code",
   "execution_count": 1,
   "id": "62f298d8",
   "metadata": {},
   "outputs": [
    {
     "data": {
      "text/html": [
       "<div>\n",
       "<style scoped>\n",
       "    .dataframe tbody tr th:only-of-type {\n",
       "        vertical-align: middle;\n",
       "    }\n",
       "\n",
       "    .dataframe tbody tr th {\n",
       "        vertical-align: top;\n",
       "    }\n",
       "\n",
       "    .dataframe thead th {\n",
       "        text-align: right;\n",
       "    }\n",
       "</style>\n",
       "<table border=\"1\" class=\"dataframe\">\n",
       "  <thead>\n",
       "    <tr style=\"text-align: right;\">\n",
       "      <th></th>\n",
       "      <th></th>\n",
       "      <th>X:VCD</th>\n",
       "      <th>X:Glc</th>\n",
       "      <th>X:Lac</th>\n",
       "      <th>X:Titer</th>\n",
       "    </tr>\n",
       "    <tr>\n",
       "      <th>run</th>\n",
       "      <th>timestamps</th>\n",
       "      <th></th>\n",
       "      <th></th>\n",
       "      <th></th>\n",
       "      <th></th>\n",
       "    </tr>\n",
       "  </thead>\n",
       "  <tbody>\n",
       "    <tr>\n",
       "      <th rowspan=\"5\" valign=\"top\">0</th>\n",
       "      <th>0.0</th>\n",
       "      <td>13.941176</td>\n",
       "      <td>13.588235</td>\n",
       "      <td>0.000000</td>\n",
       "      <td>0.000000</td>\n",
       "    </tr>\n",
       "    <tr>\n",
       "      <th>1.0</th>\n",
       "      <td>9.491875</td>\n",
       "      <td>0.000061</td>\n",
       "      <td>21.345499</td>\n",
       "      <td>0.000560</td>\n",
       "    </tr>\n",
       "    <tr>\n",
       "      <th>2.0</th>\n",
       "      <td>4.544648</td>\n",
       "      <td>0.003097</td>\n",
       "      <td>33.278266</td>\n",
       "      <td>0.015783</td>\n",
       "    </tr>\n",
       "    <tr>\n",
       "      <th>3.0</th>\n",
       "      <td>1.955019</td>\n",
       "      <td>0.007568</td>\n",
       "      <td>38.678038</td>\n",
       "      <td>0.031730</td>\n",
       "    </tr>\n",
       "    <tr>\n",
       "      <th>4.0</th>\n",
       "      <td>0.815245</td>\n",
       "      <td>0.022498</td>\n",
       "      <td>40.960971</td>\n",
       "      <td>0.049851</td>\n",
       "    </tr>\n",
       "    <tr>\n",
       "      <th>...</th>\n",
       "      <th>...</th>\n",
       "      <td>...</td>\n",
       "      <td>...</td>\n",
       "      <td>...</td>\n",
       "      <td>...</td>\n",
       "    </tr>\n",
       "    <tr>\n",
       "      <th rowspan=\"5\" valign=\"top\">19</th>\n",
       "      <th>10.0</th>\n",
       "      <td>0.024984</td>\n",
       "      <td>0.000148</td>\n",
       "      <td>57.032180</td>\n",
       "      <td>0.050391</td>\n",
       "    </tr>\n",
       "    <tr>\n",
       "      <th>11.0</th>\n",
       "      <td>0.012335</td>\n",
       "      <td>-0.000122</td>\n",
       "      <td>57.066590</td>\n",
       "      <td>0.050391</td>\n",
       "    </tr>\n",
       "    <tr>\n",
       "      <th>12.0</th>\n",
       "      <td>0.006089</td>\n",
       "      <td>-0.000110</td>\n",
       "      <td>57.083578</td>\n",
       "      <td>0.050391</td>\n",
       "    </tr>\n",
       "    <tr>\n",
       "      <th>13.0</th>\n",
       "      <td>0.003006</td>\n",
       "      <td>-0.000128</td>\n",
       "      <td>57.091964</td>\n",
       "      <td>0.050391</td>\n",
       "    </tr>\n",
       "    <tr>\n",
       "      <th>14.0</th>\n",
       "      <td>0.001484</td>\n",
       "      <td>0.000054</td>\n",
       "      <td>57.096103</td>\n",
       "      <td>0.050391</td>\n",
       "    </tr>\n",
       "  </tbody>\n",
       "</table>\n",
       "<p>300 rows × 4 columns</p>\n",
       "</div>"
      ],
      "text/plain": [
       "                    X:VCD      X:Glc      X:Lac   X:Titer\n",
       "run timestamps                                           \n",
       "0   0.0         13.941176  13.588235   0.000000  0.000000\n",
       "    1.0          9.491875   0.000061  21.345499  0.000560\n",
       "    2.0          4.544648   0.003097  33.278266  0.015783\n",
       "    3.0          1.955019   0.007568  38.678038  0.031730\n",
       "    4.0          0.815245   0.022498  40.960971  0.049851\n",
       "...                   ...        ...        ...       ...\n",
       "19  10.0         0.024984   0.000148  57.032180  0.050391\n",
       "    11.0         0.012335  -0.000122  57.066590  0.050391\n",
       "    12.0         0.006089  -0.000110  57.083578  0.050391\n",
       "    13.0         0.003006  -0.000128  57.091964  0.050391\n",
       "    14.0         0.001484   0.000054  57.096103  0.050391\n",
       "\n",
       "[300 rows x 4 columns]"
      ]
     },
     "execution_count": 1,
     "metadata": {},
     "output_type": "execute_result"
    }
   ],
   "source": [
    "from src.courses_notebooks.transformations import owu_from_csv\n",
    "data = \"mytable.csv\"\n",
    "owu = owu_from_csv(data)\n",
    "owu"
   ]
  },
  {
   "cell_type": "markdown",
   "id": "a13eadce",
   "metadata": {},
   "source": [
    "## Batchwise unfolded (BWU) matrix"
   ]
  },
  {
   "cell_type": "code",
   "execution_count": 2,
   "id": "4bd8a7af",
   "metadata": {},
   "outputs": [
    {
     "data": {
      "text/plain": [
       "[0.0503910454629536,\n",
       " 0.0590018752917881,\n",
       " 0.0528665793285199,\n",
       " 0.0381429851136337,\n",
       " 0.0939537535794846,\n",
       " 0.04705785928204,\n",
       " 0.0186526144156977,\n",
       " 0.0205839781723832,\n",
       " 0.0939650381194057,\n",
       " 0.0449320418653611,\n",
       " 0.085399452436487,\n",
       " 0.0324888298857732,\n",
       " 0.0111362022892304,\n",
       " 0.0298666637936778,\n",
       " 0.0503720803261121,\n",
       " 0.0610760052487183,\n",
       " 0.0478560442285922,\n",
       " 0.1395789238174269,\n",
       " 0.0,\n",
       " 0.0503910454629536]"
      ]
     },
     "execution_count": 2,
     "metadata": {},
     "output_type": "execute_result"
    }
   ],
   "source": [
    "final_titer = []\n",
    "owu[\"Y:Final_titer\"] = 0\n",
    "for run_ix, run_df in owu.groupby(\"run\"):\n",
    "    final_titer.append(run_df[\"X:Titer\"].iloc[-1])\n",
    "    owu[\"Y:Final_titer\"].loc[run_ix] = run_df[\"X:Titer\"].iloc[-1]\n",
    "final_titer"
   ]
  },
  {
   "cell_type": "markdown",
   "id": "e831fe16",
   "metadata": {},
   "source": [
    "Now, the next step is to use the MLR model with the present data. For that, we will start by importing the necessary libraries"
   ]
  },
  {
   "cell_type": "markdown",
   "id": "49670511",
   "metadata": {},
   "source": [
    "For us to be able to better utilise the data, we will shape it into a BWU matrix. What this means is that, the data will be arranged in the following manner:\n",
    "\n",
    "[still need to find the image]"
   ]
  },
  {
   "cell_type": "markdown",
   "id": "6f1130e4",
   "metadata": {},
   "source": [
    "## Train-test split"
   ]
  },
  {
   "cell_type": "markdown",
   "id": "b3a672db",
   "metadata": {},
   "source": [
    "Now, the fist step to use the data is to create a train-test split. For that, we will resort to sci-kit learn to split the data for us"
   ]
  },
  {
   "cell_type": "code",
   "execution_count": 3,
   "id": "36161920",
   "metadata": {},
   "outputs": [
    {
     "data": {
      "text/html": [
       "<div>\n",
       "<style scoped>\n",
       "    .dataframe tbody tr th:only-of-type {\n",
       "        vertical-align: middle;\n",
       "    }\n",
       "\n",
       "    .dataframe tbody tr th {\n",
       "        vertical-align: top;\n",
       "    }\n",
       "\n",
       "    .dataframe thead th {\n",
       "        text-align: right;\n",
       "    }\n",
       "</style>\n",
       "<table border=\"1\" class=\"dataframe\">\n",
       "  <thead>\n",
       "    <tr style=\"text-align: right;\">\n",
       "      <th></th>\n",
       "      <th></th>\n",
       "      <th>X:VCD</th>\n",
       "      <th>X:Glc</th>\n",
       "      <th>X:Lac</th>\n",
       "      <th>X:Titer</th>\n",
       "    </tr>\n",
       "    <tr>\n",
       "      <th>run</th>\n",
       "      <th>timestamps</th>\n",
       "      <th></th>\n",
       "      <th></th>\n",
       "      <th></th>\n",
       "      <th></th>\n",
       "    </tr>\n",
       "  </thead>\n",
       "  <tbody>\n",
       "    <tr>\n",
       "      <th rowspan=\"5\" valign=\"top\">0</th>\n",
       "      <th>0.0</th>\n",
       "      <td>13.941176</td>\n",
       "      <td>13.588235</td>\n",
       "      <td>0.000000</td>\n",
       "      <td>0.000000</td>\n",
       "    </tr>\n",
       "    <tr>\n",
       "      <th>1.0</th>\n",
       "      <td>9.491875</td>\n",
       "      <td>0.000061</td>\n",
       "      <td>21.345499</td>\n",
       "      <td>0.000560</td>\n",
       "    </tr>\n",
       "    <tr>\n",
       "      <th>2.0</th>\n",
       "      <td>4.544648</td>\n",
       "      <td>0.003097</td>\n",
       "      <td>33.278266</td>\n",
       "      <td>0.015783</td>\n",
       "    </tr>\n",
       "    <tr>\n",
       "      <th>3.0</th>\n",
       "      <td>1.955019</td>\n",
       "      <td>0.007568</td>\n",
       "      <td>38.678038</td>\n",
       "      <td>0.031730</td>\n",
       "    </tr>\n",
       "    <tr>\n",
       "      <th>4.0</th>\n",
       "      <td>0.815245</td>\n",
       "      <td>0.022498</td>\n",
       "      <td>40.960971</td>\n",
       "      <td>0.049851</td>\n",
       "    </tr>\n",
       "    <tr>\n",
       "      <th>...</th>\n",
       "      <th>...</th>\n",
       "      <td>...</td>\n",
       "      <td>...</td>\n",
       "      <td>...</td>\n",
       "      <td>...</td>\n",
       "    </tr>\n",
       "    <tr>\n",
       "      <th rowspan=\"5\" valign=\"top\">19</th>\n",
       "      <th>10.0</th>\n",
       "      <td>0.024984</td>\n",
       "      <td>0.000148</td>\n",
       "      <td>57.032180</td>\n",
       "      <td>0.050391</td>\n",
       "    </tr>\n",
       "    <tr>\n",
       "      <th>11.0</th>\n",
       "      <td>0.012335</td>\n",
       "      <td>-0.000122</td>\n",
       "      <td>57.066590</td>\n",
       "      <td>0.050391</td>\n",
       "    </tr>\n",
       "    <tr>\n",
       "      <th>12.0</th>\n",
       "      <td>0.006089</td>\n",
       "      <td>-0.000110</td>\n",
       "      <td>57.083578</td>\n",
       "      <td>0.050391</td>\n",
       "    </tr>\n",
       "    <tr>\n",
       "      <th>13.0</th>\n",
       "      <td>0.003006</td>\n",
       "      <td>-0.000128</td>\n",
       "      <td>57.091964</td>\n",
       "      <td>0.050391</td>\n",
       "    </tr>\n",
       "    <tr>\n",
       "      <th>14.0</th>\n",
       "      <td>0.001484</td>\n",
       "      <td>0.000054</td>\n",
       "      <td>57.096103</td>\n",
       "      <td>0.050391</td>\n",
       "    </tr>\n",
       "  </tbody>\n",
       "</table>\n",
       "<p>300 rows × 4 columns</p>\n",
       "</div>"
      ],
      "text/plain": [
       "                    X:VCD      X:Glc      X:Lac   X:Titer\n",
       "run timestamps                                           \n",
       "0   0.0         13.941176  13.588235   0.000000  0.000000\n",
       "    1.0          9.491875   0.000061  21.345499  0.000560\n",
       "    2.0          4.544648   0.003097  33.278266  0.015783\n",
       "    3.0          1.955019   0.007568  38.678038  0.031730\n",
       "    4.0          0.815245   0.022498  40.960971  0.049851\n",
       "...                   ...        ...        ...       ...\n",
       "19  10.0         0.024984   0.000148  57.032180  0.050391\n",
       "    11.0         0.012335  -0.000122  57.066590  0.050391\n",
       "    12.0         0.006089  -0.000110  57.083578  0.050391\n",
       "    13.0         0.003006  -0.000128  57.091964  0.050391\n",
       "    14.0         0.001484   0.000054  57.096103  0.050391\n",
       "\n",
       "[300 rows x 4 columns]"
      ]
     },
     "execution_count": 3,
     "metadata": {},
     "output_type": "execute_result"
    }
   ],
   "source": [
    "owu.drop( \"Y:Final_titer\", axis = \"columns\")"
   ]
  },
  {
   "cell_type": "code",
   "execution_count": 5,
   "id": "99ea8930",
   "metadata": {},
   "outputs": [
    {
     "name": "stdout",
     "output_type": "stream",
     "text": [
      "Float64Index([1.0, 2.0, 3.0, 4.0, 5.0, 6.0, 7.0, 8.0, 9.0, 10.0, 11.0, 12.0,\n",
      "              13.0, 14.0],\n",
      "             dtype='float64', name='timestamps')\n",
      "Float64Index([0.0, 1.0, 2.0, 3.0, 4.0, 5.0, 6.0, 7.0, 8.0, 9.0, 10.0, 11.0,\n",
      "              12.0, 13.0, 14.0],\n",
      "             dtype='float64', name='timestamps')\n",
      "     X:VCD:1    X:Glc:1  X:Lac:1  X:Titer:1  Y:Final_titer:1   X:VCD:1  \\\n",
      "1  13.941176  13.588235      0.0        0.0         0.059002  9.491875   \n",
      "\n",
      "    X:Glc:1    X:Lac:1  X:Titer:1  Y:Final_titer:1  ...   X:VCD:1   X:Glc:1  \\\n",
      "1  0.000061  21.345499    0.00056         0.059002  ...  0.000224 -0.000017   \n",
      "\n",
      "    X:Lac:1  X:Titer:1  Y:Final_titer:1   X:VCD:1   X:Glc:1    X:Lac:1  \\\n",
      "1  42.55146   0.059002         0.059002  0.000089 -0.000005  42.551718   \n",
      "\n",
      "   X:Titer:1  Y:Final_titer:1  \n",
      "1   0.059002         0.059002  \n",
      "\n",
      "[1 rows x 75 columns]\n"
     ]
    },
    {
     "ename": "InvalidIndexError",
     "evalue": "Reindexing only valid with uniquely valued Index objects",
     "output_type": "error",
     "traceback": [
      "\u001b[1;31m---------------------------------------------------------------------------\u001b[0m",
      "\u001b[1;31mInvalidIndexError\u001b[0m                         Traceback (most recent call last)",
      "\u001b[1;32m~\\AppData\\Local\\Temp/ipykernel_58004/3536786070.py\u001b[0m in \u001b[0;36m<module>\u001b[1;34m\u001b[0m\n\u001b[0;32m     25\u001b[0m     \u001b[1;32mif\u001b[0m \u001b[0mlen\u001b[0m\u001b[1;33m(\u001b[0m\u001b[0mbwu\u001b[0m\u001b[1;33m)\u001b[0m\u001b[1;33m>\u001b[0m\u001b[1;36m0\u001b[0m\u001b[1;33m:\u001b[0m\u001b[1;33m\u001b[0m\u001b[1;33m\u001b[0m\u001b[0m\n\u001b[0;32m     26\u001b[0m         \u001b[0mprint\u001b[0m\u001b[1;33m(\u001b[0m\u001b[0mrow_df\u001b[0m\u001b[1;33m)\u001b[0m\u001b[1;33m\u001b[0m\u001b[1;33m\u001b[0m\u001b[0m\n\u001b[1;32m---> 27\u001b[1;33m         \u001b[0mbwu\u001b[0m\u001b[1;33m=\u001b[0m \u001b[0mpd\u001b[0m\u001b[1;33m.\u001b[0m\u001b[0mconcat\u001b[0m\u001b[1;33m(\u001b[0m\u001b[1;33m[\u001b[0m\u001b[0mbwu\u001b[0m\u001b[1;33m,\u001b[0m \u001b[0mrow_df\u001b[0m\u001b[1;33m]\u001b[0m\u001b[1;33m)\u001b[0m\u001b[1;33m\u001b[0m\u001b[1;33m\u001b[0m\u001b[0m\n\u001b[0m\u001b[0;32m     28\u001b[0m     \u001b[1;32melse\u001b[0m\u001b[1;33m:\u001b[0m\u001b[1;33m\u001b[0m\u001b[1;33m\u001b[0m\u001b[0m\n\u001b[0;32m     29\u001b[0m         \u001b[0mbwu\u001b[0m \u001b[1;33m=\u001b[0m \u001b[0mrow_df\u001b[0m\u001b[1;33m\u001b[0m\u001b[1;33m\u001b[0m\u001b[0m\n",
      "\u001b[1;32m~\\AppData\\Local\\Programs\\Python\\Python39\\lib\\site-packages\\pandas\\util\\_decorators.py\u001b[0m in \u001b[0;36mwrapper\u001b[1;34m(*args, **kwargs)\u001b[0m\n\u001b[0;32m    309\u001b[0m                     \u001b[0mstacklevel\u001b[0m\u001b[1;33m=\u001b[0m\u001b[0mstacklevel\u001b[0m\u001b[1;33m,\u001b[0m\u001b[1;33m\u001b[0m\u001b[1;33m\u001b[0m\u001b[0m\n\u001b[0;32m    310\u001b[0m                 )\n\u001b[1;32m--> 311\u001b[1;33m             \u001b[1;32mreturn\u001b[0m \u001b[0mfunc\u001b[0m\u001b[1;33m(\u001b[0m\u001b[1;33m*\u001b[0m\u001b[0margs\u001b[0m\u001b[1;33m,\u001b[0m \u001b[1;33m**\u001b[0m\u001b[0mkwargs\u001b[0m\u001b[1;33m)\u001b[0m\u001b[1;33m\u001b[0m\u001b[1;33m\u001b[0m\u001b[0m\n\u001b[0m\u001b[0;32m    312\u001b[0m \u001b[1;33m\u001b[0m\u001b[0m\n\u001b[0;32m    313\u001b[0m         \u001b[1;32mreturn\u001b[0m \u001b[0mwrapper\u001b[0m\u001b[1;33m\u001b[0m\u001b[1;33m\u001b[0m\u001b[0m\n",
      "\u001b[1;32m~\\AppData\\Local\\Programs\\Python\\Python39\\lib\\site-packages\\pandas\\core\\reshape\\concat.py\u001b[0m in \u001b[0;36mconcat\u001b[1;34m(objs, axis, join, ignore_index, keys, levels, names, verify_integrity, sort, copy)\u001b[0m\n\u001b[0;32m    305\u001b[0m     )\n\u001b[0;32m    306\u001b[0m \u001b[1;33m\u001b[0m\u001b[0m\n\u001b[1;32m--> 307\u001b[1;33m     \u001b[1;32mreturn\u001b[0m \u001b[0mop\u001b[0m\u001b[1;33m.\u001b[0m\u001b[0mget_result\u001b[0m\u001b[1;33m(\u001b[0m\u001b[1;33m)\u001b[0m\u001b[1;33m\u001b[0m\u001b[1;33m\u001b[0m\u001b[0m\n\u001b[0m\u001b[0;32m    308\u001b[0m \u001b[1;33m\u001b[0m\u001b[0m\n\u001b[0;32m    309\u001b[0m \u001b[1;33m\u001b[0m\u001b[0m\n",
      "\u001b[1;32m~\\AppData\\Local\\Programs\\Python\\Python39\\lib\\site-packages\\pandas\\core\\reshape\\concat.py\u001b[0m in \u001b[0;36mget_result\u001b[1;34m(self)\u001b[0m\n\u001b[0;32m    526\u001b[0m                     \u001b[0mobj_labels\u001b[0m \u001b[1;33m=\u001b[0m \u001b[0mobj\u001b[0m\u001b[1;33m.\u001b[0m\u001b[0maxes\u001b[0m\u001b[1;33m[\u001b[0m\u001b[1;36m1\u001b[0m \u001b[1;33m-\u001b[0m \u001b[0max\u001b[0m\u001b[1;33m]\u001b[0m\u001b[1;33m\u001b[0m\u001b[1;33m\u001b[0m\u001b[0m\n\u001b[0;32m    527\u001b[0m                     \u001b[1;32mif\u001b[0m \u001b[1;32mnot\u001b[0m \u001b[0mnew_labels\u001b[0m\u001b[1;33m.\u001b[0m\u001b[0mequals\u001b[0m\u001b[1;33m(\u001b[0m\u001b[0mobj_labels\u001b[0m\u001b[1;33m)\u001b[0m\u001b[1;33m:\u001b[0m\u001b[1;33m\u001b[0m\u001b[1;33m\u001b[0m\u001b[0m\n\u001b[1;32m--> 528\u001b[1;33m                         \u001b[0mindexers\u001b[0m\u001b[1;33m[\u001b[0m\u001b[0max\u001b[0m\u001b[1;33m]\u001b[0m \u001b[1;33m=\u001b[0m \u001b[0mobj_labels\u001b[0m\u001b[1;33m.\u001b[0m\u001b[0mget_indexer\u001b[0m\u001b[1;33m(\u001b[0m\u001b[0mnew_labels\u001b[0m\u001b[1;33m)\u001b[0m\u001b[1;33m\u001b[0m\u001b[1;33m\u001b[0m\u001b[0m\n\u001b[0m\u001b[0;32m    529\u001b[0m \u001b[1;33m\u001b[0m\u001b[0m\n\u001b[0;32m    530\u001b[0m                 \u001b[0mmgrs_indexers\u001b[0m\u001b[1;33m.\u001b[0m\u001b[0mappend\u001b[0m\u001b[1;33m(\u001b[0m\u001b[1;33m(\u001b[0m\u001b[0mobj\u001b[0m\u001b[1;33m.\u001b[0m\u001b[0m_mgr\u001b[0m\u001b[1;33m,\u001b[0m \u001b[0mindexers\u001b[0m\u001b[1;33m)\u001b[0m\u001b[1;33m)\u001b[0m\u001b[1;33m\u001b[0m\u001b[1;33m\u001b[0m\u001b[0m\n",
      "\u001b[1;32m~\\AppData\\Local\\Programs\\Python\\Python39\\lib\\site-packages\\pandas\\core\\indexes\\base.py\u001b[0m in \u001b[0;36mget_indexer\u001b[1;34m(self, target, method, limit, tolerance)\u001b[0m\n\u001b[0;32m   3440\u001b[0m \u001b[1;33m\u001b[0m\u001b[0m\n\u001b[0;32m   3441\u001b[0m         \u001b[1;32mif\u001b[0m \u001b[1;32mnot\u001b[0m \u001b[0mself\u001b[0m\u001b[1;33m.\u001b[0m\u001b[0m_index_as_unique\u001b[0m\u001b[1;33m:\u001b[0m\u001b[1;33m\u001b[0m\u001b[1;33m\u001b[0m\u001b[0m\n\u001b[1;32m-> 3442\u001b[1;33m             \u001b[1;32mraise\u001b[0m \u001b[0mInvalidIndexError\u001b[0m\u001b[1;33m(\u001b[0m\u001b[0mself\u001b[0m\u001b[1;33m.\u001b[0m\u001b[0m_requires_unique_msg\u001b[0m\u001b[1;33m)\u001b[0m\u001b[1;33m\u001b[0m\u001b[1;33m\u001b[0m\u001b[0m\n\u001b[0m\u001b[0;32m   3443\u001b[0m \u001b[1;33m\u001b[0m\u001b[0m\n\u001b[0;32m   3444\u001b[0m         \u001b[1;32mif\u001b[0m \u001b[1;32mnot\u001b[0m \u001b[0mself\u001b[0m\u001b[1;33m.\u001b[0m\u001b[0m_should_compare\u001b[0m\u001b[1;33m(\u001b[0m\u001b[0mtarget\u001b[0m\u001b[1;33m)\u001b[0m \u001b[1;32mand\u001b[0m \u001b[1;32mnot\u001b[0m \u001b[0mis_interval_dtype\u001b[0m\u001b[1;33m(\u001b[0m\u001b[0mself\u001b[0m\u001b[1;33m.\u001b[0m\u001b[0mdtype\u001b[0m\u001b[1;33m)\u001b[0m\u001b[1;33m:\u001b[0m\u001b[1;33m\u001b[0m\u001b[1;33m\u001b[0m\u001b[0m\n",
      "\u001b[1;31mInvalidIndexError\u001b[0m: Reindexing only valid with uniquely valued Index objects"
     ]
    }
   ],
   "source": [
    "from sklearn.model_selection import train_test_split\n",
    "import pandas as pd\n",
    "\n",
    "y_data = final_titer\n",
    "# x_data = owu.drop( \"Y:Final_titer\", axis = \"columns\")\n",
    "\n",
    "\n",
    "bwu = pd.DataFrame()\n",
    "for run_ix, (_,run) in zip(list(range(len(owu.groupby(\"run\")))),owu.groupby(\"run\")):\n",
    "    row_df = pd.DataFrame()\n",
    "    run.index = run.index.get_level_values(\"timestamps\")\n",
    "    \n",
    "    for row_ix, (_,row) in zip(range(len(run)),run.iterrows()):\n",
    "        row = row.to_frame().T\n",
    "        row = row.add_suffix(f\":{run_ix}\")\n",
    "        row.index = [int(run_ix)]\n",
    "        \n",
    "        if len(row_df) >0:\n",
    "            row_df = pd.concat([row_df, row], axis=1)\n",
    "        else:\n",
    "            row_df = row\n",
    "            \n",
    "\n",
    "    if len(bwu)>0:\n",
    "        print(row_df)\n",
    "        bwu= pd.concat([bwu, row_df])\n",
    "    else:\n",
    "        bwu = row_df\n",
    "\n",
    "\n",
    "bwu"
   ]
  },
  {
   "cell_type": "code",
   "execution_count": null,
   "id": "3f0a2070",
   "metadata": {},
   "outputs": [],
   "source": [
    "len(owu.groupby(\"run\"))"
   ]
  },
  {
   "cell_type": "code",
   "execution_count": null,
   "id": "b6c711b0",
   "metadata": {},
   "outputs": [],
   "source": [
    "x_train, y_train, x_test, y_test = train_test_split(x_data,y_data, test_size=0.2, random_state = 10)"
   ]
  },
  {
   "cell_type": "markdown",
   "id": "f7867e78",
   "metadata": {},
   "source": [
    "## MLR model"
   ]
  },
  {
   "cell_type": "markdown",
   "id": "04932dad",
   "metadata": {},
   "source": [
    "Now, we wil start with the implementation of the MLR model"
   ]
  },
  {
   "cell_type": "markdown",
   "id": "7d91b007",
   "metadata": {},
   "source": [
    "### Model training"
   ]
  },
  {
   "cell_type": "markdown",
   "id": "309921a7",
   "metadata": {},
   "source": [
    "Here, the model will be fitted using the training data generated before"
   ]
  },
  {
   "cell_type": "code",
   "execution_count": null,
   "id": "d1e375eb",
   "metadata": {},
   "outputs": [],
   "source": [
    "lr = LinearRegression()\n",
    "lr.fit(x_train, y_train)"
   ]
  },
  {
   "cell_type": "markdown",
   "id": "98bce6fa",
   "metadata": {},
   "source": [
    "### Model prediction"
   ]
  },
  {
   "cell_type": "code",
   "execution_count": null,
   "id": "3a26bbb7",
   "metadata": {},
   "outputs": [],
   "source": [
    "y_pred =  LR.predict(x_test)"
   ]
  },
  {
   "cell_type": "markdown",
   "id": "73f5dc3d",
   "metadata": {},
   "source": [
    "### Prediction metrics"
   ]
  },
  {
   "cell_type": "markdown",
   "id": "ca542adf",
   "metadata": {},
   "source": [
    "Now, we will show different metrics to evauale the prediction"
   ]
  },
  {
   "cell_type": "code",
   "execution_count": null,
   "id": "a6be18da",
   "metadata": {
    "scrolled": false
   },
   "outputs": [],
   "source": [
    "#predicted vs measured (test) values plot\n",
    "plt.scatter(y_test, y_pred, \"ro\")\n",
    "\n",
    "#Absolute RMSE\n",
    "rmser_abs_test = sqrt(sum((y_test-y_pred).^2)/len(x_data))\n",
    "rmser_rel_test = abs_RMSE_test/std(f_DoE_test)"
   ]
  },
  {
   "cell_type": "code",
   "execution_count": null,
   "id": "34fcba67",
   "metadata": {},
   "outputs": [],
   "source": [
    "from sklearn.feature_selection import f_regression\n",
    "\n",
    "anova_results = f_regression(x_train, y_train)\n",
    "# anova_results = [f_regression(x_train, y_train[col_ix]) for col_ix in range(len(shape(y_test)[1]))]"
   ]
  },
  {
   "cell_type": "markdown",
   "id": "cc97ded9",
   "metadata": {},
   "source": [
    "### Prediction results "
   ]
  },
  {
   "cell_type": "markdown",
   "id": "c1ed3e17",
   "metadata": {},
   "source": [
    "In this section, we check the predictions of the models versus the training data for the final titer."
   ]
  },
  {
   "cell_type": "code",
   "execution_count": null,
   "id": "9ac199a2",
   "metadata": {},
   "outputs": [],
   "source": [
    "import matplotlib.pyplot as plt\n",
    "titer_ix = 1\n",
    "y_pred_on_training = LR.predict(x_train)\n",
    "plt.scatter(y_pred_on_training[:,titer_ix],y_pred[:,titer_ix]) #correct this one as the amount of training and prediction values "
   ]
  },
  {
   "cell_type": "code",
   "execution_count": null,
   "id": "e5030ee7",
   "metadata": {},
   "outputs": [],
   "source": [
    "r2_score_mlr=r2_score(y_test,y_pred)\n",
    "rmse_MLR = np.sqrt(mean_squared_error(y_test,y_pred)"
   ]
  },
  {
   "cell_type": "markdown",
   "id": "5e4495d6",
   "metadata": {},
   "source": [
    "### Check model prediction on test set"
   ]
  },
  {
   "cell_type": "markdown",
   "id": "78661289",
   "metadata": {},
   "source": [
    "In this section, we use the trained model to predict the final titer and we test it on the test set created before"
   ]
  },
  {
   "cell_type": "code",
   "execution_count": null,
   "id": "61843b44",
   "metadata": {},
   "outputs": [],
   "source": [
    "titer_ix = 1\n",
    "plt.scatter(y_test[:,titer_ix],y_pred[:,titer_ix])"
   ]
  },
  {
   "cell_type": "markdown",
   "id": "85b060ff",
   "metadata": {},
   "source": [
    "## PLS model"
   ]
  },
  {
   "cell_type": "markdown",
   "id": "17613bd2",
   "metadata": {},
   "source": [
    "Now, we will train a PLS model with the same data. Here, you can also choose the amount of components the PLS model will use"
   ]
  },
  {
   "cell_type": "code",
   "execution_count": null,
   "id": "35a2081f",
   "metadata": {},
   "outputs": [],
   "source": [
    "from sklearn.cross_decomposition import PLSRegression\n",
    "n_components=2\n",
    "\n",
    "pls = PLSRegression(n_components=n_components)\n",
    "pls.fit(x_train, y_train)\n"
   ]
  },
  {
   "cell_type": "markdown",
   "id": "fa1f293f",
   "metadata": {},
   "source": [
    "## PLS model analysis"
   ]
  },
  {
   "cell_type": "code",
   "execution_count": null,
   "id": "0c6dabf4",
   "metadata": {},
   "outputs": [],
   "source": [
    "# a way to get the plot variance explained by each component\n"
   ]
  },
  {
   "cell_type": "markdown",
   "id": "cd0b8e49",
   "metadata": {},
   "source": [
    "### Compute fitted response residuals"
   ]
  },
  {
   "cell_type": "code",
   "execution_count": null,
   "id": "78f1813d",
   "metadata": {},
   "outputs": [],
   "source": [
    "#compute the response residuals\n",
    "residuals = [0,1,2,3,4,5,6]\n"
   ]
  },
  {
   "cell_type": "markdown",
   "id": "1384948b",
   "metadata": {},
   "source": [
    "### Plot scores based on final titer"
   ]
  },
  {
   "cell_type": "code",
   "execution_count": null,
   "id": "37b3fb5b",
   "metadata": {},
   "outputs": [],
   "source": []
  },
  {
   "cell_type": "markdown",
   "id": "adfdb848",
   "metadata": {},
   "source": [
    "### Plot VIP scores"
   ]
  },
  {
   "cell_type": "code",
   "execution_count": null,
   "id": "79f7e36e",
   "metadata": {},
   "outputs": [],
   "source": []
  },
  {
   "cell_type": "markdown",
   "id": "b3507822",
   "metadata": {},
   "source": [
    "## Simulate Cross-Validation"
   ]
  },
  {
   "cell_type": "markdown",
   "id": "f47cb2f7",
   "metadata": {},
   "source": [
    "In this section, we will simulate a typical cross- validation to define the optimal number of latent variables."
   ]
  },
  {
   "cell_type": "markdown",
   "id": "43accf0e",
   "metadata": {},
   "source": [
    "Crosss validation RMSE"
   ]
  },
  {
   "cell_type": "markdown",
   "id": "d3d0ef20",
   "metadata": {},
   "source": [
    "# Historical models"
   ]
  },
  {
   "cell_type": "markdown",
   "id": "249dba46",
   "metadata": {},
   "source": [
    "In an so-called historical model, the data from different experiments are ordered into a batch-wise unfolded (BWU) matrix (i.e., every row corresponds to an experiment).\n",
    "The BWU can be used to compute final properties of the experiment, like CQAs, which are typically the effect of the cumulated effect of the experiment profile.\n",
    "In this example, we will use the BWU matrix to predict the final value of titer. Clearly, titer information are removed from the BWU matrix."
   ]
  },
  {
   "cell_type": "code",
   "execution_count": null,
   "id": "5ec5afd3",
   "metadata": {},
   "outputs": [],
   "source": [
    "n_days = 10\n",
    "n_latent_vars = 4"
   ]
  },
  {
   "cell_type": "markdown",
   "id": "e86da6dd",
   "metadata": {},
   "source": [
    "## Create the BWU matrix"
   ]
  },
  {
   "cell_type": "markdown",
   "id": "8abbc192",
   "metadata": {},
   "source": [
    "Here the BWU matrix is created. The vaues of the manipulated variables are added as columns at the beginning of the matrix."
   ]
  },
  {
   "cell_type": "markdown",
   "id": "09857268",
   "metadata": {},
   "source": [
    "## Create model"
   ]
  },
  {
   "cell_type": "markdown",
   "id": "cd9f510c",
   "metadata": {},
   "source": [
    "Create a PLS model from the initial design to the final titer"
   ]
  },
  {
   "cell_type": "markdown",
   "id": "128fea23",
   "metadata": {},
   "source": []
  },
  {
   "cell_type": "markdown",
   "id": "6d11195b",
   "metadata": {},
   "source": [
    "### Explained variance plots vs number or principal components "
   ]
  },
  {
   "cell_type": "code",
   "execution_count": null,
   "id": "bf174315",
   "metadata": {},
   "outputs": [],
   "source": []
  },
  {
   "cell_type": "markdown",
   "id": "461e8f26",
   "metadata": {},
   "source": [
    "## Historical model residual Train set and Test set"
   ]
  },
  {
   "cell_type": "code",
   "execution_count": null,
   "id": "dc6125ac",
   "metadata": {},
   "outputs": [],
   "source": []
  }
 ],
 "metadata": {
  "kernelspec": {
   "display_name": "Python 3 (ipykernel)",
   "language": "python",
   "name": "python3"
  },
  "language_info": {
   "codemirror_mode": {
    "name": "ipython",
    "version": 3
   },
   "file_extension": ".py",
   "mimetype": "text/x-python",
   "name": "python",
   "nbconvert_exporter": "python",
   "pygments_lexer": "ipython3",
   "version": "3.9.7"
  }
 },
 "nbformat": 4,
 "nbformat_minor": 5
}
