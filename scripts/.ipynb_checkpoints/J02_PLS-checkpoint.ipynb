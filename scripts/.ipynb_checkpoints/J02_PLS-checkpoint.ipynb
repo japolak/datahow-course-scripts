{
 "cells": [
  {
   "cell_type": "code",
   "execution_count": null,
   "metadata": {
    "id": "A6IQdZOi8m12"
   },
   "outputs": [],
   "source": [
    "# TODO: initialize all necessary packages"
   ]
  },
  {
   "cell_type": "markdown",
   "metadata": {
    "id": "_F7ck0Hl8rqw"
   },
   "source": [
    "# Regression Modelling\n",
    "\n",
    "In this section, we first create load the train experiments that were create inthe PCA script and save in the file \"Experiment_Train_Set.mat\". \n",
    "These experimental data will be used to create a MLR model to predict final titer, which will serve as term of comparison for the PLS model trained below."
   ]
  },
  {
   "cell_type": "markdown",
   "metadata": {
    "id": "J-chgbGTTl4P"
   },
   "source": [
    "# Initial Conditions model\n"
   ]
  },
  {
   "cell_type": "code",
   "execution_count": 1,
   "metadata": {
    "id": "7XKjKMUAGsp9"
   },
   "outputs": [
    {
     "data": {
      "text/html": [
       "<div>\n",
       "<style scoped>\n",
       "    .dataframe tbody tr th:only-of-type {\n",
       "        vertical-align: middle;\n",
       "    }\n",
       "\n",
       "    .dataframe tbody tr th {\n",
       "        vertical-align: top;\n",
       "    }\n",
       "\n",
       "    .dataframe thead th {\n",
       "        text-align: right;\n",
       "    }\n",
       "</style>\n",
       "<table border=\"1\" class=\"dataframe\">\n",
       "  <thead>\n",
       "    <tr style=\"text-align: right;\">\n",
       "      <th></th>\n",
       "      <th></th>\n",
       "      <th>X:VCD</th>\n",
       "      <th>X:Glc</th>\n",
       "      <th>X:Lac</th>\n",
       "      <th>Y:Final_titer</th>\n",
       "    </tr>\n",
       "    <tr>\n",
       "      <th>run</th>\n",
       "      <th>timestamps</th>\n",
       "      <th></th>\n",
       "      <th></th>\n",
       "      <th></th>\n",
       "      <th></th>\n",
       "    </tr>\n",
       "  </thead>\n",
       "  <tbody>\n",
       "    <tr>\n",
       "      <th rowspan=\"5\" valign=\"top\">0</th>\n",
       "      <th>0.0</th>\n",
       "      <td>13.500000</td>\n",
       "      <td>1.350000e+01</td>\n",
       "      <td>0.000000</td>\n",
       "      <td>0.073330</td>\n",
       "    </tr>\n",
       "    <tr>\n",
       "      <th>1.0</th>\n",
       "      <td>12.471011</td>\n",
       "      <td>1.939507e-07</td>\n",
       "      <td>12.610067</td>\n",
       "      <td>0.073330</td>\n",
       "    </tr>\n",
       "    <tr>\n",
       "      <th>2.0</th>\n",
       "      <td>10.345833</td>\n",
       "      <td>1.390843e-03</td>\n",
       "      <td>23.602078</td>\n",
       "      <td>0.073330</td>\n",
       "    </tr>\n",
       "    <tr>\n",
       "      <th>3.0</th>\n",
       "      <td>8.077586</td>\n",
       "      <td>1.795428e-03</td>\n",
       "      <td>32.434068</td>\n",
       "      <td>0.073330</td>\n",
       "    </tr>\n",
       "    <tr>\n",
       "      <th>4.0</th>\n",
       "      <td>6.081902</td>\n",
       "      <td>2.413024e-03</td>\n",
       "      <td>39.201259</td>\n",
       "      <td>0.073330</td>\n",
       "    </tr>\n",
       "    <tr>\n",
       "      <th>...</th>\n",
       "      <th>...</th>\n",
       "      <td>...</td>\n",
       "      <td>...</td>\n",
       "      <td>...</td>\n",
       "      <td>...</td>\n",
       "    </tr>\n",
       "    <tr>\n",
       "      <th rowspan=\"5\" valign=\"top\">19</th>\n",
       "      <th>10.0</th>\n",
       "      <td>0.894526</td>\n",
       "      <td>4.371685e-09</td>\n",
       "      <td>51.582838</td>\n",
       "      <td>0.113142</td>\n",
       "    </tr>\n",
       "    <tr>\n",
       "      <th>11.0</th>\n",
       "      <td>0.642042</td>\n",
       "      <td>-3.163714e-08</td>\n",
       "      <td>52.313848</td>\n",
       "      <td>0.113142</td>\n",
       "    </tr>\n",
       "    <tr>\n",
       "      <th>12.0</th>\n",
       "      <td>0.460012</td>\n",
       "      <td>-4.976375e-09</td>\n",
       "      <td>52.838048</td>\n",
       "      <td>0.113142</td>\n",
       "    </tr>\n",
       "    <tr>\n",
       "      <th>13.0</th>\n",
       "      <td>0.329179</td>\n",
       "      <td>6.798809e-09</td>\n",
       "      <td>53.213393</td>\n",
       "      <td>0.113142</td>\n",
       "    </tr>\n",
       "    <tr>\n",
       "      <th>14.0</th>\n",
       "      <td>0.235348</td>\n",
       "      <td>-8.165850e-09</td>\n",
       "      <td>53.481863</td>\n",
       "      <td>0.113142</td>\n",
       "    </tr>\n",
       "  </tbody>\n",
       "</table>\n",
       "<p>300 rows × 4 columns</p>\n",
       "</div>"
      ],
      "text/plain": [
       "                    X:VCD         X:Glc      X:Lac  Y:Final_titer\n",
       "run timestamps                                                   \n",
       "0   0.0         13.500000  1.350000e+01   0.000000       0.073330\n",
       "    1.0         12.471011  1.939507e-07  12.610067       0.073330\n",
       "    2.0         10.345833  1.390843e-03  23.602078       0.073330\n",
       "    3.0          8.077586  1.795428e-03  32.434068       0.073330\n",
       "    4.0          6.081902  2.413024e-03  39.201259       0.073330\n",
       "...                   ...           ...        ...            ...\n",
       "19  10.0         0.894526  4.371685e-09  51.582838       0.113142\n",
       "    11.0         0.642042 -3.163714e-08  52.313848       0.113142\n",
       "    12.0         0.460012 -4.976375e-09  52.838048       0.113142\n",
       "    13.0         0.329179  6.798809e-09  53.213393       0.113142\n",
       "    14.0         0.235348 -8.165850e-09  53.481863       0.113142\n",
       "\n",
       "[300 rows x 4 columns]"
      ]
     },
     "execution_count": 1,
     "metadata": {},
     "output_type": "execute_result"
    }
   ],
   "source": [
    "# TODO: load dataset Experiments_TrainSet\n",
    "from modules.transformations import owu_from_csv\n",
    "filename = \"mytable.csv\"\n",
    "owu = owu_from_csv(filename)\n",
    "\n",
    "final_titer = []\n",
    "owu[\"Y:Final_titer\"] = 0\n",
    "for run_ix, run_df in owu.groupby(\"run\"):\n",
    "    final_titer.append(run_df[\"X:Titer\"].iloc[-1])\n",
    "    owu[\"Y:Final_titer\"].loc[run_ix] = run_df[\"X:Titer\"].iloc[-1]\n",
    "    \n",
    "# remove titer\n",
    "owu = owu.drop( \"X:Titer\", axis = \"columns\")\n",
    "owu_no_titer = owu.drop( \"Y:Final_titer\", axis = \"columns\")\n",
    "y = owu[\"Y:Final_titer\"]\n",
    "owu"
   ]
  },
  {
   "cell_type": "markdown",
   "metadata": {
    "id": "kkEQIZOLGwjz"
   },
   "source": [
    "## Multiple Linear Regression \n",
    "\n",
    "We first train (fit) a quadratic MLR model to the final titer, using the data loaded above.\n",
    "We then characterize the performance of the model using ANOVA, where the user can have information about the importance of each coefficient and of the overal model."
   ]
  },
  {
   "cell_type": "markdown",
   "metadata": {
    "id": "iXJI69b1HLZJ"
   },
   "source": [
    "### Create linear model using stepwise procedure"
   ]
  },
  {
   "cell_type": "code",
   "execution_count": 2,
   "metadata": {},
   "outputs": [
    {
     "name": "stdout",
     "output_type": "stream",
     "text": [
      "Requirement already satisfied: statsmodels in c:\\users\\arnaldo\\appdata\\local\\programs\\python\\python39\\lib\\site-packages (0.13.2)\n",
      "Requirement already satisfied: patsy>=0.5.2 in c:\\users\\arnaldo\\appdata\\local\\programs\\python\\python39\\lib\\site-packages (from statsmodels) (0.5.2)\n",
      "Requirement already satisfied: numpy>=1.17 in c:\\users\\arnaldo\\appdata\\local\\programs\\python\\python39\\lib\\site-packages (from statsmodels) (1.21.3)\n",
      "Requirement already satisfied: pandas>=0.25 in c:\\users\\arnaldo\\appdata\\local\\programs\\python\\python39\\lib\\site-packages (from statsmodels) (1.3.4)\n",
      "Requirement already satisfied: packaging>=21.3 in c:\\users\\arnaldo\\appdata\\local\\programs\\python\\python39\\lib\\site-packages (from statsmodels) (21.3)\n",
      "Requirement already satisfied: scipy>=1.3 in c:\\users\\arnaldo\\appdata\\local\\programs\\python\\python39\\lib\\site-packages (from statsmodels) (1.7.1)\n",
      "Requirement already satisfied: pyparsing!=3.0.5,>=2.0.2 in c:\\users\\arnaldo\\appdata\\local\\programs\\python\\python39\\lib\\site-packages (from packaging>=21.3->statsmodels) (2.4.7)\n",
      "Requirement already satisfied: python-dateutil>=2.7.3 in c:\\users\\arnaldo\\appdata\\local\\programs\\python\\python39\\lib\\site-packages (from pandas>=0.25->statsmodels) (2.8.2)\n",
      "Requirement already satisfied: pytz>=2017.3 in c:\\users\\arnaldo\\appdata\\local\\programs\\python\\python39\\lib\\site-packages (from pandas>=0.25->statsmodels) (2021.3)\n",
      "Requirement already satisfied: six in c:\\users\\arnaldo\\appdata\\local\\programs\\python\\python39\\lib\\site-packages (from patsy>=0.5.2->statsmodels) (1.16.0)\n",
      "Note: you may need to restart the kernel to use updated packages.\n"
     ]
    }
   ],
   "source": [
    "pip install statsmodels"
   ]
  },
  {
   "cell_type": "code",
   "execution_count": 3,
   "metadata": {
    "id": "GKUjnJdeG7Ab"
   },
   "outputs": [
    {
     "data": {
      "text/html": [
       "<div>\n",
       "<style scoped>\n",
       "    .dataframe tbody tr th:only-of-type {\n",
       "        vertical-align: middle;\n",
       "    }\n",
       "\n",
       "    .dataframe tbody tr th {\n",
       "        vertical-align: top;\n",
       "    }\n",
       "\n",
       "    .dataframe thead th {\n",
       "        text-align: right;\n",
       "    }\n",
       "</style>\n",
       "<table border=\"1\" class=\"dataframe\">\n",
       "  <thead>\n",
       "    <tr style=\"text-align: right;\">\n",
       "      <th></th>\n",
       "      <th></th>\n",
       "      <th>X:VCD</th>\n",
       "      <th>X:Glc</th>\n",
       "      <th>X:Lac</th>\n",
       "    </tr>\n",
       "    <tr>\n",
       "      <th>run</th>\n",
       "      <th>timestamps</th>\n",
       "      <th></th>\n",
       "      <th></th>\n",
       "      <th></th>\n",
       "    </tr>\n",
       "  </thead>\n",
       "  <tbody>\n",
       "    <tr>\n",
       "      <th rowspan=\"5\" valign=\"top\">0</th>\n",
       "      <th>0.0</th>\n",
       "      <td>13.500000</td>\n",
       "      <td>1.350000e+01</td>\n",
       "      <td>0.000000</td>\n",
       "    </tr>\n",
       "    <tr>\n",
       "      <th>1.0</th>\n",
       "      <td>12.471011</td>\n",
       "      <td>1.939507e-07</td>\n",
       "      <td>12.610067</td>\n",
       "    </tr>\n",
       "    <tr>\n",
       "      <th>2.0</th>\n",
       "      <td>10.345833</td>\n",
       "      <td>1.390843e-03</td>\n",
       "      <td>23.602078</td>\n",
       "    </tr>\n",
       "    <tr>\n",
       "      <th>3.0</th>\n",
       "      <td>8.077586</td>\n",
       "      <td>1.795428e-03</td>\n",
       "      <td>32.434068</td>\n",
       "    </tr>\n",
       "    <tr>\n",
       "      <th>4.0</th>\n",
       "      <td>6.081902</td>\n",
       "      <td>2.413024e-03</td>\n",
       "      <td>39.201259</td>\n",
       "    </tr>\n",
       "    <tr>\n",
       "      <th>...</th>\n",
       "      <th>...</th>\n",
       "      <td>...</td>\n",
       "      <td>...</td>\n",
       "      <td>...</td>\n",
       "    </tr>\n",
       "    <tr>\n",
       "      <th rowspan=\"5\" valign=\"top\">19</th>\n",
       "      <th>10.0</th>\n",
       "      <td>0.894526</td>\n",
       "      <td>4.371685e-09</td>\n",
       "      <td>51.582838</td>\n",
       "    </tr>\n",
       "    <tr>\n",
       "      <th>11.0</th>\n",
       "      <td>0.642042</td>\n",
       "      <td>-3.163714e-08</td>\n",
       "      <td>52.313848</td>\n",
       "    </tr>\n",
       "    <tr>\n",
       "      <th>12.0</th>\n",
       "      <td>0.460012</td>\n",
       "      <td>-4.976375e-09</td>\n",
       "      <td>52.838048</td>\n",
       "    </tr>\n",
       "    <tr>\n",
       "      <th>13.0</th>\n",
       "      <td>0.329179</td>\n",
       "      <td>6.798809e-09</td>\n",
       "      <td>53.213393</td>\n",
       "    </tr>\n",
       "    <tr>\n",
       "      <th>14.0</th>\n",
       "      <td>0.235348</td>\n",
       "      <td>-8.165850e-09</td>\n",
       "      <td>53.481863</td>\n",
       "    </tr>\n",
       "  </tbody>\n",
       "</table>\n",
       "<p>300 rows × 3 columns</p>\n",
       "</div>"
      ],
      "text/plain": [
       "                    X:VCD         X:Glc      X:Lac\n",
       "run timestamps                                    \n",
       "0   0.0         13.500000  1.350000e+01   0.000000\n",
       "    1.0         12.471011  1.939507e-07  12.610067\n",
       "    2.0         10.345833  1.390843e-03  23.602078\n",
       "    3.0          8.077586  1.795428e-03  32.434068\n",
       "    4.0          6.081902  2.413024e-03  39.201259\n",
       "...                   ...           ...        ...\n",
       "19  10.0         0.894526  4.371685e-09  51.582838\n",
       "    11.0         0.642042 -3.163714e-08  52.313848\n",
       "    12.0         0.460012 -4.976375e-09  52.838048\n",
       "    13.0         0.329179  6.798809e-09  53.213393\n",
       "    14.0         0.235348 -8.165850e-09  53.481863\n",
       "\n",
       "[300 rows x 3 columns]"
      ]
     },
     "execution_count": 3,
     "metadata": {},
     "output_type": "execute_result"
    }
   ],
   "source": [
    "from sklearn.linear_model import LinearRegression\n",
    "from scipy import stats\n",
    "import numpy as np\n",
    "\n",
    "\n",
    "lm = LinearRegression()\n",
    "lm.fit(owu_no_titer, y)\n",
    "predictions = lm.predict(owu_no_titer)\n",
    "\n",
    "\n",
    "params = np.append(lm.intercept_, lm.coef_)\n",
    "new_X = np.append(np.ones((len(owu_no_titer), 1)), owu_no_titer, axis=1)\n",
    "M_S_E = (sum((y - predictions) ** 2)) / (len(new_X) - len(new_X[0]))\n",
    "v_b = M_S_E * (np.linalg.inv(np.dot(new_X.T, new_X)).diagonal())\n",
    "s_b = np.sqrt(v_b)\n",
    "t_b = params / s_b\n",
    "p_val = [2 * (1 - stats.t.cdf(np.abs(i), (len(new_X) - len(new_X[0])))) for i in t_b]\n",
    "p_val = np.round(p_val, 3)\n",
    "p_val = np.array(p_val)\n",
    "\n",
    "p_val_dict = {p: str(col) for col, p in zip(owu.columns, p_val)}\n",
    "\n",
    "\n",
    "while (p_val > 0.20).any():\n",
    "    lm.fit(owu_no_titer, y)\n",
    "    predictions = lm.predict(owu_no_titer)\n",
    "    # calculate p values\n",
    "    params = np.append(lm.intercept_, lm.coef_)\n",
    "    new_X = np.append(np.ones((len(owu_no_titer), 1)), owu_no_titer, axis=1)\n",
    "    M_S_E = (sum((y - predictions) ** 2)) / (len(new_X) - len(new_X[0]))\n",
    "    v_b = M_S_E * (np.linalg.inv(np.dot(new_X.T, new_X)).diagonal())\n",
    "    s_b = np.sqrt(v_b)\n",
    "    t_b = params / s_b\n",
    "    p_val = [\n",
    "        2 * (1 - stats.t.cdf(np.abs(i), (len(new_X) - len(new_X[0])))) for i in t_b\n",
    "    ]\n",
    "    p_val = np.round(p_val, 3)\n",
    "    p_val = np.array(p_val)\n",
    "\n",
    "    p_val_dict = {p: str(col) for col, p in zip(owu_no_titer.columns, p_val)}\n",
    "\n",
    "    p_val = np.sort(p_val)\n",
    "    var_to_remove = p_val_dict[p_val[0]]\n",
    "    print(f\"the variable to remove is {var_to_remove}\")\n",
    "    owu_no_titer.drop(var_to_remove, axis=\"columns\", inplace=True)\n",
    "\n",
    "\n",
    "owu_no_titer"
   ]
  },
  {
   "cell_type": "markdown",
   "metadata": {
    "id": "_HtEIdIyHVTo"
   },
   "source": [
    "### Evaluate model prediction on train set\n",
    "In this section, we check the predictions of the models versus the training data for the final titer.\n"
   ]
  },
  {
   "cell_type": "code",
   "execution_count": null,
   "metadata": {
    "id": "DyTQwmgnHd4N"
   },
   "outputs": [],
   "source": [
    "# TODO: plot observed vs predicted plot and calculate abs/rel RMSE\n",
    "\n",
    "import matplotlib.pyplot as plt\n",
    "import numpy as np\n",
    "# TODO: plot obs vs predicted, compute abs/rel rmse\n",
    "\n",
    "#predicted vs measured (test) values plot\n",
    "\n",
    "plt.scatter(y_test, y_pred)\n",
    "\n",
    "\n",
    "#Absolute RMSE\n",
    "rmser_abs_test = np.sqrt(sum((y_test-y_pred)**2)/len(x_test))\n",
    "rmser_rel_test = abs_RMSE_test/std(f_DoE_test)"
   ]
  },
  {
   "cell_type": "markdown",
   "metadata": {
    "id": "7hNuCgH3Hnj2"
   },
   "source": [
    "### Evaluate model prediction on test set\n",
    "\n",
    "In this section, we use the trained model to predict the final titer and we test it on the test set created in the script \"00_Process_Characterization.ipynb\".\n"
   ]
  },
  {
   "cell_type": "code",
   "execution_count": null,
   "metadata": {
    "id": "Sfuxid_UHyta"
   },
   "outputs": [],
   "source": [
    "# TODO: plot observed vs predicted plot and calculate abs/rel RMSE"
   ]
  },
  {
   "cell_type": "markdown",
   "metadata": {
    "id": "3C7-mXh8H1P6"
   },
   "source": [
    "## PLS Model\n",
    "\n",
    "In this section, we train a PLS1 model with the data loaded in the section above.\n"
   ]
  },
  {
   "cell_type": "markdown",
   "metadata": {
    "id": "gPSnjAS5IGW6"
   },
   "source": [
    "### Select number of latent variables\n",
    "\n",
    "Create a PLS model to predict the value of the final titer given the initial conditions.\n",
    "\n",
    "* Input matrix: \"DoE_nondim\". This corresponds to the non-dimensional values of the manipulated variables for each experiment.\n",
    "* Output target: \"f_DoE\". This corresponds to the final value of titer at the end of each experiment.\n",
    "\n",
    "Select the number of latent variables for the model (the maximum number of latent variables is 5, equal to the number of variables in the input matrix).\n",
    "\n",
    "\n",
    "```\n",
    "# This is formatted as code\n",
    "```\n",
    "\n",
    "\n"
   ]
  },
  {
   "cell_type": "code",
   "execution_count": null,
   "metadata": {
    "id": "OgBkwZQ0ItJU"
   },
   "outputs": [],
   "source": [
    "# Number of latent variables\n",
    "N_LV = 3"
   ]
  },
  {
   "cell_type": "markdown",
   "metadata": {
    "id": "durqeoZiLfUN"
   },
   "source": [
    "### Train the PLS model\n",
    "\n",
    "Here we train the PLS1 model with final titer as our response"
   ]
  },
  {
   "cell_type": "code",
   "execution_count": 70,
   "metadata": {},
   "outputs": [],
   "source": [
    "num_runs = owu.index[-1][0]"
   ]
  },
  {
   "cell_type": "code",
   "execution_count": 76,
   "metadata": {
    "id": "u2RWJm8QI81j"
   },
   "outputs": [
    {
     "ename": "KeyError",
     "evalue": "'[18] not in index'",
     "output_type": "error",
     "traceback": [
      "\u001b[1;31m---------------------------------------------------------------------------\u001b[0m",
      "\u001b[1;31mKeyError\u001b[0m                                  Traceback (most recent call last)",
      "\u001b[1;32m~\\AppData\\Local\\Temp/ipykernel_29768/3572937486.py\u001b[0m in \u001b[0;36m<module>\u001b[1;34m\u001b[0m\n\u001b[0;32m      7\u001b[0m \u001b[1;31m# Dataset shuffling\u001b[0m\u001b[1;33m\u001b[0m\u001b[1;33m\u001b[0m\u001b[0m\n\u001b[0;32m      8\u001b[0m \u001b[0mshuffled_order\u001b[0m \u001b[1;33m=\u001b[0m \u001b[0mrand_seed\u001b[0m\u001b[1;33m.\u001b[0m\u001b[0mchoice\u001b[0m\u001b[1;33m(\u001b[0m\u001b[0mnum_runs\u001b[0m\u001b[1;33m,\u001b[0m \u001b[0msize\u001b[0m\u001b[1;33m=\u001b[0m\u001b[0mnum_runs\u001b[0m\u001b[1;33m,\u001b[0m \u001b[0mreplace\u001b[0m\u001b[1;33m=\u001b[0m\u001b[1;32mFalse\u001b[0m\u001b[1;33m)\u001b[0m\u001b[1;33m\u001b[0m\u001b[1;33m\u001b[0m\u001b[0m\n\u001b[1;32m----> 9\u001b[1;33m \u001b[0mrunset\u001b[0m \u001b[1;33m=\u001b[0m \u001b[0mowu\u001b[0m\u001b[1;33m.\u001b[0m\u001b[0mloc\u001b[0m\u001b[1;33m[\u001b[0m\u001b[0mshuffled_order\u001b[0m\u001b[1;33m]\u001b[0m\u001b[1;33m\u001b[0m\u001b[1;33m\u001b[0m\u001b[0m\n\u001b[0m\u001b[0;32m     10\u001b[0m \u001b[0mshuffle_mapping\u001b[0m \u001b[1;33m=\u001b[0m \u001b[1;33m{\u001b[0m\u001b[0mnum\u001b[0m\u001b[1;33m:\u001b[0m \u001b[0mix\u001b[0m \u001b[1;32mfor\u001b[0m \u001b[0mix\u001b[0m\u001b[1;33m,\u001b[0m \u001b[0mnum\u001b[0m \u001b[1;32min\u001b[0m \u001b[0menumerate\u001b[0m\u001b[1;33m(\u001b[0m\u001b[0mshuffled_order\u001b[0m\u001b[1;33m)\u001b[0m\u001b[1;33m}\u001b[0m\u001b[1;33m\u001b[0m\u001b[1;33m\u001b[0m\u001b[0m\n",
      "\u001b[1;32m~\\AppData\\Local\\Programs\\Python\\Python39\\lib\\site-packages\\pandas\\core\\indexing.py\u001b[0m in \u001b[0;36m__getitem__\u001b[1;34m(self, key)\u001b[0m\n\u001b[0;32m    929\u001b[0m \u001b[1;33m\u001b[0m\u001b[0m\n\u001b[0;32m    930\u001b[0m             \u001b[0mmaybe_callable\u001b[0m \u001b[1;33m=\u001b[0m \u001b[0mcom\u001b[0m\u001b[1;33m.\u001b[0m\u001b[0mapply_if_callable\u001b[0m\u001b[1;33m(\u001b[0m\u001b[0mkey\u001b[0m\u001b[1;33m,\u001b[0m \u001b[0mself\u001b[0m\u001b[1;33m.\u001b[0m\u001b[0mobj\u001b[0m\u001b[1;33m)\u001b[0m\u001b[1;33m\u001b[0m\u001b[1;33m\u001b[0m\u001b[0m\n\u001b[1;32m--> 931\u001b[1;33m             \u001b[1;32mreturn\u001b[0m \u001b[0mself\u001b[0m\u001b[1;33m.\u001b[0m\u001b[0m_getitem_axis\u001b[0m\u001b[1;33m(\u001b[0m\u001b[0mmaybe_callable\u001b[0m\u001b[1;33m,\u001b[0m \u001b[0maxis\u001b[0m\u001b[1;33m=\u001b[0m\u001b[0maxis\u001b[0m\u001b[1;33m)\u001b[0m\u001b[1;33m\u001b[0m\u001b[1;33m\u001b[0m\u001b[0m\n\u001b[0m\u001b[0;32m    932\u001b[0m \u001b[1;33m\u001b[0m\u001b[0m\n\u001b[0;32m    933\u001b[0m     \u001b[1;32mdef\u001b[0m \u001b[0m_is_scalar_access\u001b[0m\u001b[1;33m(\u001b[0m\u001b[0mself\u001b[0m\u001b[1;33m,\u001b[0m \u001b[0mkey\u001b[0m\u001b[1;33m:\u001b[0m \u001b[0mtuple\u001b[0m\u001b[1;33m)\u001b[0m\u001b[1;33m:\u001b[0m\u001b[1;33m\u001b[0m\u001b[1;33m\u001b[0m\u001b[0m\n",
      "\u001b[1;32m~\\AppData\\Local\\Programs\\Python\\Python39\\lib\\site-packages\\pandas\\core\\indexing.py\u001b[0m in \u001b[0;36m_getitem_axis\u001b[1;34m(self, key, axis)\u001b[0m\n\u001b[0;32m   1151\u001b[0m                     \u001b[1;32mraise\u001b[0m \u001b[0mValueError\u001b[0m\u001b[1;33m(\u001b[0m\u001b[1;34m\"Cannot index with multidimensional key\"\u001b[0m\u001b[1;33m)\u001b[0m\u001b[1;33m\u001b[0m\u001b[1;33m\u001b[0m\u001b[0m\n\u001b[0;32m   1152\u001b[0m \u001b[1;33m\u001b[0m\u001b[0m\n\u001b[1;32m-> 1153\u001b[1;33m                 \u001b[1;32mreturn\u001b[0m \u001b[0mself\u001b[0m\u001b[1;33m.\u001b[0m\u001b[0m_getitem_iterable\u001b[0m\u001b[1;33m(\u001b[0m\u001b[0mkey\u001b[0m\u001b[1;33m,\u001b[0m \u001b[0maxis\u001b[0m\u001b[1;33m=\u001b[0m\u001b[0maxis\u001b[0m\u001b[1;33m)\u001b[0m\u001b[1;33m\u001b[0m\u001b[1;33m\u001b[0m\u001b[0m\n\u001b[0m\u001b[0;32m   1154\u001b[0m \u001b[1;33m\u001b[0m\u001b[0m\n\u001b[0;32m   1155\u001b[0m             \u001b[1;31m# nested tuple slicing\u001b[0m\u001b[1;33m\u001b[0m\u001b[1;33m\u001b[0m\u001b[0m\n",
      "\u001b[1;32m~\\AppData\\Local\\Programs\\Python\\Python39\\lib\\site-packages\\pandas\\core\\indexing.py\u001b[0m in \u001b[0;36m_getitem_iterable\u001b[1;34m(self, key, axis)\u001b[0m\n\u001b[0;32m   1091\u001b[0m \u001b[1;33m\u001b[0m\u001b[0m\n\u001b[0;32m   1092\u001b[0m         \u001b[1;31m# A collection of keys\u001b[0m\u001b[1;33m\u001b[0m\u001b[1;33m\u001b[0m\u001b[0m\n\u001b[1;32m-> 1093\u001b[1;33m         \u001b[0mkeyarr\u001b[0m\u001b[1;33m,\u001b[0m \u001b[0mindexer\u001b[0m \u001b[1;33m=\u001b[0m \u001b[0mself\u001b[0m\u001b[1;33m.\u001b[0m\u001b[0m_get_listlike_indexer\u001b[0m\u001b[1;33m(\u001b[0m\u001b[0mkey\u001b[0m\u001b[1;33m,\u001b[0m \u001b[0maxis\u001b[0m\u001b[1;33m)\u001b[0m\u001b[1;33m\u001b[0m\u001b[1;33m\u001b[0m\u001b[0m\n\u001b[0m\u001b[0;32m   1094\u001b[0m         return self.obj._reindex_with_indexers(\n\u001b[0;32m   1095\u001b[0m             \u001b[1;33m{\u001b[0m\u001b[0maxis\u001b[0m\u001b[1;33m:\u001b[0m \u001b[1;33m[\u001b[0m\u001b[0mkeyarr\u001b[0m\u001b[1;33m,\u001b[0m \u001b[0mindexer\u001b[0m\u001b[1;33m]\u001b[0m\u001b[1;33m}\u001b[0m\u001b[1;33m,\u001b[0m \u001b[0mcopy\u001b[0m\u001b[1;33m=\u001b[0m\u001b[1;32mTrue\u001b[0m\u001b[1;33m,\u001b[0m \u001b[0mallow_dups\u001b[0m\u001b[1;33m=\u001b[0m\u001b[1;32mTrue\u001b[0m\u001b[1;33m\u001b[0m\u001b[1;33m\u001b[0m\u001b[0m\n",
      "\u001b[1;32m~\\AppData\\Local\\Programs\\Python\\Python39\\lib\\site-packages\\pandas\\core\\indexing.py\u001b[0m in \u001b[0;36m_get_listlike_indexer\u001b[1;34m(self, key, axis)\u001b[0m\n\u001b[0;32m   1300\u001b[0m             \u001b[1;31m# Have the index compute an indexer or return None\u001b[0m\u001b[1;33m\u001b[0m\u001b[1;33m\u001b[0m\u001b[0m\n\u001b[0;32m   1301\u001b[0m             \u001b[1;31m# if it cannot handle:\u001b[0m\u001b[1;33m\u001b[0m\u001b[1;33m\u001b[0m\u001b[0m\n\u001b[1;32m-> 1302\u001b[1;33m             \u001b[0mindexer\u001b[0m \u001b[1;33m=\u001b[0m \u001b[0max\u001b[0m\u001b[1;33m.\u001b[0m\u001b[0m_convert_listlike_indexer\u001b[0m\u001b[1;33m(\u001b[0m\u001b[0mkeyarr\u001b[0m\u001b[1;33m)\u001b[0m\u001b[1;33m\u001b[0m\u001b[1;33m\u001b[0m\u001b[0m\n\u001b[0m\u001b[0;32m   1303\u001b[0m             \u001b[1;31m# We only act on all found values:\u001b[0m\u001b[1;33m\u001b[0m\u001b[1;33m\u001b[0m\u001b[0m\n\u001b[0;32m   1304\u001b[0m             \u001b[1;32mif\u001b[0m \u001b[0mindexer\u001b[0m \u001b[1;32mis\u001b[0m \u001b[1;32mnot\u001b[0m \u001b[1;32mNone\u001b[0m \u001b[1;32mand\u001b[0m \u001b[1;33m(\u001b[0m\u001b[0mindexer\u001b[0m \u001b[1;33m!=\u001b[0m \u001b[1;33m-\u001b[0m\u001b[1;36m1\u001b[0m\u001b[1;33m)\u001b[0m\u001b[1;33m.\u001b[0m\u001b[0mall\u001b[0m\u001b[1;33m(\u001b[0m\u001b[1;33m)\u001b[0m\u001b[1;33m:\u001b[0m\u001b[1;33m\u001b[0m\u001b[1;33m\u001b[0m\u001b[0m\n",
      "\u001b[1;32m~\\AppData\\Local\\Programs\\Python\\Python39\\lib\\site-packages\\pandas\\core\\indexes\\multi.py\u001b[0m in \u001b[0;36m_convert_listlike_indexer\u001b[1;34m(self, keyarr)\u001b[0m\n\u001b[0;32m   2609\u001b[0m             \u001b[0mmask\u001b[0m \u001b[1;33m=\u001b[0m \u001b[0mcheck\u001b[0m \u001b[1;33m==\u001b[0m \u001b[1;33m-\u001b[0m\u001b[1;36m1\u001b[0m\u001b[1;33m\u001b[0m\u001b[1;33m\u001b[0m\u001b[0m\n\u001b[0;32m   2610\u001b[0m             \u001b[1;32mif\u001b[0m \u001b[0mmask\u001b[0m\u001b[1;33m.\u001b[0m\u001b[0many\u001b[0m\u001b[1;33m(\u001b[0m\u001b[1;33m)\u001b[0m\u001b[1;33m:\u001b[0m\u001b[1;33m\u001b[0m\u001b[1;33m\u001b[0m\u001b[0m\n\u001b[1;32m-> 2611\u001b[1;33m                 \u001b[1;32mraise\u001b[0m \u001b[0mKeyError\u001b[0m\u001b[1;33m(\u001b[0m\u001b[1;34mf\"{keyarr[mask]} not in index\"\u001b[0m\u001b[1;33m)\u001b[0m\u001b[1;33m\u001b[0m\u001b[1;33m\u001b[0m\u001b[0m\n\u001b[0m\u001b[0;32m   2612\u001b[0m             \u001b[1;32melif\u001b[0m \u001b[0mis_empty_indexer\u001b[0m\u001b[1;33m(\u001b[0m\u001b[0mindexer\u001b[0m\u001b[1;33m,\u001b[0m \u001b[0mkeyarr\u001b[0m\u001b[1;33m)\u001b[0m\u001b[1;33m:\u001b[0m\u001b[1;33m\u001b[0m\u001b[1;33m\u001b[0m\u001b[0m\n\u001b[0;32m   2613\u001b[0m                 \u001b[1;31m# We get here when levels still contain values which are not\u001b[0m\u001b[1;33m\u001b[0m\u001b[1;33m\u001b[0m\u001b[0m\n",
      "\u001b[1;31mKeyError\u001b[0m: '[18] not in index'"
     ]
    }
   ],
   "source": [
    "# TODO: train PLS1 mdoel\n",
    "\n",
    "rand_seed = np.random.default_rng(10)\n",
    "TRAIN_SPLIT = 0.80\n",
    "TRAINING_STATISTICS = True\n",
    "\n",
    "# Dataset shuffling\n",
    "shuffled_order = rand_seed.choice(num_runs, size=num_runs, replace=False)\n",
    "runset = owu.loc[shuffled_order]\n",
    "shuffle_mapping = {num: ix for ix, num in enumerate(shuffled_order)}\n",
    "\n",
    "\n",
    "\n",
    "\n",
    "from sklearn.cross_decomposition import PLSRegression\n",
    "n_components=2\n",
    "\n",
    "pls = PLSRegression(n_components=n_components)\n",
    "pls.fit(x_train, y_train)"
   ]
  },
  {
   "cell_type": "markdown",
   "metadata": {
    "id": "75UqadR0JEXQ"
   },
   "source": [
    "### Plot variance explained in the Y"
   ]
  },
  {
   "cell_type": "code",
   "execution_count": null,
   "metadata": {
    "id": "ZuBZRdV4JMgr"
   },
   "outputs": [],
   "source": [
    "# TODO: explained variance plot"
   ]
  },
  {
   "cell_type": "markdown",
   "metadata": {
    "id": "N17NSQ25JQ6P"
   },
   "source": [
    "### Evaluate model on train/test set\n"
   ]
  },
  {
   "cell_type": "code",
   "execution_count": null,
   "metadata": {
    "id": "UV2s1482JgAU"
   },
   "outputs": [],
   "source": [
    "# TODO: plot observed vs predicted experiments and calculate abs/rel RSME"
   ]
  },
  {
   "cell_type": "markdown",
   "metadata": {
    "id": "Ztb0lOjJJlGb"
   },
   "source": [
    "### Check model diagnostics\n",
    "\n",
    "* plot fitted response residuals\n",
    "* plot T2 / Mahalanobis distance values"
   ]
  },
  {
   "cell_type": "code",
   "execution_count": null,
   "metadata": {
    "id": "Kv6YOpV-KF9v"
   },
   "outputs": [],
   "source": [
    "# TODO: compute fitted response residuals and mahalanobis distance plots for experiments\n"
   ]
  },
  {
   "cell_type": "markdown",
   "metadata": {
    "id": "46c4EeopKPps"
   },
   "source": [
    "### Plot scores and loadings for the predictors\n"
   ]
  },
  {
   "cell_type": "code",
   "execution_count": null,
   "metadata": {
    "id": "soJkRof-KVAX"
   },
   "outputs": [],
   "source": [
    "# TODO: bi-plot / scores plot / loadings plot\n",
    "# Color by exp name / FINAL TITER"
   ]
  },
  {
   "cell_type": "markdown",
   "metadata": {
    "id": "QPiuOsULKj3T"
   },
   "source": [
    "### Plot VIP scores"
   ]
  },
  {
   "cell_type": "code",
   "execution_count": null,
   "metadata": {
    "id": "uAu_GXQSKnvq"
   },
   "outputs": [],
   "source": [
    "# TODO: plot VIP scores"
   ]
  },
  {
   "cell_type": "markdown",
   "metadata": {
    "id": "AwZeyCw1KuAw"
   },
   "source": [
    "### Task: What number of latent variables produces best model?"
   ]
  },
  {
   "cell_type": "code",
   "execution_count": null,
   "metadata": {
    "id": "ChxmoF1YK7bG"
   },
   "outputs": [],
   "source": []
  },
  {
   "cell_type": "markdown",
   "metadata": {
    "id": "4NiwnjgvK6tg"
   },
   "source": [
    "## Simulate Cross Validation\n",
    "\n",
    "In this section, we will simulate a typical cross- validation to define the optimal number of latent variables.\n"
   ]
  },
  {
   "cell_type": "markdown",
   "metadata": {
    "id": "B9o_F0zfLOcc"
   },
   "source": [
    "### Select number of folds\n",
    "First define the number of folds.\n"
   ]
  },
  {
   "cell_type": "code",
   "execution_count": null,
   "metadata": {
    "id": "AyjxiHeFLReA"
   },
   "outputs": [],
   "source": [
    "# Number of folds\n",
    "N_folds = 5"
   ]
  },
  {
   "cell_type": "markdown",
   "metadata": {
    "id": "deBiKJUHLa9k"
   },
   "source": [
    "### Compute cross validation\n",
    "\n",
    "Nfold PLS1 models are trained using (Nfolds-1) folds. For each model, the sum of squared residuals (SSR) is calculated and summed up.\n",
    "\n",
    "This is repeated for different numbers of latent variables. The number of latent variables returning the least value of the SSRs is chosen as optimal.\n",
    "A second criterion is selected, namely the Bayesian Information Criterion (BIC), which is weighting the effect of the number of latent variables, i.e., if two values of the number of latent variables are returning a similar value of the SSR, then the one using less variables is chosen to be more likely to produce robust predictions.:"
   ]
  },
  {
   "cell_type": "code",
   "execution_count": null,
   "metadata": {
    "id": "D6lr9WnDLzyz"
   },
   "outputs": [],
   "source": [
    "# TODO: wrap PLS in cross-validation"
   ]
  },
  {
   "cell_type": "markdown",
   "metadata": {
    "id": "kYcq-JOqL3bG"
   },
   "source": [
    "### Evaluate model in cross-validation\n"
   ]
  },
  {
   "cell_type": "code",
   "execution_count": null,
   "metadata": {
    "id": "x1P6nPyLMAAR"
   },
   "outputs": [],
   "source": [
    "# TODO: RMSE_CV, RMSE_BIC"
   ]
  },
  {
   "cell_type": "markdown",
   "metadata": {
    "id": "0i44tIGKMIFp"
   },
   "source": [
    "# Historical PLS Model\n",
    "\n",
    "In an so-called historical model, the data from different experiments are ordered into a batch-wise unfolded (BWU) matrix (i.e., every row corresponds to an experiment).\n",
    "\n",
    "The BWU can be used to compute final properties of the experiment, like CQAs, which are typically the effect of the cumulated effect of the experiment profile.\n",
    "\n",
    "In this example, we will use the BWU matrix to predict the final value of titer. Clearly, titer information are removed from the BWU matrix."
   ]
  },
  {
   "cell_type": "code",
   "execution_count": 124,
   "metadata": {
    "id": "J_Iz4C2wMf_B"
   },
   "outputs": [],
   "source": [
    "# Define number of days to include\n",
    "N_days = 13\n",
    "# Define number of latent variables\n",
    "N_LV = 5"
   ]
  },
  {
   "cell_type": "markdown",
   "metadata": {
    "id": "v1IMh8PMMs-s"
   },
   "source": [
    "### Create BWU matrix\n",
    "\n",
    "Here the BWU matrix is created. The vaues of the manipulated variables are added as columns at the beginning of the matrix.\n",
    "\n",
    "* Remove titer\n",
    "* Remove exceeding days\n",
    "* Eliminate invariant columns\n",
    "* Remove linearly dependent columns\n",
    "* Create a PLS model from the initial design to the final titer\n"
   ]
  },
  {
   "cell_type": "code",
   "execution_count": 6,
   "metadata": {},
   "outputs": [],
   "source": [
    "import pandas as pd\n",
    "#final titer\n",
    "\n",
    "# invariant columns\n",
    "def invariant_col_removal(input_matrix: pd.DataFrame, threshold: float = 1e-9):\n",
    "    var_threshold = VarianceThreshold(threshold)\n",
    "    var_threshold.fit(input_matrix)\n",
    "    mask = var_threshold.get_support(indices=False)\n",
    "    invar_cols = list(input_matrix.columns[~bool_filter])\n",
    "    final_df  = input_matrix[input_matrix.columns[mask]]\n",
    "\n"
   ]
  },
  {
   "cell_type": "code",
   "execution_count": 7,
   "metadata": {
    "id": "CXCdim6oNB1y"
   },
   "outputs": [],
   "source": [
    "from sklearn.model_selection import train_test_split\n",
    "import pandas as pd\n",
    "\n",
    "y_data = final_titer\n",
    "\n",
    "\n",
    "bwu = pd.DataFrame()\n",
    "for run_ix, (_,run) in zip(list(range(len(owu.groupby(\"run\")))),owu.groupby(\"run\")):\n",
    "    row_df = pd.DataFrame()\n",
    "    run.index = run.index.get_level_values(\"timestamps\")\n",
    "    run_len = range(len(run))\n",
    "    for row_ix, (_,row) in zip(run_len,run.iterrows()):\n",
    "        row = row.to_frame().T\n",
    "        row = row.add_suffix(f\":{row_ix}\")\n",
    "        row.index = [int(run_ix)]\n",
    "        \n",
    "        if len(row_df) >0:\n",
    "            row_df = pd.concat([row_df, row], axis=1)\n",
    "        else:\n",
    "            row_df = row\n",
    "            \n",
    "\n",
    "    if len(bwu)>0:\n",
    "        bwu= pd.concat([bwu, row_df])\n",
    "    else:\n",
    "        bwu = row_df\n",
    "\n",
    "pd.set_option('display.max_rows', None)\n",
    "bwu.dropna(axis=\"columns\", inplace = True)"
   ]
  },
  {
   "cell_type": "code",
   "execution_count": 10,
   "metadata": {},
   "outputs": [
    {
     "data": {
      "text/html": [
       "<div>\n",
       "<style scoped>\n",
       "    .dataframe tbody tr th:only-of-type {\n",
       "        vertical-align: middle;\n",
       "    }\n",
       "\n",
       "    .dataframe tbody tr th {\n",
       "        vertical-align: top;\n",
       "    }\n",
       "\n",
       "    .dataframe thead th {\n",
       "        text-align: right;\n",
       "    }\n",
       "</style>\n",
       "<table border=\"1\" class=\"dataframe\">\n",
       "  <thead>\n",
       "    <tr style=\"text-align: right;\">\n",
       "      <th></th>\n",
       "      <th>X:VCD:0</th>\n",
       "      <th>X:Glc:0</th>\n",
       "      <th>X:Lac:0</th>\n",
       "      <th>Y:Final_titer:0</th>\n",
       "      <th>X:VCD:1</th>\n",
       "      <th>X:Glc:1</th>\n",
       "      <th>X:Lac:1</th>\n",
       "      <th>Y:Final_titer:1</th>\n",
       "      <th>X:VCD:2</th>\n",
       "      <th>X:Glc:2</th>\n",
       "      <th>...</th>\n",
       "      <th>X:Lac:11</th>\n",
       "      <th>Y:Final_titer:11</th>\n",
       "      <th>X:VCD:12</th>\n",
       "      <th>X:Glc:12</th>\n",
       "      <th>X:Lac:12</th>\n",
       "      <th>Y:Final_titer:12</th>\n",
       "      <th>X:VCD:13</th>\n",
       "      <th>X:Glc:13</th>\n",
       "      <th>X:Lac:13</th>\n",
       "      <th>Y:Final_titer:13</th>\n",
       "    </tr>\n",
       "  </thead>\n",
       "  <tbody>\n",
       "    <tr>\n",
       "      <th>0</th>\n",
       "      <td>12.991431</td>\n",
       "      <td>0.000006</td>\n",
       "      <td>13.176985</td>\n",
       "      <td>0.0</td>\n",
       "      <td>10.681466</td>\n",
       "      <td>1.262958e-03</td>\n",
       "      <td>24.579613</td>\n",
       "      <td>0.0</td>\n",
       "      <td>8.260118</td>\n",
       "      <td>0.001645</td>\n",
       "      <td>...</td>\n",
       "      <td>57.153823</td>\n",
       "      <td>0.0</td>\n",
       "      <td>0.276638</td>\n",
       "      <td>-3.046385e-09</td>\n",
       "      <td>57.473075</td>\n",
       "      <td>0.0</td>\n",
       "      <td>0.193364</td>\n",
       "      <td>9.469437e-12</td>\n",
       "      <td>57.696304</td>\n",
       "      <td>0.0</td>\n",
       "    </tr>\n",
       "    <tr>\n",
       "      <th>1</th>\n",
       "      <td>13.500000</td>\n",
       "      <td>13.500000</td>\n",
       "      <td>0.000000</td>\n",
       "      <td>0.0</td>\n",
       "      <td>12.471011</td>\n",
       "      <td>1.939507e-07</td>\n",
       "      <td>12.610067</td>\n",
       "      <td>0.0</td>\n",
       "      <td>10.345833</td>\n",
       "      <td>0.001391</td>\n",
       "      <td>...</td>\n",
       "      <td>55.450938</td>\n",
       "      <td>0.0</td>\n",
       "      <td>0.415512</td>\n",
       "      <td>-5.171799e-08</td>\n",
       "      <td>55.928460</td>\n",
       "      <td>0.0</td>\n",
       "      <td>0.292670</td>\n",
       "      <td>5.450554e-09</td>\n",
       "      <td>56.264963</td>\n",
       "      <td>0.0</td>\n",
       "    </tr>\n",
       "    <tr>\n",
       "      <th>2</th>\n",
       "      <td>13.026316</td>\n",
       "      <td>12.868421</td>\n",
       "      <td>0.000000</td>\n",
       "      <td>0.0</td>\n",
       "      <td>11.894870</td>\n",
       "      <td>8.260318e-06</td>\n",
       "      <td>12.116621</td>\n",
       "      <td>0.0</td>\n",
       "      <td>9.663138</td>\n",
       "      <td>0.001631</td>\n",
       "      <td>...</td>\n",
       "      <td>50.694549</td>\n",
       "      <td>0.0</td>\n",
       "      <td>0.321804</td>\n",
       "      <td>-4.404155e-08</td>\n",
       "      <td>51.067581</td>\n",
       "      <td>0.0</td>\n",
       "      <td>0.223025</td>\n",
       "      <td>4.166118e-09</td>\n",
       "      <td>51.326217</td>\n",
       "      <td>0.0</td>\n",
       "    </tr>\n",
       "    <tr>\n",
       "      <th>3</th>\n",
       "      <td>13.815789</td>\n",
       "      <td>13.026316</td>\n",
       "      <td>0.000000</td>\n",
       "      <td>0.0</td>\n",
       "      <td>12.672023</td>\n",
       "      <td>4.218850e-06</td>\n",
       "      <td>12.871708</td>\n",
       "      <td>0.0</td>\n",
       "      <td>10.376050</td>\n",
       "      <td>0.001322</td>\n",
       "      <td>...</td>\n",
       "      <td>54.857567</td>\n",
       "      <td>0.0</td>\n",
       "      <td>0.370600</td>\n",
       "      <td>-3.138826e-08</td>\n",
       "      <td>55.285791</td>\n",
       "      <td>0.0</td>\n",
       "      <td>0.258388</td>\n",
       "      <td>-2.150921e-08</td>\n",
       "      <td>55.584483</td>\n",
       "      <td>0.0</td>\n",
       "    </tr>\n",
       "    <tr>\n",
       "      <th>4</th>\n",
       "      <td>14.921053</td>\n",
       "      <td>14.605263</td>\n",
       "      <td>0.000000</td>\n",
       "      <td>0.0</td>\n",
       "      <td>13.804769</td>\n",
       "      <td>1.689991e-07</td>\n",
       "      <td>13.945078</td>\n",
       "      <td>0.0</td>\n",
       "      <td>11.484610</td>\n",
       "      <td>0.001153</td>\n",
       "      <td>...</td>\n",
       "      <td>61.752836</td>\n",
       "      <td>0.0</td>\n",
       "      <td>0.473601</td>\n",
       "      <td>-1.307018e-08</td>\n",
       "      <td>62.296453</td>\n",
       "      <td>0.0</td>\n",
       "      <td>0.334352</td>\n",
       "      <td>4.928026e-10</td>\n",
       "      <td>62.680420</td>\n",
       "      <td>0.0</td>\n",
       "    </tr>\n",
       "    <tr>\n",
       "      <th>5</th>\n",
       "      <td>13.500000</td>\n",
       "      <td>13.973684</td>\n",
       "      <td>0.000000</td>\n",
       "      <td>0.0</td>\n",
       "      <td>12.601983</td>\n",
       "      <td>4.194767e-06</td>\n",
       "      <td>12.657424</td>\n",
       "      <td>0.0</td>\n",
       "      <td>10.665579</td>\n",
       "      <td>0.001223</td>\n",
       "      <td>...</td>\n",
       "      <td>58.574548</td>\n",
       "      <td>0.0</td>\n",
       "      <td>0.518075</td>\n",
       "      <td>-2.900677e-08</td>\n",
       "      <td>59.164697</td>\n",
       "      <td>0.0</td>\n",
       "      <td>0.370985</td>\n",
       "      <td>-4.977381e-09</td>\n",
       "      <td>59.587557</td>\n",
       "      <td>0.0</td>\n",
       "    </tr>\n",
       "    <tr>\n",
       "      <th>6</th>\n",
       "      <td>12.710526</td>\n",
       "      <td>14.763158</td>\n",
       "      <td>0.000000</td>\n",
       "      <td>0.0</td>\n",
       "      <td>11.842340</td>\n",
       "      <td>1.332928e-05</td>\n",
       "      <td>11.909257</td>\n",
       "      <td>0.0</td>\n",
       "      <td>9.985095</td>\n",
       "      <td>0.001420</td>\n",
       "      <td>...</td>\n",
       "      <td>54.564763</td>\n",
       "      <td>0.0</td>\n",
       "      <td>0.467344</td>\n",
       "      <td>2.010476e-08</td>\n",
       "      <td>55.098037</td>\n",
       "      <td>0.0</td>\n",
       "      <td>0.333581</td>\n",
       "      <td>5.659371e-09</td>\n",
       "      <td>55.478907</td>\n",
       "      <td>0.0</td>\n",
       "    </tr>\n",
       "    <tr>\n",
       "      <th>7</th>\n",
       "      <td>12.236842</td>\n",
       "      <td>13.184211</td>\n",
       "      <td>0.000000</td>\n",
       "      <td>0.0</td>\n",
       "      <td>11.294598</td>\n",
       "      <td>3.811680e-06</td>\n",
       "      <td>11.426765</td>\n",
       "      <td>0.0</td>\n",
       "      <td>9.355337</td>\n",
       "      <td>0.001567</td>\n",
       "      <td>...</td>\n",
       "      <td>50.052939</td>\n",
       "      <td>0.0</td>\n",
       "      <td>0.370266</td>\n",
       "      <td>-2.377462e-08</td>\n",
       "      <td>50.478730</td>\n",
       "      <td>0.0</td>\n",
       "      <td>0.260471</td>\n",
       "      <td>6.410387e-09</td>\n",
       "      <td>50.778413</td>\n",
       "      <td>0.0</td>\n",
       "    </tr>\n",
       "    <tr>\n",
       "      <th>8</th>\n",
       "      <td>12.868421</td>\n",
       "      <td>13.342105</td>\n",
       "      <td>0.000000</td>\n",
       "      <td>0.0</td>\n",
       "      <td>11.733112</td>\n",
       "      <td>1.503343e-06</td>\n",
       "      <td>11.963290</td>\n",
       "      <td>0.0</td>\n",
       "      <td>9.506514</td>\n",
       "      <td>0.001612</td>\n",
       "      <td>...</td>\n",
       "      <td>49.763558</td>\n",
       "      <td>0.0</td>\n",
       "      <td>0.309773</td>\n",
       "      <td>-2.211236e-09</td>\n",
       "      <td>50.123024</td>\n",
       "      <td>0.0</td>\n",
       "      <td>0.214257</td>\n",
       "      <td>1.129580e-08</td>\n",
       "      <td>50.371758</td>\n",
       "      <td>0.0</td>\n",
       "    </tr>\n",
       "    <tr>\n",
       "      <th>9</th>\n",
       "      <td>13.342105</td>\n",
       "      <td>12.710526</td>\n",
       "      <td>0.000000</td>\n",
       "      <td>0.0</td>\n",
       "      <td>12.412080</td>\n",
       "      <td>4.118170e-06</td>\n",
       "      <td>12.493960</td>\n",
       "      <td>0.0</td>\n",
       "      <td>10.435845</td>\n",
       "      <td>0.001485</td>\n",
       "      <td>...</td>\n",
       "      <td>56.826625</td>\n",
       "      <td>0.0</td>\n",
       "      <td>0.475292</td>\n",
       "      <td>1.168852e-08</td>\n",
       "      <td>57.369680</td>\n",
       "      <td>0.0</td>\n",
       "      <td>0.338444</td>\n",
       "      <td>-2.113753e-08</td>\n",
       "      <td>57.756579</td>\n",
       "      <td>0.0</td>\n",
       "    </tr>\n",
       "    <tr>\n",
       "      <th>10</th>\n",
       "      <td>12.552632</td>\n",
       "      <td>14.447368</td>\n",
       "      <td>0.000000</td>\n",
       "      <td>0.0</td>\n",
       "      <td>11.650061</td>\n",
       "      <td>6.236666e-06</td>\n",
       "      <td>11.745020</td>\n",
       "      <td>0.0</td>\n",
       "      <td>9.749942</td>\n",
       "      <td>0.001433</td>\n",
       "      <td>...</td>\n",
       "      <td>52.791330</td>\n",
       "      <td>0.0</td>\n",
       "      <td>0.424929</td>\n",
       "      <td>-2.017547e-09</td>\n",
       "      <td>53.277831</td>\n",
       "      <td>0.0</td>\n",
       "      <td>0.301426</td>\n",
       "      <td>-1.793008e-08</td>\n",
       "      <td>53.623123</td>\n",
       "      <td>0.0</td>\n",
       "    </tr>\n",
       "    <tr>\n",
       "      <th>11</th>\n",
       "      <td>14.605263</td>\n",
       "      <td>12.394737</td>\n",
       "      <td>0.000000</td>\n",
       "      <td>0.0</td>\n",
       "      <td>13.444528</td>\n",
       "      <td>5.649452e-07</td>\n",
       "      <td>13.624896</td>\n",
       "      <td>0.0</td>\n",
       "      <td>11.080890</td>\n",
       "      <td>0.001117</td>\n",
       "      <td>...</td>\n",
       "      <td>58.975236</td>\n",
       "      <td>0.0</td>\n",
       "      <td>0.419600</td>\n",
       "      <td>-3.877362e-09</td>\n",
       "      <td>59.458756</td>\n",
       "      <td>0.0</td>\n",
       "      <td>0.294047</td>\n",
       "      <td>2.988254e-08</td>\n",
       "      <td>59.797756</td>\n",
       "      <td>0.0</td>\n",
       "    </tr>\n",
       "    <tr>\n",
       "      <th>12</th>\n",
       "      <td>14.447368</td>\n",
       "      <td>14.921053</td>\n",
       "      <td>0.000000</td>\n",
       "      <td>0.0</td>\n",
       "      <td>13.236200</td>\n",
       "      <td>1.127800e-05</td>\n",
       "      <td>13.454733</td>\n",
       "      <td>0.0</td>\n",
       "      <td>10.815089</td>\n",
       "      <td>0.001186</td>\n",
       "      <td>...</td>\n",
       "      <td>57.050826</td>\n",
       "      <td>0.0</td>\n",
       "      <td>0.378979</td>\n",
       "      <td>-5.941972e-09</td>\n",
       "      <td>57.489098</td>\n",
       "      <td>0.0</td>\n",
       "      <td>0.263817</td>\n",
       "      <td>-5.152602e-09</td>\n",
       "      <td>57.794320</td>\n",
       "      <td>0.0</td>\n",
       "    </tr>\n",
       "    <tr>\n",
       "      <th>13</th>\n",
       "      <td>13.657895</td>\n",
       "      <td>13.500000</td>\n",
       "      <td>0.000000</td>\n",
       "      <td>0.0</td>\n",
       "      <td>12.485337</td>\n",
       "      <td>2.606603e-06</td>\n",
       "      <td>12.709229</td>\n",
       "      <td>0.0</td>\n",
       "      <td>10.161871</td>\n",
       "      <td>0.001242</td>\n",
       "      <td>...</td>\n",
       "      <td>53.409970</td>\n",
       "      <td>0.0</td>\n",
       "      <td>0.344223</td>\n",
       "      <td>-1.710987e-07</td>\n",
       "      <td>53.808685</td>\n",
       "      <td>0.0</td>\n",
       "      <td>0.238910</td>\n",
       "      <td>-3.455252e-10</td>\n",
       "      <td>54.085531</td>\n",
       "      <td>0.0</td>\n",
       "    </tr>\n",
       "    <tr>\n",
       "      <th>14</th>\n",
       "      <td>14.763158</td>\n",
       "      <td>12.236842</td>\n",
       "      <td>0.000000</td>\n",
       "      <td>0.0</td>\n",
       "      <td>13.725309</td>\n",
       "      <td>8.342715e-07</td>\n",
       "      <td>13.821370</td>\n",
       "      <td>0.0</td>\n",
       "      <td>11.525939</td>\n",
       "      <td>0.001418</td>\n",
       "      <td>...</td>\n",
       "      <td>62.666746</td>\n",
       "      <td>0.0</td>\n",
       "      <td>0.518901</td>\n",
       "      <td>1.142219e-07</td>\n",
       "      <td>63.259927</td>\n",
       "      <td>0.0</td>\n",
       "      <td>0.369130</td>\n",
       "      <td>-5.970163e-09</td>\n",
       "      <td>63.682134</td>\n",
       "      <td>0.0</td>\n",
       "    </tr>\n",
       "    <tr>\n",
       "      <th>15</th>\n",
       "      <td>14.289474</td>\n",
       "      <td>14.289474</td>\n",
       "      <td>0.000000</td>\n",
       "      <td>0.0</td>\n",
       "      <td>12.891060</td>\n",
       "      <td>1.131024e-06</td>\n",
       "      <td>13.232698</td>\n",
       "      <td>0.0</td>\n",
       "      <td>10.256557</td>\n",
       "      <td>0.001447</td>\n",
       "      <td>...</td>\n",
       "      <td>52.870724</td>\n",
       "      <td>0.0</td>\n",
       "      <td>0.286756</td>\n",
       "      <td>3.573175e-08</td>\n",
       "      <td>53.205824</td>\n",
       "      <td>0.0</td>\n",
       "      <td>0.195753</td>\n",
       "      <td>1.740743e-08</td>\n",
       "      <td>53.434661</td>\n",
       "      <td>0.0</td>\n",
       "    </tr>\n",
       "    <tr>\n",
       "      <th>16</th>\n",
       "      <td>12.394737</td>\n",
       "      <td>13.815789</td>\n",
       "      <td>0.000000</td>\n",
       "      <td>0.0</td>\n",
       "      <td>11.653726</td>\n",
       "      <td>4.492855e-06</td>\n",
       "      <td>11.650962</td>\n",
       "      <td>0.0</td>\n",
       "      <td>10.006642</td>\n",
       "      <td>0.001506</td>\n",
       "      <td>...</td>\n",
       "      <td>56.101516</td>\n",
       "      <td>0.0</td>\n",
       "      <td>0.562492</td>\n",
       "      <td>3.143273e-08</td>\n",
       "      <td>56.737996</td>\n",
       "      <td>0.0</td>\n",
       "      <td>0.407908</td>\n",
       "      <td>6.720162e-09</td>\n",
       "      <td>57.199867</td>\n",
       "      <td>0.0</td>\n",
       "    </tr>\n",
       "    <tr>\n",
       "      <th>17</th>\n",
       "      <td>13.184211</td>\n",
       "      <td>13.657895</td>\n",
       "      <td>0.000000</td>\n",
       "      <td>0.0</td>\n",
       "      <td>12.308052</td>\n",
       "      <td>9.331431e-06</td>\n",
       "      <td>12.361647</td>\n",
       "      <td>0.0</td>\n",
       "      <td>10.418558</td>\n",
       "      <td>0.001381</td>\n",
       "      <td>...</td>\n",
       "      <td>57.234559</td>\n",
       "      <td>0.0</td>\n",
       "      <td>0.506908</td>\n",
       "      <td>-2.625540e-08</td>\n",
       "      <td>57.811972</td>\n",
       "      <td>0.0</td>\n",
       "      <td>0.363024</td>\n",
       "      <td>-3.602932e-09</td>\n",
       "      <td>58.225734</td>\n",
       "      <td>0.0</td>\n",
       "    </tr>\n",
       "    <tr>\n",
       "      <th>18</th>\n",
       "      <td>13.973684</td>\n",
       "      <td>12.078947</td>\n",
       "      <td>0.000000</td>\n",
       "      <td>0.0</td>\n",
       "      <td>12.723740</td>\n",
       "      <td>1.111773e-05</td>\n",
       "      <td>12.984220</td>\n",
       "      <td>0.0</td>\n",
       "      <td>10.285293</td>\n",
       "      <td>0.001551</td>\n",
       "      <td>...</td>\n",
       "      <td>53.726141</td>\n",
       "      <td>0.0</td>\n",
       "      <td>0.328501</td>\n",
       "      <td>1.429766e-08</td>\n",
       "      <td>54.107683</td>\n",
       "      <td>0.0</td>\n",
       "      <td>0.226826</td>\n",
       "      <td>-2.728000e-08</td>\n",
       "      <td>54.371245</td>\n",
       "      <td>0.0</td>\n",
       "    </tr>\n",
       "    <tr>\n",
       "      <th>19</th>\n",
       "      <td>12.078947</td>\n",
       "      <td>12.552632</td>\n",
       "      <td>0.000000</td>\n",
       "      <td>0.0</td>\n",
       "      <td>11.271088</td>\n",
       "      <td>4.144455e-06</td>\n",
       "      <td>11.323460</td>\n",
       "      <td>0.0</td>\n",
       "      <td>9.532801</td>\n",
       "      <td>0.001701</td>\n",
       "      <td>...</td>\n",
       "      <td>52.313848</td>\n",
       "      <td>0.0</td>\n",
       "      <td>0.460012</td>\n",
       "      <td>-4.976375e-09</td>\n",
       "      <td>52.838048</td>\n",
       "      <td>0.0</td>\n",
       "      <td>0.329179</td>\n",
       "      <td>6.798809e-09</td>\n",
       "      <td>53.213393</td>\n",
       "      <td>0.0</td>\n",
       "    </tr>\n",
       "  </tbody>\n",
       "</table>\n",
       "<p>20 rows × 56 columns</p>\n",
       "</div>"
      ],
      "text/plain": [
       "      X:VCD:0    X:Glc:0    X:Lac:0  Y:Final_titer:0    X:VCD:1       X:Glc:1  \\\n",
       "0   12.991431   0.000006  13.176985              0.0  10.681466  1.262958e-03   \n",
       "1   13.500000  13.500000   0.000000              0.0  12.471011  1.939507e-07   \n",
       "2   13.026316  12.868421   0.000000              0.0  11.894870  8.260318e-06   \n",
       "3   13.815789  13.026316   0.000000              0.0  12.672023  4.218850e-06   \n",
       "4   14.921053  14.605263   0.000000              0.0  13.804769  1.689991e-07   \n",
       "5   13.500000  13.973684   0.000000              0.0  12.601983  4.194767e-06   \n",
       "6   12.710526  14.763158   0.000000              0.0  11.842340  1.332928e-05   \n",
       "7   12.236842  13.184211   0.000000              0.0  11.294598  3.811680e-06   \n",
       "8   12.868421  13.342105   0.000000              0.0  11.733112  1.503343e-06   \n",
       "9   13.342105  12.710526   0.000000              0.0  12.412080  4.118170e-06   \n",
       "10  12.552632  14.447368   0.000000              0.0  11.650061  6.236666e-06   \n",
       "11  14.605263  12.394737   0.000000              0.0  13.444528  5.649452e-07   \n",
       "12  14.447368  14.921053   0.000000              0.0  13.236200  1.127800e-05   \n",
       "13  13.657895  13.500000   0.000000              0.0  12.485337  2.606603e-06   \n",
       "14  14.763158  12.236842   0.000000              0.0  13.725309  8.342715e-07   \n",
       "15  14.289474  14.289474   0.000000              0.0  12.891060  1.131024e-06   \n",
       "16  12.394737  13.815789   0.000000              0.0  11.653726  4.492855e-06   \n",
       "17  13.184211  13.657895   0.000000              0.0  12.308052  9.331431e-06   \n",
       "18  13.973684  12.078947   0.000000              0.0  12.723740  1.111773e-05   \n",
       "19  12.078947  12.552632   0.000000              0.0  11.271088  4.144455e-06   \n",
       "\n",
       "      X:Lac:1  Y:Final_titer:1    X:VCD:2   X:Glc:2  ...   X:Lac:11  \\\n",
       "0   24.579613              0.0   8.260118  0.001645  ...  57.153823   \n",
       "1   12.610067              0.0  10.345833  0.001391  ...  55.450938   \n",
       "2   12.116621              0.0   9.663138  0.001631  ...  50.694549   \n",
       "3   12.871708              0.0  10.376050  0.001322  ...  54.857567   \n",
       "4   13.945078              0.0  11.484610  0.001153  ...  61.752836   \n",
       "5   12.657424              0.0  10.665579  0.001223  ...  58.574548   \n",
       "6   11.909257              0.0   9.985095  0.001420  ...  54.564763   \n",
       "7   11.426765              0.0   9.355337  0.001567  ...  50.052939   \n",
       "8   11.963290              0.0   9.506514  0.001612  ...  49.763558   \n",
       "9   12.493960              0.0  10.435845  0.001485  ...  56.826625   \n",
       "10  11.745020              0.0   9.749942  0.001433  ...  52.791330   \n",
       "11  13.624896              0.0  11.080890  0.001117  ...  58.975236   \n",
       "12  13.454733              0.0  10.815089  0.001186  ...  57.050826   \n",
       "13  12.709229              0.0  10.161871  0.001242  ...  53.409970   \n",
       "14  13.821370              0.0  11.525939  0.001418  ...  62.666746   \n",
       "15  13.232698              0.0  10.256557  0.001447  ...  52.870724   \n",
       "16  11.650962              0.0  10.006642  0.001506  ...  56.101516   \n",
       "17  12.361647              0.0  10.418558  0.001381  ...  57.234559   \n",
       "18  12.984220              0.0  10.285293  0.001551  ...  53.726141   \n",
       "19  11.323460              0.0   9.532801  0.001701  ...  52.313848   \n",
       "\n",
       "    Y:Final_titer:11  X:VCD:12      X:Glc:12   X:Lac:12  Y:Final_titer:12  \\\n",
       "0                0.0  0.276638 -3.046385e-09  57.473075               0.0   \n",
       "1                0.0  0.415512 -5.171799e-08  55.928460               0.0   \n",
       "2                0.0  0.321804 -4.404155e-08  51.067581               0.0   \n",
       "3                0.0  0.370600 -3.138826e-08  55.285791               0.0   \n",
       "4                0.0  0.473601 -1.307018e-08  62.296453               0.0   \n",
       "5                0.0  0.518075 -2.900677e-08  59.164697               0.0   \n",
       "6                0.0  0.467344  2.010476e-08  55.098037               0.0   \n",
       "7                0.0  0.370266 -2.377462e-08  50.478730               0.0   \n",
       "8                0.0  0.309773 -2.211236e-09  50.123024               0.0   \n",
       "9                0.0  0.475292  1.168852e-08  57.369680               0.0   \n",
       "10               0.0  0.424929 -2.017547e-09  53.277831               0.0   \n",
       "11               0.0  0.419600 -3.877362e-09  59.458756               0.0   \n",
       "12               0.0  0.378979 -5.941972e-09  57.489098               0.0   \n",
       "13               0.0  0.344223 -1.710987e-07  53.808685               0.0   \n",
       "14               0.0  0.518901  1.142219e-07  63.259927               0.0   \n",
       "15               0.0  0.286756  3.573175e-08  53.205824               0.0   \n",
       "16               0.0  0.562492  3.143273e-08  56.737996               0.0   \n",
       "17               0.0  0.506908 -2.625540e-08  57.811972               0.0   \n",
       "18               0.0  0.328501  1.429766e-08  54.107683               0.0   \n",
       "19               0.0  0.460012 -4.976375e-09  52.838048               0.0   \n",
       "\n",
       "    X:VCD:13      X:Glc:13   X:Lac:13  Y:Final_titer:13  \n",
       "0   0.193364  9.469437e-12  57.696304               0.0  \n",
       "1   0.292670  5.450554e-09  56.264963               0.0  \n",
       "2   0.223025  4.166118e-09  51.326217               0.0  \n",
       "3   0.258388 -2.150921e-08  55.584483               0.0  \n",
       "4   0.334352  4.928026e-10  62.680420               0.0  \n",
       "5   0.370985 -4.977381e-09  59.587557               0.0  \n",
       "6   0.333581  5.659371e-09  55.478907               0.0  \n",
       "7   0.260471  6.410387e-09  50.778413               0.0  \n",
       "8   0.214257  1.129580e-08  50.371758               0.0  \n",
       "9   0.338444 -2.113753e-08  57.756579               0.0  \n",
       "10  0.301426 -1.793008e-08  53.623123               0.0  \n",
       "11  0.294047  2.988254e-08  59.797756               0.0  \n",
       "12  0.263817 -5.152602e-09  57.794320               0.0  \n",
       "13  0.238910 -3.455252e-10  54.085531               0.0  \n",
       "14  0.369130 -5.970163e-09  63.682134               0.0  \n",
       "15  0.195753  1.740743e-08  53.434661               0.0  \n",
       "16  0.407908  6.720162e-09  57.199867               0.0  \n",
       "17  0.363024 -3.602932e-09  58.225734               0.0  \n",
       "18  0.226826 -2.728000e-08  54.371245               0.0  \n",
       "19  0.329179  6.798809e-09  53.213393               0.0  \n",
       "\n",
       "[20 rows x 56 columns]"
      ]
     },
     "execution_count": 10,
     "metadata": {},
     "output_type": "execute_result"
    }
   ],
   "source": [
    "\n",
    "bwu"
   ]
  },
  {
   "cell_type": "markdown",
   "metadata": {
    "id": "cLKo0hoPNDx-"
   },
   "source": [
    "### Train Historical PLS model"
   ]
  },
  {
   "cell_type": "code",
   "execution_count": 12,
   "metadata": {
    "id": "WDpN48qWNJs4"
   },
   "outputs": [
    {
     "ename": "NameError",
     "evalue": "name 'StandardScaler' is not defined",
     "output_type": "error",
     "traceback": [
      "\u001b[1;31m---------------------------------------------------------------------------\u001b[0m",
      "\u001b[1;31mNameError\u001b[0m                                 Traceback (most recent call last)",
      "\u001b[1;32m~\\AppData\\Local\\Temp/ipykernel_14644/310313650.py\u001b[0m in \u001b[0;36m<module>\u001b[1;34m\u001b[0m\n\u001b[0;32m      3\u001b[0m \u001b[1;32mimport\u001b[0m \u001b[0mnumpy\u001b[0m \u001b[1;32mas\u001b[0m \u001b[0mnp\u001b[0m\u001b[1;33m\u001b[0m\u001b[1;33m\u001b[0m\u001b[0m\n\u001b[0;32m      4\u001b[0m \u001b[1;33m\u001b[0m\u001b[0m\n\u001b[1;32m----> 5\u001b[1;33m \u001b[0mdata_scaler\u001b[0m \u001b[1;33m=\u001b[0m \u001b[0mStandardScaler\u001b[0m\u001b[1;33m(\u001b[0m\u001b[1;33m)\u001b[0m\u001b[1;33m\u001b[0m\u001b[1;33m\u001b[0m\u001b[0m\n\u001b[0m\u001b[0;32m      6\u001b[0m \u001b[0mscaled_data\u001b[0m \u001b[1;33m=\u001b[0m \u001b[0mdata_scaler\u001b[0m\u001b[1;33m.\u001b[0m\u001b[0mfit_transform\u001b[0m\u001b[1;33m(\u001b[0m\u001b[0mbwu\u001b[0m\u001b[1;33m)\u001b[0m\u001b[1;33m\u001b[0m\u001b[1;33m\u001b[0m\u001b[0m\n\u001b[0;32m      7\u001b[0m \u001b[0mscaled_y\u001b[0m \u001b[1;33m=\u001b[0m \u001b[0mdata_scaler\u001b[0m\u001b[1;33m.\u001b[0m\u001b[0mfit_transform\u001b[0m\u001b[1;33m(\u001b[0m\u001b[0mnp\u001b[0m\u001b[1;33m.\u001b[0m\u001b[0marray\u001b[0m\u001b[1;33m(\u001b[0m\u001b[0mfinal_titer\u001b[0m\u001b[1;33m)\u001b[0m\u001b[1;33m.\u001b[0m\u001b[0mreshape\u001b[0m\u001b[1;33m(\u001b[0m\u001b[1;33m-\u001b[0m\u001b[1;36m1\u001b[0m\u001b[1;33m,\u001b[0m \u001b[1;36m1\u001b[0m\u001b[1;33m)\u001b[0m\u001b[1;33m)\u001b[0m\u001b[1;33m\u001b[0m\u001b[1;33m\u001b[0m\u001b[0m\n",
      "\u001b[1;31mNameError\u001b[0m: name 'StandardScaler' is not defined"
     ]
    }
   ],
   "source": [
    "# TODO: train PLS on modified BWU\n",
    "from sklearn.cross_decomposition import PLSRegression\n",
    "from sklearn.preprocessing import StandardScaler\n",
    "import numpy as np\n",
    "\n",
    "data_scaler = StandardScaler()\n",
    "scaled_data = data_scaler.fit_transform(bwu)\n",
    "scaled_y = data_scaler.fit_transform(np.array(final_titer).reshape(-1, 1))\n",
    "x_train, x_test, y_train, y_test = train_test_split(scaled_data,scaled_y, test_size=0.2, random_state = 10)\n",
    "\n",
    "n_components=2\n",
    "\n",
    "pls = PLSRegression(n_components=n_components)\n",
    "pls.fit(x_train, y_train)\n",
    "y_pred = pls.predict(x_test)\n",
    "\n",
    "\n",
    "np.ravel(y_pred)\n",
    "y_test = np.ravel(y_test)\n",
    "y_pred = np.ravel(y_pred)"
   ]
  },
  {
   "cell_type": "markdown",
   "metadata": {
    "id": "c2oIwzd1NNLi"
   },
   "source": [
    "### Evaluate model on train/test set"
   ]
  },
  {
   "cell_type": "code",
   "execution_count": 131,
   "metadata": {
    "id": "opLCJtcuNS6W"
   },
   "outputs": [
    {
     "ename": "NameError",
     "evalue": "name 'abs_RMSE_test' is not defined",
     "output_type": "error",
     "traceback": [
      "\u001b[1;31m---------------------------------------------------------------------------\u001b[0m",
      "\u001b[1;31mNameError\u001b[0m                                 Traceback (most recent call last)",
      "\u001b[1;32m~\\AppData\\Local\\Temp/ipykernel_812/622713321.py\u001b[0m in \u001b[0;36m<module>\u001b[1;34m\u001b[0m\n\u001b[0;32m     10\u001b[0m \u001b[1;31m#Absolute RMSE\u001b[0m\u001b[1;33m\u001b[0m\u001b[1;33m\u001b[0m\u001b[0m\n\u001b[0;32m     11\u001b[0m \u001b[0mrmser_abs_test\u001b[0m \u001b[1;33m=\u001b[0m \u001b[0mnp\u001b[0m\u001b[1;33m.\u001b[0m\u001b[0msqrt\u001b[0m\u001b[1;33m(\u001b[0m\u001b[0msum\u001b[0m\u001b[1;33m(\u001b[0m\u001b[1;33m(\u001b[0m\u001b[0my_test\u001b[0m\u001b[1;33m-\u001b[0m\u001b[0my_pred\u001b[0m\u001b[1;33m)\u001b[0m\u001b[1;33m**\u001b[0m\u001b[1;36m2\u001b[0m\u001b[1;33m)\u001b[0m\u001b[1;33m/\u001b[0m\u001b[0mlen\u001b[0m\u001b[1;33m(\u001b[0m\u001b[0mx_test\u001b[0m\u001b[1;33m)\u001b[0m\u001b[1;33m)\u001b[0m\u001b[1;33m\u001b[0m\u001b[1;33m\u001b[0m\u001b[0m\n\u001b[1;32m---> 12\u001b[1;33m \u001b[0mrmser_rel_test\u001b[0m \u001b[1;33m=\u001b[0m \u001b[0mabs_RMSE_test\u001b[0m\u001b[1;33m/\u001b[0m\u001b[0mstd\u001b[0m\u001b[1;33m(\u001b[0m\u001b[0mf_DoE_test\u001b[0m\u001b[1;33m)\u001b[0m\u001b[1;33m\u001b[0m\u001b[1;33m\u001b[0m\u001b[0m\n\u001b[0m",
      "\u001b[1;31mNameError\u001b[0m: name 'abs_RMSE_test' is not defined"
     ]
    },
    {
     "data": {
      "image/png": "[encoded data removed]",
      "text/plain": [
       "<Figure size 432x288 with 1 Axes>"
      ]
     },
     "metadata": {
      "needs_background": "light"
     },
     "output_type": "display_data"
    }
   ],
   "source": [
    "import matplotlib.pyplot as plt\n",
    "import numpy as np\n",
    "# TODO: plot obs vs predicted, compute abs/rel rmse\n",
    "\n",
    "#predicted vs measured (test) values plot\n",
    "\n",
    "plt.scatter(y_test, y_pred)\n",
    "\n",
    "\n",
    "#Absolute RMSE\n",
    "rmser_abs_test = np.sqrt(sum((y_test-y_pred)**2)/len(x_test))\n",
    "rmser_rel_test = abs_RMSE_test/std(f_DoE_test)"
   ]
  },
  {
   "cell_type": "markdown",
   "metadata": {
    "id": "8KDUuEjCNYdy"
   },
   "source": [
    "### Plot scores, loadings and VIP"
   ]
  },
  {
   "cell_type": "code",
   "execution_count": 134,
   "metadata": {
    "id": "JfO8t_EINqrb"
   },
   "outputs": [
    {
     "data": {
      "image/png": "[encoded data removed]",
      "text/plain": [
       "<Figure size 432x288 with 1 Axes>"
      ]
     },
     "metadata": {
      "needs_background": "light"
     },
     "output_type": "display_data"
    }
   ],
   "source": [
    "# TODO: plot bi-plot / scores / loadings / VIP values\n",
    "from sklearn.decomposition import PCA\n",
    "def myplot(score,coeff,labels=None):\n",
    "    xs = score[:,0]\n",
    "    ys = score[:,1]\n",
    "    n = coeff.shape[0]\n",
    "    scalex = 1.0/(xs.max() - xs.min())\n",
    "    scaley = 1.0/(ys.max() - ys.min())\n",
    "    plt.scatter(xs * scalex,ys * scaley,s=5)\n",
    "    for i in range(n):\n",
    "        plt.arrow(0, 0, coeff[i,0], coeff[i,1],color = 'r',alpha = 0.5)\n",
    "        if labels is None:\n",
    "            plt.text(coeff[i,0]* 1.15, coeff[i,1] * 1.15, \"Var\"+str(i+1), color = 'green', ha = 'center', va = 'center')\n",
    "        else:\n",
    "            plt.text(coeff[i,0]* 1.15, coeff[i,1] * 1.15, labels[i], color = 'g', ha = 'center', va = 'center')\n",
    " \n",
    "    plt.xlabel(\"PC{}\".format(1))\n",
    "    plt.ylabel(\"PC{}\".format(2))\n",
    "    plt.grid()\n",
    "    \n",
    "    \n",
    "from sklearn.preprocessing import StandardScaler\n",
    "pca = PCA(n_components = n_components)\n",
    "#data_scaler = StandardScaler()\n",
    "#scaled_data = data_scaler.fit_transform(bwu)\n",
    "\n",
    "pca_data = pca.fit_transform(scaled_data)\n",
    "myplot(pca_data[:,0:2],np.transpose(pca.components_[0:2, :]),list(bwu.columns))"
   ]
  },
  {
   "cell_type": "markdown",
   "metadata": {
    "id": "1ZDg9ewmNfoj"
   },
   "source": [
    "### Task: Check model diagnostics"
   ]
  },
  {
   "cell_type": "code",
   "execution_count": 157,
   "metadata": {
    "id": "wrjCJ-CZNlJo"
   },
   "outputs": [
    {
     "name": "stdout",
     "output_type": "stream",
     "text": [
      "Model residuals\n",
      "[-1.22135367 -0.58125294 -0.56201621 -1.39231894]\n",
      "\n",
      "[[0.         4.26142358 4.96951277 4.18296443 4.21713875 4.24313025\n",
      "  4.68881117 5.29633806 5.22485416 4.18212018 4.88259009 3.86480765\n",
      "  4.09121117 4.41698599 4.19271167 4.41558819 4.60858865 4.3021834\n",
      "  4.19631399 4.98238913]\n",
      " [4.26142358 0.         1.69862783 0.24650865 2.42671608 1.08247664\n",
      "  0.60817136 2.03192991 2.04762267 0.49852392 1.14014578 1.4651114\n",
      "  0.79294514 0.69088986 2.70901501 0.93315509 0.60504147 0.6175987\n",
      "  0.635602   1.38682513]\n",
      " [4.96951277 1.69862783 0.         1.50268156 4.15447604 2.80360676\n",
      "  1.36927266 0.48189536 0.3658276  2.18418268 0.75631508 3.17888267\n",
      "  2.4715722  1.03812717 4.508749   1.00778278 1.87314496 2.28318851\n",
      "  1.24198774 0.68208075]\n",
      " [4.18296443 0.24650865 1.50268156 0.         2.55421074 1.27407539\n",
      "  0.66561376 1.98162269 1.92559155 0.69865327 1.06753572 1.57566148\n",
      "  0.86825546 0.52555838 2.80676934 0.74216144 0.81244669 0.85269225\n",
      "  0.40588636 1.33826523]\n",
      " [4.21713875 2.42671608 4.15447604 2.55421074 0.         1.43860119\n",
      "  2.84495127 4.48951538 4.38514109 2.02025715 3.42883319 1.01889894\n",
      "  1.7145954  3.07524402 0.49977451 3.24093305 2.55502913 1.94168579\n",
      "  2.93314749 3.82006065]\n",
      " [4.24313025 1.08247664 2.80360676 1.27407539 1.43860119 0.\n",
      "  1.53189333 3.13700961 3.13332064 0.65043125 2.1500576  0.67179947\n",
      "  0.6796781  1.8156021  1.65778229 1.9739052  1.12291683 0.50797851\n",
      "  1.65997207 2.33003451]\n",
      " [4.68881117 0.60817136 1.36927266 0.66561376 2.84495127 1.53189333\n",
      "  0.         1.5937175  1.6530853  0.99319997 0.62139219 2.01517923\n",
      "  1.32814087 0.60297377 3.18219481 0.89289421 0.56420996 1.00691815\n",
      "  0.77613068 0.91146703]\n",
      " [5.29633806 2.03192991 0.48189536 1.98162269 4.48951538 3.13700961\n",
      "  1.5937175  0.         0.30546588 2.51798229 0.99763458 3.53924761\n",
      "  2.82425664 1.46275561 4.69832    1.45400553 2.13049158 2.55345762\n",
      "  1.71006458 0.79256883]\n",
      " [5.22485416 2.04762267 0.3658276  1.92559155 4.38514109 3.13332064\n",
      "  1.6530853  0.30546588 0.         2.46805491 1.0434212  3.44613854\n",
      "  2.77150837 1.4070538  4.82442629 1.35537024 2.17135964 2.62728722\n",
      "  1.60510455 0.9271072 ]\n",
      " [4.18212018 0.49852392 2.18418268 0.69865327 2.02025715 0.65043125\n",
      "  0.99319997 2.51798229 2.46805491 0.         1.53174257 1.05209812\n",
      "  0.64250648 1.17031927 2.20319553 1.44037386 0.65542083 0.20606671\n",
      "  1.0646842  1.78580305]\n",
      " [4.88259009 1.14014578 0.75631508 1.06753572 3.42883319 2.1500576\n",
      "  0.62139219 0.99763458 1.0434212  1.53174257 0.         2.61605678\n",
      "  1.87180499 0.65665995 3.89133502 0.8360388  1.14910667 1.63890654\n",
      "  0.92329288 0.41383082]\n",
      " [3.86480765 1.4651114  3.17888267 1.57566148 1.01889894 0.67179947\n",
      "  2.01517923 3.53924761 3.44613854 1.05209812 2.61605678 0.\n",
      "  0.83477689 2.07848164 1.31287282 2.22908145 1.69147559 1.05784781\n",
      "  1.90850857 2.82596151]\n",
      " [4.09121117 0.79294514 2.4715722  0.86825546 1.7145954  0.6796781\n",
      "  1.32814087 2.82425664 2.77150837 0.64250648 1.87180499 0.83477689\n",
      "  0.         1.38016891 2.08409779 1.48338228 1.16447534 0.65271896\n",
      "  1.21949495 2.11766589]\n",
      " [4.41698599 0.69088986 1.03812717 0.52555838 3.07524402 1.8156021\n",
      "  0.60297377 1.46275561 1.4070538  1.17031927 0.65665995 2.07848164\n",
      "  1.38016891 0.         3.33709611 0.34206171 1.05968126 1.30618208\n",
      "  0.31233658 0.93292586]\n",
      " [4.19271167 2.70901501 4.508749   2.80676934 0.49977451 1.65778229\n",
      "  3.18219481 4.69832    4.82442629 2.20319553 3.89133502 1.31287282\n",
      "  2.08409779 3.33709611 0.         3.49428624 2.79367041 2.21126051\n",
      "  3.13055877 4.06623336]\n",
      " [4.41558819 0.93315509 1.00778278 0.74216144 3.24093305 1.9739052\n",
      "  0.89289421 1.45400553 1.35537024 1.44037386 0.8360388  2.22908145\n",
      "  1.48338228 0.34206171 3.49428624 0.         1.35687552 1.54750949\n",
      "  0.47516634 1.13717628]\n",
      " [4.60858865 0.60504147 1.87314496 0.81244669 2.55502913 1.12291683\n",
      "  0.56420996 2.13049158 2.17135964 0.65542083 1.14910667 1.69147559\n",
      "  1.16447534 1.05968126 2.79367041 1.35687552 0.         0.62648323\n",
      "  1.09171242 1.33703854]\n",
      " [4.3021834  0.6175987  2.28318851 0.85269225 1.94168579 0.50797851\n",
      "  1.00691815 2.55345762 2.62728722 0.20606671 1.63890654 1.05784781\n",
      "  0.65271896 1.30618208 2.21126051 1.54750949 0.62648323 0.\n",
      "  1.22619929 1.8665667 ]\n",
      " [4.19631399 0.635602   1.24198774 0.40588636 2.93314749 1.65997207\n",
      "  0.77613068 1.71006458 1.60510455 1.0646842  0.92329288 1.90850857\n",
      "  1.21949495 0.31233658 3.13055877 0.47516634 1.09171242 1.22619929\n",
      "  0.         1.16263554]\n",
      " [4.98238913 1.38682513 0.68208075 1.33826523 3.82006065 2.33003451\n",
      "  0.91146703 0.79256883 0.9271072  1.78580305 0.41383082 2.82596151\n",
      "  2.11766589 0.93292586 4.06623336 1.13717628 1.33703854 1.8665667\n",
      "  1.16263554 0.        ]]\n",
      "\n",
      "Model Loadings\n",
      "[[ 0.10879579  0.3649858 ]\n",
      " [-0.22888795  0.23584378]\n",
      " [ 0.24616061 -0.23226948]\n",
      " [-0.02128629  0.40137031]\n",
      " [ 0.24628421 -0.23200135]\n",
      " [ 0.27619724 -0.1436049 ]\n",
      " [-0.10864913  0.38036896]\n",
      " [-0.00490617 -0.28262146]\n",
      " [ 0.27976797 -0.04269724]\n",
      " [-0.1630554   0.33653564]\n",
      " [-0.24399494  0.11821153]\n",
      " [ 0.25415956  0.05213226]\n",
      " [-0.19455988  0.28906269]\n",
      " [-0.22189574 -0.00843082]\n",
      " [ 0.21031175  0.12418442]\n",
      " [-0.21232784  0.24620992]\n",
      " [-0.12585377 -0.15275832]\n",
      " [ 0.16358234  0.16954638]\n",
      " [-0.22231941  0.20987856]\n",
      " [-0.14829496  0.01241865]\n",
      " [ 0.12329614  0.19444037]\n",
      " [-0.2277346   0.17977775]\n",
      " [-0.0342579   0.03448814]\n",
      " [ 0.09186321  0.20676292]\n",
      " [-0.23069282  0.15459258]\n",
      " [-0.01609144  0.09999941]\n",
      " [ 0.06837668  0.21218555]\n",
      " [-0.23222304  0.13332706]\n",
      " [ 0.12146464 -0.27299803]\n",
      " [ 0.05111515  0.21404801]\n",
      " [-0.23290724  0.11516484]\n",
      " [ 0.0373611   0.17712746]\n",
      " [ 0.03848636  0.21417704]\n",
      " [-0.23308739  0.09947658]\n",
      " [ 0.11199236  0.26391528]\n",
      " [ 0.02924775  0.21353334]\n",
      " [-0.23296694  0.08577707]\n",
      " [-0.01987759  0.04677805]\n",
      " [ 0.02247901  0.21261131]\n",
      " [-0.23266878  0.07369924]\n",
      " [-0.01133508 -0.1169232 ]\n",
      " [ 0.01751166  0.21165463]]\n"
     ]
    },
    {
     "data": {
      "image/png": "[encoded data removed]",
      "text/plain": [
       "<Figure size 432x288 with 1 Axes>"
      ]
     },
     "metadata": {
      "needs_background": "light"
     },
     "output_type": "display_data"
    }
   ],
   "source": [
    "from sklearn.neighbors import DistanceMetric\n",
    "# TODO: Residuals, mahalanobis distances\n",
    "\n",
    "\n",
    "#Residuals\n",
    "residual = (y_test - y_pred)\n",
    "print(f\"Model residuals\\n{residual}\")\n",
    "\n",
    "# Mahalanobis distances\n",
    "\n",
    "distances = DistanceMetric.get_metric('mahalanobis', V=np.cov(bwu))\n",
    "\n",
    "print(f\"\\n{distances.pairwise(np.cov(bwu))}\")\n",
    "\n",
    "# Model loadings\n",
    "print(f\"\\nModel Loadings\\n{pls.x_loadings_}\")\n",
    "\n",
    "# VIP\n",
    "importance = pls.coef_\n",
    "\n",
    "# plot feature importance\n",
    "len_importance = range(0,len(importance))\n",
    "plt.bar(len_importance, importance[:,0],label='PLS variable importance')\n",
    "plt.show()"
   ]
  },
  {
   "cell_type": "code",
   "execution_count": 153,
   "metadata": {},
   "outputs": [
    {
     "data": {
      "text/plain": [
       "array([-0.12525228, -0.00665849,  0.01011857, -0.09608446,  0.00802622,\n",
       "       -0.01998967, -0.05564495,  0.02974062, -0.04344288, -0.01990717,\n",
       "       -0.00732546, -0.05526222,  0.00749868,  0.07963215, -0.05614054,\n",
       "        0.02754424,  0.05062137, -0.05056469,  0.04224562,  0.06330762,\n",
       "       -0.04285193,  0.05300974,  0.0199725 , -0.03536807,  0.06117552,\n",
       "       -0.00955634, -0.02898526,  0.06750034,  0.07649925, -0.02384081,\n",
       "        0.07249092, -0.05784592, -0.01980878,  0.07649311, -0.21630143,\n",
       "       -0.0166975 ,  0.07974386, -0.02378455, -0.01431841,  0.08241127,\n",
       "        0.12259381, -0.01251068])"
      ]
     },
     "execution_count": 153,
     "metadata": {},
     "output_type": "execute_result"
    }
   ],
   "source": [
    "importance[:,0]"
   ]
  },
  {
   "cell_type": "markdown",
   "metadata": {
    "id": "p9UUsmZ8N3aP"
   },
   "source": [
    "# Solutions to tasks"
   ]
  },
  {
   "cell_type": "markdown",
   "metadata": {
    "id": "ldiE-BRXUcsS"
   },
   "source": [
    "# Main Focus\n",
    "* RMS model buildup\n",
    "* Model comparison"
   ]
  },
  {
   "cell_type": "code",
   "execution_count": null,
   "metadata": {},
   "outputs": [],
   "source": []
  }
 ],
 "metadata": {
  "colab": {
   "name": "02_PLS",
   "provenance": [],
   "toc_visible": true
  },
  "kernelspec": {
   "display_name": "Python 3 (ipykernel)",
   "language": "python",
   "name": "python3"
  },
  "language_info": {
   "codemirror_mode": {
    "name": "ipython",
    "version": 3
   },
   "file_extension": ".py",
   "mimetype": "text/x-python",
   "name": "python",
   "nbconvert_exporter": "python",
   "pygments_lexer": "ipython3",
   "version": "3.9.7"
  }
 },
 "nbformat": 4,
 "nbformat_minor": 1
}
