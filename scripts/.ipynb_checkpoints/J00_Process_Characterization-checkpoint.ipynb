{
 "cells": [
  {
   "cell_type": "code",
   "execution_count": null,
   "metadata": {
    "id": "A6IQdZOi8m12"
   },
   "outputs": [],
   "source": [
    "# TODO: initialize all necessary packages"
   ]
  },
  {
   "cell_type": "markdown",
   "metadata": {
    "id": "tdNcUGdN9dms"
   },
   "source": [
    "# Create a Design of Experiments\n",
    "\n",
    "In this section, we first create a set of experiments using a Latin Hypercube design (LHD). This will be used to create an observation-wise unfolder (OWU) matrix that will be analyzed using Principle Component Analysis (PCA) and also in later scripts.\n",
    "\n",
    "*Note: the created experimental design will be saved in the file \"Experiments_TrainSet.mat\" and used for comparison in the following lecture scripts.* \n",
    "\n",
    "For creating a DOE file, the following needs to be specified:\n",
    "*   Number of experiments\n",
    "*   Design limits\n",
    "*   Errors \n",
    "\n",
    "\n"
   ]
  },
  {
   "cell_type": "code",
   "execution_count": 1,
   "metadata": {
    "id": "jgcrMMx9-Yc-"
   },
   "outputs": [],
   "source": [
    "## Define the number of experiments\n",
    "Nruns = 24"
   ]
  },
  {
   "cell_type": "code",
   "execution_count": null,
   "metadata": {
    "id": "W926ZdN0_EJu"
   },
   "outputs": [],
   "source": [
    "## Define design limits\n",
    "glc_start_range = [10,80]\n",
    "vcd_start_range = [0.1,1]\n",
    "feed_start_range = [1,4]\n",
    "feed_end_range = [8,12]\n",
    "feed_rate_range = [5,20]"
   ]
  },
  {
   "cell_type": "code",
   "execution_count": null,
   "metadata": {
    "id": "IcEwJXgj_pSj"
   },
   "outputs": [],
   "source": [
    "## Define errors\n",
    "inputs_std_error = [0,0]  # absolute error on [VCD, Glc]\n",
    "outputs_std_error = [0,0,0,0,0] # absolute error on [VCD, Glc, Lac, Titer, Aggr]"
   ]
  },
  {
   "cell_type": "markdown",
   "metadata": {
    "id": "_F7ck0Hl8rqw"
   },
   "source": [
    "## Create design"
   ]
  },
  {
   "cell_type": "code",
   "execution_count": null,
   "metadata": {
    "id": "bgzs8H_pAdfT"
   },
   "outputs": [],
   "source": [
    "# TODO: \n",
    "# lhsdesign function\n",
    "# add path\n",
    "# save file\n",
    "# load file"
   ]
  },
  {
   "cell_type": "markdown",
   "metadata": {
    "id": "5P2eqSodAJHw"
   },
   "source": [
    "## Plot experiments"
   ]
  },
  {
   "cell_type": "code",
   "execution_count": null,
   "metadata": {
    "id": "C-Y61v1qAre5"
   },
   "outputs": [],
   "source": [
    "# TODO:\n",
    "# plot VCD profiles\n",
    "# plot Glucose profiles\n",
    "# plot Lactate profiles\n",
    "# plot Titer profiles"
   ]
  }
 ],
 "metadata": {
  "colab": {
   "collapsed_sections": [],
   "name": "00_Process_Characterization",
   "provenance": []
  },
  "kernelspec": {
   "display_name": "Python 3 (ipykernel)",
   "language": "python",
   "name": "python3"
  },
  "language_info": {
   "codemirror_mode": {
    "name": "ipython",
    "version": 3
   },
   "file_extension": ".py",
   "mimetype": "text/x-python",
   "name": "python",
   "nbconvert_exporter": "python",
   "pygments_lexer": "ipython3",
   "version": "3.9.7"
  }
 },
 "nbformat": 4,
 "nbformat_minor": 1
}
