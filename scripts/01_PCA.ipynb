{
  "nbformat": 4,
  "nbformat_minor": 0,
  "metadata": {
    "colab": {
      "name": "01_PCA",
      "provenance": []
    },
    "kernelspec": {
      "name": "python3",
      "display_name": "Python 3"
    },
    "language_info": {
      "name": "python"
    }
  },
  "cells": [
    {
      "cell_type": "markdown",
      "source": [
        "# Setup of Noteboook\n",
        "\n",
        "The follwing code clones the github repository with course files. \n",
        "Subsequently it imports all libraries and custom modules needed for this notebook"
      ],
      "metadata": {
        "id": "tOzihHnKPpTr"
      }
    },
    {
      "cell_type": "code",
      "source": [
        "!git clone https://github.com/japolak/datahow-course-scripts.git\n",
        "!pip install --upgrade scipy==1.7.3\n",
        "!cd /content/datahow-course-scripts"
      ],
      "metadata": {
        "id": "7dd3XC6EPq18",
        "outputId": "3612b346-e974-448c-ca5b-7c44885ff0f0",
        "colab": {
          "base_uri": "https://localhost:8080/"
        }
      },
      "execution_count": 1,
      "outputs": [
        {
          "output_type": "stream",
          "name": "stdout",
          "text": [
            "Cloning into 'datahow-course-scripts'...\n",
            "remote: Enumerating objects: 231, done.\u001b[K\n",
            "remote: Counting objects: 100% (231/231), done.\u001b[K\n",
            "remote: Compressing objects: 100% (163/163), done.\u001b[K\n",
            "remote: Total 231 (delta 101), reused 177 (delta 52), pack-reused 0\u001b[K\n",
            "Receiving objects: 100% (231/231), 6.51 MiB | 13.54 MiB/s, done.\n",
            "Resolving deltas: 100% (101/101), done.\n",
            "Collecting scipy==1.7.3\n",
            "  Downloading scipy-1.7.3-cp37-cp37m-manylinux_2_12_x86_64.manylinux2010_x86_64.whl (38.1 MB)\n",
            "\u001b[K     |████████████████████████████████| 38.1 MB 19.5 MB/s \n",
            "\u001b[?25hRequirement already satisfied: numpy<1.23.0,>=1.16.5 in /usr/local/lib/python3.7/dist-packages (from scipy==1.7.3) (1.21.6)\n",
            "Installing collected packages: scipy\n",
            "  Attempting uninstall: scipy\n",
            "    Found existing installation: scipy 1.4.1\n",
            "    Uninstalling scipy-1.4.1:\n",
            "      Successfully uninstalled scipy-1.4.1\n",
            "\u001b[31mERROR: pip's dependency resolver does not currently take into account all the packages that are installed. This behaviour is the source of the following dependency conflicts.\n",
            "albumentations 0.1.12 requires imgaug<0.2.7,>=0.2.5, but you have imgaug 0.2.9 which is incompatible.\u001b[0m\n",
            "Successfully installed scipy-1.7.3\n"
          ]
        }
      ]
    },
    {
      "cell_type": "code",
      "source": [
        "# import libaries\n",
        "import pandas as pd\n",
        "import numpy as np\n",
        "import scipy\n",
        "import importlib  \n",
        "import scipy.integrate\n",
        "import plotly.express as px\n",
        "import plotly.graph_objects as go\n",
        "from plotly.subplots import make_subplots\n",
        "from matplotlib import pyplot as plt\n",
        "import seaborn as sns\n",
        "from sklearn.decomposition import PCA\n",
        "from sklearn.preprocessing import StandardScaler\n",
        "\n",
        "\n",
        "# import custom modules\n",
        "emulator = importlib.import_module(\"datahow-course-scripts.scripts.modules.emulator\")\n",
        "plothelpers = importlib.import_module(\"datahow-course-scripts.scripts.modules.plothelpers\")"
      ],
      "metadata": {
        "id": "kd2F9lhaPtIs"
      },
      "execution_count": 13,
      "outputs": []
    },
    {
      "cell_type": "markdown",
      "source": [
        "# Exploratory Analysis via PCA\n",
        "\n",
        "TODO: comment on importance of understanding and visualizing data, especially in multivariate setting."
      ],
      "metadata": {
        "id": "_F7ck0Hl8rqw"
      }
    },
    {
      "cell_type": "markdown",
      "source": [
        "# PCA of OWU matrix\n",
        "\n",
        "In this section, we use generated experiments using a Latin Hypercube design (LHD) from previous notebook. This will be used to create an observation-wise unfolder (OWU) matrix that will be analyzed using Principle Component Analysis (PCA).\n",
        "\n",
        "For further information about the process emulator for cell culture fed-batch processes, check the script \"00_Process_Characterization.ipynb\" or the Powerpoint presentation \"Simplified InSilico Model.pptx\".\n",
        "\n",
        "Details of OWU unfolding"
      ],
      "metadata": {
        "id": "jXTgRMZgBHAx"
      }
    },
    {
      "cell_type": "markdown",
      "source": [
        "### Visualize the OWU matrix\n",
        "\n",
        "In the OWU matrix, the 1st column corresponds to VCD, the 2nd to glucose, the 3rd to lactate, the 4th to titer, and the 5th to the feed rate.\n"
      ],
      "metadata": {
        "id": "WNd1QGP6B8is"
      }
    },
    {
      "cell_type": "code",
      "source": [
        "filename = \"owu.csv\"\n",
        "owu = pd.read_csv(\"datahow-course-scripts/scripts/datasets/\"+filename,index_col=None)\n",
        "owu.columns =  [\"X:VCD\", \"X:Glc\", \"X:Lac\", \"X:Titer\",\"W:Feed\"]\n",
        "owu.index = pd.MultiIndex.from_product([list(range(100)),list(range(15))], names=[\"run\",\"time\"])\n",
        "owu"
      ],
      "metadata": {
        "id": "6WdkPL1RCHEG",
        "outputId": "8e0c0163-cbe2-4864-a9a1-55e4c6efa9ab",
        "colab": {
          "base_uri": "https://localhost:8080/",
          "height": 455
        }
      },
      "execution_count": 86,
      "outputs": [
        {
          "output_type": "execute_result",
          "data": {
            "text/plain": [
              "             X:VCD   X:Glc     X:Lac     X:Titer  W:Feed\n",
              "run time                                                \n",
              "0   0      0.65336  24.989    0.0000     0.00000   0.000\n",
              "    1      1.99900  23.828    1.7454     0.12965   0.000\n",
              "    2      5.31610  20.523    6.7136     2.26180  19.803\n",
              "    3     10.93400  32.668   18.2210    21.07500  19.803\n",
              "    4     16.31000  39.240   38.0940   100.25000  19.803\n",
              "...            ...     ...       ...         ...     ...\n",
              "99  10     7.07870  39.417  159.2100  1207.80000   0.000\n",
              "    11     5.30480  33.518  168.0700  1303.90000   0.000\n",
              "    12     3.94070  29.116  174.6800  1373.40000   0.000\n",
              "    13     2.90660  25.859  179.5800  1422.30000   0.000\n",
              "    14     2.13220  23.464  183.1800  1455.30000   0.000\n",
              "\n",
              "[1500 rows x 5 columns]"
            ],
            "text/html": [
              "\n",
              "  <div id=\"df-b92d4d99-ce31-4edf-a09a-20c44fffb96d\">\n",
              "    <div class=\"colab-df-container\">\n",
              "      <div>\n",
              "<style scoped>\n",
              "    .dataframe tbody tr th:only-of-type {\n",
              "        vertical-align: middle;\n",
              "    }\n",
              "\n",
              "    .dataframe tbody tr th {\n",
              "        vertical-align: top;\n",
              "    }\n",
              "\n",
              "    .dataframe thead th {\n",
              "        text-align: right;\n",
              "    }\n",
              "</style>\n",
              "<table border=\"1\" class=\"dataframe\">\n",
              "  <thead>\n",
              "    <tr style=\"text-align: right;\">\n",
              "      <th></th>\n",
              "      <th></th>\n",
              "      <th>X:VCD</th>\n",
              "      <th>X:Glc</th>\n",
              "      <th>X:Lac</th>\n",
              "      <th>X:Titer</th>\n",
              "      <th>W:Feed</th>\n",
              "    </tr>\n",
              "    <tr>\n",
              "      <th>run</th>\n",
              "      <th>time</th>\n",
              "      <th></th>\n",
              "      <th></th>\n",
              "      <th></th>\n",
              "      <th></th>\n",
              "      <th></th>\n",
              "    </tr>\n",
              "  </thead>\n",
              "  <tbody>\n",
              "    <tr>\n",
              "      <th rowspan=\"5\" valign=\"top\">0</th>\n",
              "      <th>0</th>\n",
              "      <td>0.65336</td>\n",
              "      <td>24.989</td>\n",
              "      <td>0.0000</td>\n",
              "      <td>0.00000</td>\n",
              "      <td>0.000</td>\n",
              "    </tr>\n",
              "    <tr>\n",
              "      <th>1</th>\n",
              "      <td>1.99900</td>\n",
              "      <td>23.828</td>\n",
              "      <td>1.7454</td>\n",
              "      <td>0.12965</td>\n",
              "      <td>0.000</td>\n",
              "    </tr>\n",
              "    <tr>\n",
              "      <th>2</th>\n",
              "      <td>5.31610</td>\n",
              "      <td>20.523</td>\n",
              "      <td>6.7136</td>\n",
              "      <td>2.26180</td>\n",
              "      <td>19.803</td>\n",
              "    </tr>\n",
              "    <tr>\n",
              "      <th>3</th>\n",
              "      <td>10.93400</td>\n",
              "      <td>32.668</td>\n",
              "      <td>18.2210</td>\n",
              "      <td>21.07500</td>\n",
              "      <td>19.803</td>\n",
              "    </tr>\n",
              "    <tr>\n",
              "      <th>4</th>\n",
              "      <td>16.31000</td>\n",
              "      <td>39.240</td>\n",
              "      <td>38.0940</td>\n",
              "      <td>100.25000</td>\n",
              "      <td>19.803</td>\n",
              "    </tr>\n",
              "    <tr>\n",
              "      <th>...</th>\n",
              "      <th>...</th>\n",
              "      <td>...</td>\n",
              "      <td>...</td>\n",
              "      <td>...</td>\n",
              "      <td>...</td>\n",
              "      <td>...</td>\n",
              "    </tr>\n",
              "    <tr>\n",
              "      <th rowspan=\"5\" valign=\"top\">99</th>\n",
              "      <th>10</th>\n",
              "      <td>7.07870</td>\n",
              "      <td>39.417</td>\n",
              "      <td>159.2100</td>\n",
              "      <td>1207.80000</td>\n",
              "      <td>0.000</td>\n",
              "    </tr>\n",
              "    <tr>\n",
              "      <th>11</th>\n",
              "      <td>5.30480</td>\n",
              "      <td>33.518</td>\n",
              "      <td>168.0700</td>\n",
              "      <td>1303.90000</td>\n",
              "      <td>0.000</td>\n",
              "    </tr>\n",
              "    <tr>\n",
              "      <th>12</th>\n",
              "      <td>3.94070</td>\n",
              "      <td>29.116</td>\n",
              "      <td>174.6800</td>\n",
              "      <td>1373.40000</td>\n",
              "      <td>0.000</td>\n",
              "    </tr>\n",
              "    <tr>\n",
              "      <th>13</th>\n",
              "      <td>2.90660</td>\n",
              "      <td>25.859</td>\n",
              "      <td>179.5800</td>\n",
              "      <td>1422.30000</td>\n",
              "      <td>0.000</td>\n",
              "    </tr>\n",
              "    <tr>\n",
              "      <th>14</th>\n",
              "      <td>2.13220</td>\n",
              "      <td>23.464</td>\n",
              "      <td>183.1800</td>\n",
              "      <td>1455.30000</td>\n",
              "      <td>0.000</td>\n",
              "    </tr>\n",
              "  </tbody>\n",
              "</table>\n",
              "<p>1500 rows × 5 columns</p>\n",
              "</div>\n",
              "      <button class=\"colab-df-convert\" onclick=\"convertToInteractive('df-b92d4d99-ce31-4edf-a09a-20c44fffb96d')\"\n",
              "              title=\"Convert this dataframe to an interactive table.\"\n",
              "              style=\"display:none;\">\n",
              "        \n",
              "  <svg xmlns=\"http://www.w3.org/2000/svg\" height=\"24px\"viewBox=\"0 0 24 24\"\n",
              "       width=\"24px\">\n",
              "    <path d=\"M0 0h24v24H0V0z\" fill=\"none\"/>\n",
              "    <path d=\"M18.56 5.44l.94 2.06.94-2.06 2.06-.94-2.06-.94-.94-2.06-.94 2.06-2.06.94zm-11 1L8.5 8.5l.94-2.06 2.06-.94-2.06-.94L8.5 2.5l-.94 2.06-2.06.94zm10 10l.94 2.06.94-2.06 2.06-.94-2.06-.94-.94-2.06-.94 2.06-2.06.94z\"/><path d=\"M17.41 7.96l-1.37-1.37c-.4-.4-.92-.59-1.43-.59-.52 0-1.04.2-1.43.59L10.3 9.45l-7.72 7.72c-.78.78-.78 2.05 0 2.83L4 21.41c.39.39.9.59 1.41.59.51 0 1.02-.2 1.41-.59l7.78-7.78 2.81-2.81c.8-.78.8-2.07 0-2.86zM5.41 20L4 18.59l7.72-7.72 1.47 1.35L5.41 20z\"/>\n",
              "  </svg>\n",
              "      </button>\n",
              "      \n",
              "  <style>\n",
              "    .colab-df-container {\n",
              "      display:flex;\n",
              "      flex-wrap:wrap;\n",
              "      gap: 12px;\n",
              "    }\n",
              "\n",
              "    .colab-df-convert {\n",
              "      background-color: #E8F0FE;\n",
              "      border: none;\n",
              "      border-radius: 50%;\n",
              "      cursor: pointer;\n",
              "      display: none;\n",
              "      fill: #1967D2;\n",
              "      height: 32px;\n",
              "      padding: 0 0 0 0;\n",
              "      width: 32px;\n",
              "    }\n",
              "\n",
              "    .colab-df-convert:hover {\n",
              "      background-color: #E2EBFA;\n",
              "      box-shadow: 0px 1px 2px rgba(60, 64, 67, 0.3), 0px 1px 3px 1px rgba(60, 64, 67, 0.15);\n",
              "      fill: #174EA6;\n",
              "    }\n",
              "\n",
              "    [theme=dark] .colab-df-convert {\n",
              "      background-color: #3B4455;\n",
              "      fill: #D2E3FC;\n",
              "    }\n",
              "\n",
              "    [theme=dark] .colab-df-convert:hover {\n",
              "      background-color: #434B5C;\n",
              "      box-shadow: 0px 1px 3px 1px rgba(0, 0, 0, 0.15);\n",
              "      filter: drop-shadow(0px 1px 2px rgba(0, 0, 0, 0.3));\n",
              "      fill: #FFFFFF;\n",
              "    }\n",
              "  </style>\n",
              "\n",
              "      <script>\n",
              "        const buttonEl =\n",
              "          document.querySelector('#df-b92d4d99-ce31-4edf-a09a-20c44fffb96d button.colab-df-convert');\n",
              "        buttonEl.style.display =\n",
              "          google.colab.kernel.accessAllowed ? 'block' : 'none';\n",
              "\n",
              "        async function convertToInteractive(key) {\n",
              "          const element = document.querySelector('#df-b92d4d99-ce31-4edf-a09a-20c44fffb96d');\n",
              "          const dataTable =\n",
              "            await google.colab.kernel.invokeFunction('convertToInteractive',\n",
              "                                                     [key], {});\n",
              "          if (!dataTable) return;\n",
              "\n",
              "          const docLinkHtml = 'Like what you see? Visit the ' +\n",
              "            '<a target=\"_blank\" href=https://colab.research.google.com/notebooks/data_table.ipynb>data table notebook</a>'\n",
              "            + ' to learn more about interactive tables.';\n",
              "          element.innerHTML = '';\n",
              "          dataTable['output_type'] = 'display_data';\n",
              "          await google.colab.output.renderOutput(dataTable, element);\n",
              "          const docLink = document.createElement('div');\n",
              "          docLink.innerHTML = docLinkHtml;\n",
              "          element.appendChild(docLink);\n",
              "        }\n",
              "      </script>\n",
              "    </div>\n",
              "  </div>\n",
              "  "
            ]
          },
          "metadata": {},
          "execution_count": 86
        }
      ]
    },
    {
      "cell_type": "markdown",
      "source": [
        "### Plot correlation matrix\n",
        "\n",
        "The OWU matrix is used to plot the degree of correlation between the different variables."
      ],
      "metadata": {
        "id": "FD2i_fY_CMDx"
      }
    },
    {
      "cell_type": "code",
      "source": [
        "fig = px.imshow(owu.corr())\n",
        "fig.update_layout(title='Correlation Matrix among X variables')\n",
        "fig.show()"
      ],
      "metadata": {
        "id": "p36lM8q3WF4J",
        "outputId": "02f66d74-af3e-4eec-e883-f87f6ebc38c9",
        "colab": {
          "base_uri": "https://localhost:8080/",
          "height": 542
        }
      },
      "execution_count": 16,
      "outputs": [
        {
          "output_type": "display_data",
          "data": {
            "text/html": [
              "<html>\n",
              "<head><meta charset=\"utf-8\" /></head>\n",
              "<body>\n",
              "    <div>            <script src=\"https://cdnjs.cloudflare.com/ajax/libs/mathjax/2.7.5/MathJax.js?config=TeX-AMS-MML_SVG\"></script><script type=\"text/javascript\">if (window.MathJax) {MathJax.Hub.Config({SVG: {font: \"STIX-Web\"}});}</script>                <script type=\"text/javascript\">window.PlotlyConfig = {MathJaxConfig: 'local'};</script>\n",
              "        <script src=\"https://cdn.plot.ly/plotly-2.8.3.min.js\"></script>                <div id=\"ad89f61f-c738-463c-812b-958f58a6b7ee\" class=\"plotly-graph-div\" style=\"height:525px; width:100%;\"></div>            <script type=\"text/javascript\">                                    window.PLOTLYENV=window.PLOTLYENV || {};                                    if (document.getElementById(\"ad89f61f-c738-463c-812b-958f58a6b7ee\")) {                    Plotly.newPlot(                        \"ad89f61f-c738-463c-812b-958f58a6b7ee\",                        [{\"coloraxis\":\"coloraxis\",\"name\":\"0\",\"x\":[\"X:VCD\",\"X:Glc\",\"X:Lac\",\"X:Titer\",\"W:Feed\"],\"y\":[\"X:VCD\",\"X:Glc\",\"X:Lac\",\"X:Titer\",\"W:Feed\"],\"z\":[[1.0,-0.16494392310272893,-0.08065928461444613,-0.15578378077112073,0.6220794268604196],[-0.16494392310272893,1.0,-0.18891392005063148,-0.1429815502125579,0.15879226584616735],[-0.08065928461444613,-0.18891392005063148,1.0,0.96373620189891,-0.21092017903524304],[-0.15578378077112073,-0.1429815502125579,0.96373620189891,1.0,-0.2550968402057644],[0.6220794268604196,0.15879226584616735,-0.21092017903524304,-0.2550968402057644,1.0]],\"type\":\"heatmap\",\"xaxis\":\"x\",\"yaxis\":\"y\",\"hovertemplate\":\"x: %{x}<br>y: %{y}<br>color: %{z}<extra></extra>\"}],                        {\"template\":{\"data\":{\"bar\":[{\"error_x\":{\"color\":\"#2a3f5f\"},\"error_y\":{\"color\":\"#2a3f5f\"},\"marker\":{\"line\":{\"color\":\"#E5ECF6\",\"width\":0.5},\"pattern\":{\"fillmode\":\"overlay\",\"size\":10,\"solidity\":0.2}},\"type\":\"bar\"}],\"barpolar\":[{\"marker\":{\"line\":{\"color\":\"#E5ECF6\",\"width\":0.5},\"pattern\":{\"fillmode\":\"overlay\",\"size\":10,\"solidity\":0.2}},\"type\":\"barpolar\"}],\"carpet\":[{\"aaxis\":{\"endlinecolor\":\"#2a3f5f\",\"gridcolor\":\"white\",\"linecolor\":\"white\",\"minorgridcolor\":\"white\",\"startlinecolor\":\"#2a3f5f\"},\"baxis\":{\"endlinecolor\":\"#2a3f5f\",\"gridcolor\":\"white\",\"linecolor\":\"white\",\"minorgridcolor\":\"white\",\"startlinecolor\":\"#2a3f5f\"},\"type\":\"carpet\"}],\"choropleth\":[{\"colorbar\":{\"outlinewidth\":0,\"ticks\":\"\"},\"type\":\"choropleth\"}],\"contour\":[{\"colorbar\":{\"outlinewidth\":0,\"ticks\":\"\"},\"colorscale\":[[0.0,\"#0d0887\"],[0.1111111111111111,\"#46039f\"],[0.2222222222222222,\"#7201a8\"],[0.3333333333333333,\"#9c179e\"],[0.4444444444444444,\"#bd3786\"],[0.5555555555555556,\"#d8576b\"],[0.6666666666666666,\"#ed7953\"],[0.7777777777777778,\"#fb9f3a\"],[0.8888888888888888,\"#fdca26\"],[1.0,\"#f0f921\"]],\"type\":\"contour\"}],\"contourcarpet\":[{\"colorbar\":{\"outlinewidth\":0,\"ticks\":\"\"},\"type\":\"contourcarpet\"}],\"heatmap\":[{\"colorbar\":{\"outlinewidth\":0,\"ticks\":\"\"},\"colorscale\":[[0.0,\"#0d0887\"],[0.1111111111111111,\"#46039f\"],[0.2222222222222222,\"#7201a8\"],[0.3333333333333333,\"#9c179e\"],[0.4444444444444444,\"#bd3786\"],[0.5555555555555556,\"#d8576b\"],[0.6666666666666666,\"#ed7953\"],[0.7777777777777778,\"#fb9f3a\"],[0.8888888888888888,\"#fdca26\"],[1.0,\"#f0f921\"]],\"type\":\"heatmap\"}],\"heatmapgl\":[{\"colorbar\":{\"outlinewidth\":0,\"ticks\":\"\"},\"colorscale\":[[0.0,\"#0d0887\"],[0.1111111111111111,\"#46039f\"],[0.2222222222222222,\"#7201a8\"],[0.3333333333333333,\"#9c179e\"],[0.4444444444444444,\"#bd3786\"],[0.5555555555555556,\"#d8576b\"],[0.6666666666666666,\"#ed7953\"],[0.7777777777777778,\"#fb9f3a\"],[0.8888888888888888,\"#fdca26\"],[1.0,\"#f0f921\"]],\"type\":\"heatmapgl\"}],\"histogram\":[{\"marker\":{\"pattern\":{\"fillmode\":\"overlay\",\"size\":10,\"solidity\":0.2}},\"type\":\"histogram\"}],\"histogram2d\":[{\"colorbar\":{\"outlinewidth\":0,\"ticks\":\"\"},\"colorscale\":[[0.0,\"#0d0887\"],[0.1111111111111111,\"#46039f\"],[0.2222222222222222,\"#7201a8\"],[0.3333333333333333,\"#9c179e\"],[0.4444444444444444,\"#bd3786\"],[0.5555555555555556,\"#d8576b\"],[0.6666666666666666,\"#ed7953\"],[0.7777777777777778,\"#fb9f3a\"],[0.8888888888888888,\"#fdca26\"],[1.0,\"#f0f921\"]],\"type\":\"histogram2d\"}],\"histogram2dcontour\":[{\"colorbar\":{\"outlinewidth\":0,\"ticks\":\"\"},\"colorscale\":[[0.0,\"#0d0887\"],[0.1111111111111111,\"#46039f\"],[0.2222222222222222,\"#7201a8\"],[0.3333333333333333,\"#9c179e\"],[0.4444444444444444,\"#bd3786\"],[0.5555555555555556,\"#d8576b\"],[0.6666666666666666,\"#ed7953\"],[0.7777777777777778,\"#fb9f3a\"],[0.8888888888888888,\"#fdca26\"],[1.0,\"#f0f921\"]],\"type\":\"histogram2dcontour\"}],\"mesh3d\":[{\"colorbar\":{\"outlinewidth\":0,\"ticks\":\"\"},\"type\":\"mesh3d\"}],\"parcoords\":[{\"line\":{\"colorbar\":{\"outlinewidth\":0,\"ticks\":\"\"}},\"type\":\"parcoords\"}],\"pie\":[{\"automargin\":true,\"type\":\"pie\"}],\"scatter\":[{\"marker\":{\"colorbar\":{\"outlinewidth\":0,\"ticks\":\"\"}},\"type\":\"scatter\"}],\"scatter3d\":[{\"line\":{\"colorbar\":{\"outlinewidth\":0,\"ticks\":\"\"}},\"marker\":{\"colorbar\":{\"outlinewidth\":0,\"ticks\":\"\"}},\"type\":\"scatter3d\"}],\"scattercarpet\":[{\"marker\":{\"colorbar\":{\"outlinewidth\":0,\"ticks\":\"\"}},\"type\":\"scattercarpet\"}],\"scattergeo\":[{\"marker\":{\"colorbar\":{\"outlinewidth\":0,\"ticks\":\"\"}},\"type\":\"scattergeo\"}],\"scattergl\":[{\"marker\":{\"colorbar\":{\"outlinewidth\":0,\"ticks\":\"\"}},\"type\":\"scattergl\"}],\"scattermapbox\":[{\"marker\":{\"colorbar\":{\"outlinewidth\":0,\"ticks\":\"\"}},\"type\":\"scattermapbox\"}],\"scatterpolar\":[{\"marker\":{\"colorbar\":{\"outlinewidth\":0,\"ticks\":\"\"}},\"type\":\"scatterpolar\"}],\"scatterpolargl\":[{\"marker\":{\"colorbar\":{\"outlinewidth\":0,\"ticks\":\"\"}},\"type\":\"scatterpolargl\"}],\"scatterternary\":[{\"marker\":{\"colorbar\":{\"outlinewidth\":0,\"ticks\":\"\"}},\"type\":\"scatterternary\"}],\"surface\":[{\"colorbar\":{\"outlinewidth\":0,\"ticks\":\"\"},\"colorscale\":[[0.0,\"#0d0887\"],[0.1111111111111111,\"#46039f\"],[0.2222222222222222,\"#7201a8\"],[0.3333333333333333,\"#9c179e\"],[0.4444444444444444,\"#bd3786\"],[0.5555555555555556,\"#d8576b\"],[0.6666666666666666,\"#ed7953\"],[0.7777777777777778,\"#fb9f3a\"],[0.8888888888888888,\"#fdca26\"],[1.0,\"#f0f921\"]],\"type\":\"surface\"}],\"table\":[{\"cells\":{\"fill\":{\"color\":\"#EBF0F8\"},\"line\":{\"color\":\"white\"}},\"header\":{\"fill\":{\"color\":\"#C8D4E3\"},\"line\":{\"color\":\"white\"}},\"type\":\"table\"}]},\"layout\":{\"annotationdefaults\":{\"arrowcolor\":\"#2a3f5f\",\"arrowhead\":0,\"arrowwidth\":1},\"autotypenumbers\":\"strict\",\"coloraxis\":{\"colorbar\":{\"outlinewidth\":0,\"ticks\":\"\"}},\"colorscale\":{\"diverging\":[[0,\"#8e0152\"],[0.1,\"#c51b7d\"],[0.2,\"#de77ae\"],[0.3,\"#f1b6da\"],[0.4,\"#fde0ef\"],[0.5,\"#f7f7f7\"],[0.6,\"#e6f5d0\"],[0.7,\"#b8e186\"],[0.8,\"#7fbc41\"],[0.9,\"#4d9221\"],[1,\"#276419\"]],\"sequential\":[[0.0,\"#0d0887\"],[0.1111111111111111,\"#46039f\"],[0.2222222222222222,\"#7201a8\"],[0.3333333333333333,\"#9c179e\"],[0.4444444444444444,\"#bd3786\"],[0.5555555555555556,\"#d8576b\"],[0.6666666666666666,\"#ed7953\"],[0.7777777777777778,\"#fb9f3a\"],[0.8888888888888888,\"#fdca26\"],[1.0,\"#f0f921\"]],\"sequentialminus\":[[0.0,\"#0d0887\"],[0.1111111111111111,\"#46039f\"],[0.2222222222222222,\"#7201a8\"],[0.3333333333333333,\"#9c179e\"],[0.4444444444444444,\"#bd3786\"],[0.5555555555555556,\"#d8576b\"],[0.6666666666666666,\"#ed7953\"],[0.7777777777777778,\"#fb9f3a\"],[0.8888888888888888,\"#fdca26\"],[1.0,\"#f0f921\"]]},\"colorway\":[\"#636efa\",\"#EF553B\",\"#00cc96\",\"#ab63fa\",\"#FFA15A\",\"#19d3f3\",\"#FF6692\",\"#B6E880\",\"#FF97FF\",\"#FECB52\"],\"font\":{\"color\":\"#2a3f5f\"},\"geo\":{\"bgcolor\":\"white\",\"lakecolor\":\"white\",\"landcolor\":\"#E5ECF6\",\"showlakes\":true,\"showland\":true,\"subunitcolor\":\"white\"},\"hoverlabel\":{\"align\":\"left\"},\"hovermode\":\"closest\",\"mapbox\":{\"style\":\"light\"},\"paper_bgcolor\":\"white\",\"plot_bgcolor\":\"#E5ECF6\",\"polar\":{\"angularaxis\":{\"gridcolor\":\"white\",\"linecolor\":\"white\",\"ticks\":\"\"},\"bgcolor\":\"#E5ECF6\",\"radialaxis\":{\"gridcolor\":\"white\",\"linecolor\":\"white\",\"ticks\":\"\"}},\"scene\":{\"xaxis\":{\"backgroundcolor\":\"#E5ECF6\",\"gridcolor\":\"white\",\"gridwidth\":2,\"linecolor\":\"white\",\"showbackground\":true,\"ticks\":\"\",\"zerolinecolor\":\"white\"},\"yaxis\":{\"backgroundcolor\":\"#E5ECF6\",\"gridcolor\":\"white\",\"gridwidth\":2,\"linecolor\":\"white\",\"showbackground\":true,\"ticks\":\"\",\"zerolinecolor\":\"white\"},\"zaxis\":{\"backgroundcolor\":\"#E5ECF6\",\"gridcolor\":\"white\",\"gridwidth\":2,\"linecolor\":\"white\",\"showbackground\":true,\"ticks\":\"\",\"zerolinecolor\":\"white\"}},\"shapedefaults\":{\"line\":{\"color\":\"#2a3f5f\"}},\"ternary\":{\"aaxis\":{\"gridcolor\":\"white\",\"linecolor\":\"white\",\"ticks\":\"\"},\"baxis\":{\"gridcolor\":\"white\",\"linecolor\":\"white\",\"ticks\":\"\"},\"bgcolor\":\"#E5ECF6\",\"caxis\":{\"gridcolor\":\"white\",\"linecolor\":\"white\",\"ticks\":\"\"}},\"title\":{\"x\":0.05},\"xaxis\":{\"automargin\":true,\"gridcolor\":\"white\",\"linecolor\":\"white\",\"ticks\":\"\",\"title\":{\"standoff\":15},\"zerolinecolor\":\"white\",\"zerolinewidth\":2},\"yaxis\":{\"automargin\":true,\"gridcolor\":\"white\",\"linecolor\":\"white\",\"ticks\":\"\",\"title\":{\"standoff\":15},\"zerolinecolor\":\"white\",\"zerolinewidth\":2}}},\"xaxis\":{\"anchor\":\"y\",\"domain\":[0.0,1.0],\"scaleanchor\":\"y\",\"constrain\":\"domain\"},\"yaxis\":{\"anchor\":\"x\",\"domain\":[0.0,1.0],\"autorange\":\"reversed\",\"constrain\":\"domain\"},\"coloraxis\":{\"colorscale\":[[0.0,\"#0d0887\"],[0.1111111111111111,\"#46039f\"],[0.2222222222222222,\"#7201a8\"],[0.3333333333333333,\"#9c179e\"],[0.4444444444444444,\"#bd3786\"],[0.5555555555555556,\"#d8576b\"],[0.6666666666666666,\"#ed7953\"],[0.7777777777777778,\"#fb9f3a\"],[0.8888888888888888,\"#fdca26\"],[1.0,\"#f0f921\"]]},\"margin\":{\"t\":60},\"title\":{\"text\":\"Correlation Matrix among X variables\"}},                        {\"responsive\": true}                    ).then(function(){\n",
              "                            \n",
              "var gd = document.getElementById('ad89f61f-c738-463c-812b-958f58a6b7ee');\n",
              "var x = new MutationObserver(function (mutations, observer) {{\n",
              "        var display = window.getComputedStyle(gd).display;\n",
              "        if (!display || display === 'none') {{\n",
              "            console.log([gd, 'removed!']);\n",
              "            Plotly.purge(gd);\n",
              "            observer.disconnect();\n",
              "        }}\n",
              "}});\n",
              "\n",
              "// Listen for the removal of the full notebook cells\n",
              "var notebookContainer = gd.closest('#notebook-container');\n",
              "if (notebookContainer) {{\n",
              "    x.observe(notebookContainer, {childList: true});\n",
              "}}\n",
              "\n",
              "// Listen for the clearing of the current output cell\n",
              "var outputEl = gd.closest('.output');\n",
              "if (outputEl) {{\n",
              "    x.observe(outputEl, {childList: true});\n",
              "}}\n",
              "\n",
              "                        })                };                            </script>        </div>\n",
              "</body>\n",
              "</html>"
            ]
          },
          "metadata": {}
        }
      ]
    },
    {
      "cell_type": "markdown",
      "source": [
        "### Unnormalized PCA\n",
        "\n",
        "PCA is run on the OWU matrix, without any variable normalization.\n",
        "\n"
      ],
      "metadata": {
        "id": "8Wl5VJDoCfb7"
      }
    },
    {
      "cell_type": "code",
      "source": [
        "# Select number of components\n",
        "select_n_components = 5"
      ],
      "metadata": {
        "id": "IVLjL36PwtO2"
      },
      "execution_count": 17,
      "outputs": []
    },
    {
      "cell_type": "code",
      "source": [
        "# Run PCA\n",
        "pca = PCA(n_components = select_n_components)\n",
        "pca.fit(owu)\n",
        "expl_var = pca.explained_variance_\n",
        "expl_var_ratio = pca.explained_variance_ratio_\n",
        "pca_n_comp = list(range(1,pca.n_components_+1))"
      ],
      "metadata": {
        "id": "rM7Pdn7FCmkd"
      },
      "execution_count": 60,
      "outputs": []
    },
    {
      "cell_type": "code",
      "source": [
        "fig = px.line(x=pca_n_comp, y=1-expl_var_ratio, color=px.Constant(\"Cumulative explained variance\"), labels=dict(x=\"Principal component index\", y=\"Explained Variance Ratio\", color=\"Legend\"))\n",
        "fig.add_bar(x=pca_n_comp, y=expl_var_ratio, name=\"Individual explained variance\")\n",
        "fig.show()"
      ],
      "metadata": {
        "id": "PIzBUsLGXqZO",
        "outputId": "70187aee-47da-4def-a8f2-c2e2fb3ca89b",
        "colab": {
          "base_uri": "https://localhost:8080/",
          "height": 542
        }
      },
      "execution_count": 61,
      "outputs": [
        {
          "output_type": "display_data",
          "data": {
            "text/html": [
              "<html>\n",
              "<head><meta charset=\"utf-8\" /></head>\n",
              "<body>\n",
              "    <div>            <script src=\"https://cdnjs.cloudflare.com/ajax/libs/mathjax/2.7.5/MathJax.js?config=TeX-AMS-MML_SVG\"></script><script type=\"text/javascript\">if (window.MathJax) {MathJax.Hub.Config({SVG: {font: \"STIX-Web\"}});}</script>                <script type=\"text/javascript\">window.PlotlyConfig = {MathJaxConfig: 'local'};</script>\n",
              "        <script src=\"https://cdn.plot.ly/plotly-2.8.3.min.js\"></script>                <div id=\"94358273-0f41-4933-9fa8-40143e5f8e59\" class=\"plotly-graph-div\" style=\"height:525px; width:100%;\"></div>            <script type=\"text/javascript\">                                    window.PLOTLYENV=window.PLOTLYENV || {};                                    if (document.getElementById(\"94358273-0f41-4933-9fa8-40143e5f8e59\")) {                    Plotly.newPlot(                        \"94358273-0f41-4933-9fa8-40143e5f8e59\",                        [{\"hovertemplate\":\"Legend=Cumulative explained variance<br>Principal component index=%{x}<br>Explained Variance Ratio=%{y}<extra></extra>\",\"legendgroup\":\"Cumulative explained variance\",\"line\":{\"color\":\"#636efa\",\"dash\":\"solid\"},\"marker\":{\"symbol\":\"circle\"},\"mode\":\"lines\",\"name\":\"Cumulative explained variance\",\"orientation\":\"v\",\"showlegend\":true,\"x\":[1,2,3,4,5],\"xaxis\":\"x\",\"y\":[0.006829497968446008,0.9945933556477417,0.9988783376093447,0.9997513764078623,0.9999474323666053],\"yaxis\":\"y\",\"type\":\"scatter\"},{\"name\":\"Individual explained variance\",\"x\":[1,2,3,4,5],\"y\":[0.993170502031554,0.005406644352258367,0.0011216623906552278,0.00024862359213773794,5.2567633394696264e-05],\"type\":\"bar\"}],                        {\"template\":{\"data\":{\"bar\":[{\"error_x\":{\"color\":\"#2a3f5f\"},\"error_y\":{\"color\":\"#2a3f5f\"},\"marker\":{\"line\":{\"color\":\"#E5ECF6\",\"width\":0.5},\"pattern\":{\"fillmode\":\"overlay\",\"size\":10,\"solidity\":0.2}},\"type\":\"bar\"}],\"barpolar\":[{\"marker\":{\"line\":{\"color\":\"#E5ECF6\",\"width\":0.5},\"pattern\":{\"fillmode\":\"overlay\",\"size\":10,\"solidity\":0.2}},\"type\":\"barpolar\"}],\"carpet\":[{\"aaxis\":{\"endlinecolor\":\"#2a3f5f\",\"gridcolor\":\"white\",\"linecolor\":\"white\",\"minorgridcolor\":\"white\",\"startlinecolor\":\"#2a3f5f\"},\"baxis\":{\"endlinecolor\":\"#2a3f5f\",\"gridcolor\":\"white\",\"linecolor\":\"white\",\"minorgridcolor\":\"white\",\"startlinecolor\":\"#2a3f5f\"},\"type\":\"carpet\"}],\"choropleth\":[{\"colorbar\":{\"outlinewidth\":0,\"ticks\":\"\"},\"type\":\"choropleth\"}],\"contour\":[{\"colorbar\":{\"outlinewidth\":0,\"ticks\":\"\"},\"colorscale\":[[0.0,\"#0d0887\"],[0.1111111111111111,\"#46039f\"],[0.2222222222222222,\"#7201a8\"],[0.3333333333333333,\"#9c179e\"],[0.4444444444444444,\"#bd3786\"],[0.5555555555555556,\"#d8576b\"],[0.6666666666666666,\"#ed7953\"],[0.7777777777777778,\"#fb9f3a\"],[0.8888888888888888,\"#fdca26\"],[1.0,\"#f0f921\"]],\"type\":\"contour\"}],\"contourcarpet\":[{\"colorbar\":{\"outlinewidth\":0,\"ticks\":\"\"},\"type\":\"contourcarpet\"}],\"heatmap\":[{\"colorbar\":{\"outlinewidth\":0,\"ticks\":\"\"},\"colorscale\":[[0.0,\"#0d0887\"],[0.1111111111111111,\"#46039f\"],[0.2222222222222222,\"#7201a8\"],[0.3333333333333333,\"#9c179e\"],[0.4444444444444444,\"#bd3786\"],[0.5555555555555556,\"#d8576b\"],[0.6666666666666666,\"#ed7953\"],[0.7777777777777778,\"#fb9f3a\"],[0.8888888888888888,\"#fdca26\"],[1.0,\"#f0f921\"]],\"type\":\"heatmap\"}],\"heatmapgl\":[{\"colorbar\":{\"outlinewidth\":0,\"ticks\":\"\"},\"colorscale\":[[0.0,\"#0d0887\"],[0.1111111111111111,\"#46039f\"],[0.2222222222222222,\"#7201a8\"],[0.3333333333333333,\"#9c179e\"],[0.4444444444444444,\"#bd3786\"],[0.5555555555555556,\"#d8576b\"],[0.6666666666666666,\"#ed7953\"],[0.7777777777777778,\"#fb9f3a\"],[0.8888888888888888,\"#fdca26\"],[1.0,\"#f0f921\"]],\"type\":\"heatmapgl\"}],\"histogram\":[{\"marker\":{\"pattern\":{\"fillmode\":\"overlay\",\"size\":10,\"solidity\":0.2}},\"type\":\"histogram\"}],\"histogram2d\":[{\"colorbar\":{\"outlinewidth\":0,\"ticks\":\"\"},\"colorscale\":[[0.0,\"#0d0887\"],[0.1111111111111111,\"#46039f\"],[0.2222222222222222,\"#7201a8\"],[0.3333333333333333,\"#9c179e\"],[0.4444444444444444,\"#bd3786\"],[0.5555555555555556,\"#d8576b\"],[0.6666666666666666,\"#ed7953\"],[0.7777777777777778,\"#fb9f3a\"],[0.8888888888888888,\"#fdca26\"],[1.0,\"#f0f921\"]],\"type\":\"histogram2d\"}],\"histogram2dcontour\":[{\"colorbar\":{\"outlinewidth\":0,\"ticks\":\"\"},\"colorscale\":[[0.0,\"#0d0887\"],[0.1111111111111111,\"#46039f\"],[0.2222222222222222,\"#7201a8\"],[0.3333333333333333,\"#9c179e\"],[0.4444444444444444,\"#bd3786\"],[0.5555555555555556,\"#d8576b\"],[0.6666666666666666,\"#ed7953\"],[0.7777777777777778,\"#fb9f3a\"],[0.8888888888888888,\"#fdca26\"],[1.0,\"#f0f921\"]],\"type\":\"histogram2dcontour\"}],\"mesh3d\":[{\"colorbar\":{\"outlinewidth\":0,\"ticks\":\"\"},\"type\":\"mesh3d\"}],\"parcoords\":[{\"line\":{\"colorbar\":{\"outlinewidth\":0,\"ticks\":\"\"}},\"type\":\"parcoords\"}],\"pie\":[{\"automargin\":true,\"type\":\"pie\"}],\"scatter\":[{\"marker\":{\"colorbar\":{\"outlinewidth\":0,\"ticks\":\"\"}},\"type\":\"scatter\"}],\"scatter3d\":[{\"line\":{\"colorbar\":{\"outlinewidth\":0,\"ticks\":\"\"}},\"marker\":{\"colorbar\":{\"outlinewidth\":0,\"ticks\":\"\"}},\"type\":\"scatter3d\"}],\"scattercarpet\":[{\"marker\":{\"colorbar\":{\"outlinewidth\":0,\"ticks\":\"\"}},\"type\":\"scattercarpet\"}],\"scattergeo\":[{\"marker\":{\"colorbar\":{\"outlinewidth\":0,\"ticks\":\"\"}},\"type\":\"scattergeo\"}],\"scattergl\":[{\"marker\":{\"colorbar\":{\"outlinewidth\":0,\"ticks\":\"\"}},\"type\":\"scattergl\"}],\"scattermapbox\":[{\"marker\":{\"colorbar\":{\"outlinewidth\":0,\"ticks\":\"\"}},\"type\":\"scattermapbox\"}],\"scatterpolar\":[{\"marker\":{\"colorbar\":{\"outlinewidth\":0,\"ticks\":\"\"}},\"type\":\"scatterpolar\"}],\"scatterpolargl\":[{\"marker\":{\"colorbar\":{\"outlinewidth\":0,\"ticks\":\"\"}},\"type\":\"scatterpolargl\"}],\"scatterternary\":[{\"marker\":{\"colorbar\":{\"outlinewidth\":0,\"ticks\":\"\"}},\"type\":\"scatterternary\"}],\"surface\":[{\"colorbar\":{\"outlinewidth\":0,\"ticks\":\"\"},\"colorscale\":[[0.0,\"#0d0887\"],[0.1111111111111111,\"#46039f\"],[0.2222222222222222,\"#7201a8\"],[0.3333333333333333,\"#9c179e\"],[0.4444444444444444,\"#bd3786\"],[0.5555555555555556,\"#d8576b\"],[0.6666666666666666,\"#ed7953\"],[0.7777777777777778,\"#fb9f3a\"],[0.8888888888888888,\"#fdca26\"],[1.0,\"#f0f921\"]],\"type\":\"surface\"}],\"table\":[{\"cells\":{\"fill\":{\"color\":\"#EBF0F8\"},\"line\":{\"color\":\"white\"}},\"header\":{\"fill\":{\"color\":\"#C8D4E3\"},\"line\":{\"color\":\"white\"}},\"type\":\"table\"}]},\"layout\":{\"annotationdefaults\":{\"arrowcolor\":\"#2a3f5f\",\"arrowhead\":0,\"arrowwidth\":1},\"autotypenumbers\":\"strict\",\"coloraxis\":{\"colorbar\":{\"outlinewidth\":0,\"ticks\":\"\"}},\"colorscale\":{\"diverging\":[[0,\"#8e0152\"],[0.1,\"#c51b7d\"],[0.2,\"#de77ae\"],[0.3,\"#f1b6da\"],[0.4,\"#fde0ef\"],[0.5,\"#f7f7f7\"],[0.6,\"#e6f5d0\"],[0.7,\"#b8e186\"],[0.8,\"#7fbc41\"],[0.9,\"#4d9221\"],[1,\"#276419\"]],\"sequential\":[[0.0,\"#0d0887\"],[0.1111111111111111,\"#46039f\"],[0.2222222222222222,\"#7201a8\"],[0.3333333333333333,\"#9c179e\"],[0.4444444444444444,\"#bd3786\"],[0.5555555555555556,\"#d8576b\"],[0.6666666666666666,\"#ed7953\"],[0.7777777777777778,\"#fb9f3a\"],[0.8888888888888888,\"#fdca26\"],[1.0,\"#f0f921\"]],\"sequentialminus\":[[0.0,\"#0d0887\"],[0.1111111111111111,\"#46039f\"],[0.2222222222222222,\"#7201a8\"],[0.3333333333333333,\"#9c179e\"],[0.4444444444444444,\"#bd3786\"],[0.5555555555555556,\"#d8576b\"],[0.6666666666666666,\"#ed7953\"],[0.7777777777777778,\"#fb9f3a\"],[0.8888888888888888,\"#fdca26\"],[1.0,\"#f0f921\"]]},\"colorway\":[\"#636efa\",\"#EF553B\",\"#00cc96\",\"#ab63fa\",\"#FFA15A\",\"#19d3f3\",\"#FF6692\",\"#B6E880\",\"#FF97FF\",\"#FECB52\"],\"font\":{\"color\":\"#2a3f5f\"},\"geo\":{\"bgcolor\":\"white\",\"lakecolor\":\"white\",\"landcolor\":\"#E5ECF6\",\"showlakes\":true,\"showland\":true,\"subunitcolor\":\"white\"},\"hoverlabel\":{\"align\":\"left\"},\"hovermode\":\"closest\",\"mapbox\":{\"style\":\"light\"},\"paper_bgcolor\":\"white\",\"plot_bgcolor\":\"#E5ECF6\",\"polar\":{\"angularaxis\":{\"gridcolor\":\"white\",\"linecolor\":\"white\",\"ticks\":\"\"},\"bgcolor\":\"#E5ECF6\",\"radialaxis\":{\"gridcolor\":\"white\",\"linecolor\":\"white\",\"ticks\":\"\"}},\"scene\":{\"xaxis\":{\"backgroundcolor\":\"#E5ECF6\",\"gridcolor\":\"white\",\"gridwidth\":2,\"linecolor\":\"white\",\"showbackground\":true,\"ticks\":\"\",\"zerolinecolor\":\"white\"},\"yaxis\":{\"backgroundcolor\":\"#E5ECF6\",\"gridcolor\":\"white\",\"gridwidth\":2,\"linecolor\":\"white\",\"showbackground\":true,\"ticks\":\"\",\"zerolinecolor\":\"white\"},\"zaxis\":{\"backgroundcolor\":\"#E5ECF6\",\"gridcolor\":\"white\",\"gridwidth\":2,\"linecolor\":\"white\",\"showbackground\":true,\"ticks\":\"\",\"zerolinecolor\":\"white\"}},\"shapedefaults\":{\"line\":{\"color\":\"#2a3f5f\"}},\"ternary\":{\"aaxis\":{\"gridcolor\":\"white\",\"linecolor\":\"white\",\"ticks\":\"\"},\"baxis\":{\"gridcolor\":\"white\",\"linecolor\":\"white\",\"ticks\":\"\"},\"bgcolor\":\"#E5ECF6\",\"caxis\":{\"gridcolor\":\"white\",\"linecolor\":\"white\",\"ticks\":\"\"}},\"title\":{\"x\":0.05},\"xaxis\":{\"automargin\":true,\"gridcolor\":\"white\",\"linecolor\":\"white\",\"ticks\":\"\",\"title\":{\"standoff\":15},\"zerolinecolor\":\"white\",\"zerolinewidth\":2},\"yaxis\":{\"automargin\":true,\"gridcolor\":\"white\",\"linecolor\":\"white\",\"ticks\":\"\",\"title\":{\"standoff\":15},\"zerolinecolor\":\"white\",\"zerolinewidth\":2}}},\"xaxis\":{\"anchor\":\"y\",\"domain\":[0.0,1.0],\"title\":{\"text\":\"Principal component index\"}},\"yaxis\":{\"anchor\":\"x\",\"domain\":[0.0,1.0],\"title\":{\"text\":\"Explained Variance Ratio\"}},\"legend\":{\"title\":{\"text\":\"Legend\"},\"tracegroupgap\":0},\"margin\":{\"t\":60}},                        {\"responsive\": true}                    ).then(function(){\n",
              "                            \n",
              "var gd = document.getElementById('94358273-0f41-4933-9fa8-40143e5f8e59');\n",
              "var x = new MutationObserver(function (mutations, observer) {{\n",
              "        var display = window.getComputedStyle(gd).display;\n",
              "        if (!display || display === 'none') {{\n",
              "            console.log([gd, 'removed!']);\n",
              "            Plotly.purge(gd);\n",
              "            observer.disconnect();\n",
              "        }}\n",
              "}});\n",
              "\n",
              "// Listen for the removal of the full notebook cells\n",
              "var notebookContainer = gd.closest('#notebook-container');\n",
              "if (notebookContainer) {{\n",
              "    x.observe(notebookContainer, {childList: true});\n",
              "}}\n",
              "\n",
              "// Listen for the clearing of the current output cell\n",
              "var outputEl = gd.closest('.output');\n",
              "if (outputEl) {{\n",
              "    x.observe(outputEl, {childList: true});\n",
              "}}\n",
              "\n",
              "                        })                };                            </script>        </div>\n",
              "</body>\n",
              "</html>"
            ]
          },
          "metadata": {}
        }
      ]
    },
    {
      "cell_type": "markdown",
      "source": [
        "### Normalized PCA\n",
        "\n",
        "PCA is run on the OWU matrix, but this time the variables are first normalized with respect to their mean and standard deviation.\n"
      ],
      "metadata": {
        "id": "a6DqqlXcCrHN"
      }
    },
    {
      "cell_type": "code",
      "source": [
        "# Scale data by mean and standard deviation\n",
        "scaler = StandardScaler()\n",
        "scaled_data = scaler.fit_transform(owu)"
      ],
      "metadata": {
        "id": "GLKQYJRKCzUd"
      },
      "execution_count": 63,
      "outputs": []
    },
    {
      "cell_type": "code",
      "source": [
        "# Run PCA on scaled data\n",
        "pca.fit(scaled_data)\n",
        "expl_var = pca.explained_variance_\n",
        "expl_var_ratio = pca.explained_variance_ratio_\n",
        "pca_n_comp = list(range(1,pca.n_components_+1))\n",
        "components = pca.fit_transform(scaled_data)"
      ],
      "metadata": {
        "id": "YGLZGpxawj2N"
      },
      "execution_count": 64,
      "outputs": []
    },
    {
      "cell_type": "code",
      "source": [
        "# Plot Explained Variance plots\n",
        "fig = px.line(x=pca_n_comp, y=1-expl_var_ratio, color=px.Constant(\"Cumulative explained variance\"), labels=dict(x=\"Principal component index\", y=\"Explained Variance Ratio\", color=\"Legend\"))\n",
        "fig.add_bar(x=pca_n_comp, y=expl_var_ratio, name=\"Individual explained variance\")\n",
        "fig.show()"
      ],
      "metadata": {
        "id": "A6FFhlPywzom",
        "outputId": "167de095-7938-462b-eec2-9a4e0021d3a1",
        "colab": {
          "base_uri": "https://localhost:8080/",
          "height": 542
        }
      },
      "execution_count": 65,
      "outputs": [
        {
          "output_type": "display_data",
          "data": {
            "text/html": [
              "<html>\n",
              "<head><meta charset=\"utf-8\" /></head>\n",
              "<body>\n",
              "    <div>            <script src=\"https://cdnjs.cloudflare.com/ajax/libs/mathjax/2.7.5/MathJax.js?config=TeX-AMS-MML_SVG\"></script><script type=\"text/javascript\">if (window.MathJax) {MathJax.Hub.Config({SVG: {font: \"STIX-Web\"}});}</script>                <script type=\"text/javascript\">window.PlotlyConfig = {MathJaxConfig: 'local'};</script>\n",
              "        <script src=\"https://cdn.plot.ly/plotly-2.8.3.min.js\"></script>                <div id=\"f313476b-7c97-4d33-9316-9fcd66af5cb0\" class=\"plotly-graph-div\" style=\"height:525px; width:100%;\"></div>            <script type=\"text/javascript\">                                    window.PLOTLYENV=window.PLOTLYENV || {};                                    if (document.getElementById(\"f313476b-7c97-4d33-9316-9fcd66af5cb0\")) {                    Plotly.newPlot(                        \"f313476b-7c97-4d33-9316-9fcd66af5cb0\",                        [{\"hovertemplate\":\"Legend=Cumulative explained variance<br>Principal component index=%{x}<br>Explained Variance Ratio=%{y}<extra></extra>\",\"legendgroup\":\"Cumulative explained variance\",\"line\":{\"color\":\"#636efa\",\"dash\":\"solid\"},\"marker\":{\"symbol\":\"circle\"},\"mode\":\"lines\",\"name\":\"Cumulative explained variance\",\"orientation\":\"v\",\"showlegend\":true,\"x\":[1,2,3,4,5],\"xaxis\":\"x\",\"y\":[0.5547794077574921,0.7098837068496975,0.8022798039260031,0.9396025119158321,0.9934545695509749],\"yaxis\":\"y\",\"type\":\"scatter\"},{\"name\":\"Individual explained variance\",\"x\":[1,2,3,4,5],\"y\":[0.4452205922425078,0.29011629315030246,0.19772019607399696,0.06039748808416786,0.006545430449025082],\"type\":\"bar\"}],                        {\"template\":{\"data\":{\"bar\":[{\"error_x\":{\"color\":\"#2a3f5f\"},\"error_y\":{\"color\":\"#2a3f5f\"},\"marker\":{\"line\":{\"color\":\"#E5ECF6\",\"width\":0.5},\"pattern\":{\"fillmode\":\"overlay\",\"size\":10,\"solidity\":0.2}},\"type\":\"bar\"}],\"barpolar\":[{\"marker\":{\"line\":{\"color\":\"#E5ECF6\",\"width\":0.5},\"pattern\":{\"fillmode\":\"overlay\",\"size\":10,\"solidity\":0.2}},\"type\":\"barpolar\"}],\"carpet\":[{\"aaxis\":{\"endlinecolor\":\"#2a3f5f\",\"gridcolor\":\"white\",\"linecolor\":\"white\",\"minorgridcolor\":\"white\",\"startlinecolor\":\"#2a3f5f\"},\"baxis\":{\"endlinecolor\":\"#2a3f5f\",\"gridcolor\":\"white\",\"linecolor\":\"white\",\"minorgridcolor\":\"white\",\"startlinecolor\":\"#2a3f5f\"},\"type\":\"carpet\"}],\"choropleth\":[{\"colorbar\":{\"outlinewidth\":0,\"ticks\":\"\"},\"type\":\"choropleth\"}],\"contour\":[{\"colorbar\":{\"outlinewidth\":0,\"ticks\":\"\"},\"colorscale\":[[0.0,\"#0d0887\"],[0.1111111111111111,\"#46039f\"],[0.2222222222222222,\"#7201a8\"],[0.3333333333333333,\"#9c179e\"],[0.4444444444444444,\"#bd3786\"],[0.5555555555555556,\"#d8576b\"],[0.6666666666666666,\"#ed7953\"],[0.7777777777777778,\"#fb9f3a\"],[0.8888888888888888,\"#fdca26\"],[1.0,\"#f0f921\"]],\"type\":\"contour\"}],\"contourcarpet\":[{\"colorbar\":{\"outlinewidth\":0,\"ticks\":\"\"},\"type\":\"contourcarpet\"}],\"heatmap\":[{\"colorbar\":{\"outlinewidth\":0,\"ticks\":\"\"},\"colorscale\":[[0.0,\"#0d0887\"],[0.1111111111111111,\"#46039f\"],[0.2222222222222222,\"#7201a8\"],[0.3333333333333333,\"#9c179e\"],[0.4444444444444444,\"#bd3786\"],[0.5555555555555556,\"#d8576b\"],[0.6666666666666666,\"#ed7953\"],[0.7777777777777778,\"#fb9f3a\"],[0.8888888888888888,\"#fdca26\"],[1.0,\"#f0f921\"]],\"type\":\"heatmap\"}],\"heatmapgl\":[{\"colorbar\":{\"outlinewidth\":0,\"ticks\":\"\"},\"colorscale\":[[0.0,\"#0d0887\"],[0.1111111111111111,\"#46039f\"],[0.2222222222222222,\"#7201a8\"],[0.3333333333333333,\"#9c179e\"],[0.4444444444444444,\"#bd3786\"],[0.5555555555555556,\"#d8576b\"],[0.6666666666666666,\"#ed7953\"],[0.7777777777777778,\"#fb9f3a\"],[0.8888888888888888,\"#fdca26\"],[1.0,\"#f0f921\"]],\"type\":\"heatmapgl\"}],\"histogram\":[{\"marker\":{\"pattern\":{\"fillmode\":\"overlay\",\"size\":10,\"solidity\":0.2}},\"type\":\"histogram\"}],\"histogram2d\":[{\"colorbar\":{\"outlinewidth\":0,\"ticks\":\"\"},\"colorscale\":[[0.0,\"#0d0887\"],[0.1111111111111111,\"#46039f\"],[0.2222222222222222,\"#7201a8\"],[0.3333333333333333,\"#9c179e\"],[0.4444444444444444,\"#bd3786\"],[0.5555555555555556,\"#d8576b\"],[0.6666666666666666,\"#ed7953\"],[0.7777777777777778,\"#fb9f3a\"],[0.8888888888888888,\"#fdca26\"],[1.0,\"#f0f921\"]],\"type\":\"histogram2d\"}],\"histogram2dcontour\":[{\"colorbar\":{\"outlinewidth\":0,\"ticks\":\"\"},\"colorscale\":[[0.0,\"#0d0887\"],[0.1111111111111111,\"#46039f\"],[0.2222222222222222,\"#7201a8\"],[0.3333333333333333,\"#9c179e\"],[0.4444444444444444,\"#bd3786\"],[0.5555555555555556,\"#d8576b\"],[0.6666666666666666,\"#ed7953\"],[0.7777777777777778,\"#fb9f3a\"],[0.8888888888888888,\"#fdca26\"],[1.0,\"#f0f921\"]],\"type\":\"histogram2dcontour\"}],\"mesh3d\":[{\"colorbar\":{\"outlinewidth\":0,\"ticks\":\"\"},\"type\":\"mesh3d\"}],\"parcoords\":[{\"line\":{\"colorbar\":{\"outlinewidth\":0,\"ticks\":\"\"}},\"type\":\"parcoords\"}],\"pie\":[{\"automargin\":true,\"type\":\"pie\"}],\"scatter\":[{\"marker\":{\"colorbar\":{\"outlinewidth\":0,\"ticks\":\"\"}},\"type\":\"scatter\"}],\"scatter3d\":[{\"line\":{\"colorbar\":{\"outlinewidth\":0,\"ticks\":\"\"}},\"marker\":{\"colorbar\":{\"outlinewidth\":0,\"ticks\":\"\"}},\"type\":\"scatter3d\"}],\"scattercarpet\":[{\"marker\":{\"colorbar\":{\"outlinewidth\":0,\"ticks\":\"\"}},\"type\":\"scattercarpet\"}],\"scattergeo\":[{\"marker\":{\"colorbar\":{\"outlinewidth\":0,\"ticks\":\"\"}},\"type\":\"scattergeo\"}],\"scattergl\":[{\"marker\":{\"colorbar\":{\"outlinewidth\":0,\"ticks\":\"\"}},\"type\":\"scattergl\"}],\"scattermapbox\":[{\"marker\":{\"colorbar\":{\"outlinewidth\":0,\"ticks\":\"\"}},\"type\":\"scattermapbox\"}],\"scatterpolar\":[{\"marker\":{\"colorbar\":{\"outlinewidth\":0,\"ticks\":\"\"}},\"type\":\"scatterpolar\"}],\"scatterpolargl\":[{\"marker\":{\"colorbar\":{\"outlinewidth\":0,\"ticks\":\"\"}},\"type\":\"scatterpolargl\"}],\"scatterternary\":[{\"marker\":{\"colorbar\":{\"outlinewidth\":0,\"ticks\":\"\"}},\"type\":\"scatterternary\"}],\"surface\":[{\"colorbar\":{\"outlinewidth\":0,\"ticks\":\"\"},\"colorscale\":[[0.0,\"#0d0887\"],[0.1111111111111111,\"#46039f\"],[0.2222222222222222,\"#7201a8\"],[0.3333333333333333,\"#9c179e\"],[0.4444444444444444,\"#bd3786\"],[0.5555555555555556,\"#d8576b\"],[0.6666666666666666,\"#ed7953\"],[0.7777777777777778,\"#fb9f3a\"],[0.8888888888888888,\"#fdca26\"],[1.0,\"#f0f921\"]],\"type\":\"surface\"}],\"table\":[{\"cells\":{\"fill\":{\"color\":\"#EBF0F8\"},\"line\":{\"color\":\"white\"}},\"header\":{\"fill\":{\"color\":\"#C8D4E3\"},\"line\":{\"color\":\"white\"}},\"type\":\"table\"}]},\"layout\":{\"annotationdefaults\":{\"arrowcolor\":\"#2a3f5f\",\"arrowhead\":0,\"arrowwidth\":1},\"autotypenumbers\":\"strict\",\"coloraxis\":{\"colorbar\":{\"outlinewidth\":0,\"ticks\":\"\"}},\"colorscale\":{\"diverging\":[[0,\"#8e0152\"],[0.1,\"#c51b7d\"],[0.2,\"#de77ae\"],[0.3,\"#f1b6da\"],[0.4,\"#fde0ef\"],[0.5,\"#f7f7f7\"],[0.6,\"#e6f5d0\"],[0.7,\"#b8e186\"],[0.8,\"#7fbc41\"],[0.9,\"#4d9221\"],[1,\"#276419\"]],\"sequential\":[[0.0,\"#0d0887\"],[0.1111111111111111,\"#46039f\"],[0.2222222222222222,\"#7201a8\"],[0.3333333333333333,\"#9c179e\"],[0.4444444444444444,\"#bd3786\"],[0.5555555555555556,\"#d8576b\"],[0.6666666666666666,\"#ed7953\"],[0.7777777777777778,\"#fb9f3a\"],[0.8888888888888888,\"#fdca26\"],[1.0,\"#f0f921\"]],\"sequentialminus\":[[0.0,\"#0d0887\"],[0.1111111111111111,\"#46039f\"],[0.2222222222222222,\"#7201a8\"],[0.3333333333333333,\"#9c179e\"],[0.4444444444444444,\"#bd3786\"],[0.5555555555555556,\"#d8576b\"],[0.6666666666666666,\"#ed7953\"],[0.7777777777777778,\"#fb9f3a\"],[0.8888888888888888,\"#fdca26\"],[1.0,\"#f0f921\"]]},\"colorway\":[\"#636efa\",\"#EF553B\",\"#00cc96\",\"#ab63fa\",\"#FFA15A\",\"#19d3f3\",\"#FF6692\",\"#B6E880\",\"#FF97FF\",\"#FECB52\"],\"font\":{\"color\":\"#2a3f5f\"},\"geo\":{\"bgcolor\":\"white\",\"lakecolor\":\"white\",\"landcolor\":\"#E5ECF6\",\"showlakes\":true,\"showland\":true,\"subunitcolor\":\"white\"},\"hoverlabel\":{\"align\":\"left\"},\"hovermode\":\"closest\",\"mapbox\":{\"style\":\"light\"},\"paper_bgcolor\":\"white\",\"plot_bgcolor\":\"#E5ECF6\",\"polar\":{\"angularaxis\":{\"gridcolor\":\"white\",\"linecolor\":\"white\",\"ticks\":\"\"},\"bgcolor\":\"#E5ECF6\",\"radialaxis\":{\"gridcolor\":\"white\",\"linecolor\":\"white\",\"ticks\":\"\"}},\"scene\":{\"xaxis\":{\"backgroundcolor\":\"#E5ECF6\",\"gridcolor\":\"white\",\"gridwidth\":2,\"linecolor\":\"white\",\"showbackground\":true,\"ticks\":\"\",\"zerolinecolor\":\"white\"},\"yaxis\":{\"backgroundcolor\":\"#E5ECF6\",\"gridcolor\":\"white\",\"gridwidth\":2,\"linecolor\":\"white\",\"showbackground\":true,\"ticks\":\"\",\"zerolinecolor\":\"white\"},\"zaxis\":{\"backgroundcolor\":\"#E5ECF6\",\"gridcolor\":\"white\",\"gridwidth\":2,\"linecolor\":\"white\",\"showbackground\":true,\"ticks\":\"\",\"zerolinecolor\":\"white\"}},\"shapedefaults\":{\"line\":{\"color\":\"#2a3f5f\"}},\"ternary\":{\"aaxis\":{\"gridcolor\":\"white\",\"linecolor\":\"white\",\"ticks\":\"\"},\"baxis\":{\"gridcolor\":\"white\",\"linecolor\":\"white\",\"ticks\":\"\"},\"bgcolor\":\"#E5ECF6\",\"caxis\":{\"gridcolor\":\"white\",\"linecolor\":\"white\",\"ticks\":\"\"}},\"title\":{\"x\":0.05},\"xaxis\":{\"automargin\":true,\"gridcolor\":\"white\",\"linecolor\":\"white\",\"ticks\":\"\",\"title\":{\"standoff\":15},\"zerolinecolor\":\"white\",\"zerolinewidth\":2},\"yaxis\":{\"automargin\":true,\"gridcolor\":\"white\",\"linecolor\":\"white\",\"ticks\":\"\",\"title\":{\"standoff\":15},\"zerolinecolor\":\"white\",\"zerolinewidth\":2}}},\"xaxis\":{\"anchor\":\"y\",\"domain\":[0.0,1.0],\"title\":{\"text\":\"Principal component index\"}},\"yaxis\":{\"anchor\":\"x\",\"domain\":[0.0,1.0],\"title\":{\"text\":\"Explained Variance Ratio\"}},\"legend\":{\"title\":{\"text\":\"Legend\"},\"tracegroupgap\":0},\"margin\":{\"t\":60}},                        {\"responsive\": true}                    ).then(function(){\n",
              "                            \n",
              "var gd = document.getElementById('f313476b-7c97-4d33-9316-9fcd66af5cb0');\n",
              "var x = new MutationObserver(function (mutations, observer) {{\n",
              "        var display = window.getComputedStyle(gd).display;\n",
              "        if (!display || display === 'none') {{\n",
              "            console.log([gd, 'removed!']);\n",
              "            Plotly.purge(gd);\n",
              "            observer.disconnect();\n",
              "        }}\n",
              "}});\n",
              "\n",
              "// Listen for the removal of the full notebook cells\n",
              "var notebookContainer = gd.closest('#notebook-container');\n",
              "if (notebookContainer) {{\n",
              "    x.observe(notebookContainer, {childList: true});\n",
              "}}\n",
              "\n",
              "// Listen for the clearing of the current output cell\n",
              "var outputEl = gd.closest('.output');\n",
              "if (outputEl) {{\n",
              "    x.observe(outputEl, {childList: true});\n",
              "}}\n",
              "\n",
              "                        })                };                            </script>        </div>\n",
              "</body>\n",
              "</html>"
            ]
          },
          "metadata": {}
        }
      ]
    },
    {
      "cell_type": "markdown",
      "source": [
        "### Plot scores and loadings\n",
        "\n",
        "In the following plot, the PCA loadings are plotted together with the observation scores.\n",
        "\n",
        "Color according to run number / time step / display loadings\n"
      ],
      "metadata": {
        "id": "VKrDGuxIC865"
      }
    },
    {
      "cell_type": "code",
      "source": [
        "# Principal component on x-axis\n",
        "select_x_pca = 1\n",
        "# Principal component on y-axis\n",
        "select_y_pca = 2\n",
        "# Color plots by\n",
        "select_coloring = None"
      ],
      "metadata": {
        "id": "SyD6M4FBwy3p"
      },
      "execution_count": 66,
      "outputs": []
    },
    {
      "cell_type": "code",
      "source": [
        "# Score plot of PCA\n",
        "fig = px.scatter(x=components[:,select_x_pca-1], y=components[:,select_y_pca-1], labels={'x':\"Principal Component - \"+str(select_x_pca), 'y':\"Principal Component - \"+str(select_y_pca)}, title=\"PCA Score plot\")\n",
        "fig.show()"
      ],
      "metadata": {
        "id": "q3H2vledZXYa",
        "outputId": "fd47c332-6851-460b-e39d-54e131f5688d",
        "colab": {
          "base_uri": "https://localhost:8080/",
          "height": 542
        }
      },
      "execution_count": 67,
      "outputs": [
        {
          "output_type": "display_data",
          "data": {
            "text/html": [
              "<html>\n",
              "<head><meta charset=\"utf-8\" /></head>\n",
              "<body>\n",
              "    <div>            <script src=\"https://cdnjs.cloudflare.com/ajax/libs/mathjax/2.7.5/MathJax.js?config=TeX-AMS-MML_SVG\"></script><script type=\"text/javascript\">if (window.MathJax) {MathJax.Hub.Config({SVG: {font: \"STIX-Web\"}});}</script>                <script type=\"text/javascript\">window.PlotlyConfig = {MathJaxConfig: 'local'};</script>\n",
              "        <script src=\"https://cdn.plot.ly/plotly-2.8.3.min.js\"></script>                <div id=\"ba69af3b-ff4a-4b77-a5f3-0d2c8b2bdd89\" class=\"plotly-graph-div\" style=\"height:525px; width:100%;\"></div>            <script type=\"text/javascript\">                                    window.PLOTLYENV=window.PLOTLYENV || {};                                    if (document.getElementById(\"ba69af3b-ff4a-4b77-a5f3-0d2c8b2bdd89\")) {                    Plotly.newPlot(                        \"ba69af3b-ff4a-4b77-a5f3-0d2c8b2bdd89\",                        [{\"hovertemplate\":\"Principal Component - 1=%{x}<br>Principal Component - 2=%{y}<extra></extra>\",\"legendgroup\":\"\",\"marker\":{\"color\":\"#636efa\",\"symbol\":\"circle\"},\"mode\":\"markers\",\"name\":\"\",\"showlegend\":false,\"x\":[-0.7058341552788522,-0.7519441920499297,-1.9884980010468853,-2.2000524499818366,-2.2197488250356856,-1.9007526858722292,-1.342089707111166,-0.7199193525172835,-0.15368776112681695,0.3042498102366748,0.636569305408287,0.827893865018313,2.021425390388528,2.092539624730377,2.121483632257311,-0.7566147208995886,-0.811421960926505,-0.9287734593984397,-1.0322831398445862,-1.5977477786855903,-1.1648905225713388,-0.6106288338735525,-0.15087802817618137,0.22567718659277305,0.528481656002928,0.763579043267656,0.9386354672731881,1.7772909057631976,1.9176292254958418,2.0231307784569035,-0.9049135125297629,-0.9697306864352248,-1.0995530230709123,-1.541912807142001,-1.3800699574236241,-0.885193179634502,-0.21122917801376628,0.4727851845625434,1.0551813146966589,1.7757689254827587,1.9890617286948156,2.1213811108240725,2.2028663797232384,2.2519579743628158,2.2805949192396184,-0.6449799740233139,-0.6693255201817347,-1.1561973618424413,-1.3005984461895101,-1.3926736745438235,-1.2296266847289483,-0.7628093451316199,-0.3299094273418198,-0.00041434930638910105,0.6827297962292563,0.8710133288528064,0.984417723253795,1.0584816819337952,1.1064256424883399,1.1372759330453355,-0.6561916672332755,-0.6929366703820137,-0.777038990398649,-1.5795357041535094,-1.594934518462088,-1.3481475532605176,-0.8806011811034915,-0.3649501162074616,0.07877911231120785,1.1470599581468228,1.4816387435795553,1.654451382944128,1.764285051881166,1.8331289952146044,1.875633146489434,-0.7445519021490393,-0.7801619013383121,-1.285980474769831,-1.448536627095448,-1.4762588843484108,-1.1803495866042073,-0.6090948167468355,0.04804308133200827,0.4903824144312957,1.227949305617387,1.4316134444248512,1.5577480799525796,1.637550324160799,1.6873637102629377,1.718063411962321,-0.7481346929101388,-0.8149573830487795,-0.9439872270165907,-1.7566067032062591,-1.6035337667014196,-1.1367589807827883,-0.521167856322866,0.0705004947514961,1.2995658600113968,1.6744201427760033,1.8757068092053697,2.0023892106360175,2.0808082562688632,2.1283933577032355,2.1565222360955287,-0.6556212765841449,-0.7016093185057621,-0.7964019434582325,-1.585532808602668,-1.5168610659174375,-1.242549542897446,-0.8194844656510405,-0.3729793499553496,0.03130804479594358,0.3758398088583417,0.6561122413812913,1.5996151707185662,1.8209162947367084,1.9926150900245936,2.123160186640937,-0.9057402736357756,-0.9445718367445486,-1.0390694761991217,-1.6886455446461335,-1.699054076837534,-1.3886210945065356,-0.8311656552728421,-0.1870221838399404,0.42378820967367203,0.9421406613187181,1.3517479313941458,2.183462818107512,2.4474470891280498,2.6411792427696086,2.78069017236134,-0.6929633579609004,-0.7508109787703713,-1.4173071456974538,-1.5489708586654873,-1.436838677023024,-1.0016422987309934,-0.4414364447150968,-0.017010832242592512,0.31931025807098057,0.583291853842533,1.3386322528484438,1.5360196238699948,1.687548705840102,1.798834512656385,1.8712458092744666,-0.9164970583599583,-0.9563583777483616,-1.05236826902817,-1.7302513446726087,-1.7343237972352312,-1.4189194387712796,-0.866288046006682,-0.2344054569620832,0.36238031898006934,0.8680328792330975,1.8218630378950242,2.166665259404323,2.425819354829549,2.61657562989275,2.7541562282764787,-0.8827465025321615,-0.953710737251131,-1.089937867086447,-1.6423345069587494,-1.4538583728428895,-0.9344293864638663,-0.2539887895332189,0.4205082305133006,0.9938889470595433,1.4344961519760882,1.7560759318002062,2.462506819915569,2.657624478247028,2.793319127991872,2.880682109375526,-0.7836549211391257,-0.8377188438156895,-0.955146169015651,-1.5601012065480884,-1.4695828452951567,-1.0382591636892569,-0.4021374329485222,0.17530468308942618,0.5695977996997389,0.8726529159122873,1.1002144524040396,1.7626157327845824,1.919889726477458,2.0365677784911265,2.121228430217326,-0.8406006722962718,-0.8725217116730731,-0.9548133350672164,-1.887069897000377,-1.9712559906535463,-1.739298226376343,-1.2243812206831257,-0.5958784259915874,0.009918629798395018,1.3262982309973859,1.7920373134128316,2.150006638289092,2.4190157612598897,2.6171075526707104,2.7602576753696915,-0.8835502709765598,-0.93769252462942,-1.0557847154001745,-1.8443751323137905,-1.7715497706858114,-1.3583198548567292,-0.7377983581124163,-0.07931468989643375,0.5120607942865995,0.9942993778562673,2.041354597037195,2.363910276426713,2.6020359252688134,2.7745536967588804,2.897093935628108,-0.8565986358519176,-1.8728212644125593,-2.0179223471422416,-2.211898974568495,-2.325404525725933,-2.1704505083558954,-1.8081226141198854,-1.4290084402597485,-1.1428902711630626,-0.968382722961525,-0.8844956538367491,0.12977490648972298,0.19236457924689004,0.2294246361330755,0.2508597919774936,-0.6966010226209916,-0.736178153472203,-1.9485523611317936,-2.1649558356884966,-2.2271048156594704,-1.9586145860136484,-1.4272325422509375,-0.808650557816639,-0.2327312618473867,0.23970722452626628,0.5877214491896546,0.7960014158873145,1.9894334809827894,2.0678178757794896,2.1005915892497176,-0.6467687510286488,-0.6616418489959829,-0.7027985177557687,-0.7911127153179374,-1.4575970149447632,-1.4216442157558271,-1.111812713795751,-0.6805546020854819,-0.3211666471672194,-0.02031579916769076,0.2325089292740606,1.0207495015692138,1.235939477538731,1.409794584422501,1.5434641970047236,-0.9137041885699776,-0.9573303548273622,-1.577328967783089,-1.7373110613559124,-1.7021015173773462,-1.3584281328940981,-0.8131272763871142,-0.21128237097087763,0.35035162333015873,0.8254402727172314,1.201502250896304,1.4845894788345673,2.205709983317575,2.385778861949462,2.514448572976194,-0.7921267066433888,-0.8088981149668776,-1.7590958323665646,-1.9400200577139126,-2.1168145700854994,-2.0678912478646088,-1.7085295458007759,-1.1918623752950541,-0.6843468117207248,-0.2794409314747718,0.8882041369807191,1.0951786348797588,1.2124405206662703,1.278114650383558,1.3141388166341683,-0.6731400785481635,-0.6998687803074376,-0.76839520166561,-1.2649979048147035,-1.332165801215176,-1.1185930410928342,-0.671259535587948,-0.3140410921883033,-0.03891983772125791,0.17830186812500512,0.3509498363286924,0.8713662234508152,1.011220258470266,1.1230012816689847,1.2065056555146714,-0.7482050273721836,-0.8101339934801849,-1.8725426088407386,-2.0423284052056636,-1.9447468360062536,-1.5099332288044938,-0.8879784480046622,-0.24646878906859113,0.31722481557724086,0.7675595433111131,1.1033241891314398,2.2755775126093285,2.4935303087089404,2.636816522456145,2.730870381368083,-0.9431686986036611,-1.002789730682338,-1.4602834844993122,-1.5767152865821368,-1.4372291691442198,-0.9936333848415646,-0.37390828067391424,0.2775089018965435,0.8669114238033865,1.353273427196172,2.066041632727447,2.3734014444774103,2.595511773380962,2.730652442965902,2.7930164424365564,-0.6708574220107295,-0.690986752703682,-1.5745720686147797,-1.7537700855615264,-1.9153525977478696,-1.8454679924483945,-1.4532612210029765,-0.8619524061958992,0.5963021751702571,1.2292829940132688,1.7534292500775541,2.14668780316891,2.3359029877676236,2.451823310449674,2.5214781005591425,-0.6900528944638175,-0.7095892434449816,-1.7023086571398127,-1.891281062374017,-2.066012089341038,-2.0085814210696338,-1.6258412787535703,-1.0462257410745357,0.5058932024010315,1.1236459561952261,1.6338821259831378,2.037560218386879,2.3453354600704768,2.5729010919420294,2.7358252445203046,-0.8201259710247338,-1.944637110422866,-2.1206773170148523,-2.330027058739039,-2.374010965961654,-2.110848728826681,-1.693073216830365,-1.3163516887039557,-1.0611669033620377,-0.9234202735184238,-0.8721054503420685,-0.8776106686921716,0.17252572295718263,0.20131829997100825,0.21731630934164137,-0.9166469652718389,-0.9818844882486014,-1.5844465565534052,-1.7054108396271899,-1.544727223446343,-1.0700597318131118,-0.4306272710255749,0.2231919259384561,0.8026885157685654,1.2738198372614766,1.635251243544552,2.3732953722949124,2.5990136520990963,2.762407385738789,2.878517278937565,-0.8232641217926043,-1.7454995342363315,-1.8674980885293193,-2.0430601298981497,-2.200315461779469,-2.132577549505988,-1.805880372809732,-1.3979166728696686,-1.0571115196219982,-0.8312250914443909,0.1976268012371077,0.32114973417839804,0.3956814309467099,0.43965534976698994,0.4651078443398321,-0.7086781805151807,-1.0968433924998862,-1.249670540557891,-1.350360177964103,-1.1633160022998696,-0.6594409464378839,-0.22782417960039722,0.08801298550998449,0.32201872392299263,0.8237432580787296,0.9640083568307262,1.042655627923432,1.0936240405362665,1.1263665135674947,1.1472122642548621,-0.7553047605807167,-0.8152082000406635,-0.9382362475826196,-1.0303663467764974,-1.9869783456534142,-1.5793540662797607,-1.039700369259431,-0.48594676422830835,1.1503968088433072,1.6424581086776329,2.031435054659275,2.3226914199391984,2.4938691490291167,2.5799994980267664,2.630582868606991,-0.7231879201388693,-0.7481636053638663,-0.8147842444453545,-0.934931777211436,-1.3324746794512874,-1.1356851119723996,-0.6513944716830607,-0.24561930935247542,0.3962407917987548,0.5987671314590876,0.7333073285820859,0.8222999298395675,0.8806894119956733,0.9188105106130708,0.9434669427942904,-0.958051130776484,-1.0260968983138468,-1.155920731107088,-2.085853114824578,-1.9418814935863935,-1.4844450433976712,-0.8856403537803793,-0.29718651440381416,0.20276139259808612,1.4455345185293818,1.7703017471617346,1.9901130459040925,2.1416975170090446,2.2466012336722248,2.3189832856072017,-0.644697585715522,-0.6952794786343491,-1.3223695353154725,-1.4310713547796396,-1.3525943125920326,-0.9826234675390312,-0.585202573773575,-0.25649993340599253,0.017040186939606707,0.24590133678623705,0.9719504957367776,1.1680347863380633,1.3273538868356969,1.4514208284546977,1.536459087598979,-0.7648270918364521,-1.0877390528661806,-1.2003567280789724,-1.354101478827813,-1.3724063257504127,-1.0647501850564918,-0.47884619626354197,0.1625088887926032,0.5780898160563445,1.151971529152113,1.3341919484864508,1.45015923170338,1.5237048593082085,1.5699236992259487,1.5986596240541102,-0.661145152713279,-0.6827013534196669,-1.7241822449307118,-1.9185274080716639,-2.08574427430559,-2.008827143890192,-1.6111535591767878,-1.0258996218052205,-0.413292710769756,0.12943548424744322,1.548323052659728,1.9403657612057783,2.225887028307065,2.4333746732067283,2.5826641479440022,-0.6618483568490637,-0.7126167067732208,-0.8134357699395904,-1.5304722458885116,-1.4068063142248266,-1.100940601171358,-0.7119707622997061,-0.34047450378610483,-0.007829002112445476,0.280455233167702,1.18630596662519,1.4328109574571917,1.631474663774725,1.785889887316465,1.899398449962449,-0.70118986346741,-1.02720547634563,-1.0803329684307053,-1.1765362159334194,-1.3241885859444653,-1.4000258461460122,-1.1949097370535995,-0.6875287541886119,-0.03330783261612603,0.7704881618416883,1.0808101669595487,1.2834444852144653,1.4138649720333114,1.496925752291936,1.549307723913347,-0.6965043334592036,-0.704133732110198,-0.727139560003915,-1.196661499778478,-1.344626247495537,-1.4498477754678896,-1.3026219504130208,-0.8454286950202131,-0.21914866035492778,0.6637273718797605,0.972437677225985,1.1749862938777202,1.306147797935125,1.3900409844757462,1.4432912189359688,-0.7313153549337577,-1.1223132717291529,-1.2341438863890892,-1.3927400919731356,-1.4391976857182436,-1.1713674824236282,-0.6143271342780672,0.051112761244216674,0.5003470890870649,1.1736041160818789,1.3730402446199057,1.4991196125308175,1.57911160527333,1.629303660884305,1.6602813686000317,-0.9784737217609345,-2.0876871863916766,-2.29702847622117,-2.418833964604129,-2.247551067363063,-1.86316067265456,-1.4729968615786857,-1.186246618139057,-1.01625225743076,0.10480397646610673,0.20616085195369502,0.2669364748781779,0.3025852485289418,0.3230222242998465,0.33433172096407054,-0.7843627151200007,-1.432013327419469,-1.5874675617854155,-1.7610780817024025,-1.7379097783595312,-1.3779448272967287,-0.7835693183865541,-0.12450884272892977,0.48325384340917055,0.9882254708279822,1.9828597200675837,2.321465396063902,2.5731892451674807,2.756201913889558,2.8865021672613103,-0.8648396129176311,-0.9317878421534512,-1.0645771586292716,-2.106283071668469,-1.9792722939085756,-1.5157834931517709,-0.881124734781314,-0.24102812823423606,0.3133841411755832,0.7507735338175571,2.0292231569961756,2.3158138450818306,2.510829222669677,2.644182474967303,2.73451049510062,-0.7603444022462793,-1.4174663415037765,-1.5352416109303542,-1.7104360396976905,-1.830026702545699,-1.6763868530257784,-1.2233483136113243,-0.617506125304643,0.6315675594748836,1.2263800168861332,1.7175816929291272,2.1034016594327114,2.393394693839875,2.5953684879825545,2.691444211622775,-0.6490269707663539,-0.6715394936212107,-0.7299107173413397,-1.2385402974794009,-1.3257658560197114,-1.1687575355050086,-0.7609305486494178,-0.42040099208313175,-0.15036482046769287,0.06723517182784872,0.2445979923342315,0.7954469612508049,0.9463172825536705,1.0693677381348436,1.1621013329490493,-0.8185243171298043,-0.8406188086355452,-0.9017512665999592,-1.792666974779946,-1.9383488567332077,-1.8224784944404753,-1.3907490035869765,-0.787471272626299,-0.16687327254561504,1.1525848758179684,1.655272149758416,2.048836074823595,2.348215243317531,2.5701760145397468,2.7316083979621233,-0.8453458505357051,-0.8799113099254053,-0.9673010115683971,-1.0976653002643506,-2.0464570518974714,-1.8040509724145655,-1.280652461810552,-0.6479784072272493,0.9043387390785184,1.4901313092828714,1.9595923333690104,2.319703493450881,2.5851642514257853,2.769432141853226,2.8634448140488,-0.9355524024640188,-0.9549836274901662,-1.4756506841396542,-1.6222075993553962,-1.7287194414412534,-1.5994618117598507,-1.2240444017433412,-0.7433570356530292,0.19919525081952014,0.6498216775760945,1.026848095073586,1.3376584679420942,1.5885510318357094,1.786997053577802,1.9413097339349483,-0.9125912896447084,-0.979964817007904,-1.1119966331659477,-1.1931507167298474,-1.516587969226666,-1.024369665752487,-0.3597790674388254,0.30963261868153885,1.415824741283066,1.8710079228652678,2.1016514367177628,2.2455388423439837,2.3337973102448175,2.3866649369516795,2.417206963465894,-0.8731942670669852,-0.917641854843279,-2.07403664684806,-2.279711987098714,-2.2652483446407436,-1.9161141894231122,-1.4039683687525923,-0.9287107150368138,-0.5951645778339827,0.6378649131867198,0.793614096218849,0.8802779610316722,0.9271484026763448,0.9517456874510622,0.9637608116731203,-0.9423530205321219,-1.9975709274041966,-2.179259096219056,-2.3594078419917937,-2.3280514572755,-2.027008486467345,-1.6340743386169785,-1.3044002687396101,-1.086969353398816,-0.9707513304569727,-0.9286304157813073,0.07735710589049734,0.12357968070701746,0.15067537904704992,0.16605082355366335,-0.8244729371322383,-0.8596490456908036,-2.026274297781694,-2.2447900278243003,-2.3097987031507223,-2.03650369784808,-1.533941942416354,-1.0114090501844257,-0.6068790491392304,-0.3660675058023058,-0.2616641922698873,0.8334125170254157,0.8899062361891599,0.9187558152288212,0.9324947655484012,-0.792463274334344,-0.8383494154896475,-0.9446385611590515,-1.4997289587245985,-1.4585027428854482,-1.0759178343737812,-0.45635277060800006,0.16792896790494757,1.0106238453380036,1.2738937432286288,1.4429962351802026,1.550758078620726,1.6187753582056816,1.6611077557919893,1.6871648967313573,-0.8159975639492411,-0.8543070913304436,-0.9484623076317944,-1.9942779542458746,-2.0457161760766533,-1.7635604542595726,-1.216314422179114,-0.579866093058752,0.016390351548577244,0.5121962136594529,1.8092188094110597,2.1490062288705905,2.3923727984716714,2.566157909133838,2.689205489498504,-0.690533169963978,-0.7008355392914601,-0.7312297080878493,-0.8066665457344052,-1.6843041794727291,-1.7675050526221323,-1.5691096712984398,-1.091689983712354,-0.48643283741708987,0.1076581144289761,0.6176406420255973,1.7838759184265762,2.1494527039706903,2.4239829315297863,2.6215599336725615,-0.8780491158612951,-0.9089247208554387,-0.9889795802552763,-1.1173321221081536,-2.0370806743560728,-1.830204489903939,-1.3315210208436254,-0.7081163961931136,-0.10192168902585685,1.3084628841517552,1.780868576935077,2.1427065396759413,2.414398940307663,2.6144912832358074,2.758862567299183,-0.7552044763694037,-0.7871142269838299,-0.868588756167871,-1.792534155239307,-1.876895857158284,-1.6518497053311545,-1.138002163525552,-0.5015090346286234,0.1161304307405423,0.6425442463875009,1.0567759689733844,2.160307471573915,2.440497190600953,2.645169527245747,2.792364326296257,-0.8123341814035274,-0.8522218684764685,-0.9490856246872797,-1.3796556231197727,-1.3690626204583858,-1.0222710672064295,-0.4137367050034291,0.2001648535852043,0.5961430934276919,0.8712637691254909,1.374186233890467,1.5081037903473111,1.5852998513010914,1.633590622193344,1.663455129386504,-0.6775250454456355,-0.7227886642388138,-0.8216931776229579,-0.9176581586782159,-1.8463062277202749,-1.649054700126964,-1.3562537419442993,-0.9837087324885991,-0.5954021874797588,-0.2394115593096043,0.059239445119444734,1.4045892992747453,1.6486833732019466,1.8178838800108756,1.9367348051158708,-0.8117219919078476,-0.8738509861179509,-1.6886352587151008,-1.840872253064479,-1.7190783144228843,-1.2581917358830603,-0.6120681090642337,0.05113831318551456,0.6344203771168796,1.1029738224829848,1.4570013115353757,2.3982532951089746,2.6271187928909385,2.791717065834935,2.9079340620036094,-0.6848246857025988,-0.7146677320975099,-1.4523466730029206,-1.6298420124087507,-1.7167502294627524,-1.5085359669851965,-1.0071593997343002,-0.37336104912204354,0.2452987911691977,0.7720166600399592,1.8488472629842745,2.2113715274871577,2.471831202986825,2.5992191990960043,2.6709369958336824,-0.9397104082646759,-0.9896614993847352,-1.1002918644862294,-2.0758781032044475,-2.03401591447572,-1.6641079049061207,-1.1103072113152839,-0.5392603320641298,-0.04602472539373783,0.3311151185427946,1.4471074427377362,1.6424015733763717,1.7514833797869924,1.8121301956646567,1.8445908498104115,-0.814969617114881,-0.8746450203670455,-0.9995160994582057,-1.9385647944854647,-1.8442811069126563,-1.409793572707334,-0.7819342483925344,-0.13087872161067746,0.443623170017546,0.9050840244254628,2.091551807552811,2.406018662546372,2.6367050555686524,2.8029773876871436,2.920716079439085,-0.9326584449049221,-0.9959049421559716,-1.1228184830329249,-1.2100856233060067,-1.3358746973004165,-0.8546618098527011,-0.18836961544164582,0.494283619104023,1.0380278758928787,1.3545448275159024,1.8818923429037622,2.02117597418443,2.1022321072161234,2.1514736348453822,2.180557065215701,-0.9411908006243723,-1.7862674936984295,-1.9315061177467523,-2.1093967723915252,-2.149042120643908,-1.9109531823843116,-1.5156588820283246,-1.1402962241373675,-0.8668967933500774,-0.7010950804070192,0.19557106376467828,0.2879323733867685,0.3434466595642251,0.376116474813325,0.3948938722778328,-0.8021705403600767,-0.8168800168428709,-1.2392573853187852,-1.3695533319078481,-1.5176455996616796,-1.4881166158789159,-1.1385171159249938,-0.5498318264453995,0.1147037987434149,0.7330820505151474,1.2444615804345034,1.633792287343629,2.2948053330076603,2.5144871612431183,2.617253699182069,-0.8948985556550444,-1.4874460180429725,-1.606851431714148,-1.770850695487018,-1.8289000337096475,-1.609313476657153,-1.1811246424103832,-0.7020115432737942,0.296012818074063,0.6790943010582514,0.9719649017911192,1.1995602310174083,1.3771810486294356,1.5154346181604157,1.6223442795680205,-0.9150349068433298,-0.9338324198418744,-0.986936716574123,-1.0961019989943914,-1.579673460902589,-1.4857937434154733,-1.0876939641359051,-0.4942666901133824,0.14722812869493856,1.127306059079987,1.6495089536963043,2.054399770470925,2.2660771695661124,2.3885008452175387,2.4626280239183647,-0.8069589819854718,-0.8752341415223093,-1.0085722636690324,-1.087387145607162,-1.9628373503438972,-1.505847906687547,-0.9016496931836407,-0.29917221758902335,0.221757965852247,0.6337588434277541,0.9382620354725213,2.24738009650264,2.4613853711392286,2.6035092871794756,2.697578666485218,-0.6768302634493668,-0.7261072307022898,-0.8295301668674604,-1.7584456957282055,-1.7077295991522083,-1.3862080108554786,-0.8797865343107986,-0.3322836567534628,0.16561889140851158,0.579368684824035,0.9025490087375168,1.9866001616554447,2.223277516943875,2.3996852621251072,2.5291078145601285,-0.7641433070204077,-0.8211418103781297,-0.9414102328580012,-1.0415335506209946,-1.9182168245407925,-1.514743584847508,-0.950700942119171,-0.3698996278143242,0.1448697636013097,1.599615404646903,1.9994082845762369,2.304962307492287,2.5318723678938393,2.6963322449219667,2.8121366021554848,-0.8674318517834609,-0.892690274251,-0.9609977672362788,-1.8775953478529224,-2.0006226281764126,-1.8371520883210417,-1.3817386102673679,-0.7955942581287606,-0.2187382874289476,0.27576679044658603,0.6625239096595688,0.9409062211919191,1.9096873104023269,2.0554972847574664,2.1352528662661894,-0.7924754019707116,-1.7180567947924819,-1.8950577662567503,-2.0893568186891005,-2.0781812145456304,-1.7361070460839132,-1.2001009243137892,-0.6442846155988909,-0.1692827508873572,0.1814776438752882,0.39587189010771767,1.3729405661227643,1.4608344882953102,1.5037562425625715,1.5231889512820482,-0.8916581429738873,-0.9209688202189602,-0.997720465537351,-1.8687315733985597,-1.9582724937591893,-1.7447523775559843,-1.2615823238431816,-0.6729215299138538,0.6382381108264555,1.1741783773871233,1.6067193798228296,1.94692087501097,2.207877394903419,2.40343267704158,2.5475462742880124,-0.6492599098436042,-0.7012900092547768,-1.794928343555383,-1.9604977567222142,-1.939145206443727,-1.6124356843157017,-1.0728044330724102,-0.47494680443589204,1.0738752963836145,1.6088886556480568,2.033947165529766,2.3550169230811955,2.5634130321257915,2.661513944674217,2.719294000342172,-0.6234467239054066,-1.5664133378493068,-1.6831864631481344,-1.8540105089728176,-2.0503775483025386,-2.0806979931833527,-1.787582630176781,-1.2573202992379802,-0.6605943079846776,-0.11458592195080017,0.3277916680363126,0.6500388060742223,1.7771963923930487,1.934268592259288,2.015531530651087,-0.8258072889507373,-0.8535353393766347,-0.9272202413154642,-1.8783747811354579,-1.9928713893237846,-1.8088415884004931,-1.3256969797028524,-0.7066462907216378,-0.09657132311424052,0.42802528101457366,0.8415881597117127,1.1463227681509267,2.177856259935251,2.361919532276287,2.475690398608777,-0.7489900266471947,-0.7687317974141394,-1.3261932188033057,-1.4814486799082844,-1.6187461069055518,-1.5205309893826962,-1.097400901403478,-0.47470273540551056,0.18275446750517987,1.271538146985627,1.7542747205111464,1.9991131371673183,2.152656552936488,2.2473728369122536,2.3046983853252927,-0.9475831862552894,-1.0179199368157563,-2.1823988886432195,-2.321611257987619,-2.135895878723259,-1.6757922144547388,-1.1658530754169005,-0.7620763801077535,-0.5137161132162636,-0.3970100989048745,-0.36745606480477927,0.6418583895288522,0.6757839591246175,0.6931356767800434,0.701220247195076,-0.8055545302294008,-0.8566160155623602,-1.587879016060742,-1.7551214357820266,-1.6964406053477763,-1.2945905078075743,-0.6723805477217527,-0.0036729080180463503,0.600016292864519,1.0934980696898835,2.0888994960183855,2.4153591164366053,2.6561023279855513,2.8292775334385913,2.9504587102654405,-0.9547906037055837,-0.9921208091995679,-1.0827884345003238,-1.777722150346732,-1.788340522933129,-1.4971048937786222,-0.9946505526060134,-0.4287691148058251,0.10297263523688294,0.5539264817636653,1.4865118905412107,1.796724057235005,2.0282670417440305,2.2001388271550377,2.3261213758334827,-0.7618578962673864,-0.7796691213086191,-0.8302267622196691,-1.4237232538761688,-1.5684947905634585,-1.49895517553687,-1.1024654087385237,-0.4908832492602494,0.1653346797880976,0.7456551120947835,1.1902677115572755,1.9978217014150381,2.229290315476346,2.345882675121755,2.4166142324424857,-0.8097541128944648,-0.8472763330650777,-0.93997389617746,-1.6918016794036512,-1.7243636488378806,-1.4266354326994397,-0.8595324166745052,-0.19746050427221565,0.4260476915364551,1.5705379378412456,2.027220330858941,2.360721202984853,2.519477198718207,2.613941758021267,2.669625685107158,-0.8726591491313886,-0.9253712868621329,-1.0417526041039278,-1.1547252824232666,-1.484569850833917,-1.0594152054090578,-0.4179554536089435,0.2585315925306074,0.8197953534719858,1.1752940771143514,1.8897322681454665,2.0821383082085654,2.180556514737789,2.240569215594913,2.2758531744243276,-0.8567689250350973,-0.9228260612418244,-2.0324479094567316,-2.1981148575403284,-2.066330725198884,-1.6060927281195836,-0.9966348609736034,-0.4001336590447741,0.09967388542166532,0.4711918597775302,0.7029228258733984,1.7812262692018508,1.8718185856350977,1.9128435922608333,1.9290725226483973,-0.7862984288379294,-0.8002823236602514,-1.210983200999006,-1.3375165769294621,-1.4876229926373885,-1.4712430783086097,-1.1340903844435797,-0.5485082813615058,0.11921821151323683,0.7400007208453898,1.6075196939169032,1.8909967934000298,2.0621682871760756,2.1683164523589804,2.233335728992015,-0.956044637739327,-1.0134384810732502,-1.132579681542643,-1.8737594527903765,-1.7731056699552519,-1.3587106675463954,-0.7732070880006476,-0.16519369055549604,0.3779805132218793,1.468668247757541,1.8587155901536727,2.154941025517157,2.3763794640008795,2.539092781806651,2.656557975211433,-0.8665061396236095,-0.922027026646548,-1.0421328312808302,-1.150602253603711,-2.030755331136283,-1.6352483885072089,-1.0326088385695649,-0.3945681156329303,0.17367395673760092,0.6309657322427287,0.9733137514689302,2.2301340088362203,2.452617423030785,2.5945184624830495,2.685379702400922,-0.7202278487575274,-1.8411397356308026,-2.037370932155921,-2.247939449433119,-2.2459071233546766,-1.8971469486186068,-1.3370130166968455,-0.7524466846458382,-0.25933584835029355,0.08386911755134879,1.3380313757397722,1.4815762643559098,1.553470783217312,1.5877161242820739,1.6023510920183164,-0.9022969867660536,-0.9141367093196154,-1.6999945893016717,-1.8471001778940894,-2.01256631583242,-2.012604620779761,-1.7381904908799781,-1.323360868876304,-0.9335608262364651,0.10399604739064196,0.34157268566903726,0.49282355866018535,0.5866903515290262,0.6438794480399759,0.6782560486247624,-0.7691931405017258,-0.8265077262444954,-1.7310434857573387,-1.8995372496062373,-1.816176057169859,-1.3913180856872327,-0.7656262844415733,-0.11016155360363708,0.4722278394351676,0.9424581463615501,2.081767808777088,2.4001068552974405,2.6342176438385123,2.803232260192008,2.922986586436688,-0.897047901764923,-0.9398026447633574,-1.9138990728403225,-2.103930895861557,-2.087028543606344,-1.7499421315579957,-1.2435936013129105,-0.7443350547394617,-0.3494956777864787,-0.09326503958712706,0.03660009540452558,0.07756834297625124,0.9381970948294006,0.9689233851474742,0.9835351653924003,-0.687910642147933,-0.7000921403371705,-1.3775598346355047,-1.5165618495967568,-1.691869549976254,-1.7355954057811223,-1.4672634052082536,-0.9302609712554346,-0.2882467416451143,0.32630288735686347,0.8475050619306961,1.257725744047383,2.205608218461157,2.475650804684452,2.6734336566317873,-0.6540902131766593,-0.702231501360745,-0.7981216189848118,-1.8106121480170405,-1.7686549721308382,-1.540358932831113,-1.1275124234803502,-0.6337033761546436,-0.15084385262807773,1.2380921936531137,1.6546375540769875,1.985367545868756,2.238457536863607,2.4254490850479864,2.556368142041001,-0.7320314572002202,-0.7420996455334928,-0.7721768196860258,-0.8482170054157433,-2.0782149394380736,-2.1979096965940874,-2.025388334795025,-1.561760206075738,-0.9648308372834032,0.7309595680629696,1.3121780966006285,1.777093517038659,2.138111558342407,2.410933830129262,2.6121988965969933,-0.961729953603814,-1.0126125090231506,-2.187032249588083,-2.364972558626901,-2.282710398431531,-1.9208095323131495,-1.4897973170747427,-1.1475793342830038,-0.9347807517538166,-0.8306034317992151,0.2617507832628404,0.3312354390071918,0.37137661052719106,0.394065977462407,0.4063723342387301,-0.7025576306622888,-0.7152632834849919,-0.7522158490922437,-1.4495161852112506,-1.6186800805010206,-1.650082440550136,-1.3703530828277575,-0.8282101103798091,-0.18930107936441953,1.0234011552432034,1.5254281703356654,1.7905624961905453,1.9586454908465616,2.0635185478875253,2.127794584984243,-0.6992282302830164,-1.4334632513627892,-1.5924861748987509,-1.7728760448369685,-1.7679254011198355,-1.425001768247746,-0.8364692194087209,-0.17751983461063522,0.4299723709684281,0.9326455647077113,1.320554046921414,2.29540781967767,2.5499663477340917,2.735175891300038,2.867165516167573,-0.8621731431608679,-0.9093238603327827,-1.0179196635185186,-1.5915327426184158,-1.5455267911464803,-1.1582443852656708,-0.5364439261727493,0.14392294490230859,0.7614154488735989,1.2612079199814055,1.637392958794219,2.361779489161227,2.5872478011225497,2.7341410293999706,2.7997430247972,-0.6151338089865043,-0.6232142274962532,-1.3686545139398438,-1.4886748226235993,-1.6614886006962604,-1.790608226643075,-1.6686138047603716,-1.2395697221923183,-0.636840422971759,-0.01331356799560975,0.5395986568955908,0.9870149110020348,2.049966229327802,2.3547817810239673,2.5806274213538067,-0.8881478201120978,-0.9386496277397295,-1.6425433414733936,-1.8038705975333191,-1.7371123411041705,-1.3461557143216156,-0.7569351808589873,-0.12540420496183993,0.4497707004003525,0.9257985490623788,1.8857090880927105,2.2056676254142067,2.443707233361539,2.618037739579524,2.7432311476923457],\"xaxis\":\"x\",\"y\":[1.9061802621787154,1.7323140971412634,-0.18635929653858777,-0.8104183742452308,-1.5275067847078236,-1.9931262690083544,-2.1405217662231477,-2.0650707391222736,-1.8605332795970173,-1.57448334622561,-1.2268970802577142,-0.8755643940786618,0.8923901801366746,0.9608438234020318,0.9960989037444682,1.9672853754597213,1.7612304334886197,1.2559889260517774,0.42234530006868987,-1.3259912798737385,-1.6515519573034663,-1.4831564127178252,-1.2395915498679746,-1.0964723638196552,-0.970525777533348,-0.8452026002202824,-0.7201731061323364,0.33845800162465234,0.3614167225384344,0.38084231040346656,2.1861757580682255,1.9430360449120316,1.3691641855515049,0.025333442404391456,-0.7528548270374894,-1.223796255918229,-1.4011588626101554,-1.3846646953469075,-1.2318594426618148,-0.43996963844959885,-0.17052179512539026,0.004645923301658819,0.11664947421185927,0.18826874997841425,0.23430149482207605,1.8657197730502926,1.773514368336185,0.9686338152810365,0.48829277871081816,-0.24919144293771725,-0.9182622513964278,-1.0972902001632303,-0.6794278528572936,-0.3959938419556906,0.31045147754733965,0.4682773484225956,0.6050247888479944,0.6953579216522521,0.7546954998383573,0.7935127236288692,1.846514601478344,1.7063506485923932,1.351185373786893,-0.21252350617505852,-0.8599051540255188,-1.3444460863887513,-1.5144708913608642,-1.4083944726931032,-1.247959724902445,-0.19339390118415092,-0.11176310356986924,0.1056466484616618,0.24753774188737748,0.339478192604648,0.39895587464787924,2.004009369874303,1.8715442350430367,0.9700733340680885,0.3238978178760413,-0.5006798454235735,-1.1385642429919487,-1.4446369862163466,-1.3975545807277132,-0.930887461219628,-0.09786326809044081,0.1340607759512083,0.2935689411229798,0.3964903906782125,0.4627264884411239,0.5053509407107387,1.9141948313142287,1.6604344005006957,1.0744380266168618,-0.7641537655619457,-1.4435432798954306,-1.80038330940048,-1.8507092525954438,-1.7147799713698244,-0.5680879071606489,-0.3436183072443919,-0.08614740635832877,0.08001569797798551,0.1867042180418808,0.2551715398639296,0.2992447332772591,1.8133055978379187,1.6356041495656632,1.2127567584270467,-0.38931549580625835,-0.8927496375024806,-1.2359845173833168,-1.3334195487302105,-1.2820859891075613,-1.190542577770941,-1.0841715491249777,-0.9673004691262029,0.10426061245446891,0.12947972995407434,0.15465248728733907,0.17789719044177116,2.263888263806785,2.120332265034212,1.738690853325839,0.32836154821676544,-0.452818685162972,-1.0222425185960053,-1.3024604804700086,-1.3690531191913495,-1.313488334079766,-1.2008707082905787,-1.0687967464558603,-0.2503162337974442,-0.19607294553728416,-0.15055073816403078,-0.11330316418127374,1.8444641991912958,1.6231093959411353,0.38430686701773453,-0.35502613223287977,-1.076721107886098,-1.4752069975099633,-1.2616090991927764,-0.9025451162135002,-0.716194962653778,-0.5983118802102054,0.22555675345256132,0.25116717132851674,0.2801076805695149,0.31274073762603904,0.35543142581347015,2.278787642160269,2.13135418099192,1.7420199414106818,0.2880077043444755,-0.4772681791389931,-1.0206556011706438,-1.2805141307472567,-1.3363643202241002,-1.275803998762279,-1.160587524387594,-0.30117796267167235,-0.2423628535085885,-0.19017208809638597,-0.14597703681911908,-0.10951686895336174,2.130233808610324,1.8629578522354087,1.2469035051456638,-0.2859332120443845,-1.0353699441439816,-1.4580601378047127,-1.5905728667476413,-1.542846446631422,-1.4007017423298669,-1.2268349656251352,-1.0685553452195413,-0.31058252417980664,-0.2562043898830069,-0.2069882406462593,-0.15907534001848164,2.015664742214543,1.8130653017006555,1.3117100602909928,-0.17581483281157043,-0.9611667176049065,-1.4510809981951338,-1.5976680100499907,-1.2723527963607295,-0.9131885181468145,-0.7234357672347436,-0.5989598834231606,0.1554082157313739,0.1854279207562604,0.21238292129026415,0.23603565173140847,2.175052236055042,2.057290901950562,1.7322670005210359,0.01211778679478235,-0.7547489404137293,-1.3531260757325227,-1.6382094649802275,-1.6823435236058035,-1.588934212887735,-0.3807088842154399,-0.31553654137955467,-0.2545870582436388,-0.20056370004975127,-0.15487599186723078,-0.11729651597401895,2.182918000757721,1.980993585279099,1.4797217842144947,-0.24554469119506564,-1.0064781644463785,-1.4810670355378137,-1.6589066969198982,-1.6446929999280726,-1.5322769369520568,-1.3802537524980474,-0.3310983331356009,-0.2674751360384589,-0.2136771606737204,-0.16952271304818156,-0.13383512489764884,2.2267502802302257,0.8444954334201165,0.7416363111000032,0.35355395662342776,-0.18524483101570136,-0.4695200864954795,-0.39259340103792156,-0.12727252801965888,0.17292157581391254,0.443988456373495,0.6749979719403079,2.172332603145658,2.2110120581512036,2.2349571594014597,2.2497826632868976,1.9101945835998484,1.7613712187337325,-0.08720996138748677,-0.6633021231533492,-1.3887098417024109,-1.9005337979296542,-2.089809426772764,-2.0401322703800395,-1.8497816999857897,-1.5725633496152156,-1.2312208049287878,-0.8785922325827633,0.876834528316683,0.9501984157605093,0.9880139704292515,1.8972727674728151,1.841518888939738,1.681712842681704,1.2939858712624868,-0.125460228374758,-0.7474699106451448,-1.0962529448640037,-0.87640055051545,-0.6892858444835799,-0.5956414445868471,-0.519980575697509,0.3161644792753781,0.32434258933964716,0.3435033115319429,0.374459823784013,2.2634872090552633,2.101799520996595,1.0052352568262972,0.3280131291959961,-0.39231496874676336,-0.865516624300146,-1.0816911392475077,-1.1236662881351558,-1.0659918262697374,-0.9599275369859579,-0.8354880380522274,-0.7077575131913438,0.0941832808694741,0.1391403449356222,0.17361062500129967,2.1355060505728014,2.0739954275941073,0.711864543868048,0.38397163631969367,-0.2509949106106374,-0.8534886466244616,-1.1173031531987871,-1.0714500478220843,-0.8411944883288927,-0.5261194989444713,0.9709682391522566,1.1034067300021346,1.1798406720013626,1.2244251779810187,1.250923819004039,1.9080088877743664,1.8078109736736214,1.5341534346326984,0.45591538414422406,-0.2900123136535309,-0.8927654084780162,-0.6836555719407073,-0.3512322315967672,-0.13544658737670093,-0.024179973336889458,0.043671196094960923,0.6016352317111315,0.6088112912994339,0.6244809429307869,0.6517318663409138,1.930266254194415,1.6959670297956364,-0.08416370006350528,-0.825076042609473,-1.5351675890814105,-1.9392200595618678,-2.0493271956561654,-1.9774456251611137,-1.8159550069644417,-1.6173243305836478,-1.404027420367173,0.04729386328344511,0.1298648814750324,0.18423053591794147,0.2223220444116363,2.2651847246476278,2.042211409279922,1.0706462776322563,0.2924026220511441,-0.4352063402427553,-0.8997730079709813,-1.1104741743777422,-1.1474901859584061,-1.0888871557096667,-0.9880844757831985,-0.43759152150653596,-0.37167926280801594,-0.30488985943376906,-0.21278715313927304,-0.1150268359603124,1.923330789509032,1.848224693125087,0.5514560118562093,0.16789144224345406,-0.5277600418321675,-1.2363063021836227,-1.676522311373504,-1.8307863875110106,-0.713220735666952,-0.6971647660905725,-0.6330080894554772,-0.5144270561875002,-0.2660200541395076,-0.10607508315727629,-0.003822087428464585,1.9575795019207947,1.885050409476624,0.44928171661814026,0.08527034476183228,-0.5955249756130868,-1.2863261808881663,-1.697334189082418,-1.8175898447015093,-0.5212571887211186,-0.5009481904638229,-0.45197663627697277,-0.3921179123545843,-0.3322677870714909,-0.2772622026982693,-0.22800973975427147,2.13683086598951,0.5867675010310283,0.3992652841370222,-0.10390831581222777,-0.6349923433434712,-0.7928082928820381,-0.6022035602641936,-0.2752343050993733,0.04981089821464758,0.3295528714405664,0.5652481322259576,0.7690927369057176,2.3788113884455964,2.398657692256765,2.410851549587734,2.2043111301160376,1.9595563269915692,0.7660800954748707,-0.03399807510616697,-0.7528055811210353,-1.178207989995451,-1.3413560952407733,-1.3378314929062824,-1.248966998721019,-1.1259845444608947,-0.9961248251765693,-0.25309134020848184,-0.20218394794364392,-0.16009726876261926,-0.12600478804473877,2.1891047110568564,0.9455459977581223,0.8949352370533024,0.5904952766498248,0.040956556236290846,-0.38368770134754493,-0.43689530856009473,-0.22941159196698252,0.061807904906666884,0.3394589110153203,1.7606764474718952,1.8340844557784544,1.8803048291682711,1.908818839834689,1.9262245255530668,1.8461401131760904,1.1722911649604,0.6385357803717354,-0.18384155359315385,-0.9151004593039924,-0.9769794608527113,-0.5342902085390433,-0.21698301695045855,-0.021549915026541987,0.5044370643730406,0.5917136102506667,0.6875062089043942,0.7502993299000876,0.7913453431593497,0.8181742018444922,1.9490671160331583,1.7230052227398824,1.1821664031169232,0.32802148673112885,-1.9475334411814003,-2.2175646825067425,-2.272052513217256,-2.1829431821090837,-0.5211661797762248,-0.47525341062672527,-0.41248866999169204,-0.33870694807645413,-0.20431303433482859,-0.07966723812438763,0.0002953777100874361,1.9981794653132812,1.905620602268086,1.6450528813718113,1.0695667732111354,-0.2099752480502804,-0.8893786238540045,-0.879063491985948,-0.47165371859059674,0.2615056642736681,0.49281319911715477,0.6520222605217683,0.7583613868211991,0.8287333066108162,0.8750450175357787,0.9054818410202575,2.2638211023393207,2.008001638407777,1.4216188806020418,-0.5575562731094306,-1.1938773008052561,-1.4961554470983893,-1.5299320221583828,-1.4077648865280732,-1.2031137339175868,0.16956907369210386,0.28233996203102313,0.35108211403815615,0.3971625604585948,0.4300085464407994,0.4542813788821288,1.7692728906871757,1.5685399231073576,0.4263347242115055,-0.18181707729504365,-0.8041403857425403,-0.998203098236655,-0.698741019017328,-0.5304783324472334,-0.44523610772951533,-0.3762639160963282,0.39678913208060546,0.40213734075154667,0.41740512455933076,0.4422246472673022,0.4867107946583092,2.0386472610547743,1.531212849324884,1.2154127587073311,0.5474075473002866,-0.30040514459887835,-0.9613650355149518,-1.288342748277479,-1.1433633899430768,-0.6759946307125176,0.0079829405627782,0.22955977416112877,0.37531675206555465,0.46947696807178835,0.5300822017758673,0.5690466603869612,1.9025133747147533,1.821716880388871,0.3092726340919002,-0.07312297704403485,-0.7591890655433375,-1.4336229619449707,-1.82595876220992,-1.9333241222786997,-1.8571301780154346,-1.6828206919042803,-0.17023756377256494,-0.08154787331405998,-0.01793457983641512,0.030936725838161844,0.06926191708472171,1.8085306136510104,1.6120597528605578,1.1540070757723815,-0.387128855434901,-0.8136173204608688,-1.0248785014446735,-1.0106871102971269,-0.946300216063617,-0.8794202802127968,-0.8002305510920099,0.1621836038716264,0.17381152527845084,0.1948631638594853,0.22235399149098783,0.25798351208654285,2.0053896858719065,1.558086501538514,1.5019946613721373,1.269530412276135,0.7167107500429583,-0.0886401276942373,-0.8049439376923395,-1.2169427526198067,-1.308498448864014,-0.4390776650251911,-0.06437708954714039,0.18522443328009291,0.3483189744228822,0.45387372489847677,0.5218946795786923,2.0008755550436508,1.972796507843686,1.8867859533479467,1.112468126583768,0.6303827479582532,-0.13234680793421472,-0.8586666825125909,-1.2937167200922761,-1.3750909995266232,-0.38191606575677295,-0.01301675508047467,0.2346436087952382,0.3971891068320141,0.5028660665282183,0.571158988600388,1.9916560056342558,1.402998443309129,1.1261786403716538,0.504243723737902,-0.32775044913109097,-1.0032739050399953,-1.3512727031400618,-1.3492661513635258,-0.8638761336295718,-0.07667698686477696,0.16226702128621914,0.32113384214706975,0.42370848583280846,0.48969632562316695,0.532209508605627,2.3041529485262138,0.6926143369140488,0.27855512107913666,-0.29179183843519485,-0.56968263645649,-0.46388863522326385,-0.1735671138943344,0.14226825690574,0.4231846319227331,2.025747371309417,2.08686481287993,2.124971173703528,2.148465809969756,2.1628722213554123,2.171796613002623,2.044126100662203,1.0886732294525021,0.7379773097455783,0.03523209454784429,-0.7496501586525389,-1.2846698078674745,-1.5188562169307611,-1.5446469554659625,-1.4582400900947463,-1.3236197394596652,-0.38703373785823747,-0.3238077453988491,-0.2683280996798969,-0.22174894032867765,-0.1836022043895917,2.112899515204517,1.8612634878562064,1.2703149460547516,-0.8788188560075652,-1.573730102425516,-1.9436696207730026,-2.023857940052068,-1.9305278268973056,-1.7520355746755136,-1.5348461196784495,-0.04394336848190412,0.05005909879876657,0.11215699118589433,0.15611629155018422,0.1886403137203773,2.063747986384065,1.147943966344395,0.983898681437376,0.5025114966491518,-0.24646253983698768,-0.9106767875730118,-1.2868818122594838,-1.4123596083793701,-0.5545658949984387,-0.5363973992500617,-0.48527011693186545,-0.42158355852062646,-0.35418110981946804,-0.2750681762707682,-0.1500274708845292,1.8785310666480275,1.7936100622735527,1.5607005126109885,0.5238397913901721,-0.165022972702889,-0.7666508267505407,-0.6063246772771892,-0.3128219844351395,-0.1297414187252847,-0.03913433025530314,0.018928320870329567,0.601561252305459,0.6035981283567501,0.6171122258932832,0.647813952617514,2.1651383592769737,2.0839962700794388,1.8490529781409142,0.2969649682950715,-0.4344695443073689,-1.118358143347434,-1.5097840127215139,-1.6299528644582921,-1.5815985032243771,-0.438677790849324,-0.3820304691764046,-0.3218539211427914,-0.26523315853168533,-0.21555221206458747,-0.17393033747439754,2.1756163183892037,2.047962494856702,1.700072403177473,1.0014478418910822,-1.1244463954074768,-1.7044531714241278,-1.9681520728713404,-1.9884594769040855,-0.6323003334560895,-0.586485242778658,-0.520629318016432,-0.4505256123321079,-0.3822525534617312,-0.3116990669471674,-0.20858616045711872,2.366035610407643,2.294948245710726,1.4774181381799687,1.058932158051394,0.4109114804610681,-0.12327191153584142,-0.3810332802420338,-0.44700684200247887,0.198310175594457,0.19955837576902366,0.20633975370584037,0.22159660101691975,0.24183430687790464,0.2635062260486045,0.2842692824913766,2.190993622217026,1.9378814802011057,1.3479911307224035,0.4617748115252349,-1.0498356510875784,-1.485209695369788,-1.6286092036017221,-1.5896754935479438,-0.7704212728108462,-0.5805686771116041,-0.28187646228847996,-0.08995802026534928,0.03261614720555918,0.110937884654522,0.16125533281741414,2.1939874961830723,2.029097169954611,0.2250258666019754,-0.3931691242958231,-0.9954554650689774,-1.2052328272352166,-1.0487150548962092,-0.7044884804788218,-0.33208029038002057,1.3593294793152018,1.4649276543047378,1.526050088823404,1.5611505399944405,1.5814029093587545,1.5933878704192561,2.3152182673559376,0.8346911432776671,0.5736986641658317,0.04644361522602699,-0.3845109191004016,-0.43705774363169825,-0.2190662196926099,0.08310666841571442,0.3721725993865609,0.6217116178317712,0.8348330362744236,2.3459735206182466,2.3752198093420063,2.3932208813014295,2.4045029404178666,2.13916881838053,2.0091093687564454,0.24613148025844503,-0.30561116727127596,-0.9727581072667363,-1.3234388474399392,-1.27666819836656,-0.9776414869738675,-0.5892317510005791,-0.23481600234570363,0.047476371275216894,1.6834336370166538,1.727238149853168,1.7517845774360812,1.7658456292664073,2.054929419897456,1.8839352172065795,1.4437132985059344,0.0853608040772341,-0.7319016886152233,-1.2915053905359655,-1.5132918196446579,-1.3033706925641038,-0.3132989105110253,0.0047755685188303875,0.21568815108386608,0.35246918086426793,0.4405868891927568,0.4972753952801827,0.5337220952054139,2.1162022198888337,1.9742619368675312,1.5946393023783598,-0.3385045427962082,-1.0996972907278086,-1.6474877967236603,-1.8768351274276671,-1.8750712184249065,-1.7459405980277625,-1.5562731874327362,-0.13946770146054321,-0.05495090650331843,0.005539494469063553,0.05127282276035689,0.08653908513625927,1.983761310929945,1.945724172246404,1.8311400477468587,1.5251862380135184,-0.09207964845718289,-0.8175620251007725,-1.4287238430680274,-1.7493563340458023,-1.8201789643883373,-1.7438500852800844,-1.6019235013237587,-0.44351888101112924,-0.3815623403037081,-0.3201208718911848,-0.26023096386510053,2.2400853209082223,2.1263595166585687,1.8111754681551229,1.1564370741983057,-0.8850281443064069,-1.4918521893809793,-1.7850066942737381,-1.8271015622380218,-1.7234299719187598,-0.3787497274481089,-0.31000829419995374,-0.24748563961149458,-0.19274717087405518,-0.14675363346862397,-0.10893158838964095,2.032523249450504,1.9142278817029061,1.5903074437156028,-0.11685513836200083,-0.8844631202386092,-1.5048587891438265,-1.8146262490213056,-1.8734843636972343,-1.788263370449005,-1.6374429468034888,-1.4642675307291604,-0.24672898067365978,-0.18735219051786628,-0.13861138013263202,-0.09932069196945932,2.1055957034630604,1.9576457617651672,1.5650432636047664,0.4217374633861234,-0.4244711786809175,-1.0490651627660164,-1.3334852140357198,-1.0828475019099615,-0.6411550621923595,-0.35529536481428436,0.20224641804483684,0.3302736269268417,0.42944603740952403,0.4933137650187701,0.5344125120911345,1.8581069208740009,1.685916800304331,1.2605502505054555,0.5374868918369482,-1.2322597317303603,-1.4312794850958104,-1.5971195686787245,-1.6362448565254268,-1.5746836333080168,-1.4455061370673603,-1.2690186476203957,0.4072525238233722,0.483144587328319,0.5321089252331961,0.5659673602080769,2.038477453017033,1.8049918711754573,0.34730579070657525,-0.4383005780167155,-1.1841987056458863,-1.6200959790180534,-1.7625864086478142,-1.7236097939031967,-1.5967950167629315,-1.4375573853686796,-1.2732313519150142,-0.21552648166943406,-0.16112487467928172,-0.11758827530055005,-0.0829097437612558,1.919004003349251,1.8072636326669889,0.6388446985293706,0.10008022993326163,-0.6702480579661089,-1.320229157737581,-1.6642632246763893,-1.7461347356986532,-1.6726011919534864,-1.5305965932557644,-0.5052352043689944,-0.4335576779075881,-0.34593483084694276,-0.19042419791647333,-0.08283479852412456,2.28818958213984,2.1023991298813063,1.6372055319834682,-0.2827807594366804,-0.9578058198127112,-1.3175854149087365,-1.377144641988966,-1.2524109504692365,-1.0264027900447192,-0.7457226706706794,0.6809928004304026,0.8048288037667898,0.8750735009087302,0.9164707638655899,0.9419740967405411,2.0515178948882387,1.827633212830359,1.285483092454498,-0.6815288319074305,-1.4143184595854648,-1.8442032607446968,-1.9756542765183083,-1.9213308077522946,-1.7766642604730596,-1.5977479715205147,-0.3131232953938614,-0.24799531489801088,-0.19415239052859748,-0.15050881180932388,-0.11558181394128408,2.236834198947217,1.9997972822755405,1.4401364361412536,0.5814531886382655,-0.6378784544666726,-1.1260183038437726,-1.3207620877769952,-1.31267338763095,-1.06207467370486,-0.7071617783621691,-0.10013671848933703,0.056723163327594986,0.1669474690627154,0.23747196794819256,0.2827605807571806,2.3462230008512983,1.1694651558004219,0.9760717971723255,0.4947456608150358,-0.033871412553600724,-0.2418386050829442,-0.12717861293694518,0.12856106439531037,0.398537253778358,0.6351946035647319,1.8985065053568788,1.9538662300295075,1.9885209596011215,2.0099437637665516,2.0231968163698304,2.1576138502568694,2.1037500637625377,1.4457958864366078,1.0856771337821278,0.3907615934425867,-0.4046033153320178,-0.9828731147354755,-1.2675170319268323,-1.3332354798688701,-1.2714708379015225,-1.1456359458993097,-0.9981747919295821,-0.36544567550095514,-0.27882771299656844,-0.14022821942646516,2.27762663989041,1.4381310167179764,1.233786226598415,0.7253887626601054,0.08127808052330852,-0.3333305929208427,-0.45406587414932975,-0.39881289272273995,0.4810994664000429,0.5457576585181204,0.5823042060705675,0.6070843913724121,0.6263856475452114,0.6424227005393374,0.6560912994850966,2.333773587128348,2.2650114634544773,2.0628403510419675,1.5821696655775352,0.29480030138160346,-0.43984566923369606,-0.932603626265151,-1.1634579858729563,-1.2098621764769957,-0.6417394085821696,-0.5883532006103923,-0.4951243068244084,-0.2612362227468328,-0.09408214841443531,0.012861829827132807,2.011107276005082,1.7534361704075783,1.1537815742708655,0.255011927030918,-1.9831001680299734,-2.293068478658198,-2.337209021534624,-2.2269213978321547,-2.0439112180838066,-1.831734839964689,-1.6078691862237429,0.06525949760709586,0.14354892484359902,0.19563843126536185,0.23246370803468983,1.8433680277030207,1.6550269511362592,1.2008670206098282,-0.6375797209217667,-1.2582670802974898,-1.6664939357600332,-1.806847531409144,-1.7688885792361455,-1.6495813664847836,-1.4991538860617406,-1.338315836574038,-0.07139514643237813,-0.02903724005166186,0.007480241742981424,0.03791335226605895,1.973402190477951,1.7589845064546574,1.2376768739994715,0.3914739665174141,-1.7790246800606968,-2.118496828259014,-2.1958278423731215,-2.114604773586149,-1.9563141137258406,-0.4078009973973107,-0.349870546560338,-0.2926580661401063,-0.24086451895600453,-0.19608417986366009,-0.15789649180259308,2.2377552073839873,2.1449662795255793,1.8803964549449204,0.25732823604712945,-0.4728014106826141,-1.080322787271835,-1.377009590356215,-1.4257456775675357,-1.3295437212436827,-1.1577104469218906,-0.946583344789016,-0.7126660760613346,0.5638437487989841,0.6583417388444508,0.7129127144842115,2.061176622047818,0.745345227121907,0.44225695829802864,-0.20247411346387667,-0.8793389530641768,-1.239695252494624,-1.2823813190731177,-1.1287155460874196,-0.8678708702211808,-0.5591924084252288,-0.261529275948574,1.1362249833440274,1.206586407565923,1.244611850967198,1.265699615204912,2.2669181149812707,2.159069694752413,1.8581891648917859,0.2511699486206932,-0.4863961593378736,-1.0515020055644382,-1.3104936591434493,-1.3433976832619805,-0.27379141433576853,-0.23762647953686714,-0.1937209994141506,-0.1467028095460465,-0.10205559705084827,-0.0624638686239744,-0.028984159583883073,1.7747823800558857,1.5694712040300045,-0.19167754801146203,-0.7940665694962367,-1.4658365508564968,-1.9108713651079348,-2.075446708931519,-2.0439783795915765,-0.6001893401347599,-0.5532911551800647,-0.4872169674839891,-0.4125732289597884,-0.29703073207039077,-0.155658337728639,-0.06517544017938998,1.8608589399136568,0.5941982806991172,0.5715140676412862,0.30999811131145155,-0.2894095373788419,-1.0017331926724284,-1.4761636936203593,-1.6388391445961583,-1.5845278153384699,-1.4063332012657614,-1.1575981145775303,-0.8659348873084585,0.645476574678793,0.7585313168969996,0.8206417882606042,2.161971783305193,2.059840638595579,1.7722202092129584,0.07303388290126536,-0.6819691957168299,-1.312887331236828,-1.6329955628162691,-1.6981220849075023,-1.6132565972004458,-1.4545062386398713,-1.2630640035267684,-1.05548559617427,0.2416270545861013,0.3288042992356941,0.3832222654028383,2.055793504834257,1.9830676164360421,1.1147063790607814,0.6808814422015222,-0.06782100674204201,-0.825978741740135,-1.31313707075438,-1.5092547607578508,-1.5095365059079895,-0.7493644568438246,-0.5903893701137944,-0.27634677174047384,-0.0738038327800728,0.055875415201432924,0.13878101142112353,2.2394695244646097,1.9747209023980123,0.022358830668599176,-0.6658828220025365,-1.0942795757923929,-1.0907122873137034,-0.8110596303643436,-0.440483514583594,-0.09998358779019513,0.1750077219935562,0.3968955899989135,1.9345111248809133,1.9609748691094007,1.9763450448954227,1.9854588549299252,2.061677944895982,1.870999112127186,0.58392416107371,-0.15762575469223247,-0.9417246010382424,-1.4506518484607207,-1.6538055231298237,-1.653678189449432,-1.548967640764427,-1.4031021373193695,-0.4416076846122801,-0.37648847519196893,-0.3190964620533507,-0.270469392035064,-0.22991282740770175,2.3492171931287538,2.211349807883334,1.8454083093240956,0.4040921355803555,-0.2998654505664595,-0.7693243111091242,-0.9738595005424016,-1.0040352596482391,-0.9357142403754845,-0.8176473087680655,0.0757764609461854,0.1327665357741576,0.17670076414541697,0.211782527472213,0.24017285713214157,2.0824218708153115,2.0169169818609625,1.8241914262302141,0.7200199989458148,-0.007561991697313387,-0.7816881510353844,-1.2987910299962724,-1.5139380816192667,-1.5131871682694384,-1.378057675809228,-1.1755541389520576,-0.36486297277029794,-0.21553478998283035,-0.056355271993730485,0.04545241057677826,2.108013897291402,1.9690041880098215,1.5960216083308882,0.05486406620128991,-0.7481229617463672,-1.3505404134148264,-1.6366901588574663,-1.6852481843701137,-1.601969856872217,-0.6486248557770439,-0.5729075395423479,-0.464820752224576,-0.25774253042887724,-0.12227856091453529,-0.03570260248383468,2.169039408749919,1.9725804493774506,1.481183154836125,0.6484961905765279,-0.8047544696560743,-1.32841189004124,-1.535538948766402,-1.5148845953388417,-1.2819420189410393,-0.9540973907450223,-0.18855699122881353,-0.055757648671802704,0.07764805984518015,0.162948606719471,0.21782020978689556,2.102159468983845,1.8539288139917756,-0.009772808016075293,-0.7623527922136178,-1.4099719698753834,-1.7063207969452625,-1.712369216742666,-1.5461053261249706,-1.282678884386786,-0.9628967170589638,-0.6367641389765869,0.916216388039437,0.9944141010344049,1.0354583915062956,1.0578621678465137,2.1331890544367864,2.081943930327104,1.4442264824283333,1.0979568693766084,0.4132858545500324,-0.392248381254411,-0.9897603248192702,-1.28688087408608,-1.3547185044699441,-1.2812634073776756,-0.6244002125835844,-0.3057626294674994,-0.08286945301875054,0.06023926573744318,0.15167330139926272,2.2930909698523685,2.078676600239921,1.5626052768127303,-0.09849410141969621,-0.7879309077905698,-1.1862119352878904,-1.3245265575634149,-1.3012115984655335,-1.193233211291368,-0.2006872126224046,-0.13959789248393117,-0.0868378236638453,-0.042024322400944586,-0.004810321802167647,0.025666289555639307,2.1504618527128923,1.9431642360762578,1.431032717568348,0.5820729643876458,-1.608684539325601,-2.0384436793526706,-2.1653598701018972,-2.0981546340302524,-1.932620045751083,-1.723886801299283,-1.49489144839914,0.08410585210583575,0.1787822483707557,0.2386080582972933,0.2790099425452533,1.9311266569809906,0.35229260175959565,0.056073782662618955,-0.590830468175698,-1.2827495221358116,-1.6546492636389916,-1.6790149016108593,-1.472136921525538,-1.1307766288703014,-0.7446521907082345,0.9977459867397804,1.1084876369783527,1.1676747009431288,1.1998437802039466,1.2179697397562106,2.3308207648016186,2.2876460367738467,1.1743227213392915,0.9325095720012835,0.4109586941364407,-0.11184696467345438,-0.30747257365680025,-0.20074099889773328,0.043720296120582154,1.2899441033256032,1.415846625639344,1.4995565054133468,1.5530568816509713,1.5868129901434138,1.6080204246974288,1.981066994110699,1.7655361149315594,0.216940783578699,-0.5306224010456034,-1.2769896713036806,-1.7276743907484502,-1.8783581399444833,-1.8387057712852921,-1.705050901977373,-1.5351493083685341,-0.3321931309493821,-0.2675987619570581,-0.21353779352465155,-0.16944206186294117,-0.13398583318872248,2.2383926391134996,2.0799840179361135,0.5248281796931602,-0.09754658200204316,-0.7204572452278077,-0.9965556714949084,-0.9466514910150263,-0.7101648767466692,-0.3968067028180065,-0.08959177663435884,0.16551450868822765,0.3679969089581304,1.6763616964845205,1.7026148210333145,1.7175783592901819,1.9742902994160043,1.9292473882208059,0.9554755366083858,0.6925023795128619,0.09241718907053299,-0.6811508402357035,-1.2820925623701238,-1.5813478003815766,-1.6447455419303547,-1.5735844362082676,-1.4414163262246644,-1.2900187662731102,-0.29900321388724,-0.24294057855752005,-0.1955253880743368,1.8019988344271405,1.6149863979155774,1.1787783073209064,-0.7150601335987978,-1.1875175911103397,-1.5895285130065349,-1.7865083722315036,-1.8101080478517269,-1.725809802575828,-0.3170636114560887,-0.2816434387531411,-0.23557259529470534,-0.18720045686755227,-0.13950991924820738,-0.09063622367510493,2.0534455654783743,2.0165017195584394,1.9038622276692578,1.5987941250540019,-0.4816440334684702,-1.1820591286286153,-1.761884142231887,-2.037143618515029,-2.0533939538059984,-0.45977649200307313,-0.411314527172658,-0.3540646134524263,-0.29534305699283653,-0.2413671317785447,-0.19467912760564793,2.321811098919569,2.1324568590167883,0.27255853739083025,-0.31947063268050835,-0.7449926576594049,-0.7491811146347218,-0.48201888336725857,-0.14452722813877153,0.16447946043819142,0.42417067125278723,2.03384427294587,2.0785226417218277,2.105674400604089,2.122054922167429,2.132092987652679,1.9973429760950165,1.9504622554805027,1.8105314118444231,0.6509843851135368,0.04172790438332464,-0.7295757061189588,-1.3221022650342042,-1.6101182205611155,-1.659146505053162,-0.7729914586600855,-0.5771233620692525,-0.24184747527396924,-0.024428216312655793,0.11524915860711724,0.2047444542446968,1.902351945047214,0.834913706392362,0.5078572154390173,-0.17170100981738345,-0.9571421523814965,-1.5037024513097201,-1.7377130346017224,-1.7520333349310548,-1.6498866756255814,-1.4996923793655645,-1.337116537824079,-0.27454722184787544,-0.21866416532025834,-0.17263024384153158,-0.13528091486712085,2.167856064024212,1.9926150869211252,1.5427321663982323,0.15092969961168975,-0.66304662498014,-1.2211550191992215,-1.4681964366071352,-1.4965675849647615,-1.403062620385317,-1.2545754129948272,-1.0987081755709118,-0.36919608209942506,-0.30389593378278806,-0.226719440653958,-0.12674764881346254,1.8628462976916644,1.832113662058558,0.798688911113053,0.6573300367943179,0.21745549387776789,-0.5011309968666029,-1.1855951163889422,-1.5952580052610714,-1.7337392608692705,-1.699113810557373,-1.577683151573722,-1.4228466931104924,-0.31573349322433353,-0.257182681039695,-0.20674013194774746,2.201272578440111,2.013330245052566,0.7666911126566572,0.04159982505357346,-0.6942689776748519,-1.1569671224055234,-1.346019633916769,-1.355479129902351,-1.2681703181875272,-1.1381038263994068,-0.2218503192252682,-0.1627256713883422,-0.11270777087341957,-0.07148549394942826,-0.03790417042983437],\"yaxis\":\"y\",\"type\":\"scattergl\"}],                        {\"template\":{\"data\":{\"bar\":[{\"error_x\":{\"color\":\"#2a3f5f\"},\"error_y\":{\"color\":\"#2a3f5f\"},\"marker\":{\"line\":{\"color\":\"#E5ECF6\",\"width\":0.5},\"pattern\":{\"fillmode\":\"overlay\",\"size\":10,\"solidity\":0.2}},\"type\":\"bar\"}],\"barpolar\":[{\"marker\":{\"line\":{\"color\":\"#E5ECF6\",\"width\":0.5},\"pattern\":{\"fillmode\":\"overlay\",\"size\":10,\"solidity\":0.2}},\"type\":\"barpolar\"}],\"carpet\":[{\"aaxis\":{\"endlinecolor\":\"#2a3f5f\",\"gridcolor\":\"white\",\"linecolor\":\"white\",\"minorgridcolor\":\"white\",\"startlinecolor\":\"#2a3f5f\"},\"baxis\":{\"endlinecolor\":\"#2a3f5f\",\"gridcolor\":\"white\",\"linecolor\":\"white\",\"minorgridcolor\":\"white\",\"startlinecolor\":\"#2a3f5f\"},\"type\":\"carpet\"}],\"choropleth\":[{\"colorbar\":{\"outlinewidth\":0,\"ticks\":\"\"},\"type\":\"choropleth\"}],\"contour\":[{\"colorbar\":{\"outlinewidth\":0,\"ticks\":\"\"},\"colorscale\":[[0.0,\"#0d0887\"],[0.1111111111111111,\"#46039f\"],[0.2222222222222222,\"#7201a8\"],[0.3333333333333333,\"#9c179e\"],[0.4444444444444444,\"#bd3786\"],[0.5555555555555556,\"#d8576b\"],[0.6666666666666666,\"#ed7953\"],[0.7777777777777778,\"#fb9f3a\"],[0.8888888888888888,\"#fdca26\"],[1.0,\"#f0f921\"]],\"type\":\"contour\"}],\"contourcarpet\":[{\"colorbar\":{\"outlinewidth\":0,\"ticks\":\"\"},\"type\":\"contourcarpet\"}],\"heatmap\":[{\"colorbar\":{\"outlinewidth\":0,\"ticks\":\"\"},\"colorscale\":[[0.0,\"#0d0887\"],[0.1111111111111111,\"#46039f\"],[0.2222222222222222,\"#7201a8\"],[0.3333333333333333,\"#9c179e\"],[0.4444444444444444,\"#bd3786\"],[0.5555555555555556,\"#d8576b\"],[0.6666666666666666,\"#ed7953\"],[0.7777777777777778,\"#fb9f3a\"],[0.8888888888888888,\"#fdca26\"],[1.0,\"#f0f921\"]],\"type\":\"heatmap\"}],\"heatmapgl\":[{\"colorbar\":{\"outlinewidth\":0,\"ticks\":\"\"},\"colorscale\":[[0.0,\"#0d0887\"],[0.1111111111111111,\"#46039f\"],[0.2222222222222222,\"#7201a8\"],[0.3333333333333333,\"#9c179e\"],[0.4444444444444444,\"#bd3786\"],[0.5555555555555556,\"#d8576b\"],[0.6666666666666666,\"#ed7953\"],[0.7777777777777778,\"#fb9f3a\"],[0.8888888888888888,\"#fdca26\"],[1.0,\"#f0f921\"]],\"type\":\"heatmapgl\"}],\"histogram\":[{\"marker\":{\"pattern\":{\"fillmode\":\"overlay\",\"size\":10,\"solidity\":0.2}},\"type\":\"histogram\"}],\"histogram2d\":[{\"colorbar\":{\"outlinewidth\":0,\"ticks\":\"\"},\"colorscale\":[[0.0,\"#0d0887\"],[0.1111111111111111,\"#46039f\"],[0.2222222222222222,\"#7201a8\"],[0.3333333333333333,\"#9c179e\"],[0.4444444444444444,\"#bd3786\"],[0.5555555555555556,\"#d8576b\"],[0.6666666666666666,\"#ed7953\"],[0.7777777777777778,\"#fb9f3a\"],[0.8888888888888888,\"#fdca26\"],[1.0,\"#f0f921\"]],\"type\":\"histogram2d\"}],\"histogram2dcontour\":[{\"colorbar\":{\"outlinewidth\":0,\"ticks\":\"\"},\"colorscale\":[[0.0,\"#0d0887\"],[0.1111111111111111,\"#46039f\"],[0.2222222222222222,\"#7201a8\"],[0.3333333333333333,\"#9c179e\"],[0.4444444444444444,\"#bd3786\"],[0.5555555555555556,\"#d8576b\"],[0.6666666666666666,\"#ed7953\"],[0.7777777777777778,\"#fb9f3a\"],[0.8888888888888888,\"#fdca26\"],[1.0,\"#f0f921\"]],\"type\":\"histogram2dcontour\"}],\"mesh3d\":[{\"colorbar\":{\"outlinewidth\":0,\"ticks\":\"\"},\"type\":\"mesh3d\"}],\"parcoords\":[{\"line\":{\"colorbar\":{\"outlinewidth\":0,\"ticks\":\"\"}},\"type\":\"parcoords\"}],\"pie\":[{\"automargin\":true,\"type\":\"pie\"}],\"scatter\":[{\"marker\":{\"colorbar\":{\"outlinewidth\":0,\"ticks\":\"\"}},\"type\":\"scatter\"}],\"scatter3d\":[{\"line\":{\"colorbar\":{\"outlinewidth\":0,\"ticks\":\"\"}},\"marker\":{\"colorbar\":{\"outlinewidth\":0,\"ticks\":\"\"}},\"type\":\"scatter3d\"}],\"scattercarpet\":[{\"marker\":{\"colorbar\":{\"outlinewidth\":0,\"ticks\":\"\"}},\"type\":\"scattercarpet\"}],\"scattergeo\":[{\"marker\":{\"colorbar\":{\"outlinewidth\":0,\"ticks\":\"\"}},\"type\":\"scattergeo\"}],\"scattergl\":[{\"marker\":{\"colorbar\":{\"outlinewidth\":0,\"ticks\":\"\"}},\"type\":\"scattergl\"}],\"scattermapbox\":[{\"marker\":{\"colorbar\":{\"outlinewidth\":0,\"ticks\":\"\"}},\"type\":\"scattermapbox\"}],\"scatterpolar\":[{\"marker\":{\"colorbar\":{\"outlinewidth\":0,\"ticks\":\"\"}},\"type\":\"scatterpolar\"}],\"scatterpolargl\":[{\"marker\":{\"colorbar\":{\"outlinewidth\":0,\"ticks\":\"\"}},\"type\":\"scatterpolargl\"}],\"scatterternary\":[{\"marker\":{\"colorbar\":{\"outlinewidth\":0,\"ticks\":\"\"}},\"type\":\"scatterternary\"}],\"surface\":[{\"colorbar\":{\"outlinewidth\":0,\"ticks\":\"\"},\"colorscale\":[[0.0,\"#0d0887\"],[0.1111111111111111,\"#46039f\"],[0.2222222222222222,\"#7201a8\"],[0.3333333333333333,\"#9c179e\"],[0.4444444444444444,\"#bd3786\"],[0.5555555555555556,\"#d8576b\"],[0.6666666666666666,\"#ed7953\"],[0.7777777777777778,\"#fb9f3a\"],[0.8888888888888888,\"#fdca26\"],[1.0,\"#f0f921\"]],\"type\":\"surface\"}],\"table\":[{\"cells\":{\"fill\":{\"color\":\"#EBF0F8\"},\"line\":{\"color\":\"white\"}},\"header\":{\"fill\":{\"color\":\"#C8D4E3\"},\"line\":{\"color\":\"white\"}},\"type\":\"table\"}]},\"layout\":{\"annotationdefaults\":{\"arrowcolor\":\"#2a3f5f\",\"arrowhead\":0,\"arrowwidth\":1},\"autotypenumbers\":\"strict\",\"coloraxis\":{\"colorbar\":{\"outlinewidth\":0,\"ticks\":\"\"}},\"colorscale\":{\"diverging\":[[0,\"#8e0152\"],[0.1,\"#c51b7d\"],[0.2,\"#de77ae\"],[0.3,\"#f1b6da\"],[0.4,\"#fde0ef\"],[0.5,\"#f7f7f7\"],[0.6,\"#e6f5d0\"],[0.7,\"#b8e186\"],[0.8,\"#7fbc41\"],[0.9,\"#4d9221\"],[1,\"#276419\"]],\"sequential\":[[0.0,\"#0d0887\"],[0.1111111111111111,\"#46039f\"],[0.2222222222222222,\"#7201a8\"],[0.3333333333333333,\"#9c179e\"],[0.4444444444444444,\"#bd3786\"],[0.5555555555555556,\"#d8576b\"],[0.6666666666666666,\"#ed7953\"],[0.7777777777777778,\"#fb9f3a\"],[0.8888888888888888,\"#fdca26\"],[1.0,\"#f0f921\"]],\"sequentialminus\":[[0.0,\"#0d0887\"],[0.1111111111111111,\"#46039f\"],[0.2222222222222222,\"#7201a8\"],[0.3333333333333333,\"#9c179e\"],[0.4444444444444444,\"#bd3786\"],[0.5555555555555556,\"#d8576b\"],[0.6666666666666666,\"#ed7953\"],[0.7777777777777778,\"#fb9f3a\"],[0.8888888888888888,\"#fdca26\"],[1.0,\"#f0f921\"]]},\"colorway\":[\"#636efa\",\"#EF553B\",\"#00cc96\",\"#ab63fa\",\"#FFA15A\",\"#19d3f3\",\"#FF6692\",\"#B6E880\",\"#FF97FF\",\"#FECB52\"],\"font\":{\"color\":\"#2a3f5f\"},\"geo\":{\"bgcolor\":\"white\",\"lakecolor\":\"white\",\"landcolor\":\"#E5ECF6\",\"showlakes\":true,\"showland\":true,\"subunitcolor\":\"white\"},\"hoverlabel\":{\"align\":\"left\"},\"hovermode\":\"closest\",\"mapbox\":{\"style\":\"light\"},\"paper_bgcolor\":\"white\",\"plot_bgcolor\":\"#E5ECF6\",\"polar\":{\"angularaxis\":{\"gridcolor\":\"white\",\"linecolor\":\"white\",\"ticks\":\"\"},\"bgcolor\":\"#E5ECF6\",\"radialaxis\":{\"gridcolor\":\"white\",\"linecolor\":\"white\",\"ticks\":\"\"}},\"scene\":{\"xaxis\":{\"backgroundcolor\":\"#E5ECF6\",\"gridcolor\":\"white\",\"gridwidth\":2,\"linecolor\":\"white\",\"showbackground\":true,\"ticks\":\"\",\"zerolinecolor\":\"white\"},\"yaxis\":{\"backgroundcolor\":\"#E5ECF6\",\"gridcolor\":\"white\",\"gridwidth\":2,\"linecolor\":\"white\",\"showbackground\":true,\"ticks\":\"\",\"zerolinecolor\":\"white\"},\"zaxis\":{\"backgroundcolor\":\"#E5ECF6\",\"gridcolor\":\"white\",\"gridwidth\":2,\"linecolor\":\"white\",\"showbackground\":true,\"ticks\":\"\",\"zerolinecolor\":\"white\"}},\"shapedefaults\":{\"line\":{\"color\":\"#2a3f5f\"}},\"ternary\":{\"aaxis\":{\"gridcolor\":\"white\",\"linecolor\":\"white\",\"ticks\":\"\"},\"baxis\":{\"gridcolor\":\"white\",\"linecolor\":\"white\",\"ticks\":\"\"},\"bgcolor\":\"#E5ECF6\",\"caxis\":{\"gridcolor\":\"white\",\"linecolor\":\"white\",\"ticks\":\"\"}},\"title\":{\"x\":0.05},\"xaxis\":{\"automargin\":true,\"gridcolor\":\"white\",\"linecolor\":\"white\",\"ticks\":\"\",\"title\":{\"standoff\":15},\"zerolinecolor\":\"white\",\"zerolinewidth\":2},\"yaxis\":{\"automargin\":true,\"gridcolor\":\"white\",\"linecolor\":\"white\",\"ticks\":\"\",\"title\":{\"standoff\":15},\"zerolinecolor\":\"white\",\"zerolinewidth\":2}}},\"xaxis\":{\"anchor\":\"y\",\"domain\":[0.0,1.0],\"title\":{\"text\":\"Principal Component - 1\"}},\"yaxis\":{\"anchor\":\"x\",\"domain\":[0.0,1.0],\"title\":{\"text\":\"Principal Component - 2\"}},\"legend\":{\"tracegroupgap\":0},\"title\":{\"text\":\"PCA Score plot\"}},                        {\"responsive\": true}                    ).then(function(){\n",
              "                            \n",
              "var gd = document.getElementById('ba69af3b-ff4a-4b77-a5f3-0d2c8b2bdd89');\n",
              "var x = new MutationObserver(function (mutations, observer) {{\n",
              "        var display = window.getComputedStyle(gd).display;\n",
              "        if (!display || display === 'none') {{\n",
              "            console.log([gd, 'removed!']);\n",
              "            Plotly.purge(gd);\n",
              "            observer.disconnect();\n",
              "        }}\n",
              "}});\n",
              "\n",
              "// Listen for the removal of the full notebook cells\n",
              "var notebookContainer = gd.closest('#notebook-container');\n",
              "if (notebookContainer) {{\n",
              "    x.observe(notebookContainer, {childList: true});\n",
              "}}\n",
              "\n",
              "// Listen for the clearing of the current output cell\n",
              "var outputEl = gd.closest('.output');\n",
              "if (outputEl) {{\n",
              "    x.observe(outputEl, {childList: true});\n",
              "}}\n",
              "\n",
              "                        })                };                            </script>        </div>\n",
              "</body>\n",
              "</html>"
            ]
          },
          "metadata": {}
        }
      ]
    },
    {
      "cell_type": "code",
      "source": [
        "# Loading plot of PCA\n",
        "loadings = pca.components_.T * np.sqrt(pca.explained_variance_)\n",
        "features = list(owu.columns)\n",
        "\n",
        "fig = px.scatter(x=[0,0], y=[0,0], labels={'x':\"Principal Component - \"+str(select_x_pca), 'y':\"Principal Component - \"+str(select_y_pca)}, title=\"PCA Loading plot\")\n",
        "for i, feature in enumerate(features):\n",
        "    fig.add_shape(type='line', x0=0, y0=0, x1=loadings[i, 0], y1=loadings[i, 1])\n",
        "    fig.add_annotation(x=loadings[i, 0], y=loadings[i, 1], ax=0, ay=0, xanchor=\"center\", yanchor=\"bottom\", text=feature)\n",
        "fig.show()\n"
      ],
      "metadata": {
        "id": "jy2HYKJHaXfE",
        "outputId": "34b261f0-c577-46de-995d-ad83e2794840",
        "colab": {
          "base_uri": "https://localhost:8080/",
          "height": 542
        }
      },
      "execution_count": 81,
      "outputs": [
        {
          "output_type": "display_data",
          "data": {
            "text/html": [
              "<html>\n",
              "<head><meta charset=\"utf-8\" /></head>\n",
              "<body>\n",
              "    <div>            <script src=\"https://cdnjs.cloudflare.com/ajax/libs/mathjax/2.7.5/MathJax.js?config=TeX-AMS-MML_SVG\"></script><script type=\"text/javascript\">if (window.MathJax) {MathJax.Hub.Config({SVG: {font: \"STIX-Web\"}});}</script>                <script type=\"text/javascript\">window.PlotlyConfig = {MathJaxConfig: 'local'};</script>\n",
              "        <script src=\"https://cdn.plot.ly/plotly-2.8.3.min.js\"></script>                <div id=\"4573c5c9-6d68-4461-9385-0f789f63fc0f\" class=\"plotly-graph-div\" style=\"height:525px; width:100%;\"></div>            <script type=\"text/javascript\">                                    window.PLOTLYENV=window.PLOTLYENV || {};                                    if (document.getElementById(\"4573c5c9-6d68-4461-9385-0f789f63fc0f\")) {                    Plotly.newPlot(                        \"4573c5c9-6d68-4461-9385-0f789f63fc0f\",                        [{\"hovertemplate\":\"Principal Component - 1=%{x}<br>Principal Component - 2=%{y}<extra></extra>\",\"legendgroup\":\"\",\"marker\":{\"color\":\"#636efa\",\"symbol\":\"circle\"},\"mode\":\"markers\",\"name\":\"\",\"orientation\":\"v\",\"showlegend\":false,\"x\":[0,0],\"xaxis\":\"x\",\"y\":[0,0],\"yaxis\":\"y\",\"type\":\"scatter\"}],                        {\"template\":{\"data\":{\"bar\":[{\"error_x\":{\"color\":\"#2a3f5f\"},\"error_y\":{\"color\":\"#2a3f5f\"},\"marker\":{\"line\":{\"color\":\"#E5ECF6\",\"width\":0.5},\"pattern\":{\"fillmode\":\"overlay\",\"size\":10,\"solidity\":0.2}},\"type\":\"bar\"}],\"barpolar\":[{\"marker\":{\"line\":{\"color\":\"#E5ECF6\",\"width\":0.5},\"pattern\":{\"fillmode\":\"overlay\",\"size\":10,\"solidity\":0.2}},\"type\":\"barpolar\"}],\"carpet\":[{\"aaxis\":{\"endlinecolor\":\"#2a3f5f\",\"gridcolor\":\"white\",\"linecolor\":\"white\",\"minorgridcolor\":\"white\",\"startlinecolor\":\"#2a3f5f\"},\"baxis\":{\"endlinecolor\":\"#2a3f5f\",\"gridcolor\":\"white\",\"linecolor\":\"white\",\"minorgridcolor\":\"white\",\"startlinecolor\":\"#2a3f5f\"},\"type\":\"carpet\"}],\"choropleth\":[{\"colorbar\":{\"outlinewidth\":0,\"ticks\":\"\"},\"type\":\"choropleth\"}],\"contour\":[{\"colorbar\":{\"outlinewidth\":0,\"ticks\":\"\"},\"colorscale\":[[0.0,\"#0d0887\"],[0.1111111111111111,\"#46039f\"],[0.2222222222222222,\"#7201a8\"],[0.3333333333333333,\"#9c179e\"],[0.4444444444444444,\"#bd3786\"],[0.5555555555555556,\"#d8576b\"],[0.6666666666666666,\"#ed7953\"],[0.7777777777777778,\"#fb9f3a\"],[0.8888888888888888,\"#fdca26\"],[1.0,\"#f0f921\"]],\"type\":\"contour\"}],\"contourcarpet\":[{\"colorbar\":{\"outlinewidth\":0,\"ticks\":\"\"},\"type\":\"contourcarpet\"}],\"heatmap\":[{\"colorbar\":{\"outlinewidth\":0,\"ticks\":\"\"},\"colorscale\":[[0.0,\"#0d0887\"],[0.1111111111111111,\"#46039f\"],[0.2222222222222222,\"#7201a8\"],[0.3333333333333333,\"#9c179e\"],[0.4444444444444444,\"#bd3786\"],[0.5555555555555556,\"#d8576b\"],[0.6666666666666666,\"#ed7953\"],[0.7777777777777778,\"#fb9f3a\"],[0.8888888888888888,\"#fdca26\"],[1.0,\"#f0f921\"]],\"type\":\"heatmap\"}],\"heatmapgl\":[{\"colorbar\":{\"outlinewidth\":0,\"ticks\":\"\"},\"colorscale\":[[0.0,\"#0d0887\"],[0.1111111111111111,\"#46039f\"],[0.2222222222222222,\"#7201a8\"],[0.3333333333333333,\"#9c179e\"],[0.4444444444444444,\"#bd3786\"],[0.5555555555555556,\"#d8576b\"],[0.6666666666666666,\"#ed7953\"],[0.7777777777777778,\"#fb9f3a\"],[0.8888888888888888,\"#fdca26\"],[1.0,\"#f0f921\"]],\"type\":\"heatmapgl\"}],\"histogram\":[{\"marker\":{\"pattern\":{\"fillmode\":\"overlay\",\"size\":10,\"solidity\":0.2}},\"type\":\"histogram\"}],\"histogram2d\":[{\"colorbar\":{\"outlinewidth\":0,\"ticks\":\"\"},\"colorscale\":[[0.0,\"#0d0887\"],[0.1111111111111111,\"#46039f\"],[0.2222222222222222,\"#7201a8\"],[0.3333333333333333,\"#9c179e\"],[0.4444444444444444,\"#bd3786\"],[0.5555555555555556,\"#d8576b\"],[0.6666666666666666,\"#ed7953\"],[0.7777777777777778,\"#fb9f3a\"],[0.8888888888888888,\"#fdca26\"],[1.0,\"#f0f921\"]],\"type\":\"histogram2d\"}],\"histogram2dcontour\":[{\"colorbar\":{\"outlinewidth\":0,\"ticks\":\"\"},\"colorscale\":[[0.0,\"#0d0887\"],[0.1111111111111111,\"#46039f\"],[0.2222222222222222,\"#7201a8\"],[0.3333333333333333,\"#9c179e\"],[0.4444444444444444,\"#bd3786\"],[0.5555555555555556,\"#d8576b\"],[0.6666666666666666,\"#ed7953\"],[0.7777777777777778,\"#fb9f3a\"],[0.8888888888888888,\"#fdca26\"],[1.0,\"#f0f921\"]],\"type\":\"histogram2dcontour\"}],\"mesh3d\":[{\"colorbar\":{\"outlinewidth\":0,\"ticks\":\"\"},\"type\":\"mesh3d\"}],\"parcoords\":[{\"line\":{\"colorbar\":{\"outlinewidth\":0,\"ticks\":\"\"}},\"type\":\"parcoords\"}],\"pie\":[{\"automargin\":true,\"type\":\"pie\"}],\"scatter\":[{\"marker\":{\"colorbar\":{\"outlinewidth\":0,\"ticks\":\"\"}},\"type\":\"scatter\"}],\"scatter3d\":[{\"line\":{\"colorbar\":{\"outlinewidth\":0,\"ticks\":\"\"}},\"marker\":{\"colorbar\":{\"outlinewidth\":0,\"ticks\":\"\"}},\"type\":\"scatter3d\"}],\"scattercarpet\":[{\"marker\":{\"colorbar\":{\"outlinewidth\":0,\"ticks\":\"\"}},\"type\":\"scattercarpet\"}],\"scattergeo\":[{\"marker\":{\"colorbar\":{\"outlinewidth\":0,\"ticks\":\"\"}},\"type\":\"scattergeo\"}],\"scattergl\":[{\"marker\":{\"colorbar\":{\"outlinewidth\":0,\"ticks\":\"\"}},\"type\":\"scattergl\"}],\"scattermapbox\":[{\"marker\":{\"colorbar\":{\"outlinewidth\":0,\"ticks\":\"\"}},\"type\":\"scattermapbox\"}],\"scatterpolar\":[{\"marker\":{\"colorbar\":{\"outlinewidth\":0,\"ticks\":\"\"}},\"type\":\"scatterpolar\"}],\"scatterpolargl\":[{\"marker\":{\"colorbar\":{\"outlinewidth\":0,\"ticks\":\"\"}},\"type\":\"scatterpolargl\"}],\"scatterternary\":[{\"marker\":{\"colorbar\":{\"outlinewidth\":0,\"ticks\":\"\"}},\"type\":\"scatterternary\"}],\"surface\":[{\"colorbar\":{\"outlinewidth\":0,\"ticks\":\"\"},\"colorscale\":[[0.0,\"#0d0887\"],[0.1111111111111111,\"#46039f\"],[0.2222222222222222,\"#7201a8\"],[0.3333333333333333,\"#9c179e\"],[0.4444444444444444,\"#bd3786\"],[0.5555555555555556,\"#d8576b\"],[0.6666666666666666,\"#ed7953\"],[0.7777777777777778,\"#fb9f3a\"],[0.8888888888888888,\"#fdca26\"],[1.0,\"#f0f921\"]],\"type\":\"surface\"}],\"table\":[{\"cells\":{\"fill\":{\"color\":\"#EBF0F8\"},\"line\":{\"color\":\"white\"}},\"header\":{\"fill\":{\"color\":\"#C8D4E3\"},\"line\":{\"color\":\"white\"}},\"type\":\"table\"}]},\"layout\":{\"annotationdefaults\":{\"arrowcolor\":\"#2a3f5f\",\"arrowhead\":0,\"arrowwidth\":1},\"autotypenumbers\":\"strict\",\"coloraxis\":{\"colorbar\":{\"outlinewidth\":0,\"ticks\":\"\"}},\"colorscale\":{\"diverging\":[[0,\"#8e0152\"],[0.1,\"#c51b7d\"],[0.2,\"#de77ae\"],[0.3,\"#f1b6da\"],[0.4,\"#fde0ef\"],[0.5,\"#f7f7f7\"],[0.6,\"#e6f5d0\"],[0.7,\"#b8e186\"],[0.8,\"#7fbc41\"],[0.9,\"#4d9221\"],[1,\"#276419\"]],\"sequential\":[[0.0,\"#0d0887\"],[0.1111111111111111,\"#46039f\"],[0.2222222222222222,\"#7201a8\"],[0.3333333333333333,\"#9c179e\"],[0.4444444444444444,\"#bd3786\"],[0.5555555555555556,\"#d8576b\"],[0.6666666666666666,\"#ed7953\"],[0.7777777777777778,\"#fb9f3a\"],[0.8888888888888888,\"#fdca26\"],[1.0,\"#f0f921\"]],\"sequentialminus\":[[0.0,\"#0d0887\"],[0.1111111111111111,\"#46039f\"],[0.2222222222222222,\"#7201a8\"],[0.3333333333333333,\"#9c179e\"],[0.4444444444444444,\"#bd3786\"],[0.5555555555555556,\"#d8576b\"],[0.6666666666666666,\"#ed7953\"],[0.7777777777777778,\"#fb9f3a\"],[0.8888888888888888,\"#fdca26\"],[1.0,\"#f0f921\"]]},\"colorway\":[\"#636efa\",\"#EF553B\",\"#00cc96\",\"#ab63fa\",\"#FFA15A\",\"#19d3f3\",\"#FF6692\",\"#B6E880\",\"#FF97FF\",\"#FECB52\"],\"font\":{\"color\":\"#2a3f5f\"},\"geo\":{\"bgcolor\":\"white\",\"lakecolor\":\"white\",\"landcolor\":\"#E5ECF6\",\"showlakes\":true,\"showland\":true,\"subunitcolor\":\"white\"},\"hoverlabel\":{\"align\":\"left\"},\"hovermode\":\"closest\",\"mapbox\":{\"style\":\"light\"},\"paper_bgcolor\":\"white\",\"plot_bgcolor\":\"#E5ECF6\",\"polar\":{\"angularaxis\":{\"gridcolor\":\"white\",\"linecolor\":\"white\",\"ticks\":\"\"},\"bgcolor\":\"#E5ECF6\",\"radialaxis\":{\"gridcolor\":\"white\",\"linecolor\":\"white\",\"ticks\":\"\"}},\"scene\":{\"xaxis\":{\"backgroundcolor\":\"#E5ECF6\",\"gridcolor\":\"white\",\"gridwidth\":2,\"linecolor\":\"white\",\"showbackground\":true,\"ticks\":\"\",\"zerolinecolor\":\"white\"},\"yaxis\":{\"backgroundcolor\":\"#E5ECF6\",\"gridcolor\":\"white\",\"gridwidth\":2,\"linecolor\":\"white\",\"showbackground\":true,\"ticks\":\"\",\"zerolinecolor\":\"white\"},\"zaxis\":{\"backgroundcolor\":\"#E5ECF6\",\"gridcolor\":\"white\",\"gridwidth\":2,\"linecolor\":\"white\",\"showbackground\":true,\"ticks\":\"\",\"zerolinecolor\":\"white\"}},\"shapedefaults\":{\"line\":{\"color\":\"#2a3f5f\"}},\"ternary\":{\"aaxis\":{\"gridcolor\":\"white\",\"linecolor\":\"white\",\"ticks\":\"\"},\"baxis\":{\"gridcolor\":\"white\",\"linecolor\":\"white\",\"ticks\":\"\"},\"bgcolor\":\"#E5ECF6\",\"caxis\":{\"gridcolor\":\"white\",\"linecolor\":\"white\",\"ticks\":\"\"}},\"title\":{\"x\":0.05},\"xaxis\":{\"automargin\":true,\"gridcolor\":\"white\",\"linecolor\":\"white\",\"ticks\":\"\",\"title\":{\"standoff\":15},\"zerolinecolor\":\"white\",\"zerolinewidth\":2},\"yaxis\":{\"automargin\":true,\"gridcolor\":\"white\",\"linecolor\":\"white\",\"ticks\":\"\",\"title\":{\"standoff\":15},\"zerolinecolor\":\"white\",\"zerolinewidth\":2}}},\"xaxis\":{\"anchor\":\"y\",\"domain\":[0.0,1.0],\"title\":{\"text\":\"Principal Component - 1\"}},\"yaxis\":{\"anchor\":\"x\",\"domain\":[0.0,1.0],\"title\":{\"text\":\"Principal Component - 2\"}},\"legend\":{\"tracegroupgap\":0},\"title\":{\"text\":\"PCA Loading plot\"},\"shapes\":[{\"type\":\"line\",\"x0\":0,\"x1\":-0.4423500621120169,\"y0\":0,\"y1\":-0.8156988063173951},{\"type\":\"line\",\"x0\":0,\"x1\":-0.26016673984764593,\"y0\":0,\"y1\":0.34684365574143455},{\"type\":\"line\",\"x0\":0,\"x1\":0.8849681501473158,\"y0\":0,\"y1\":-0.40003080637000843},{\"type\":\"line\",\"x0\":0,\"x1\":0.9067706620257665,\"y0\":0,\"y1\":-0.3256892255571035},{\"type\":\"line\",\"x0\":0,\"x1\":-0.5990209091786364,\"y0\":0,\"y1\":-0.6322863143784191}],\"annotations\":[{\"ax\":0,\"ay\":0,\"text\":\"X:VCD\",\"x\":-0.4423500621120169,\"xanchor\":\"center\",\"y\":-0.8156988063173951,\"yanchor\":\"bottom\"},{\"ax\":0,\"ay\":0,\"text\":\"X:Glc\",\"x\":-0.26016673984764593,\"xanchor\":\"center\",\"y\":0.34684365574143455,\"yanchor\":\"bottom\"},{\"ax\":0,\"ay\":0,\"text\":\"X:Lac\",\"x\":0.8849681501473158,\"xanchor\":\"center\",\"y\":-0.40003080637000843,\"yanchor\":\"bottom\"},{\"ax\":0,\"ay\":0,\"text\":\"X:Titer\",\"x\":0.9067706620257665,\"xanchor\":\"center\",\"y\":-0.3256892255571035,\"yanchor\":\"bottom\"},{\"ax\":0,\"ay\":0,\"text\":\"W:Feed\",\"x\":-0.5990209091786364,\"xanchor\":\"center\",\"y\":-0.6322863143784191,\"yanchor\":\"bottom\"}]},                        {\"responsive\": true}                    ).then(function(){\n",
              "                            \n",
              "var gd = document.getElementById('4573c5c9-6d68-4461-9385-0f789f63fc0f');\n",
              "var x = new MutationObserver(function (mutations, observer) {{\n",
              "        var display = window.getComputedStyle(gd).display;\n",
              "        if (!display || display === 'none') {{\n",
              "            console.log([gd, 'removed!']);\n",
              "            Plotly.purge(gd);\n",
              "            observer.disconnect();\n",
              "        }}\n",
              "}});\n",
              "\n",
              "// Listen for the removal of the full notebook cells\n",
              "var notebookContainer = gd.closest('#notebook-container');\n",
              "if (notebookContainer) {{\n",
              "    x.observe(notebookContainer, {childList: true});\n",
              "}}\n",
              "\n",
              "// Listen for the clearing of the current output cell\n",
              "var outputEl = gd.closest('.output');\n",
              "if (outputEl) {{\n",
              "    x.observe(outputEl, {childList: true});\n",
              "}}\n",
              "\n",
              "                        })                };                            </script>        </div>\n",
              "</body>\n",
              "</html>"
            ]
          },
          "metadata": {}
        }
      ]
    },
    {
      "cell_type": "markdown",
      "source": [
        "### Task: Normalize by median VCD and run PCA on OWU matrix\n",
        "\n",
        "\n",
        "\n",
        "\n"
      ],
      "metadata": {
        "id": "aciLrWH0DqYO"
      }
    },
    {
      "cell_type": "markdown",
      "source": [
        "# PCA of BWU matrix\n",
        "\n",
        "Details of BWU unfolding"
      ],
      "metadata": {
        "id": "fWT3Tl3TBgHO"
      }
    },
    {
      "cell_type": "markdown",
      "source": [
        "### Visualize the BWU matrix\n",
        "\n",
        "In the BWU matrix, the 1st column corresponds to VCD at day 0, the 2nd to glucose at day 0, the 3rd to lactate at day 0, the 4th to titer at day 0, and the 5th to the feed rate at day 0. This is repeated for day 1 and the following days. So, column 6 corresponds to VCD at day1, column 7 corresponds to Glc at day1, ..., column 11 corresponds to VCD at day2, etc."
      ],
      "metadata": {
        "id": "EOdNOSwhEMCW"
      }
    },
    {
      "cell_type": "code",
      "source": [
        "# Transform OWU to BWY\n",
        "for run_ix,run in owu.groupby(\"run\"):\n",
        "    if run_ix == 0: # fix\n",
        "        bwum = run.unstack(level=1)\n",
        "    else:\n",
        "        bwum = pd.concat([bwum, run.unstack(level=1) ])\n",
        "    #run.unstack(level=0)\n",
        "    #owu.unstack(level=1)"
      ],
      "metadata": {
        "id": "FQWQPToW_Tdp"
      },
      "execution_count": 91,
      "outputs": []
    },
    {
      "cell_type": "code",
      "source": [
        "#bwu_columns = [' '.join(col).strip() for col in bwum.columns.values]\n",
        "bwu_columns = [str(bwum.columns.get_level_values(0)[i])+str(\":\")+str(bwum.columns.get_level_values(1)[i]) for i in range(len(bwum.columns.get_level_values(0)))]\n",
        "bwu = pd.DataFrame(bwum.to_numpy(), columns=bwu_columns)\n",
        "bwu"
      ],
      "metadata": {
        "id": "UOBEzdamBwit",
        "outputId": "152a4dfe-e2a3-4059-e568-5d042537c834",
        "colab": {
          "base_uri": "https://localhost:8080/",
          "height": 487
        }
      },
      "execution_count": 94,
      "outputs": [
        {
          "output_type": "execute_result",
          "data": {
            "text/plain": [
              "    X:VCD:0  X:VCD:1  X:VCD:2  X:VCD:3  X:VCD:4  X:VCD:5  X:VCD:6  X:VCD:7  \\\n",
              "0   0.65336  1.99900   5.3161  10.9340  16.3100   18.572   17.726   15.155   \n",
              "1   0.76765  2.36320   6.1927  12.0990  16.7580   17.359   14.094   10.769   \n",
              "2   0.89835  2.78170   7.1142  13.2490  17.8130   18.933   17.368   14.487   \n",
              "3   0.35186  1.06500   2.9702   6.9794  12.4310   16.314   15.611   11.045   \n",
              "4   0.54128  1.62400   4.3240   8.9543  13.6260   16.084   15.510   12.879   \n",
              "..      ...      ...      ...      ...      ...      ...      ...      ...   \n",
              "95  0.16841  0.53261   1.6148   4.3714   9.4284   14.931   17.911   17.771   \n",
              "96  0.61780  1.89020   5.1061  10.7140  16.1920   18.642   17.996   15.616   \n",
              "97  0.63589  1.99550   5.4246  11.1930  16.5490   18.754   17.921   15.408   \n",
              "98  0.11877  0.35630   1.0376   2.8817   6.9104   12.560   16.885   18.088   \n",
              "99  0.68350  2.14130   5.7485  11.5120  16.3320   17.962   16.961   14.614   \n",
              "\n",
              "    X:VCD:8  X:VCD:9  ...  W:Feed:5  W:Feed:6  W:Feed:7  W:Feed:8  W:Feed:9  \\\n",
              "0   11.9800   8.7291  ...   19.8030   19.8030   19.8030   19.8030   19.8030   \n",
              "1    8.5544   6.7979  ...   12.4900   12.4900   12.4900   12.4900   12.4900   \n",
              "2   11.1130   7.4140  ...    6.1978    6.1978    6.1978    6.1978    0.0000   \n",
              "3    7.8400   5.8974  ...    7.4287    7.4287    7.4287    7.4287    0.0000   \n",
              "4   10.2240   8.1402  ...   12.3150   12.3150   12.3150   12.3150    0.0000   \n",
              "..      ...      ...  ...       ...       ...       ...       ...       ...   \n",
              "95  15.6530  12.7900  ...   10.6600   10.6600   10.6600   10.6600    0.0000   \n",
              "96  12.6980   9.9173  ...   12.0660   12.0660   12.0660   12.0660   12.0660   \n",
              "97  12.3620   9.4525  ...    7.9015    7.9015    7.9015    7.9015    7.9015   \n",
              "98  16.7760  14.2470  ...   12.6260   12.6260   12.6260   12.6260   12.6260   \n",
              "99  11.8810   9.2954  ...   10.3220   10.3220   10.3220   10.3220   10.3220   \n",
              "\n",
              "    W:Feed:10  W:Feed:11  W:Feed:12  W:Feed:13  W:Feed:14  \n",
              "0     19.8030     19.803        0.0        0.0        0.0  \n",
              "1     12.4900     12.490        0.0        0.0        0.0  \n",
              "2      0.0000      0.000        0.0        0.0        0.0  \n",
              "3      0.0000      0.000        0.0        0.0        0.0  \n",
              "4      0.0000      0.000        0.0        0.0        0.0  \n",
              "..        ...        ...        ...        ...        ...  \n",
              "95     0.0000      0.000        0.0        0.0        0.0  \n",
              "96    12.0660      0.000        0.0        0.0        0.0  \n",
              "97     7.9015      0.000        0.0        0.0        0.0  \n",
              "98    12.6260     12.626        0.0        0.0        0.0  \n",
              "99     0.0000      0.000        0.0        0.0        0.0  \n",
              "\n",
              "[100 rows x 75 columns]"
            ],
            "text/html": [
              "\n",
              "  <div id=\"df-b0198812-e364-4b6c-b437-689ccfb3f7b8\">\n",
              "    <div class=\"colab-df-container\">\n",
              "      <div>\n",
              "<style scoped>\n",
              "    .dataframe tbody tr th:only-of-type {\n",
              "        vertical-align: middle;\n",
              "    }\n",
              "\n",
              "    .dataframe tbody tr th {\n",
              "        vertical-align: top;\n",
              "    }\n",
              "\n",
              "    .dataframe thead th {\n",
              "        text-align: right;\n",
              "    }\n",
              "</style>\n",
              "<table border=\"1\" class=\"dataframe\">\n",
              "  <thead>\n",
              "    <tr style=\"text-align: right;\">\n",
              "      <th></th>\n",
              "      <th>X:VCD:0</th>\n",
              "      <th>X:VCD:1</th>\n",
              "      <th>X:VCD:2</th>\n",
              "      <th>X:VCD:3</th>\n",
              "      <th>X:VCD:4</th>\n",
              "      <th>X:VCD:5</th>\n",
              "      <th>X:VCD:6</th>\n",
              "      <th>X:VCD:7</th>\n",
              "      <th>X:VCD:8</th>\n",
              "      <th>X:VCD:9</th>\n",
              "      <th>...</th>\n",
              "      <th>W:Feed:5</th>\n",
              "      <th>W:Feed:6</th>\n",
              "      <th>W:Feed:7</th>\n",
              "      <th>W:Feed:8</th>\n",
              "      <th>W:Feed:9</th>\n",
              "      <th>W:Feed:10</th>\n",
              "      <th>W:Feed:11</th>\n",
              "      <th>W:Feed:12</th>\n",
              "      <th>W:Feed:13</th>\n",
              "      <th>W:Feed:14</th>\n",
              "    </tr>\n",
              "  </thead>\n",
              "  <tbody>\n",
              "    <tr>\n",
              "      <th>0</th>\n",
              "      <td>0.65336</td>\n",
              "      <td>1.99900</td>\n",
              "      <td>5.3161</td>\n",
              "      <td>10.9340</td>\n",
              "      <td>16.3100</td>\n",
              "      <td>18.572</td>\n",
              "      <td>17.726</td>\n",
              "      <td>15.155</td>\n",
              "      <td>11.9800</td>\n",
              "      <td>8.7291</td>\n",
              "      <td>...</td>\n",
              "      <td>19.8030</td>\n",
              "      <td>19.8030</td>\n",
              "      <td>19.8030</td>\n",
              "      <td>19.8030</td>\n",
              "      <td>19.8030</td>\n",
              "      <td>19.8030</td>\n",
              "      <td>19.803</td>\n",
              "      <td>0.0</td>\n",
              "      <td>0.0</td>\n",
              "      <td>0.0</td>\n",
              "    </tr>\n",
              "    <tr>\n",
              "      <th>1</th>\n",
              "      <td>0.76765</td>\n",
              "      <td>2.36320</td>\n",
              "      <td>6.1927</td>\n",
              "      <td>12.0990</td>\n",
              "      <td>16.7580</td>\n",
              "      <td>17.359</td>\n",
              "      <td>14.094</td>\n",
              "      <td>10.769</td>\n",
              "      <td>8.5544</td>\n",
              "      <td>6.7979</td>\n",
              "      <td>...</td>\n",
              "      <td>12.4900</td>\n",
              "      <td>12.4900</td>\n",
              "      <td>12.4900</td>\n",
              "      <td>12.4900</td>\n",
              "      <td>12.4900</td>\n",
              "      <td>12.4900</td>\n",
              "      <td>12.490</td>\n",
              "      <td>0.0</td>\n",
              "      <td>0.0</td>\n",
              "      <td>0.0</td>\n",
              "    </tr>\n",
              "    <tr>\n",
              "      <th>2</th>\n",
              "      <td>0.89835</td>\n",
              "      <td>2.78170</td>\n",
              "      <td>7.1142</td>\n",
              "      <td>13.2490</td>\n",
              "      <td>17.8130</td>\n",
              "      <td>18.933</td>\n",
              "      <td>17.368</td>\n",
              "      <td>14.487</td>\n",
              "      <td>11.1130</td>\n",
              "      <td>7.4140</td>\n",
              "      <td>...</td>\n",
              "      <td>6.1978</td>\n",
              "      <td>6.1978</td>\n",
              "      <td>6.1978</td>\n",
              "      <td>6.1978</td>\n",
              "      <td>0.0000</td>\n",
              "      <td>0.0000</td>\n",
              "      <td>0.000</td>\n",
              "      <td>0.0</td>\n",
              "      <td>0.0</td>\n",
              "      <td>0.0</td>\n",
              "    </tr>\n",
              "    <tr>\n",
              "      <th>3</th>\n",
              "      <td>0.35186</td>\n",
              "      <td>1.06500</td>\n",
              "      <td>2.9702</td>\n",
              "      <td>6.9794</td>\n",
              "      <td>12.4310</td>\n",
              "      <td>16.314</td>\n",
              "      <td>15.611</td>\n",
              "      <td>11.045</td>\n",
              "      <td>7.8400</td>\n",
              "      <td>5.8974</td>\n",
              "      <td>...</td>\n",
              "      <td>7.4287</td>\n",
              "      <td>7.4287</td>\n",
              "      <td>7.4287</td>\n",
              "      <td>7.4287</td>\n",
              "      <td>0.0000</td>\n",
              "      <td>0.0000</td>\n",
              "      <td>0.000</td>\n",
              "      <td>0.0</td>\n",
              "      <td>0.0</td>\n",
              "      <td>0.0</td>\n",
              "    </tr>\n",
              "    <tr>\n",
              "      <th>4</th>\n",
              "      <td>0.54128</td>\n",
              "      <td>1.62400</td>\n",
              "      <td>4.3240</td>\n",
              "      <td>8.9543</td>\n",
              "      <td>13.6260</td>\n",
              "      <td>16.084</td>\n",
              "      <td>15.510</td>\n",
              "      <td>12.879</td>\n",
              "      <td>10.2240</td>\n",
              "      <td>8.1402</td>\n",
              "      <td>...</td>\n",
              "      <td>12.3150</td>\n",
              "      <td>12.3150</td>\n",
              "      <td>12.3150</td>\n",
              "      <td>12.3150</td>\n",
              "      <td>0.0000</td>\n",
              "      <td>0.0000</td>\n",
              "      <td>0.000</td>\n",
              "      <td>0.0</td>\n",
              "      <td>0.0</td>\n",
              "      <td>0.0</td>\n",
              "    </tr>\n",
              "    <tr>\n",
              "      <th>...</th>\n",
              "      <td>...</td>\n",
              "      <td>...</td>\n",
              "      <td>...</td>\n",
              "      <td>...</td>\n",
              "      <td>...</td>\n",
              "      <td>...</td>\n",
              "      <td>...</td>\n",
              "      <td>...</td>\n",
              "      <td>...</td>\n",
              "      <td>...</td>\n",
              "      <td>...</td>\n",
              "      <td>...</td>\n",
              "      <td>...</td>\n",
              "      <td>...</td>\n",
              "      <td>...</td>\n",
              "      <td>...</td>\n",
              "      <td>...</td>\n",
              "      <td>...</td>\n",
              "      <td>...</td>\n",
              "      <td>...</td>\n",
              "      <td>...</td>\n",
              "    </tr>\n",
              "    <tr>\n",
              "      <th>95</th>\n",
              "      <td>0.16841</td>\n",
              "      <td>0.53261</td>\n",
              "      <td>1.6148</td>\n",
              "      <td>4.3714</td>\n",
              "      <td>9.4284</td>\n",
              "      <td>14.931</td>\n",
              "      <td>17.911</td>\n",
              "      <td>17.771</td>\n",
              "      <td>15.6530</td>\n",
              "      <td>12.7900</td>\n",
              "      <td>...</td>\n",
              "      <td>10.6600</td>\n",
              "      <td>10.6600</td>\n",
              "      <td>10.6600</td>\n",
              "      <td>10.6600</td>\n",
              "      <td>0.0000</td>\n",
              "      <td>0.0000</td>\n",
              "      <td>0.000</td>\n",
              "      <td>0.0</td>\n",
              "      <td>0.0</td>\n",
              "      <td>0.0</td>\n",
              "    </tr>\n",
              "    <tr>\n",
              "      <th>96</th>\n",
              "      <td>0.61780</td>\n",
              "      <td>1.89020</td>\n",
              "      <td>5.1061</td>\n",
              "      <td>10.7140</td>\n",
              "      <td>16.1920</td>\n",
              "      <td>18.642</td>\n",
              "      <td>17.996</td>\n",
              "      <td>15.616</td>\n",
              "      <td>12.6980</td>\n",
              "      <td>9.9173</td>\n",
              "      <td>...</td>\n",
              "      <td>12.0660</td>\n",
              "      <td>12.0660</td>\n",
              "      <td>12.0660</td>\n",
              "      <td>12.0660</td>\n",
              "      <td>12.0660</td>\n",
              "      <td>12.0660</td>\n",
              "      <td>0.000</td>\n",
              "      <td>0.0</td>\n",
              "      <td>0.0</td>\n",
              "      <td>0.0</td>\n",
              "    </tr>\n",
              "    <tr>\n",
              "      <th>97</th>\n",
              "      <td>0.63589</td>\n",
              "      <td>1.99550</td>\n",
              "      <td>5.4246</td>\n",
              "      <td>11.1930</td>\n",
              "      <td>16.5490</td>\n",
              "      <td>18.754</td>\n",
              "      <td>17.921</td>\n",
              "      <td>15.408</td>\n",
              "      <td>12.3620</td>\n",
              "      <td>9.4525</td>\n",
              "      <td>...</td>\n",
              "      <td>7.9015</td>\n",
              "      <td>7.9015</td>\n",
              "      <td>7.9015</td>\n",
              "      <td>7.9015</td>\n",
              "      <td>7.9015</td>\n",
              "      <td>7.9015</td>\n",
              "      <td>0.000</td>\n",
              "      <td>0.0</td>\n",
              "      <td>0.0</td>\n",
              "      <td>0.0</td>\n",
              "    </tr>\n",
              "    <tr>\n",
              "      <th>98</th>\n",
              "      <td>0.11877</td>\n",
              "      <td>0.35630</td>\n",
              "      <td>1.0376</td>\n",
              "      <td>2.8817</td>\n",
              "      <td>6.9104</td>\n",
              "      <td>12.560</td>\n",
              "      <td>16.885</td>\n",
              "      <td>18.088</td>\n",
              "      <td>16.7760</td>\n",
              "      <td>14.2470</td>\n",
              "      <td>...</td>\n",
              "      <td>12.6260</td>\n",
              "      <td>12.6260</td>\n",
              "      <td>12.6260</td>\n",
              "      <td>12.6260</td>\n",
              "      <td>12.6260</td>\n",
              "      <td>12.6260</td>\n",
              "      <td>12.626</td>\n",
              "      <td>0.0</td>\n",
              "      <td>0.0</td>\n",
              "      <td>0.0</td>\n",
              "    </tr>\n",
              "    <tr>\n",
              "      <th>99</th>\n",
              "      <td>0.68350</td>\n",
              "      <td>2.14130</td>\n",
              "      <td>5.7485</td>\n",
              "      <td>11.5120</td>\n",
              "      <td>16.3320</td>\n",
              "      <td>17.962</td>\n",
              "      <td>16.961</td>\n",
              "      <td>14.614</td>\n",
              "      <td>11.8810</td>\n",
              "      <td>9.2954</td>\n",
              "      <td>...</td>\n",
              "      <td>10.3220</td>\n",
              "      <td>10.3220</td>\n",
              "      <td>10.3220</td>\n",
              "      <td>10.3220</td>\n",
              "      <td>10.3220</td>\n",
              "      <td>0.0000</td>\n",
              "      <td>0.000</td>\n",
              "      <td>0.0</td>\n",
              "      <td>0.0</td>\n",
              "      <td>0.0</td>\n",
              "    </tr>\n",
              "  </tbody>\n",
              "</table>\n",
              "<p>100 rows × 75 columns</p>\n",
              "</div>\n",
              "      <button class=\"colab-df-convert\" onclick=\"convertToInteractive('df-b0198812-e364-4b6c-b437-689ccfb3f7b8')\"\n",
              "              title=\"Convert this dataframe to an interactive table.\"\n",
              "              style=\"display:none;\">\n",
              "        \n",
              "  <svg xmlns=\"http://www.w3.org/2000/svg\" height=\"24px\"viewBox=\"0 0 24 24\"\n",
              "       width=\"24px\">\n",
              "    <path d=\"M0 0h24v24H0V0z\" fill=\"none\"/>\n",
              "    <path d=\"M18.56 5.44l.94 2.06.94-2.06 2.06-.94-2.06-.94-.94-2.06-.94 2.06-2.06.94zm-11 1L8.5 8.5l.94-2.06 2.06-.94-2.06-.94L8.5 2.5l-.94 2.06-2.06.94zm10 10l.94 2.06.94-2.06 2.06-.94-2.06-.94-.94-2.06-.94 2.06-2.06.94z\"/><path d=\"M17.41 7.96l-1.37-1.37c-.4-.4-.92-.59-1.43-.59-.52 0-1.04.2-1.43.59L10.3 9.45l-7.72 7.72c-.78.78-.78 2.05 0 2.83L4 21.41c.39.39.9.59 1.41.59.51 0 1.02-.2 1.41-.59l7.78-7.78 2.81-2.81c.8-.78.8-2.07 0-2.86zM5.41 20L4 18.59l7.72-7.72 1.47 1.35L5.41 20z\"/>\n",
              "  </svg>\n",
              "      </button>\n",
              "      \n",
              "  <style>\n",
              "    .colab-df-container {\n",
              "      display:flex;\n",
              "      flex-wrap:wrap;\n",
              "      gap: 12px;\n",
              "    }\n",
              "\n",
              "    .colab-df-convert {\n",
              "      background-color: #E8F0FE;\n",
              "      border: none;\n",
              "      border-radius: 50%;\n",
              "      cursor: pointer;\n",
              "      display: none;\n",
              "      fill: #1967D2;\n",
              "      height: 32px;\n",
              "      padding: 0 0 0 0;\n",
              "      width: 32px;\n",
              "    }\n",
              "\n",
              "    .colab-df-convert:hover {\n",
              "      background-color: #E2EBFA;\n",
              "      box-shadow: 0px 1px 2px rgba(60, 64, 67, 0.3), 0px 1px 3px 1px rgba(60, 64, 67, 0.15);\n",
              "      fill: #174EA6;\n",
              "    }\n",
              "\n",
              "    [theme=dark] .colab-df-convert {\n",
              "      background-color: #3B4455;\n",
              "      fill: #D2E3FC;\n",
              "    }\n",
              "\n",
              "    [theme=dark] .colab-df-convert:hover {\n",
              "      background-color: #434B5C;\n",
              "      box-shadow: 0px 1px 3px 1px rgba(0, 0, 0, 0.15);\n",
              "      filter: drop-shadow(0px 1px 2px rgba(0, 0, 0, 0.3));\n",
              "      fill: #FFFFFF;\n",
              "    }\n",
              "  </style>\n",
              "\n",
              "      <script>\n",
              "        const buttonEl =\n",
              "          document.querySelector('#df-b0198812-e364-4b6c-b437-689ccfb3f7b8 button.colab-df-convert');\n",
              "        buttonEl.style.display =\n",
              "          google.colab.kernel.accessAllowed ? 'block' : 'none';\n",
              "\n",
              "        async function convertToInteractive(key) {\n",
              "          const element = document.querySelector('#df-b0198812-e364-4b6c-b437-689ccfb3f7b8');\n",
              "          const dataTable =\n",
              "            await google.colab.kernel.invokeFunction('convertToInteractive',\n",
              "                                                     [key], {});\n",
              "          if (!dataTable) return;\n",
              "\n",
              "          const docLinkHtml = 'Like what you see? Visit the ' +\n",
              "            '<a target=\"_blank\" href=https://colab.research.google.com/notebooks/data_table.ipynb>data table notebook</a>'\n",
              "            + ' to learn more about interactive tables.';\n",
              "          element.innerHTML = '';\n",
              "          dataTable['output_type'] = 'display_data';\n",
              "          await google.colab.output.renderOutput(dataTable, element);\n",
              "          const docLink = document.createElement('div');\n",
              "          docLink.innerHTML = docLinkHtml;\n",
              "          element.appendChild(docLink);\n",
              "        }\n",
              "      </script>\n",
              "    </div>\n",
              "  </div>\n",
              "  "
            ]
          },
          "metadata": {},
          "execution_count": 94
        }
      ]
    },
    {
      "cell_type": "markdown",
      "source": [
        "### Plot correlation matrix\n",
        "The BWU matrix is used to plot the degree of correlation between the different variables.\n"
      ],
      "metadata": {
        "id": "Fr9GNt5kEdrr"
      }
    },
    {
      "cell_type": "code",
      "source": [
        "fig = px.imshow(bwu.corr())\n",
        "fig.update_layout(title='BWU Correlation Matrix among X variables')\n",
        "fig.show()"
      ],
      "metadata": {
        "id": "mauV5zpWe2C7",
        "outputId": "4a534e06-9e57-4185-bc86-b062ebd0ebce",
        "colab": {
          "base_uri": "https://localhost:8080/",
          "height": 542
        }
      },
      "execution_count": 95,
      "outputs": [
        {
          "output_type": "display_data",
          "data": {
            "text/html": [
              "<html>\n",
              "<head><meta charset=\"utf-8\" /></head>\n",
              "<body>\n",
              "    <div>            <script src=\"https://cdnjs.cloudflare.com/ajax/libs/mathjax/2.7.5/MathJax.js?config=TeX-AMS-MML_SVG\"></script><script type=\"text/javascript\">if (window.MathJax) {MathJax.Hub.Config({SVG: {font: \"STIX-Web\"}});}</script>                <script type=\"text/javascript\">window.PlotlyConfig = {MathJaxConfig: 'local'};</script>\n",
              "        <script src=\"https://cdn.plot.ly/plotly-2.8.3.min.js\"></script>                <div id=\"abc397aa-8ab9-4b0d-9464-91247441373f\" class=\"plotly-graph-div\" style=\"height:525px; width:100%;\"></div>            <script type=\"text/javascript\">                                    window.PLOTLYENV=window.PLOTLYENV || {};                                    if (document.getElementById(\"abc397aa-8ab9-4b0d-9464-91247441373f\")) {                    Plotly.newPlot(                        \"abc397aa-8ab9-4b0d-9464-91247441373f\",                        [{\"coloraxis\":\"coloraxis\",\"name\":\"0\",\"x\":[\"X:VCD:0\",\"X:VCD:1\",\"X:VCD:2\",\"X:VCD:3\",\"X:VCD:4\",\"X:VCD:5\",\"X:VCD:6\",\"X:VCD:7\",\"X:VCD:8\",\"X:VCD:9\",\"X:VCD:10\",\"X:VCD:11\",\"X:VCD:12\",\"X:VCD:13\",\"X:VCD:14\",\"X:Glc:0\",\"X:Glc:1\",\"X:Glc:2\",\"X:Glc:3\",\"X:Glc:4\",\"X:Glc:5\",\"X:Glc:6\",\"X:Glc:7\",\"X:Glc:8\",\"X:Glc:9\",\"X:Glc:10\",\"X:Glc:11\",\"X:Glc:12\",\"X:Glc:13\",\"X:Glc:14\",\"X:Lac:0\",\"X:Lac:1\",\"X:Lac:2\",\"X:Lac:3\",\"X:Lac:4\",\"X:Lac:5\",\"X:Lac:6\",\"X:Lac:7\",\"X:Lac:8\",\"X:Lac:9\",\"X:Lac:10\",\"X:Lac:11\",\"X:Lac:12\",\"X:Lac:13\",\"X:Lac:14\",\"X:Titer:0\",\"X:Titer:1\",\"X:Titer:2\",\"X:Titer:3\",\"X:Titer:4\",\"X:Titer:5\",\"X:Titer:6\",\"X:Titer:7\",\"X:Titer:8\",\"X:Titer:9\",\"X:Titer:10\",\"X:Titer:11\",\"X:Titer:12\",\"X:Titer:13\",\"X:Titer:14\",\"W:Feed:0\",\"W:Feed:1\",\"W:Feed:2\",\"W:Feed:3\",\"W:Feed:4\",\"W:Feed:5\",\"W:Feed:6\",\"W:Feed:7\",\"W:Feed:8\",\"W:Feed:9\",\"W:Feed:10\",\"W:Feed:11\",\"W:Feed:12\",\"W:Feed:13\",\"W:Feed:14\"],\"y\":[\"X:VCD:0\",\"X:VCD:1\",\"X:VCD:2\",\"X:VCD:3\",\"X:VCD:4\",\"X:VCD:5\",\"X:VCD:6\",\"X:VCD:7\",\"X:VCD:8\",\"X:VCD:9\",\"X:VCD:10\",\"X:VCD:11\",\"X:VCD:12\",\"X:VCD:13\",\"X:VCD:14\",\"X:Glc:0\",\"X:Glc:1\",\"X:Glc:2\",\"X:Glc:3\",\"X:Glc:4\",\"X:Glc:5\",\"X:Glc:6\",\"X:Glc:7\",\"X:Glc:8\",\"X:Glc:9\",\"X:Glc:10\",\"X:Glc:11\",\"X:Glc:12\",\"X:Glc:13\",\"X:Glc:14\",\"X:Lac:0\",\"X:Lac:1\",\"X:Lac:2\",\"X:Lac:3\",\"X:Lac:4\",\"X:Lac:5\",\"X:Lac:6\",\"X:Lac:7\",\"X:Lac:8\",\"X:Lac:9\",\"X:Lac:10\",\"X:Lac:11\",\"X:Lac:12\",\"X:Lac:13\",\"X:Lac:14\",\"X:Titer:0\",\"X:Titer:1\",\"X:Titer:2\",\"X:Titer:3\",\"X:Titer:4\",\"X:Titer:5\",\"X:Titer:6\",\"X:Titer:7\",\"X:Titer:8\",\"X:Titer:9\",\"X:Titer:10\",\"X:Titer:11\",\"X:Titer:12\",\"X:Titer:13\",\"X:Titer:14\",\"W:Feed:0\",\"W:Feed:1\",\"W:Feed:2\",\"W:Feed:3\",\"W:Feed:4\",\"W:Feed:5\",\"W:Feed:6\",\"W:Feed:7\",\"W:Feed:8\",\"W:Feed:9\",\"W:Feed:10\",\"W:Feed:11\",\"W:Feed:12\",\"W:Feed:13\",\"W:Feed:14\"],\"z\":[[1.0,0.9987065088423814,0.9927266474774424,0.9684933246005298,0.8743543500933295,0.4671350592356763,-0.16201106388872727,-0.3427558056115047,-0.3805455707444512,-0.38074948300560046,-0.36664080362215856,-0.33904251983011224,-0.3059236166655379,-0.27417715330800074,-0.24589932752296653,0.1483982505331202,0.12606774948895544,0.035213704527108265,-0.08928935752834413,-0.17719832367993865,-0.2031834356108743,-0.1699210689681604,-0.1140148136313685,-0.056830045332232015,-0.010856091680734117,0.03034843828990051,0.045036444905753543,0.03254812267570896,0.03595052811090858,0.037717562678444526,null,0.9995542079362807,0.9975060851143895,0.9910448007354047,0.975215109837668,0.9450462264915256,0.8831864482161305,0.7660887015372119,0.6088469940237389,0.459981851956086,0.34708624854755654,0.27058810119716625,0.22089405512750793,0.18902828383159692,0.16834894338204298,null,0.6998662049474887,0.9407299468524176,0.9873687525436975,0.9893097965353733,0.9518108224601683,0.8344717512555925,0.6662244640805142,0.4991153891907103,0.36858490958976464,0.2784277212846777,0.22938801117499016,0.20125089098463342,0.1824169017125553,0.17111443694920742,null,-0.10776919686628948,-0.06091937026643138,0.04257537987909804,0.14096962504577096,0.14096962504577096,0.14096962504577096,0.14096962504577096,0.10457990009916521,0.14357787124867732,0.05426549051167276,-0.16199312853162198,null,null,null],[0.9987065088423814,1.0,0.997055034386246,0.9765246813717062,0.8864966720054854,0.48096546210798546,-0.15288525481540538,-0.33928752619170216,-0.3818409076685075,-0.3855647962250082,-0.3737323202275306,-0.3473793025624731,-0.3147751851057776,-0.28292345553394066,-0.254156880866862,0.1870949217157546,0.16490033173298194,0.07327808783157264,-0.055498823589712636,-0.14850805784045135,-0.17797940677641458,-0.1485044119267923,-0.09562693380478779,-0.04047052521646606,0.004568839962957868,0.045199893188593944,0.059204474630556454,0.04643367110971518,0.04982738757878069,0.05163166709998416,null,0.9997733471170471,0.9997168277500108,0.9955957048998385,0.98216979842811,0.9538336751655445,0.8937032677905475,0.7776577952120394,0.6197816421725507,0.46909507288461294,0.354212615905673,0.2760779949088394,0.225164669592263,0.19244679081608362,0.17118345604533455,null,0.6630908929141451,0.924294056576867,0.9822313367731863,0.9912843727428565,0.9592554417708409,0.8485485211431795,0.6825111972034416,0.513474279432723,0.3802064935442731,0.28787999026558786,0.23736082366651795,0.2082858597075348,0.1889835851763063,0.1773887736060996,null,-0.10321585425886462,-0.06298113144812215,0.04011704182712409,0.13940914750644562,0.13940914750644562,0.13940914750644562,0.13940914750644562,0.1081672547856419,0.14719335262346603,0.055209153512080195,-0.16173293983658038,null,null,null],[0.9927266474774424,0.997055034386246,1.0,0.9893106675811199,0.9110959409057895,0.5125107644462621,-0.13545265872015602,-0.33541441664216803,-0.3869410323709103,-0.3941141987348644,-0.38397081481257045,-0.3585065961261176,-0.32631685201078586,-0.2941878305403115,-0.26465938771540254,0.22194671296466204,0.19997833045145977,0.10900274970789177,-0.024083434329589294,-0.12189200047174396,-0.15580329580687968,-0.13056157500871488,-0.08024911904932854,-0.026033065081095118,0.018500226068799877,0.05966676034648442,0.07326265912671312,0.06064264975399587,0.06399197141769031,0.06582679030784024,null,0.9954414098946778,0.9985961598111373,0.9997433081136679,0.9924979375524138,0.9692872105443338,0.9131642899415526,0.7987282841793035,0.6389171324359982,0.48467492994007766,0.36654611130528486,0.28594506371436323,0.23325556724125024,0.19930913517007695,0.17721260442581624,null,0.6184817621115059,0.8943242666748884,0.9673785723405981,0.9901107543795798,0.9701017081735109,0.869931916548704,0.705533591290703,0.5315504579134664,0.3953437077301142,0.30107793153851714,0.2492093266323299,0.2191211084158842,0.19925407813316398,0.1872758111363793,null,-0.09432100845998467,-0.06517799464185688,0.04195458433679207,0.13962690831658642,0.13962690831658642,0.13962690831658642,0.13962690831658642,0.11239729782082285,0.15806279485313127,0.05901413439005078,-0.15638669671671035,null,null,null],[0.9684933246005298,0.9765246813717062,0.9893106675811199,1.0,0.9553784629537738,0.5922389894803826,-0.07699783169161918,-0.305956748083436,-0.37570919240251227,-0.38822161859488535,-0.3813775193753404,-0.3589681337900783,-0.3301971824696168,-0.30067113927593614,-0.2726008013496778,0.24744385239406805,0.22607839488810172,0.1351098527629866,-0.0012561359331228284,-0.10488668345239092,-0.14704112916066203,-0.12948480387214245,-0.083551201616675,-0.030461721945566927,0.011614905685570977,0.054012604162352866,0.06738524200339242,0.05627866829764329,0.05972379353862386,0.06177312790368055,null,0.9730852922423164,0.9811206773415176,0.9921690658836111,0.999286393470634,0.9906909089514198,0.9481391513665449,0.8429396465391268,0.6848077099423276,0.527756494873233,0.4060821444262218,0.3223265824666766,0.26707004001560347,0.23112061074678134,0.20752464206409055,null,0.5554838255971423,0.8369187427346932,0.9268597771122951,0.9755283050753244,0.9817048145810542,0.9030770598189033,0.7446924533580668,0.5649065985671725,0.4274713424470454,0.3321085467937833,0.2788288444752117,0.2469445660849643,0.2256082757206938,0.21248366316645279,null,-0.09330742229723808,-0.06920482128078533,0.0400426283410829,0.1303746267258068,0.1303746267258068,0.1303746267258068,0.1303746267258068,0.0974558147457771,0.16773533172885607,0.058890727519460916,-0.14247180357310976,null,null,null],[0.8743543500933295,0.8864966720054854,0.9110959409057895,0.9553784629537738,1.0,0.7835405720287821,0.13350470571328776,-0.1443943984625001,-0.2489595038684389,-0.2757346423515373,-0.28211889482926567,-0.27329849994592575,-0.25913109226679104,-0.24370982476384204,-0.22745784063253008,0.23562152296876415,0.21630872834731324,0.11711365706803331,-0.023935711576392547,-0.13324097504700008,-0.19687550528819295,-0.20277468416742478,-0.1745827673616076,-0.13154625541934692,-0.10009963743579373,-0.06106605932889278,-0.050335787207229865,-0.05604295703461328,-0.052355818092560666,-0.04973725927227926,null,0.8810140233013052,0.8946734115707783,0.9191377997859167,0.9530887699687219,0.983843965637025,0.9878849353043445,0.9284103280178932,0.8016262853615758,0.65990671701217,0.5439764783491953,0.461100084722861,0.4047247138632895,0.36690837502940077,0.34136697516415515,null,0.44129690778270986,0.7153496515178884,0.8176808704504206,0.9117413058160457,0.9680412515768191,0.9423374130390367,0.8163264306860386,0.6467966116589485,0.5185802625554186,0.4262953405113823,0.37140392985247567,0.3360911476988193,0.31146642735894997,0.29540036866649694,null,-0.1479857966920505,-0.10921529381254726,0.012121357742498501,0.047548944324032186,0.047548944324032186,0.047548944324032186,0.047548944324032186,0.0045840518409506524,0.11543022906575169,0.00604594911681708,-0.11970383564073848,null,null,null],[0.4671350592356763,0.48096546210798546,0.5125107644462621,0.5922389894803826,0.7835405720287821,1.0,0.6877051855812445,0.4205122677714902,0.28560023738740814,0.23245238919268182,0.19182931581533358,0.158195517462454,0.12583073097281666,0.09633767748831425,0.07428103604719896,0.04778717330727739,0.03705197065546182,-0.08257595679848072,-0.22317476619525353,-0.3177222533544607,-0.40114842630887476,-0.45558966998086103,-0.4767669552991881,-0.47047897865225874,-0.4664077407295226,-0.4428250579858722,-0.4335127996986873,-0.42747115762086124,-0.4260823167233506,-0.42426985415227225,null,0.4745654672687077,0.4909199933915245,0.5258809263480431,0.5928677058893977,0.6932366011749357,0.8155469006900545,0.9118920425497341,0.9331831779717218,0.8972397492533037,0.8454219998835788,0.7981790499568282,0.7608082639473474,0.7326612381569966,0.7118292425016256,null,0.13395269217672937,0.3318655077124155,0.426926230695993,0.5556690216191049,0.69369940748589,0.8157350766308241,0.8314073621828524,0.7640218436777593,0.7003138550444967,0.6428106271408724,0.5997365362059278,0.5673346402098163,0.542820199076342,0.5252091622541846,null,-0.3570400890016306,-0.2840053310558127,-0.14905040667381103,-0.16163229520105057,-0.16163229520105057,-0.16163229520105057,-0.16163229520105057,-0.2007099742048656,-0.057074685037339035,-0.09812371105262144,-0.06977444635633911,null,null,null],[-0.16201106388872727,-0.15288525481540538,-0.13545265872015602,-0.07699783169161918,0.13350470571328776,0.6877051855812445,1.0,0.9344340720542244,0.849526493711345,0.7873786808519503,0.7196454724695935,0.6453858620364744,0.5674549175547685,0.49492685626308586,0.4380435493897681,-0.1352230557122217,-0.13219165203332278,-0.22004040671046898,-0.29847888466467726,-0.3311305198492892,-0.3805747842757531,-0.4594388676450665,-0.5319118195321842,-0.5757190448973668,-0.6071487705887356,-0.6174792195610049,-0.6159551652543749,-0.6031596733033556,-0.606663493600053,-0.6078299892596728,null,-0.1569196718929768,-0.1478096767344335,-0.12649184950506628,-0.07173717891262144,0.03821467423834562,0.22692995664932583,0.4669435843827218,0.668462073248341,0.7876214672907498,0.8435913557165007,0.8647630718596347,0.8694587303163143,0.8670293105460967,0.8621907109972656,null,-0.24303982929704498,-0.19342834962989566,-0.1487009905409202,-0.07082452868097436,0.06633906820556591,0.320135812006727,0.5334247620019564,0.6423400200137608,0.6852166043316613,0.6923408763817419,0.6803920094425555,0.6648890329729337,0.6510181867395612,0.6399172383238239,null,-0.4107203768785508,-0.3392061156535079,-0.24856118103415248,-0.23057828651964876,-0.23057828651964876,-0.23057828651964876,-0.23057828651964876,-0.2657445468423949,-0.20035361749828737,-0.13818450877796132,0.020879354562979017,null,null,null],[-0.3427558056115047,-0.33928752619170216,-0.33541441664216803,-0.305956748083436,-0.1443943984625001,0.4205122677714902,0.9344340720542244,1.0,0.9758434212736986,0.9306180772458212,0.8689271489229462,0.7940317498330949,0.711709719316369,0.6336266633620693,0.571099494125084,-0.1794309313738332,-0.17234984165586048,-0.23666643168842036,-0.28222842135242815,-0.283697374713562,-0.3038957216148612,-0.37163548435996546,-0.4519767849065143,-0.5117243998170665,-0.5547682838110182,-0.579139743460693,-0.5836092809948853,-0.5720075257986463,-0.578771821478439,-0.5822067584775913,null,-0.3406429772804982,-0.3385258433000441,-0.3311492908280835,-0.29797897728434625,-0.2112701139724854,-0.03589043522977169,0.22000654690773247,0.4676525318005419,0.6383188940529261,0.7353818382603569,0.7856537332473126,0.8100738141375599,0.8208991351157773,0.8250297672761776,null,-0.2898661387628423,-0.31071156721603044,-0.30322790107971426,-0.27330647511390843,-0.17656261733540576,0.07287135248840115,0.348696848420758,0.5364655500121467,0.6258980257719396,0.6633032464655384,0.6691059000257358,0.6648582851630354,0.658630568254277,0.6524755704986407,null,-0.3689067245871536,-0.31001701364465584,-0.2380991487446512,-0.18313889109957082,-0.18313889109957082,-0.18313889109957082,-0.18313889109957082,-0.22303257202279558,-0.20480580390269074,-0.12100281948540727,0.06426904365331296,null,null,null],[-0.3805455707444512,-0.3818409076685075,-0.3869410323709103,-0.37570919240251227,-0.2489595038684389,0.28560023738740814,0.849526493711345,0.9758434212736986,1.0,0.9817918228151933,0.9382015353692589,0.8753067093029008,0.8003992033453688,0.7264331064020032,0.6651176799028494,-0.21650077069346144,-0.20862592117426712,-0.26751294055987973,-0.30494254083384803,-0.29284868013069293,-0.29488071565916596,-0.3477680800786877,-0.42170588878660753,-0.48458969397716206,-0.5314397007222621,-0.5610864640236078,-0.5681305058507871,-0.5590216268502747,-0.5686576212812876,-0.5741450523721254,null,-0.38106062667332524,-0.38385918427534815,-0.3852665066507563,-0.3656723558975247,-0.2953143116396565,-0.13661305761959983,0.11060300304986083,0.36739749072076194,0.5570628131247808,0.673056611996994,0.7386717374862264,0.7746060267865991,0.7938146655579041,0.8039603352103871,null,-0.2510032612030012,-0.3105574343678812,-0.32735482978929825,-0.32646234245499206,-0.25785995621960134,-0.03581708014366125,0.24872602721463608,0.4775507176742429,0.5964656513293751,0.6541668479423025,0.6732267831680434,0.6778862623314512,0.6776921499469555,0.6753231048192486,null,-0.3647130995454481,-0.3119071889630579,-0.23489192103620443,-0.14215452686990812,-0.14215452686990812,-0.14215452686990812,-0.14215452686990812,-0.19487265098402,-0.18735385120488585,-0.09764586524804554,0.0827588079525182,null,null,null],[-0.38074948300560046,-0.3855647962250082,-0.3941141987348644,-0.38822161859488535,-0.2757346423515373,0.23245238919268182,0.7873786808519503,0.9306180772458212,0.9817918228151933,1.0,0.9851469529283279,0.9427273869941458,0.8817550000238255,0.8165733024724574,0.7595696333651354,-0.2540156121298813,-0.24622238226598578,-0.30668253736230605,-0.3447881966282082,-0.3281907866579895,-0.32068123032964957,-0.3619710561105367,-0.4264364799681667,-0.4853377498912816,-0.5342346096123697,-0.5682684893630197,-0.5772030256066797,-0.5716386311723568,-0.5842720847039786,-0.5919118513990722,null,-0.3833769674508045,-0.38860216728321495,-0.3928560297506171,-0.37785267869912686,-0.3146197557773142,-0.16712294821016457,0.06746694961142205,0.31905550719299425,0.5136071979107548,0.6398413391815536,0.7159360216410676,0.760764168293601,0.7869571814880731,0.8023584235216548,null,-0.2020262805254271,-0.29449534131795224,-0.32603599153090185,-0.3376395540193939,-0.2810581220674317,-0.08169699701245037,0.19138414498110645,0.43099872884153867,0.5757304446262189,0.653680664666576,0.6861554042417068,0.6999436780618559,0.7059620482066533,0.7074725814137752,null,-0.37911394023465533,-0.3270152290416313,-0.2435412183294057,-0.12100426902808328,-0.12100426902808328,-0.12100426902808328,-0.12100426902808328,-0.18527966295047987,-0.1761988296046683,-0.07916417315444216,0.08418505798919508,null,null,null],[-0.36664080362215856,-0.3737323202275306,-0.38397081481257045,-0.3813775193753404,-0.28211889482926567,0.19182931581533358,0.7196454724695935,0.8689271489229462,0.9382015353692589,0.9851469529283279,1.0,0.9840033141868112,0.9425835415495301,0.8905741936461832,0.8410102548363474,-0.2676081340492904,-0.26015246204776915,-0.3229237386919667,-0.36843417166242515,-0.3550120344030296,-0.3438657939237304,-0.37745184135293236,-0.43406294178307375,-0.4886213527137759,-0.5385612916688383,-0.5761196691331647,-0.5881975560729477,-0.5879512207521963,-0.6032443967240736,-0.612856788701158,null,-0.3706718099211891,-0.37723548536493196,-0.38294227444195567,-0.3713233335095191,-0.3148091301633157,-0.17964163205915115,0.03851617060489863,0.2781633068059905,0.4700436972164935,0.6005560473324937,0.6837266631151429,0.7357289932758355,0.7680933899317774,0.7883782687962941,null,-0.1588238410294859,-0.27319235725398133,-0.31306947420524645,-0.3318695052884281,-0.28413081619800046,-0.10799898838144155,0.14568753435559018,0.38267995435125324,0.5403163649413216,0.6333854933816533,0.6787233425963525,0.7015790908499256,0.7140151980567562,0.7196749762195078,null,-0.38836136424413736,-0.3516967665586886,-0.2678600570159015,-0.12259258159875006,-0.12259258159875006,-0.12259258159875006,-0.12259258159875006,-0.19387833857773532,-0.17661373396540792,-0.07582490365684737,0.06026636082890274,null,null,null],[-0.33904251983011224,-0.3473793025624731,-0.3585065961261176,-0.3589681337900783,-0.27329849994592575,0.158195517462454,0.6453858620364744,0.7940317498330949,0.8753067093029008,0.9427273869941458,0.9840033141868112,1.0,0.9851968689295906,0.9517825413372589,0.9135482414279407,-0.25986757484460915,-0.2529939331073411,-0.3177047410951906,-0.3738552270202408,-0.36657635910159,-0.3549001301382539,-0.3827705851275637,-0.4323796601487274,-0.4824125548707636,-0.5328090538668735,-0.5726153721176845,-0.5901335972105997,-0.5975783442146689,-0.6156626919141733,-0.6273626954124132,null,-0.34384976000561757,-0.35110327186926854,-0.35779148819814505,-0.3493752209943411,-0.2998631920064766,-0.17848239136829577,0.019920307587237816,0.24245499061184758,0.4257876995433111,0.555289870878285,0.6422170600866989,0.6998236103395454,0.737741486563713,0.7627192179956053,null,-0.1197656752646836,-0.24389706619935297,-0.2874420052554458,-0.31010807121099865,-0.2702881218906299,-0.11849884121721761,0.11094483637643637,0.33734986222139585,0.49809992579105267,0.6000533492807064,0.6585784066424302,0.6916035448563307,0.7112508934559618,0.7216498949603614,null,-0.3888070934224512,-0.37619203315965194,-0.2886409375625211,-0.1298820598378074,-0.1298820598378074,-0.1298820598378074,-0.1298820598378074,-0.20975051471768402,-0.18212831297758644,-0.08611921985097137,0.015900314316366345,null,null,null],[-0.3059236166655379,-0.3147751851057776,-0.32631685201078586,-0.3301971824696168,-0.25913109226679104,0.12583073097281666,0.5674549175547685,0.711709719316369,0.8003992033453688,0.8817550000238255,0.9425835415495301,0.9851968689295906,1.0,0.9895879657591842,0.9663982397010349,-0.24639026067658365,-0.24021428256635494,-0.3063639751240659,-0.37112188780693334,-0.3681663351670022,-0.35738633072542897,-0.38062328832245884,-0.4237604347339876,-0.46914561525349074,-0.516609919496548,-0.55576124480837,-0.5775645410902726,-0.5930130694941472,-0.6138231577384609,-0.6275991027034596,null,-0.3110580658462247,-0.31857950745063396,-0.32609629320542194,-0.3211337067061801,-0.2790434538318386,-0.17229032125053612,0.004666850415710133,0.20723513806298777,0.3785025095103188,0.5034165299900775,0.5908162627738848,0.6517021048564209,0.6938718841048513,0.7228395440733654,null,-0.0883449679053499,-0.21297913023111453,-0.25584953968961577,-0.28081591566187064,-0.24920141442706784,-0.12237894653181071,0.07998330633603877,0.2909193594417058,0.4488891492202853,0.5542298680759754,0.6212559574688615,0.6643648419787013,0.6918191760767599,0.7074566203870817,null,-0.3846822353876275,-0.3905140135418144,-0.2947828281510614,-0.13969924153020197,-0.13969924153020197,-0.13969924153020197,-0.13969924153020197,-0.20845798133866464,-0.17753324686095018,-0.09930240159059459,-0.03363975294570906,null,null,null],[-0.27417715330800074,-0.28292345553394066,-0.2941878305403115,-0.30067113927593614,-0.24370982476384204,0.09633767748831425,0.49492685626308586,0.6336266633620693,0.7264331064020032,0.8165733024724574,0.8905741936461832,0.9517825413372589,0.9895879657591842,1.0,0.9923701053902242,-0.22957722127521987,-0.22406414549205733,-0.2905487302074565,-0.36114633854021194,-0.36107247030627165,-0.34996206782144773,-0.36821017920505705,-0.4048003349489347,-0.44519108188014456,-0.4879806839004405,-0.5251860082495756,-0.5489745923398835,-0.5701607568186035,-0.5930053921808831,-0.6085825420264508,null,-0.27927037639898955,-0.28660305474344405,-0.2944293113506854,-0.2924217865713889,-0.2573869190554756,-0.16440323449212815,-0.00767400308757889,0.17541941388987226,0.3339332386411516,0.45272109851411696,0.5385537241775434,0.6005691194554597,0.6451814872826194,0.6768294717220694,null,-0.06764020162569638,-0.18668588373347553,-0.22555506557465926,-0.2518141645324064,-0.22745316694099194,-0.12249605652101027,0.05487071636528445,0.24965849168219756,0.4022451769898975,0.5080134298018757,0.5799240927557876,0.6301288185215701,0.6641334279140618,0.6846545045700655,null,-0.37559657964367604,-0.39481683637260045,-0.2915611854813595,-0.13706048485356467,-0.13706048485356467,-0.13706048485356467,-0.13706048485356467,-0.19023999148599066,-0.16343938365726218,-0.09967583064972485,-0.06809637732131964,null,null,null],[-0.24589932752296653,-0.254156880866862,-0.26465938771540254,-0.2726008013496778,-0.22745784063253008,0.07428103604719896,0.4380435493897681,0.571099494125084,0.6651176799028494,0.7595696333651354,0.8410102548363474,0.9135482414279407,0.9663982397010349,0.9923701053902242,1.0,-0.2122103974618755,-0.20728499484021545,-0.2737666863055839,-0.34735007458229994,-0.3473942184075537,-0.3343739448372409,-0.34764928907532977,-0.37823898013062723,-0.4138323001923563,-0.45107735378237995,-0.48557137876577766,-0.5098255741200076,-0.5344460569293438,-0.5584957499013474,-0.5756462847631992,null,-0.2507254380289482,-0.25756930406192224,-0.2652240520438937,-0.26530568178737135,-0.2361073627316342,-0.15423909366465943,-0.013728710451879731,0.15320381395116656,0.30039920791767377,0.4129485270930318,0.4961657093097265,0.5578098342758955,0.603307491592607,0.6364017816598575,null,-0.0555351796114827,-0.1659075570685872,-0.19928004250653203,-0.2255389468801994,-0.20634869331764508,-0.1163955741976814,0.041907598692461884,0.22269260544901737,0.3691266485751871,0.4734374047499809,0.5475544931849237,0.6019569117446549,0.6404638777947643,0.6654525353870188,null,-0.365701856573172,-0.3904990912817707,-0.27524724520976396,-0.11962787881022413,-0.11962787881022413,-0.11962787881022413,-0.11962787881022413,-0.15669384053006422,-0.13990604343198323,-0.08922881460118146,-0.08403677577685573,null,null,null],[0.1483982505331202,0.1870949217157546,0.22194671296466204,0.24744385239406805,0.23562152296876415,0.04778717330727739,-0.1352230557122217,-0.1794309313738332,-0.21650077069346144,-0.2540156121298813,-0.2676081340492904,-0.25986757484460915,-0.24639026067658365,-0.22957722127521987,-0.2122103974618755,1.0,0.9997457775990334,0.9631381058258227,0.8557930094338483,0.7495627799128293,0.6795357672512806,0.6133545145187088,0.5550952951854655,0.5086221544411577,0.47484625926386165,0.4369234560982288,0.39573220194235603,0.3752181023747274,0.37529605189859894,0.37614966728790605,null,0.17153174876379096,0.19764194740023502,0.22060926670537606,0.23422905594659554,0.22428919420472587,0.190131552382781,0.13869990663954787,0.0754499449440899,0.013988549493973964,-0.03438301994266942,-0.06703148972194344,-0.0880214716040251,-0.10131166778484385,-0.10983840587209502,null,-0.39519106935859744,-0.062238616269377385,0.08074116860059256,0.15804798257235453,0.19341260201244925,0.24096180679871707,0.252817471469197,0.21303415468666395,0.15368405643462094,0.1106323745297095,0.08512538240076652,0.06858845234212564,0.059749699846046535,0.053944925664123566,null,0.08012656519571972,-0.02432366157449713,0.0287275761963807,-0.02138067478620127,-0.02138067478620127,-0.02138067478620127,-0.02138067478620127,0.04079416629679853,-0.018361538274368237,-0.1089022817459301,-0.10825856961217978,null,null,null],[0.12606774948895544,0.16490033173298194,0.19997833045145977,0.22607839488810172,0.21630872834731324,0.03705197065546182,-0.13219165203332278,-0.17234984165586048,-0.20862592117426712,-0.24622238226598578,-0.26015246204776915,-0.2529939331073411,-0.24021428256635494,-0.22406414549205733,-0.20728499484021545,0.9997457775990334,1.0,0.9653706870565535,0.8605526320794425,0.75601940082571,0.6863803322696926,0.6192503361837625,0.5595428035008901,0.5116210922662647,0.4766820474739549,0.43768508761497277,0.39601462915218305,0.3757144191709485,0.37571514795298727,0.3765311787189305,null,0.14927527378644648,0.1755019801774203,0.19867233865742728,0.21267347952345417,0.20335974175815796,0.17045925880334034,0.12149042499983811,0.06160237728243208,0.0033385927879909993,-0.04260397352624611,-0.07360108560827054,-0.09351491891896489,-0.10611323442468554,-0.11419007455699969,null,-0.41215080242968233,-0.0837877882614503,0.05849348285453885,0.1359467252292263,0.17222526732973398,0.22253701057313596,0.23824743612742963,0.20215995424673708,0.14561476059945128,0.1044983437639671,0.08004130260367615,0.06410102948439922,0.05566756457255774,0.050104215597806485,null,0.08291579529795777,-0.02294320836443842,0.027930166136345514,-0.02463737300058211,-0.02463737300058211,-0.02463737300058211,-0.02463737300058211,0.038519945621524394,-0.021742630933709938,-0.11054595071538373,-0.10494399398738977,null,null,null],[0.035213704527108265,0.07327808783157264,0.10900274970789177,0.1351098527629866,0.11711365706803331,-0.08257595679848072,-0.22004040671046898,-0.23666643168842036,-0.26751294055987973,-0.30668253736230605,-0.3229237386919667,-0.3177047410951906,-0.3063639751240659,-0.2905487302074565,-0.2737666863055839,0.9631381058258227,0.9653706870565535,1.0,0.9411461089331555,0.8568461407632882,0.7973753175738734,0.7352931540692599,0.6765050879386579,0.6274854857924406,0.5904292965827718,0.5510323928794004,0.5092824817506011,0.4901709093922946,0.4906662384732752,0.4919763427161281,null,0.05788988264157038,0.08408536454720833,0.10747103006450683,0.11951497732353178,0.10283354368100658,0.05632157464624113,-0.005780487432470843,-0.07208045527781926,-0.13036789038922306,-0.17393852677486685,-0.20249512936382671,-0.22059370728196806,-0.23201303475079613,-0.23932582258005466,null,-0.46515498804470656,-0.1731264235406172,-0.039057668508572944,0.035632088256980575,0.06462506726451152,0.10853478742035003,0.12533962916309715,0.0924794170663489,0.04104050443554507,0.004517293094881803,-0.01627963107266747,-0.029674037877883756,-0.03653189451265863,-0.04134262513234639,null,0.33368426795245754,0.10135401881096204,0.10192134561586708,0.021516325866679814,0.021516325866679814,0.021516325866679814,0.021516325866679814,0.08078487912210167,0.02146544974392806,-0.07318633615563323,-0.06578546744275325,null,null,null],[-0.08928935752834413,-0.055498823589712636,-0.024083434329589294,-0.0012561359331228284,-0.023935711576392547,-0.22317476619525353,-0.29847888466467726,-0.28222842135242815,-0.30494254083384803,-0.3447881966282082,-0.36843417166242515,-0.3738552270202408,-0.37112188780693334,-0.36114633854021194,-0.34735007458229994,0.8557930094338483,0.8605526320794425,0.9411461089331555,1.0,0.9691848564710758,0.9325107140203247,0.8829275572622568,0.8289292866458564,0.7802689996388239,0.7389356636720006,0.701496913745616,0.6616012395961653,0.6481925724013526,0.6490276826416949,0.6507089295699527,null,-0.06916140540874222,-0.046041627403823226,-0.025791635953285076,-0.01715739069767353,-0.04029764044524212,-0.09733464352990351,-0.16674697564649,-0.231367274430726,-0.2820104259138586,-0.31777646390708747,-0.34109275316414756,-0.3562687521675325,-0.3661986985601594,-0.3727678667028458,null,-0.4943534169118446,-0.2689615165013577,-0.16691581392718352,-0.10316174456811714,-0.0831593513926743,-0.04085229072180353,-0.010037176765548585,-0.023341427497163104,-0.055632245170645085,-0.08007534513199256,-0.09490837642527265,-0.10579512806205865,-0.11221071507958297,-0.11696127189235354,null,0.46884193939006485,0.41559521680069966,0.28887362107809794,0.13456237885564004,0.13456237885564004,0.13456237885564004,0.13456237885564004,0.15710517846996422,0.1181254353282738,0.005485259070115416,0.04142405600668417,null,null,null],[-0.17719832367993865,-0.14850805784045135,-0.12189200047174396,-0.10488668345239092,-0.13324097504700008,-0.3177222533544607,-0.3311305198492892,-0.283697374713562,-0.29284868013069293,-0.3281907866579895,-0.3550120344030296,-0.36657635910159,-0.3681663351670022,-0.36107247030627165,-0.3473942184075537,0.7495627799128293,0.75601940082571,0.8568461407632882,0.9691848564710758,1.0,0.9844545522939766,0.9474077899806512,0.8992310058576304,0.8519857299277734,0.8116823895870046,0.7753336763496365,0.7349555737989232,0.72432011218773,0.7241847511178147,0.7249813177219242,null,-0.16013167858647906,-0.1405278803086492,-0.1240094708322187,-0.12008654759364128,-0.14758746406220474,-0.20831858943957288,-0.27573117155007987,-0.3302527863532424,-0.36745022414551115,-0.3918687381523025,-0.40761089216206636,-0.4179707396479716,-0.424867391112564,-0.4294008263704561,null,-0.4869520295995338,-0.32726884509676657,-0.2505040561506559,-0.20185242632489103,-0.1893809175445847,-0.14395220817741297,-0.0963451167409195,-0.08532095121237447,-0.09680130715094927,-0.10871782176086149,-0.11714199428021814,-0.12388408034775585,-0.127900830049867,-0.1307186328333202,null,0.5089311204976518,0.5310761724293415,0.4881877733561609,0.22375432534201475,0.22375432534201475,0.22375432534201475,0.22375432534201475,0.23426111881837602,0.18231140051372693,0.04606995272945698,0.1086185408826646,null,null,null],[-0.2031834356108743,-0.17797940677641458,-0.15580329580687968,-0.14704112916066203,-0.19687550528819295,-0.40114842630887476,-0.3805747842757531,-0.3038957216148612,-0.29488071565916596,-0.32068123032964957,-0.3438657939237304,-0.3549001301382539,-0.35738633072542897,-0.34996206782144773,-0.3343739448372409,0.6795357672512806,0.6863803322696926,0.7973753175738734,0.9325107140203247,0.9844545522939766,1.0,0.9874530308023668,0.9563457241035559,0.9195343904034826,0.8838670925092031,0.8472783508789457,0.8084511354845226,0.7969978292649343,0.7953712026023672,0.7948697776448397,null,-0.1881503684300412,-0.17135281495307855,-0.15891320625436955,-0.16202776817525108,-0.19964531498197216,-0.27028528044992833,-0.3431567529351809,-0.3951480029917988,-0.4249962808317653,-0.4419441291532033,-0.4519298190195751,-0.45830617504980403,-0.4624870479883097,-0.4650589179630746,null,-0.4600499349144805,-0.3313410099380636,-0.2692611606907243,-0.23798804333701123,-0.23904218631561633,-0.20002517483866583,-0.14474645466128186,-0.11530343742695773,-0.11102494110634205,-0.11254601294709915,-0.11413070367292442,-0.11677763578422785,-0.11824830232846457,-0.11903589955056275,null,0.5298636918726815,0.5761682329057106,0.5348140022059836,0.370985344570675,0.370985344570675,0.370985344570675,0.370985344570675,0.32933751860609445,0.24004300698029477,0.10716157565725709,0.14600131190976656,null,null,null],[-0.1699210689681604,-0.1485044119267923,-0.13056157500871488,-0.12948480387214245,-0.20277468416742478,-0.45558966998086103,-0.4594388676450665,-0.37163548435996546,-0.3477680800786877,-0.3619710561105367,-0.37745184135293236,-0.3827705851275637,-0.38062328832245884,-0.36821017920505705,-0.34764928907532977,0.6133545145187088,0.6192503361837625,0.7352931540692599,0.8829275572622568,0.9474077899806512,0.9874530308023668,1.0,0.9897683065845435,0.9673477758881278,0.9399258643405448,0.9068062614683631,0.8709809195126132,0.8584313091173441,0.8559937531217837,0.8546268673114656,null,-0.1571197502297696,-0.14312072671123846,-0.13438415143972954,-0.144099919435932,-0.19265313173870932,-0.27920380568970266,-0.3708335875349065,-0.4366974946418701,-0.47300854162521105,-0.49180609925000757,-0.5017264873508527,-0.5074378639725518,-0.5108099727203244,-0.5125534717114804,null,-0.3878823929411568,-0.28071440520470736,-0.2314976800645238,-0.21480921911087042,-0.2318801093483306,-0.21749666601135542,-0.17713504761726584,-0.14742293485499494,-0.1379232856851143,-0.13486759590599665,-0.1321724059629835,-0.1318322062882349,-0.13133267392841658,-0.13046275271295418,null,0.5445799333440812,0.6076388539095755,0.5688857826131327,0.49141753548682215,0.49141753548682215,0.49141753548682215,0.49141753548682215,0.4087536982863699,0.2946313789098689,0.16064261034473887,0.16602705829062872,null,null,null],[-0.1140148136313685,-0.09562693380478779,-0.08024911904932854,-0.083551201616675,-0.1745827673616076,-0.4767669552991881,-0.5319118195321842,-0.4519767849065143,-0.42170588878660753,-0.4264364799681667,-0.43406294178307375,-0.4323796601487274,-0.4237604347339876,-0.4048003349489347,-0.37823898013062723,0.5550952951854655,0.5595428035008901,0.6765050879386579,0.8289292866458564,0.8992310058576304,0.9563457241035559,0.9897683065845435,1.0,0.9931320696562405,0.9753593173307833,0.9477892004488342,0.9159394066214799,0.9025658986112153,0.8999984782454372,0.8982443381186975,null,-0.10304126484447049,-0.0909551263571683,-0.0842668815043948,-0.09809896060724237,-0.15478049545810124,-0.25565320776526634,-0.3688367292482999,-0.4555770254516788,-0.5057715149092636,-0.5320860162666002,-0.545758066986283,-0.5532550145483809,-0.5573819777310642,-0.5593235420086832,null,-0.3106713003438776,-0.2158201254195465,-0.17430598907960315,-0.1661984980892556,-0.19396502564473062,-0.2051556651518747,-0.1920646445220944,-0.17573422818849635,-0.16913455952795775,-0.16625259547345791,-0.16185105086558405,-0.1599371455743518,-0.1583129058471593,-0.1563286424279281,null,0.549747635051471,0.6243159242560101,0.5883938714413144,0.5802151797415172,0.5802151797415172,0.5802151797415172,0.5802151797415172,0.46645986152060914,0.3385769316477208,0.20288256199892926,0.1730394240757279,null,null,null],[-0.056830045332232015,-0.04047052521646606,-0.026033065081095118,-0.030461721945566927,-0.13154625541934692,-0.47047897865225874,-0.5757190448973668,-0.5117243998170665,-0.48458969397716206,-0.4853377498912816,-0.4886213527137759,-0.4824125548707636,-0.46914561525349074,-0.44519108188014456,-0.4138323001923563,0.5086221544411577,0.5116210922662647,0.6274854857924406,0.7802689996388239,0.8519857299277734,0.9195343904034826,0.9673477758881278,0.9931320696562405,1.0,0.9911026467166485,0.9692282406589903,0.9413553801382054,0.9277280737340642,0.9255328278170948,0.9237898813153608,null,-0.04712026177842065,-0.03601404637618447,-0.029817994347652373,-0.04519062685478641,-0.10620472751913299,-0.21614973224473813,-0.3452045577533365,-0.4503957147030423,-0.515067147816554,-0.5505817657930527,-0.5697238084586316,-0.5804354274091257,-0.5864287669417757,-0.589417457752146,null,-0.24555448458245266,-0.1561608632719292,-0.11774551011217434,-0.11285484006232001,-0.14548387892989223,-0.17349009025998394,-0.18439626546642784,-0.18775028733701685,-0.18915969313174838,-0.1900782520001294,-0.1865185238250378,-0.18471079346174105,-0.18306675663193397,-0.18071426291301015,null,0.5496491896002293,0.6311681324665847,0.5970746232016051,0.6398697017258804,0.6398697017258804,0.6398697017258804,0.6398697017258804,0.5046071569384762,0.3675949941979776,0.23124356570360086,0.1728535725538251,null,null,null],[-0.010856091680734117,0.004568839962957868,0.018500226068799877,0.011614905685570977,-0.10009963743579373,-0.4664077407295226,-0.6071487705887356,-0.5547682838110182,-0.5314397007222621,-0.5342346096123697,-0.5385612916688383,-0.5328090538668735,-0.516609919496548,-0.4879806839004405,-0.45107735378237995,0.47484625926386165,0.4766820474739549,0.5904292965827718,0.7389356636720006,0.8116823895870046,0.8838670925092031,0.9399258643405448,0.9753593173307833,0.9911026467166485,1.0,0.989549011437996,0.9687446838779866,0.9560547024096867,0.9541331635337257,0.9522672639639543,null,-0.001724605862546987,0.008919493284692786,0.014476613499446383,-0.003194478388886035,-0.06825727013952834,-0.18502532073311848,-0.3256177951040047,-0.4444423493660532,-0.5206993415223758,-0.5644624960030257,-0.5891903600099778,-0.6035497463308616,-0.6117701825913128,-0.6160515072287929,null,-0.20517030052249627,-0.11164780325437063,-0.06976754662755023,-0.06748114842001998,-0.1051963827814897,-0.14787760587201712,-0.17830169213724495,-0.19808365517279972,-0.20932507819353163,-0.21526393896078902,-0.21408824058417955,-0.2122881817902291,-0.2101304464780403,-0.20682903285811036,null,0.5454652089827875,0.6228936886805916,0.6016043781717778,0.6619849821624162,0.6619849821624162,0.6619849821624162,0.6619849821624162,0.5960191818728405,0.4272074123832121,0.27535534610199724,0.18337892464319017,null,null,null],[0.03034843828990051,0.045199893188593944,0.05966676034648442,0.054012604162352866,-0.06106605932889278,-0.4428250579858722,-0.6174792195610049,-0.579139743460693,-0.5610864640236078,-0.5682684893630197,-0.5761196691331647,-0.5726153721176845,-0.55576124480837,-0.5251860082495756,-0.48557137876577766,0.4369234560982288,0.43768508761497277,0.5510323928794004,0.701496913745616,0.7753336763496365,0.8472783508789457,0.9068062614683631,0.9477892004488342,0.9692282406589903,0.989549011437996,1.0,0.990756820808012,0.9806867284240488,0.978973775317327,0.9771530050384323,null,0.03908943852710216,0.04975869222385692,0.05600663495342158,0.03874551531777362,-0.027012411613743674,-0.14634583290574985,-0.2937670023571123,-0.4223772199518057,-0.5081529857409313,-0.5595705250069132,-0.589904848442071,-0.6081679751347685,-0.6189841216872073,-0.6249584292605089,null,-0.17174350230944255,-0.07293381284445906,-0.02750677914390417,-0.023945637927342934,-0.06170271896350975,-0.11350185879713937,-0.15858673791987865,-0.191638849881766,-0.21300949202641814,-0.2248481454494882,-0.22600205782882862,-0.2244803720129817,-0.22253486734681116,-0.21920422705775466,null,0.54654488799004,0.633271225779089,0.6099187800940548,0.6629620394353473,0.6629620394353473,0.6629620394353473,0.6629620394353473,0.6400650220455205,0.5380908391812491,0.3501889707980904,0.21342763214233845,null,null,null],[0.045036444905753543,0.059204474630556454,0.07326265912671312,0.06738524200339242,-0.050335787207229865,-0.4335127996986873,-0.6159551652543749,-0.5836092809948853,-0.5681305058507871,-0.5772030256066797,-0.5881975560729477,-0.5901335972105997,-0.5775645410902726,-0.5489745923398835,-0.5098255741200076,0.39573220194235603,0.39601462915218305,0.5092824817506011,0.6616012395961653,0.7349555737989232,0.8084511354845226,0.8709809195126132,0.9159394066214799,0.9413553801382054,0.9687446838779866,0.990756820808012,1.0,0.9954607512140518,0.994155983783168,0.9925958393202434,null,0.05336754594843626,0.0636438760567432,0.06969220743924483,0.052105830196080435,-0.014068847878966598,-0.1333430013818309,-0.2819022300967705,-0.4130453088076247,-0.5015849417864476,-0.5554869861784234,-0.5881251691364182,-0.6084671104459219,-0.6209554780159785,-0.628164280669339,null,-0.15603149294910387,-0.055557824583738966,-0.009610797909423343,-0.007904733606035505,-0.04653802345932926,-0.10260163613697888,-0.15532492787103314,-0.19487065481960966,-0.2204882997126406,-0.23533659515337815,-0.23865818546117268,-0.23793455919184348,-0.23647721889373566,-0.2334330920622183,null,0.5420448224081333,0.6333455920436868,0.5959639366687688,0.6606539994336368,0.6606539994336368,0.6606539994336368,0.6606539994336368,0.661389002826471,0.590815584691445,0.4637017550793501,0.2668777109906922,null,null,null],[0.03254812267570896,0.04643367110971518,0.06064264975399587,0.05627866829764329,-0.05604295703461328,-0.42747115762086124,-0.6031596733033556,-0.5720075257986463,-0.5590216268502747,-0.5716386311723568,-0.5879512207521963,-0.5975783442146689,-0.5930130694941472,-0.5701607568186035,-0.5344460569293438,0.3752181023747274,0.3757144191709485,0.4901709093922946,0.6481925724013526,0.72432011218773,0.7969978292649343,0.8584313091173441,0.9025658986112153,0.9277280737340642,0.9560547024096867,0.9806867284240488,0.9954607512140518,1.0,0.9995046084103143,0.9985592396020524,null,0.040691880861707865,0.05091438079021796,0.05735763082732067,0.041070547830540025,-0.022793820442905476,-0.13899771613005182,-0.28405664283906756,-0.4122727135193504,-0.49918619332478004,-0.5527553282387287,-0.5860756317170931,-0.6076798377729238,-0.6215629668416455,-0.6299956715757211,null,-0.1619363749081991,-0.06676677457048864,-0.022066272752780173,-0.0184414456717283,-0.05547293712494948,-0.11029859605820441,-0.16198512057846148,-0.20153774910229277,-0.22798382364551473,-0.2440025577300749,-0.2491850163032916,-0.25035001001452845,-0.2502868339726223,-0.2482284848466933,null,0.5402009474381795,0.6427670529910671,0.5985623989782398,0.6504086405939306,0.6504086405939306,0.6504086405939306,0.6504086405939306,0.6576124142211852,0.5958361699770564,0.48994384843827105,0.3486352011085622,null,null,null],[0.03595052811090858,0.04982738757878069,0.06399197141769031,0.05972379353862386,-0.052355818092560666,-0.4260823167233506,-0.606663493600053,-0.578771821478439,-0.5686576212812876,-0.5842720847039786,-0.6032443967240736,-0.6156626919141733,-0.6138231577384609,-0.5930053921808831,-0.5584957499013474,0.37529605189859894,0.37571514795298727,0.4906662384732752,0.6490276826416949,0.7241847511178147,0.7953712026023672,0.8559937531217837,0.8999984782454372,0.9255328278170948,0.9541331635337257,0.978973775317327,0.994155983783168,0.9995046084103143,1.0,0.9997296156496244,null,0.04409279156828019,0.0542951806946571,0.060738229642065183,0.04456356383212569,-0.019301218721306388,-0.1360709323908148,-0.2826246518689125,-0.4131651842124694,-0.5025357143027471,-0.5582487022205321,-0.5933470380647573,-0.6164143231086723,-0.6314885174494567,-0.640848323237726,null,-0.15956848964278036,-0.06346610758211772,-0.019083283767318954,-0.015095787691704875,-0.05234433701550921,-0.10845539812060731,-0.1632277468426402,-0.2070329131380769,-0.2374220114263645,-0.25647249950326856,-0.2642376487698457,-0.2676201778524098,-0.2691617885277574,-0.2680731288590169,null,0.5429859658245043,0.6450885630170141,0.5966976759055949,0.6423886273421882,0.6423886273421882,0.6423886273421882,0.6423886273421882,0.6493240311646489,0.5870572528668887,0.48248669499693336,0.3439115047453975,null,null,null],[0.037717562678444526,0.05163166709998416,0.06582679030784024,0.06177312790368055,-0.04973725927227926,-0.42426985415227225,-0.6078299892596728,-0.5822067584775913,-0.5741450523721254,-0.5919118513990722,-0.612856788701158,-0.6273626954124132,-0.6275991027034596,-0.6085825420264508,-0.5756462847631992,0.37614966728790605,0.3765311787189305,0.4919763427161281,0.6507089295699527,0.7249813177219242,0.7948697776448397,0.8546268673114656,0.8982443381186975,0.9237898813153608,0.9522672639639543,0.9771530050384323,0.9925958393202434,0.9985592396020524,0.9997296156496244,1.0,null,0.045883801420323486,0.05610857205971355,0.06261365792953048,0.04663814211198581,-0.01704325036291576,-0.13395119505726596,-0.28121983761398245,-0.41307560767840534,-0.5039561841724681,-0.5610565213703952,-0.5973481575758853,-0.6214219668840246,-0.6373351761339272,-0.6473789319648245,null,-0.15885267255030938,-0.06197809032019762,-0.01773090377557112,-0.013315861697855506,-0.05046779813693143,-0.10705038453894665,-0.16348046582412631,-0.20988657266496294,-0.2428317860137828,-0.2639220615479582,-0.27346216785338484,-0.27839113895343515,-0.2811452424739466,-0.28096381115371866,null,0.5455484132576826,0.6472278456221842,0.5948881701453325,0.6357918853946367,0.6357918853946367,0.6357918853946367,0.6357918853946367,0.6419283286534933,0.5805313887944034,0.4772736189726915,0.3413872090946664,null,null,null],[null,null,null,null,null,null,null,null,null,null,null,null,null,null,null,null,null,null,null,null,null,null,null,null,null,null,null,null,null,null,null,null,null,null,null,null,null,null,null,null,null,null,null,null,null,null,null,null,null,null,null,null,null,null,null,null,null,null,null,null,null,null,null,null,null,null,null,null,null,null,null,null,null,null,null],[0.9995542079362807,0.9997733471170471,0.9954414098946778,0.9730852922423164,0.8810140233013052,0.4745654672687077,-0.1569196718929768,-0.3406429772804982,-0.38106062667332524,-0.3833769674508045,-0.3706718099211891,-0.34384976000561757,-0.3110580658462247,-0.27927037639898955,-0.2507254380289482,0.17153174876379096,0.14927527378644648,0.05788988264157038,-0.06916140540874222,-0.16013167858647906,-0.1881503684300412,-0.1571197502297696,-0.10304126484447049,-0.04712026177842065,-0.001724605862546987,0.03908943852710216,0.05336754594843626,0.040691880861707865,0.04409279156828019,0.045883801420323486,null,1.0,0.9990683876317111,0.9938409029534825,0.9792458398238367,0.9500083446679972,0.8890754772964681,0.7725903448931712,0.6150471565288523,0.46518801687552436,0.35116990421024463,0.2737338485394227,0.22333644787148232,0.1909774423007184,0.1699589614491276,null,0.6784774884567396,0.9317806175829233,0.9849310179219218,0.9907486542823938,0.9561460680086957,0.8425326800664723,0.6756302675741627,0.5075348709994092,0.37538096722385145,0.2839090844972325,0.2339725584563253,0.20527491377270246,0.18616269885064712,0.1746874204603387,null,-0.10528811226956432,-0.06216394091212498,0.040836389429343666,0.13988752692967485,0.13988752692967485,0.13988752692967485,0.13988752692967485,0.10661024281222853,0.14532568606577037,0.0546854179288094,-0.1621240963635946,null,null,null],[0.9975060851143895,0.9997168277500108,0.9985961598111373,0.9811206773415176,0.8946734115707783,0.4909199933915245,-0.1478096767344335,-0.3385258433000441,-0.38385918427534815,-0.38860216728321495,-0.37723548536493196,-0.35110327186926854,-0.31857950745063396,-0.28660305474344405,-0.25756930406192224,0.19764194740023502,0.1755019801774203,0.08408536454720833,-0.046041627403823226,-0.1405278803086492,-0.17135281495307855,-0.14312072671123846,-0.0909551263571683,-0.03601404637618447,0.008919493284692786,0.04975869222385692,0.0636438760567432,0.05091438079021796,0.0542951806946571,0.05610857205971355,null,0.9990683876317111,1.0,0.9975150968312733,0.9859986459651202,0.959217993905606,0.9002509512470198,0.7845741787993252,0.6259499358863665,0.4740424706004222,0.35807782894297957,0.27913463576813746,0.2276458640588123,0.19453319028779656,0.1730036736948216,null,0.6500703680608877,0.9156456540839857,0.9782208320851662,0.991513636757544,0.9631879254567965,0.8556199723066044,0.689926196606299,0.5192139314992186,0.38496513877471145,0.29200559474037147,0.24105862021671126,0.2116651326309539,0.19218290205156402,0.18046701868210305,null,-0.10033853046462811,-0.06356430434695756,0.040902928740322135,0.13971668164288087,0.13971668164288087,0.13971668164288087,0.13971668164288087,0.10964754408632443,0.1507798178585698,0.05645381636288801,-0.16010557607348191,null,null,null],[0.9910448007354047,0.9955957048998385,0.9997433081136679,0.9921690658836111,0.9191377997859167,0.5258809263480431,-0.12649184950506628,-0.3311492908280835,-0.3852665066507563,-0.3928560297506171,-0.38294227444195567,-0.35779148819814505,-0.32609629320542194,-0.2944293113506854,-0.2652240520438937,0.22060926670537606,0.19867233865742728,0.10747103006450683,-0.025791635953285076,-0.1240094708322187,-0.15891320625436955,-0.13438415143972954,-0.0842668815043948,-0.029817994347652373,0.014476613499446383,0.05600663495342158,0.06969220743924483,0.05735763082732067,0.060738229642065183,0.06261365792953048,null,0.9938409029534825,0.9975150968312733,1.0,0.99488227672733,0.9739499068654192,0.9198957718735407,0.8067545830381382,0.6470580762654878,0.49230802125102274,0.3736225716978854,0.2925488030724796,0.2394806887062394,0.20523520155904681,0.18291106599926238,null,0.6151498293968215,0.8892673587807084,0.9634668664824795,0.9896079782492063,0.9732895651736827,0.875674684360906,0.7116946711653165,0.5366697385640699,0.40039653690178517,0.3060601176024697,0.2540467650474386,0.22370284129643403,0.20358310036904176,0.19140389430638294,null,-0.09567024818469547,-0.06570614211780211,0.04213103143877736,0.13844891392216357,0.13844891392216357,0.13844891392216357,0.13844891392216357,0.10899235398020955,0.15916500343840562,0.05875378004188939,-0.15444270089171772,null,null,null],[0.975215109837668,0.98216979842811,0.9924979375524138,0.999286393470634,0.9530887699687219,0.5928677058893977,-0.07173717891262144,-0.29797897728434625,-0.3656723558975247,-0.37785267869912686,-0.3713233335095191,-0.3493752209943411,-0.3211337067061801,-0.2924217865713889,-0.26530568178737135,0.23422905594659554,0.21267347952345417,0.11951497732353178,-0.01715739069767353,-0.12008654759364128,-0.16202776817525108,-0.144099919435932,-0.09809896060724237,-0.04519062685478641,-0.003194478388886035,0.03874551531777362,0.052105830196080435,0.041070547830540025,0.04456356383212569,0.04663814211198581,null,0.9792458398238367,0.9859986459651202,0.99488227672733,1.0,0.9909249106063732,0.9490309781550169,0.8455090440172576,0.689623316652709,0.5344368934093863,0.4139239674146576,0.330828398946675,0.27595772615039327,0.24022312365584775,0.21673442607209392,null,0.5741488527414202,0.8533470992961515,0.9378256582565171,0.9822458212874894,0.9847207697978871,0.9035288195418882,0.7455266068611835,0.5679086001072171,0.4311715835872209,0.3359124925917057,0.28255331546813817,0.2506246273734177,0.22918658762870905,0.21596130947301007,null,-0.10347157776500594,-0.07364866901853531,0.03631836436644796,0.124200346357573,0.124200346357573,0.124200346357573,0.124200346357573,0.0903582507421737,0.15785368122494509,0.05235306613438896,-0.1464427829768741,null,null,null],[0.9450462264915256,0.9538336751655445,0.9692872105443338,0.9906909089514198,0.983843965637025,0.6932366011749357,0.03821467423834562,-0.2112701139724854,-0.2953143116396565,-0.3146197557773142,-0.3148091301633157,-0.2998631920064766,-0.2790434538318386,-0.2573869190554756,-0.2361073627316342,0.22428919420472587,0.20335974175815796,0.10283354368100658,-0.04029764044524212,-0.14758746406220474,-0.19964531498197216,-0.19265313173870932,-0.15478049545810124,-0.10620472751913299,-0.06825727013952834,-0.027012411613743674,-0.014068847878966598,-0.022793820442905476,-0.019301218721306388,-0.01704325036291576,null,0.9500083446679972,0.959217993905606,0.9739499068654192,0.9909249106063732,1.0,0.9812350782647525,0.9013158421431225,0.7618384252815539,0.614525518122857,0.4967192102118511,0.4138185004960706,0.3581661215646942,0.3213423739446035,0.2967784398903697,null,0.5302075356950815,0.8105653779841681,0.9022504263738736,0.9662380755283319,0.9920949788138769,0.937330654959121,0.795634223305737,0.6230536426755373,0.48970881540718264,0.3949806798954319,0.3402378790885659,0.3063650393974246,0.28317565782509746,0.2684475638769514,null,-0.1408388244342523,-0.1036811609133908,0.015371540096710802,0.0846899245884533,0.0846899245884533,0.0846899245884533,0.0846899245884533,0.04785732377806285,0.1339751229017424,0.02965026013562781,-0.139831482999258,null,null,null],[0.8831864482161305,0.8937032677905475,0.9131642899415526,0.9481391513665449,0.9878849353043445,0.8155469006900545,0.22692995664932583,-0.03589043522977169,-0.13661305761959983,-0.16712294821016457,-0.17964163205915115,-0.17848239136829577,-0.17229032125053612,-0.16440323449212815,-0.15423909366465943,0.190131552382781,0.17045925880334034,0.05632157464624113,-0.09733464352990351,-0.20831858943957288,-0.27028528044992833,-0.27920380568970266,-0.25565320776526634,-0.21614973224473813,-0.18502532073311848,-0.14634583290574985,-0.1333430013818309,-0.13899771613005182,-0.1360709323908148,-0.13395119505726596,null,0.8890754772964681,0.9002509512470198,0.9198957718735407,0.9490309781550169,0.9812350782647525,1.0,0.9664973221840052,0.8664496844678459,0.7434829420642761,0.638057165524637,0.5605736062990296,0.5068345387666339,0.4702599080265181,0.4452633858739077,null,0.46306505245760754,0.74334135779737,0.8417760129542379,0.9227841361075986,0.9776748350981366,0.9712249623441384,0.8692127689936564,0.7185381994848369,0.5962258390396923,0.5053294796151359,0.4498805517776955,0.41401203804095776,0.3888259262271305,0.37234143847807943,null,-0.2151436641741068,-0.16509546321078586,-0.03293515591505506,0.0303633079509316,0.0303633079509316,0.0303633079509316,0.0303633079509316,-0.010986937644191794,0.09035734946917821,-0.00037589551040408597,-0.1316262673106656,null,null,null],[0.7660887015372119,0.7776577952120394,0.7987282841793035,0.8429396465391268,0.9284103280178932,0.9118920425497341,0.4669435843827218,0.22000654690773247,0.11060300304986083,0.06746694961142205,0.03851617060489863,0.019920307587237816,0.004666850415710133,-0.00767400308757889,-0.013728710451879731,0.13869990663954787,0.12149042499983811,-0.005780487432470843,-0.16674697564649,-0.27573117155007987,-0.3431567529351809,-0.3708335875349065,-0.3688367292482999,-0.3452045577533365,-0.3256177951040047,-0.2937670023571123,-0.2819022300967705,-0.28405664283906756,-0.2826246518689125,-0.28121983761398245,null,0.7725903448931712,0.7845741787993252,0.8067545830381382,0.8455090440172576,0.9013158421431225,0.9664973221840052,1.0,0.9647062331354848,0.8868718206853731,0.8075879846316693,0.7439246198994599,0.6970824834956215,0.663700612371038,0.6400401804144683,null,0.36643631704861157,0.6344994056279974,0.7341373540665234,0.8242573861692816,0.9062373879545031,0.9663838305407741,0.9347435535761076,0.8313564734962204,0.733158721180952,0.6531939392784192,0.6000527479222807,0.563623959175998,0.5372414415618441,0.5194506802416304,null,-0.30386878766553826,-0.24022118216943686,-0.09447340567789253,-0.025356497967583592,-0.025356497967583592,-0.025356497967583592,-0.025356497967583592,-0.07389697895337957,0.031882163521834476,-0.034255757419667555,-0.11314228085584986,null,null,null],[0.6088469940237389,0.6197816421725507,0.6389171324359982,0.6848077099423276,0.8016262853615758,0.9331831779717218,0.668462073248341,0.4676525318005419,0.36739749072076194,0.31905550719299425,0.2781633068059905,0.24245499061184758,0.20723513806298777,0.17541941388987226,0.15320381395116656,0.0754499449440899,0.06160237728243208,-0.07208045527781926,-0.231367274430726,-0.3302527863532424,-0.3951480029917988,-0.4366974946418701,-0.4555770254516788,-0.4503957147030423,-0.4444423493660532,-0.4223772199518057,-0.4130453088076247,-0.4122727135193504,-0.4131651842124694,-0.41307560767840534,null,0.6150471565288523,0.6259499358863665,0.6470580762654878,0.689623316652709,0.7618384252815539,0.8664496844678459,0.9647062331354848,1.0,0.976805151284066,0.932458526644526,0.8894229261830012,0.8544046071600666,0.8277027452664305,0.8078339265396001,null,0.26530862228545854,0.5016216696146016,0.5920416653079105,0.6788445123673192,0.7761421177882716,0.8945749945297345,0.9410016342727192,0.9022797095232638,0.8398293799279515,0.7789495747482958,0.7333265084214845,0.6998114453405277,0.6746353763194934,0.6570960790145145,null,-0.37782686301434704,-0.3041331984768075,-0.1499918185169145,-0.06596622125985936,-0.06596622125985936,-0.06596622125985936,-0.06596622125985936,-0.1231397817199999,-0.022475432588369555,-0.06054191906802461,-0.08418402024476955,null,null,null],[0.459981851956086,0.46909507288461294,0.48467492994007766,0.527756494873233,0.65990671701217,0.8972397492533037,0.7876214672907498,0.6383188940529261,0.5570628131247808,0.5136071979107548,0.4700436972164935,0.4257876995433111,0.3785025095103188,0.3339332386411516,0.30039920791767377,0.013988549493973964,0.0033385927879909993,-0.13036789038922306,-0.2820104259138586,-0.36745022414551115,-0.4249962808317653,-0.47300854162521105,-0.5057715149092636,-0.515067147816554,-0.5206993415223758,-0.5081529857409313,-0.5015849417864476,-0.49918619332478004,-0.5025357143027471,-0.5039561841724681,null,0.46518801687552436,0.4740424706004222,0.49230802125102274,0.5344368934093863,0.614525518122857,0.7434829420642761,0.8868718206853731,0.976805151284066,1.0,0.9879073881030692,0.965462590514164,0.9432348940993338,0.9244292237953835,0.9094912287232344,null,0.18671816391625756,0.38170491089491804,0.4573277850239104,0.5339375752043608,0.6355413417377126,0.7901102147868478,0.8957652352158283,0.9148447970052415,0.8889856386166655,0.8497726394814472,0.8146461249307512,0.7866210374002162,0.7646479520703903,0.7487772030228932,null,-0.42432539327620217,-0.3459927312375739,-0.1889998381790881,-0.08861737839105915,-0.08861737839105915,-0.08861737839105915,-0.08861737839105915,-0.15375880537156833,-0.061443328760402434,-0.07429284270270754,-0.05607185467213115,null,null,null],[0.34708624854755654,0.354212615905673,0.36654611130528486,0.4060821444262218,0.5439764783491953,0.8454219998835788,0.8435913557165007,0.7353818382603569,0.673056611996994,0.6398413391815536,0.6005560473324937,0.555289870878285,0.5034165299900775,0.45272109851411696,0.4129485270930318,-0.03438301994266942,-0.04260397352624611,-0.17393852677486685,-0.31777646390708747,-0.3918687381523025,-0.4419441291532033,-0.49180609925000757,-0.5320860162666002,-0.5505817657930527,-0.5644624960030257,-0.5595705250069132,-0.5554869861784234,-0.5527553282387287,-0.5582487022205321,-0.5610565213703952,null,0.35116990421024463,0.35807782894297957,0.3736225716978854,0.4139239674146576,0.4967192102118511,0.638057165524637,0.8075879846316693,0.932458526644526,0.9879073881030692,1.0,0.9940302804765072,0.9826579868137407,0.970941417418944,0.96066430422675,null,0.1358549619795611,0.29275536058050683,0.35437575194471715,0.4205830170353559,0.5213260105030939,0.6939855575325038,0.83618087881042,0.8960260080555226,0.8998969645989808,0.8799062545728515,0.8551596858537698,0.8331529684167324,0.8149860972079659,0.8013162622438241,null,-0.45051539454487927,-0.37181569562354816,-0.21543470255413585,-0.10131940566261442,-0.10131940566261442,-0.10131940566261442,-0.10131940566261442,-0.17192639541523927,-0.08671974556929998,-0.08056204885654107,-0.03720688083833068,null,null,null],[0.27058810119716625,0.2760779949088394,0.28594506371436323,0.3223265824666766,0.461100084722861,0.7981790499568282,0.8647630718596347,0.7856537332473126,0.7386717374862264,0.7159360216410676,0.6837266631151429,0.6422170600866989,0.5908162627738848,0.5385537241775434,0.4961657093097265,-0.06703148972194344,-0.07360108560827054,-0.20249512936382671,-0.34109275316414756,-0.40761089216206636,-0.4519298190195751,-0.5017264873508527,-0.545758066986283,-0.5697238084586316,-0.5891903600099778,-0.589904848442071,-0.5881251691364182,-0.5860756317170931,-0.5933470380647573,-0.5973481575758853,null,0.2737338485394227,0.27913463576813746,0.2925488030724796,0.330828398946675,0.4138185004960706,0.5605736062990296,0.7439246198994599,0.8894229261830012,0.965462590514164,0.9940302804765072,1.0,0.9969445362927546,0.9909249907734978,0.984542055895504,null,0.1057891356817558,0.23348262382158913,0.28432536653828644,0.3421897453615262,0.4403923841746767,0.6206648858297364,0.7834591550647586,0.8694584093393091,0.8944182662172725,0.8892343121622297,0.8735474431694795,0.8571162555187636,0.8426086786972833,0.8311504086297985,null,-0.46499505069260566,-0.3895283656227863,-0.23491860832052505,-0.1096414770834809,-0.1096414770834809,-0.1096414770834809,-0.1096414770834809,-0.18461496088296253,-0.10345212217912493,-0.08444230265974999,-0.028693719326915706,null,null,null],[0.22089405512750793,0.225164669592263,0.23325556724125024,0.26707004001560347,0.4047247138632895,0.7608082639473474,0.8694587303163143,0.8100738141375599,0.7746060267865991,0.760764168293601,0.7357289932758355,0.6998236103395454,0.6517021048564209,0.6005691194554597,0.5578098342758955,-0.0880214716040251,-0.09351491891896489,-0.22059370728196806,-0.3562687521675325,-0.4179707396479716,-0.45830617504980403,-0.5074378639725518,-0.5532550145483809,-0.5804354274091257,-0.6035497463308616,-0.6081679751347685,-0.6084671104459219,-0.6076798377729238,-0.6164143231086723,-0.6214219668840246,null,0.22333644787148232,0.2276458640588123,0.2394806887062394,0.27595772615039327,0.3581661215646942,0.5068345387666339,0.6970824834956215,0.8544046071600666,0.9432348940993338,0.9826579868137407,0.9969445362927546,1.0,0.9983620201739044,0.9950779303604304,null,0.08865672956145394,0.19561569764426642,0.23881258054945254,0.2905575251921094,0.38598241045862114,0.5685217290711084,0.7423591966540575,0.8446363445174728,0.883896769359159,0.889395309543865,0.8809914944849101,0.8694090260473325,0.8581688515350108,0.848735843633107,null,-0.4734986238803832,-0.4026403890360019,-0.24884561167439836,-0.11602591588824573,-0.11602591588824573,-0.11602591588824573,-0.11602591588824573,-0.19371332746702632,-0.11479297025211689,-0.08825801830917247,-0.02763782781420621,null,null,null],[0.18902828383159692,0.19244679081608362,0.19930913517007695,0.23112061074678134,0.36690837502940077,0.7326612381569966,0.8670293105460967,0.8208991351157773,0.7938146655579041,0.7869571814880731,0.7680933899317774,0.737741486563713,0.6938718841048513,0.6451814872826194,0.603307491592607,-0.10131166778484385,-0.10611323442468554,-0.23201303475079613,-0.3661986985601594,-0.424867391112564,-0.4624870479883097,-0.5108099727203244,-0.5573819777310642,-0.5864287669417757,-0.6117701825913128,-0.6189841216872073,-0.6209554780159785,-0.6215629668416455,-0.6314885174494567,-0.6373351761339272,null,0.1909774423007184,0.19453319028779656,0.20523520155904681,0.24022312365584775,0.3213423739446035,0.4702599080265181,0.663700612371038,0.8277027452664305,0.9244292237953835,0.970941417418944,0.9909249907734978,0.9983620201739044,1.0,0.9991056229610884,null,0.07871588224247597,0.17160496009883094,0.20972676361082485,0.2571110669554141,0.35003249301818806,0.532371557793385,0.7118791769936865,0.8242069509429664,0.8730251903169025,0.8860336247824241,0.8831488269834963,0.8755584781671065,0.8671169168401424,0.8594581760927734,null,-0.47888943261538913,-0.41232905969525696,-0.25863341633422215,-0.12077167259630536,-0.12077167259630536,-0.12077167259630536,-0.12077167259630536,-0.19923252520065263,-0.12192691602350841,-0.09144318087032037,-0.03015509361961957,null,null,null],[0.16834894338204298,0.17118345604533455,0.17721260442581624,0.20752464206409055,0.34136697516415515,0.7118292425016256,0.8621907109972656,0.8250297672761776,0.8039603352103871,0.8023584235216548,0.7883782687962941,0.7627192179956053,0.7228395440733654,0.6768294717220694,0.6364017816598575,-0.10983840587209502,-0.11419007455699969,-0.23932582258005466,-0.3727678667028458,-0.4294008263704561,-0.4650589179630746,-0.5125534717114804,-0.5593235420086832,-0.589417457752146,-0.6160515072287929,-0.6249584292605089,-0.628164280669339,-0.6299956715757211,-0.640848323237726,-0.6473789319648245,null,0.1699589614491276,0.1730036736948216,0.18291106599926238,0.21673442607209392,0.2967784398903697,0.4452633858739077,0.6400401804144683,0.8078339265396001,0.9094912287232344,0.96066430422675,0.984542055895504,0.9950779303604304,0.9991056229610884,1.0,null,0.07269452331617772,0.1560994309617154,0.19091700318028237,0.23522319920795598,0.32609572208246407,0.5073668949914312,0.6897252265831353,0.8083337616105452,0.8635705503470444,0.8818311444269081,0.8830122616962307,0.8785255599435831,0.8723450592765079,0.8661850232619711,null,-0.48238663293755596,-0.41935043010610945,-0.2650748578112523,-0.12357537220469243,-0.12357537220469243,-0.12357537220469243,-0.12357537220469243,-0.2017876950428468,-0.12594684740015394,-0.09341489118941862,-0.03327947864189328,null,null,null],[null,null,null,null,null,null,null,null,null,null,null,null,null,null,null,null,null,null,null,null,null,null,null,null,null,null,null,null,null,null,null,null,null,null,null,null,null,null,null,null,null,null,null,null,null,null,null,null,null,null,null,null,null,null,null,null,null,null,null,null,null,null,null,null,null,null,null,null,null,null,null,null,null,null,null],[0.6998662049474887,0.6630908929141451,0.6184817621115059,0.5554838255971423,0.44129690778270986,0.13395269217672937,-0.24303982929704498,-0.2898661387628423,-0.2510032612030012,-0.2020262805254271,-0.1588238410294859,-0.1197656752646836,-0.0883449679053499,-0.06764020162569638,-0.0555351796114827,-0.39519106935859744,-0.41215080242968233,-0.46515498804470656,-0.4943534169118446,-0.4869520295995338,-0.4600499349144805,-0.3878823929411568,-0.3106713003438776,-0.24555448458245266,-0.20517030052249627,-0.17174350230944255,-0.15603149294910387,-0.1619363749081991,-0.15956848964278036,-0.15885267255030938,null,0.6784774884567396,0.6500703680608877,0.6151498293968215,0.5741488527414202,0.5302075356950815,0.46306505245760754,0.36643631704861157,0.26530862228545854,0.18671816391625756,0.1358549619795611,0.1057891356817558,0.08865672956145394,0.07871588224247597,0.07269452331617772,null,1.0,0.8689551088289922,0.7386064823671178,0.6466024801334416,0.548798829042001,0.37862068811347466,0.23632006397134453,0.14857250790471258,0.09694144911015662,0.06556776674210835,0.0529461838124787,0.046551547331781636,0.03983385956941445,0.03572152644268854,null,-0.13613289139838422,-0.013488104810564137,0.06900878252944814,0.11452712330901216,0.11452712330901216,0.11452712330901216,0.11452712330901216,0.006625715710900095,0.042158904909913385,0.007423178221695804,-0.12171669711294793,null,null,null],[0.9407299468524176,0.924294056576867,0.8943242666748884,0.8369187427346932,0.7153496515178884,0.3318655077124155,-0.19342834962989566,-0.31071156721603044,-0.3105574343678812,-0.29449534131795224,-0.27319235725398133,-0.24389706619935297,-0.21297913023111453,-0.18668588373347553,-0.1659075570685872,-0.062238616269377385,-0.0837877882614503,-0.1731264235406172,-0.2689615165013577,-0.32726884509676657,-0.3313410099380636,-0.28071440520470736,-0.2158201254195465,-0.1561608632719292,-0.11164780325437063,-0.07293381284445906,-0.055557824583738966,-0.06676677457048864,-0.06346610758211772,-0.06197809032019762,null,0.9317806175829233,0.9156456540839857,0.8892673587807084,0.8533470992961515,0.8105653779841681,0.74334135779737,0.6344994056279974,0.5016216696146016,0.38170491089491804,0.29275536058050683,0.23348262382158913,0.19561569764426642,0.17160496009883094,0.1560994309617154,null,0.8689551088289922,1.0,0.9688852131877086,0.9151355842488178,0.8347190914864887,0.6837888437594436,0.5237826070639757,0.3922162269316186,0.2877618700553996,0.21497543828734714,0.1765958464737033,0.15510740617163937,0.1399395879349556,0.130835502297326,null,-0.15975741907195556,-0.05989407677325166,0.021947573944684953,0.12584673124007684,0.12584673124007684,0.12584673124007684,0.12584673124007684,0.05717737362472373,0.08826564453818193,0.03598159593034754,-0.1707233354010029,null,null,null],[0.9873687525436975,0.9822313367731863,0.9673785723405981,0.9268597771122951,0.8176808704504206,0.426926230695993,-0.1487009905409202,-0.30322790107971426,-0.32735482978929825,-0.32603599153090185,-0.31306947420524645,-0.2874420052554458,-0.25584953968961577,-0.22555506557465926,-0.19928004250653203,0.08074116860059256,0.05849348285453885,-0.039057668508572944,-0.16691581392718352,-0.2505040561506559,-0.2692611606907243,-0.2314976800645238,-0.17430598907960315,-0.11774551011217434,-0.06976754662755023,-0.02750677914390417,-0.009610797909423343,-0.022066272752780173,-0.019083283767318954,-0.01773090377557112,null,0.9849310179219218,0.9782208320851662,0.9634668664824795,0.9378256582565171,0.9022504263738736,0.8417760129542379,0.7341373540665234,0.5920416653079105,0.4573277850239104,0.35437575194471715,0.28432536653828644,0.23881258054945254,0.20972676361082485,0.19091700318028237,null,0.7386064823671178,0.9688852131877086,1.0,0.9788703093319571,0.9226159282392853,0.7973555613994397,0.6367841351413275,0.4860484508136385,0.36277746794398086,0.2764728963777935,0.2296120853778321,0.20352267311279781,0.18645024978979494,0.17637472019783507,null,-0.1517168445632984,-0.10101527899640046,0.0039433477075100695,0.12513315125714466,0.12513315125714466,0.12513315125714466,0.12513315125714466,0.09535949514902885,0.12463064271268355,0.053976793336332436,-0.17422686770257814,null,null,null],[0.9893097965353733,0.9912843727428565,0.9901107543795798,0.9755283050753244,0.9117413058160457,0.5556690216191049,-0.07082452868097436,-0.27330647511390843,-0.32646234245499206,-0.3376395540193939,-0.3318695052884281,-0.31010807121099865,-0.28081591566187064,-0.2518141645324064,-0.2255389468801994,0.15804798257235453,0.1359467252292263,0.035632088256980575,-0.10316174456811714,-0.20185242632489103,-0.23798804333701123,-0.21480921911087042,-0.1661984980892556,-0.11285484006232001,-0.06748114842001998,-0.023945637927342934,-0.007904733606035505,-0.0184414456717283,-0.015095787691704875,-0.013315861697855506,null,0.9907486542823938,0.991513636757544,0.9896079782492063,0.9822458212874894,0.9662380755283319,0.9227841361075986,0.8242573861692816,0.6788445123673192,0.5339375752043608,0.4205830170353559,0.3421897453615262,0.2905575251921094,0.2571110669554141,0.23522319920795598,null,0.6466024801334416,0.9151355842488178,0.9788703093319571,1.0,0.9781274273357842,0.8797159541965496,0.7213771710726425,0.5553873793683193,0.4215841294808494,0.32763233792544105,0.27536118371491547,0.2451365385584721,0.2251991378104546,0.21312266167500343,null,-0.14517289116757273,-0.1054343001992236,0.005513266779211892,0.10121920847484384,0.10121920847484384,0.10121920847484384,0.10121920847484384,0.07728053838317327,0.13206049430031175,0.04145665378034609,-0.15902872586451172,null,null,null],[0.9518108224601683,0.9592554417708409,0.9701017081735109,0.9817048145810542,0.9680412515768191,0.69369940748589,0.06633906820556591,-0.17656261733540576,-0.25785995621960134,-0.2810581220674317,-0.28413081619800046,-0.2702881218906299,-0.24920141442706784,-0.22745316694099194,-0.20634869331764508,0.19341260201244925,0.17222526732973398,0.06462506726451152,-0.0831593513926743,-0.1893809175445847,-0.23904218631561633,-0.2318801093483306,-0.19396502564473062,-0.14548387892989223,-0.1051963827814897,-0.06170271896350975,-0.04653802345932926,-0.05547293712494948,-0.05234433701550921,-0.05046779813693143,null,0.9561460680086957,0.9631879254567965,0.9732895651736827,0.9847207697978871,0.9920949788138769,0.9776748350981366,0.9062373879545031,0.7761421177882716,0.6355413417377126,0.5213260105030939,0.4403923841746767,0.38598241045862114,0.35003249301818806,0.32609572208246407,null,0.548798829042001,0.8347190914864887,0.9226159282392853,0.9781274273357842,1.0,0.9494288422200259,0.8121361215216627,0.6454590052362942,0.5106863760064807,0.41449905063174286,0.3592694012550834,0.3257551795257545,0.303020106806488,0.2887543293682386,null,-0.17408979631160226,-0.1291968721596628,-0.00241379225646164,0.07989506462984648,0.07989506462984648,0.07989506462984648,0.07989506462984648,0.04707580497994668,0.12976725658113097,0.03206904308637635,-0.14761416228928062,null,null,null],[0.8344717512555925,0.8485485211431795,0.869931916548704,0.9030770598189033,0.9423374130390367,0.8157350766308241,0.320135812006727,0.07287135248840115,-0.03581708014366125,-0.08169699701245037,-0.10799898838144155,-0.11849884121721761,-0.12237894653181071,-0.12249605652101027,-0.1163955741976814,0.24096180679871707,0.22253701057313596,0.10853478742035003,-0.04085229072180353,-0.14395220817741297,-0.20002517483866583,-0.21749666601135542,-0.2051556651518747,-0.17349009025998394,-0.14787760587201712,-0.11350185879713937,-0.10260163613697888,-0.11029859605820441,-0.10845539812060731,-0.10705038453894665,null,0.8425326800664723,0.8556199723066044,0.875674684360906,0.9035288195418882,0.937330654959121,0.9712249623441384,0.9663838305407741,0.8945749945297345,0.7901102147868478,0.6939855575325038,0.6206648858297364,0.5685217290711084,0.532371557793385,0.5073668949914312,null,0.37862068811347466,0.6837888437594436,0.7973555613994397,0.8797159541965496,0.9494288422200259,1.0,0.9440859507088493,0.8150383385868286,0.6954561782945324,0.6027640580622056,0.5444453602642046,0.5060744986054602,0.4789539556445967,0.4614645219181761,null,-0.21564439015264572,-0.15314196478330508,0.0022519369557848696,0.08963911400298663,0.08963911400298663,0.08963911400298663,0.08963911400298663,0.027107373170459234,0.10977456535220773,0.019205259769614565,-0.12486488556423599,null,null,null],[0.6662244640805142,0.6825111972034416,0.705533591290703,0.7446924533580668,0.8163264306860386,0.8314073621828524,0.5334247620019564,0.348696848420758,0.24872602721463608,0.19138414498110645,0.14568753435559018,0.11094483637643637,0.07998330633603877,0.05487071636528445,0.041907598692461884,0.252817471469197,0.23824743612742963,0.12533962916309715,-0.010037176765548585,-0.0963451167409195,-0.14474645466128186,-0.17713504761726584,-0.1920646445220944,-0.18439626546642784,-0.17830169213724495,-0.15858673791987865,-0.15532492787103314,-0.16198512057846148,-0.1632277468426402,-0.16348046582412631,null,0.6756302675741627,0.689926196606299,0.7116946711653165,0.7455266068611835,0.795634223305737,0.8692127689936564,0.9347435535761076,0.9410016342727192,0.8957652352158283,0.83618087881042,0.7834591550647586,0.7423591966540575,0.7118791769936865,0.6897252265831353,null,0.23632006397134453,0.5237826070639757,0.6367841351413275,0.7213771710726425,0.8121361215216627,0.9440859507088493,1.0,0.9530347186421043,0.8736464418701309,0.7994679744339049,0.7464673161042619,0.7083065252821554,0.680002571507922,0.6610378776279797,null,-0.24739696786270884,-0.15817410685244412,0.015137661387105966,0.12537517781252683,0.12537517781252683,0.12537517781252683,0.12537517781252683,0.03092418601167283,0.09448124910732575,0.010981737736183996,-0.07671741517259527,null,null,null],[0.4991153891907103,0.513474279432723,0.5315504579134664,0.5649065985671725,0.6467966116589485,0.7640218436777593,0.6423400200137608,0.5364655500121467,0.4775507176742429,0.43099872884153867,0.38267995435125324,0.33734986222139585,0.2909193594417058,0.24965849168219756,0.22269260544901737,0.21303415468666395,0.20215995424673708,0.0924794170663489,-0.023341427497163104,-0.08532095121237447,-0.11530343742695773,-0.14742293485499494,-0.17573422818849635,-0.18775028733701685,-0.19808365517279972,-0.191638849881766,-0.19487065481960966,-0.20153774910229277,-0.2070329131380769,-0.20988657266496294,null,0.5075348709994092,0.5192139314992186,0.5366697385640699,0.5679086001072171,0.6230536426755373,0.7185381994848369,0.8313564734962204,0.9022797095232638,0.9148447970052415,0.8960260080555226,0.8694584093393091,0.8446363445174728,0.8242069509429664,0.8083337616105452,null,0.14857250790471258,0.3922162269316186,0.4860484508136385,0.5553873793683193,0.6454590052362942,0.8150383385868286,0.9530347186421043,1.0,0.9752384422513163,0.9314014394737334,0.8927602049682576,0.8615685577401931,0.8368589963863693,0.8194534154094666,null,-0.28135994481710774,-0.16301419779979892,0.025739824840946363,0.17563613113647034,0.17563613113647034,0.17563613113647034,0.17563613113647034,0.049152275268239065,0.09795286628963065,0.022887370698435085,-0.02171261003459658,null,null,null],[0.36858490958976464,0.3802064935442731,0.3953437077301142,0.4274713424470454,0.5185802625554186,0.7003138550444967,0.6852166043316613,0.6258980257719396,0.5964656513293751,0.5757304446262189,0.5403163649413216,0.49809992579105267,0.4488891492202853,0.4022451769898975,0.3691266485751871,0.15368405643462094,0.14561476059945128,0.04104050443554507,-0.055632245170645085,-0.09680130715094927,-0.11102494110634205,-0.1379232856851143,-0.16913455952795775,-0.18915969313174838,-0.20932507819353163,-0.21300949202641814,-0.2204882997126406,-0.22798382364551473,-0.2374220114263645,-0.2428317860137828,null,0.37538096722385145,0.38496513877471145,0.40039653690178517,0.4311715835872209,0.48970881540718264,0.5962258390396923,0.733158721180952,0.8398293799279515,0.8889856386166655,0.8998969645989808,0.8944182662172725,0.883896769359159,0.8730251903169025,0.8635705503470444,null,0.09694144911015662,0.2877618700553996,0.36277746794398086,0.4215841294808494,0.5106863760064807,0.6954561782945324,0.8736464418701309,0.9752384422513163,1.0,0.9878709392279609,0.966300478157837,0.9449026037399013,0.9261317640016901,0.91202490286428,null,-0.3027798674513672,-0.16044328117070877,0.03421114998182074,0.21258082053101282,0.21258082053101282,0.21258082053101282,0.21258082053101282,0.07079153855661233,0.10755719377961344,0.042921078382987664,0.021046681041039083,null,null,null],[0.2784277212846777,0.28787999026558786,0.30107793153851714,0.3321085467937833,0.4262953405113823,0.6428106271408724,0.6923408763817419,0.6633032464655384,0.6541668479423025,0.653680664666576,0.6333854933816533,0.6000533492807064,0.5542298680759754,0.5080134298018757,0.4734374047499809,0.1106323745297095,0.1044983437639671,0.004517293094881803,-0.08007534513199256,-0.10871782176086149,-0.11254601294709915,-0.13486759590599665,-0.16625259547345791,-0.1900782520001294,-0.21526393896078902,-0.2248481454494882,-0.23533659515337815,-0.2440025577300749,-0.25647249950326856,-0.2639220615479582,null,0.2839090844972325,0.29200559474037147,0.3060601176024697,0.3359124925917057,0.3949806798954319,0.5053294796151359,0.6531939392784192,0.7789495747482958,0.8497726394814472,0.8799062545728515,0.8892343121622297,0.889395309543865,0.8860336247824241,0.8818311444269081,null,0.06556776674210835,0.21497543828734714,0.2764728963777935,0.32763233792544105,0.41449905063174286,0.6027640580622056,0.7994679744339049,0.9314014394737334,0.9878709392279609,1.0,0.9934579859063019,0.9811162311176277,0.9681734145967981,0.9575256860281257,null,-0.3137195158691344,-0.16263320360480796,0.030072252874181735,0.2288946545972969,0.2288946545972969,0.2288946545972969,0.2288946545972969,0.08466121925183015,0.11959623395669446,0.05942783830608045,0.04800359512924281,null,null,null],[0.22938801117499016,0.23736082366651795,0.2492093266323299,0.2788288444752117,0.37140392985247567,0.5997365362059278,0.6803920094425555,0.6691059000257358,0.6732267831680434,0.6861554042417068,0.6787233425963525,0.6585784066424302,0.6212559574688615,0.5799240927557876,0.5475544931849237,0.08512538240076652,0.08004130260367615,-0.01627963107266747,-0.09490837642527265,-0.11714199428021814,-0.11413070367292442,-0.1321724059629835,-0.16185105086558405,-0.1865185238250378,-0.21408824058417955,-0.22600205782882862,-0.23865818546117268,-0.2491850163032916,-0.2642376487698457,-0.27346216785338484,null,0.2339725584563253,0.24105862021671126,0.2540467650474386,0.28255331546813817,0.3402378790885659,0.4498805517776955,0.6000527479222807,0.7333265084214845,0.8146461249307512,0.8551596858537698,0.8735474431694795,0.8809914944849101,0.8831488269834963,0.8830122616962307,null,0.0529461838124787,0.1765958464737033,0.2296120853778321,0.27536118371491547,0.3592694012550834,0.5444453602642046,0.7464673161042619,0.8927602049682576,0.966300478157837,0.9934579859063019,1.0,0.9962307360628168,0.9888865944929375,0.9816634911688652,null,-0.31548422721628017,-0.1663013257309142,0.023763203079816917,0.24001402156291826,0.24001402156291826,0.24001402156291826,0.24001402156291826,0.09139924163662866,0.1319530855983428,0.07612920373878208,0.06419342838835056,null,null,null],[0.20125089098463342,0.2082858597075348,0.2191211084158842,0.2469445660849643,0.3360911476988193,0.5673346402098163,0.6648890329729337,0.6648582851630354,0.6778862623314512,0.6999436780618559,0.7015790908499256,0.6916035448563307,0.6643648419787013,0.6301288185215701,0.6019569117446549,0.06858845234212564,0.06410102948439922,-0.029674037877883756,-0.10579512806205865,-0.12388408034775585,-0.11677763578422785,-0.1318322062882349,-0.1599371455743518,-0.18471079346174105,-0.2122881817902291,-0.2244803720129817,-0.23793455919184348,-0.25035001001452845,-0.2676201778524098,-0.27839113895343515,null,0.20527491377270246,0.2116651326309539,0.22370284129643403,0.2506246273734177,0.3063650393974246,0.41401203804095776,0.563623959175998,0.6998114453405277,0.7866210374002162,0.8331529684167324,0.8571162555187636,0.8694090260473325,0.8755584781671065,0.8785255599435831,null,0.046551547331781636,0.15510740617163937,0.20352267311279781,0.2451365385584721,0.3257551795257545,0.5060744986054602,0.7083065252821554,0.8615685577401931,0.9449026037399013,0.9811162311176277,0.9962307360628168,1.0,0.9979213756313187,0.9939962532936889,null,-0.31509274253713465,-0.1719206181550524,0.0198340908407222,0.24348731200369705,0.24348731200369705,0.24348731200369705,0.24348731200369705,0.10142240242684762,0.14435645405559017,0.08913329479589988,0.07322053983611183,null,null,null],[0.1824169017125553,0.1889835851763063,0.19925407813316398,0.2256082757206938,0.31146642735894997,0.542820199076342,0.6510181867395612,0.658630568254277,0.6776921499469555,0.7059620482066533,0.7140151980567562,0.7112508934559618,0.6918191760767599,0.6641334279140618,0.6404638777947643,0.059749699846046535,0.05566756457255774,-0.03653189451265863,-0.11221071507958297,-0.127900830049867,-0.11824830232846457,-0.13133267392841658,-0.1583129058471593,-0.18306675663193397,-0.2101304464780403,-0.22253486734681116,-0.23647721889373566,-0.2502868339726223,-0.2691617885277574,-0.2811452424739466,null,0.18616269885064712,0.19218290205156402,0.20358310036904176,0.22918658762870905,0.28317565782509746,0.3888259262271305,0.5372414415618441,0.6746353763194934,0.7646479520703903,0.8149860972079659,0.8426086786972833,0.8581688515350108,0.8671169168401424,0.8723450592765079,null,0.03983385956941445,0.1399395879349556,0.18645024978979494,0.2251991378104546,0.303020106806488,0.4789539556445967,0.680002571507922,0.8368589963863693,0.9261317640016901,0.9681734145967981,0.9888865944929375,0.9979213756313187,1.0,0.9988684158199884,null,-0.3148929268121944,-0.17902343262401893,0.015705127385382843,0.24376450473640496,0.24376450473640496,0.24376450473640496,0.24376450473640496,0.10978350129296752,0.1511366310418428,0.09680500372682631,0.07700474172973179,null,null,null],[0.17111443694920742,0.1773887736060996,0.1872758111363793,0.21248366316645279,0.29540036866649694,0.5252091622541846,0.6399172383238239,0.6524755704986407,0.6753231048192486,0.7074725814137752,0.7196749762195078,0.7216498949603614,0.7074566203870817,0.6846545045700655,0.6654525353870188,0.053944925664123566,0.050104215597806485,-0.04134262513234639,-0.11696127189235354,-0.1307186328333202,-0.11903589955056275,-0.13046275271295418,-0.1563286424279281,-0.18071426291301015,-0.20682903285811036,-0.21920422705775466,-0.2334330920622183,-0.2482284848466933,-0.2680731288590169,-0.28096381115371866,null,0.1746874204603387,0.18046701868210305,0.19140389430638294,0.21596130947301007,0.2684475638769514,0.37234143847807943,0.5194506802416304,0.6570960790145145,0.7487772030228932,0.8013162622438241,0.8311504086297985,0.848735843633107,0.8594581760927734,0.8661850232619711,null,0.03572152644268854,0.130835502297326,0.17637472019783507,0.21312266167500343,0.2887543293682386,0.4614645219181761,0.6610378776279797,0.8194534154094666,0.91202490286428,0.9575256860281257,0.9816634911688652,0.9939962532936889,0.9988684158199884,1.0,null,-0.3156455955780429,-0.18416308938343948,0.01453595114452229,0.2457520671870166,0.2457520671870166,0.2457520671870166,0.2457520671870166,0.11887444656237825,0.1563591111440225,0.1017241088690992,0.07795000061397397,null,null,null],[null,null,null,null,null,null,null,null,null,null,null,null,null,null,null,null,null,null,null,null,null,null,null,null,null,null,null,null,null,null,null,null,null,null,null,null,null,null,null,null,null,null,null,null,null,null,null,null,null,null,null,null,null,null,null,null,null,null,null,null,null,null,null,null,null,null,null,null,null,null,null,null,null,null,null],[-0.10776919686628948,-0.10321585425886462,-0.09432100845998467,-0.09330742229723808,-0.1479857966920505,-0.3570400890016306,-0.4107203768785508,-0.3689067245871536,-0.3647130995454481,-0.37911394023465533,-0.38836136424413736,-0.3888070934224512,-0.3846822353876275,-0.37559657964367604,-0.365701856573172,0.08012656519571972,0.08291579529795777,0.33368426795245754,0.46884193939006485,0.5089311204976518,0.5298636918726815,0.5445799333440812,0.549747635051471,0.5496491896002293,0.5454652089827875,0.54654488799004,0.5420448224081333,0.5402009474381795,0.5429859658245043,0.5455484132576826,null,-0.10528811226956432,-0.10033853046462811,-0.09567024818469547,-0.10347157776500594,-0.1408388244342523,-0.2151436641741068,-0.30386878766553826,-0.37782686301434704,-0.42432539327620217,-0.45051539454487927,-0.46499505069260566,-0.4734986238803832,-0.47888943261538913,-0.48238663293755596,null,-0.13613289139838422,-0.15975741907195556,-0.1517168445632984,-0.14517289116757273,-0.17408979631160226,-0.21564439015264572,-0.24739696786270884,-0.28135994481710774,-0.3027798674513672,-0.3137195158691344,-0.31548422721628017,-0.31509274253713465,-0.3148929268121944,-0.3156455955780429,null,1.0,0.48061021920734487,0.3121054800215112,0.21412579849243094,0.21412579849243094,0.21412579849243094,0.21412579849243094,0.20299507252892188,0.20595954493925805,0.14405181767196665,0.10119358686249486,null,null,null],[-0.06091937026643138,-0.06298113144812215,-0.06517799464185688,-0.06920482128078533,-0.10921529381254726,-0.2840053310558127,-0.3392061156535079,-0.31001701364465584,-0.3119071889630579,-0.3270152290416313,-0.3516967665586886,-0.37619203315965194,-0.3905140135418144,-0.39481683637260045,-0.3904990912817707,-0.02432366157449713,-0.02294320836443842,0.10135401881096204,0.41559521680069966,0.5310761724293415,0.5761682329057106,0.6076388539095755,0.6243159242560101,0.6311681324665847,0.6228936886805916,0.633271225779089,0.6333455920436868,0.6427670529910671,0.6450885630170141,0.6472278456221842,null,-0.06216394091212498,-0.06356430434695756,-0.06570614211780211,-0.07364866901853531,-0.1036811609133908,-0.16509546321078586,-0.24022118216943686,-0.3041331984768075,-0.3459927312375739,-0.37181569562354816,-0.3895283656227863,-0.4026403890360019,-0.41232905969525696,-0.41935043010610945,null,-0.013488104810564137,-0.05989407677325166,-0.10101527899640046,-0.1054343001992236,-0.1291968721596628,-0.15314196478330508,-0.15817410685244412,-0.16301419779979892,-0.16044328117070877,-0.16263320360480796,-0.1663013257309142,-0.1719206181550524,-0.17902343262401893,-0.18416308938343948,null,0.48061021920734487,1.0,0.6322483193463955,0.4092303207891235,0.4092303207891235,0.4092303207891235,0.4092303207891235,0.29776547254635355,0.3665524222913041,0.25159301308034787,0.2744303457191688,null,null,null],[0.04257537987909804,0.04011704182712409,0.04195458433679207,0.0400426283410829,0.012121357742498501,-0.14905040667381103,-0.24856118103415248,-0.2380991487446512,-0.23489192103620443,-0.2435412183294057,-0.2678600570159015,-0.2886409375625211,-0.2947828281510614,-0.2915611854813595,-0.27524724520976396,0.0287275761963807,0.027930166136345514,0.10192134561586708,0.28887362107809794,0.4881877733561609,0.5348140022059836,0.5688857826131327,0.5883938714413144,0.5970746232016051,0.6016043781717778,0.6099187800940548,0.5959639366687688,0.5985623989782398,0.5966976759055949,0.5948881701453325,null,0.040836389429343666,0.040902928740322135,0.04213103143877736,0.03631836436644796,0.015371540096710802,-0.03293515591505506,-0.09447340567789253,-0.1499918185169145,-0.1889998381790881,-0.21543470255413585,-0.23491860832052505,-0.24884561167439836,-0.25863341633422215,-0.2650748578112523,null,0.06900878252944814,0.021947573944684953,0.0039433477075100695,0.005513266779211892,-0.00241379225646164,0.0022519369557848696,0.015137661387105966,0.025739824840946363,0.03421114998182074,0.030072252874181735,0.023763203079816917,0.0198340908407222,0.015705127385382843,0.01453595114452229,null,0.3121054800215112,0.6322483193463955,1.0,0.4764137925938339,0.4764137925938339,0.4764137925938339,0.4764137925938339,0.41565617572226654,0.3879481981519823,0.18274993278262738,0.24313009763994411,null,null,null],[0.14096962504577096,0.13940914750644562,0.13962690831658642,0.1303746267258068,0.047548944324032186,-0.16163229520105057,-0.23057828651964876,-0.18313889109957082,-0.14215452686990812,-0.12100426902808328,-0.12259258159875006,-0.1298820598378074,-0.13969924153020197,-0.13706048485356467,-0.11962787881022413,-0.02138067478620127,-0.02463737300058211,0.021516325866679814,0.13456237885564004,0.22375432534201475,0.370985344570675,0.49141753548682215,0.5802151797415172,0.6398697017258804,0.6619849821624162,0.6629620394353473,0.6606539994336368,0.6504086405939306,0.6423886273421882,0.6357918853946367,null,0.13988752692967485,0.13971668164288087,0.13844891392216357,0.124200346357573,0.0846899245884533,0.0303633079509316,-0.025356497967583592,-0.06596622125985936,-0.08861737839105915,-0.10131940566261442,-0.1096414770834809,-0.11602591588824573,-0.12077167259630536,-0.12357537220469243,null,0.11452712330901216,0.12584673124007684,0.12513315125714466,0.10121920847484384,0.07989506462984648,0.08963911400298663,0.12537517781252683,0.17563613113647034,0.21258082053101282,0.2288946545972969,0.24001402156291826,0.24348731200369705,0.24376450473640496,0.2457520671870166,null,0.21412579849243094,0.4092303207891235,0.4764137925938339,1.0,1.0,1.0,1.0,0.6516141718861592,0.46762361097115895,0.3829333692828376,0.2275261337416788,null,null,null],[0.14096962504577096,0.13940914750644562,0.13962690831658642,0.1303746267258068,0.047548944324032186,-0.16163229520105057,-0.23057828651964876,-0.18313889109957082,-0.14215452686990812,-0.12100426902808328,-0.12259258159875006,-0.1298820598378074,-0.13969924153020197,-0.13706048485356467,-0.11962787881022413,-0.02138067478620127,-0.02463737300058211,0.021516325866679814,0.13456237885564004,0.22375432534201475,0.370985344570675,0.49141753548682215,0.5802151797415172,0.6398697017258804,0.6619849821624162,0.6629620394353473,0.6606539994336368,0.6504086405939306,0.6423886273421882,0.6357918853946367,null,0.13988752692967485,0.13971668164288087,0.13844891392216357,0.124200346357573,0.0846899245884533,0.0303633079509316,-0.025356497967583592,-0.06596622125985936,-0.08861737839105915,-0.10131940566261442,-0.1096414770834809,-0.11602591588824573,-0.12077167259630536,-0.12357537220469243,null,0.11452712330901216,0.12584673124007684,0.12513315125714466,0.10121920847484384,0.07989506462984648,0.08963911400298663,0.12537517781252683,0.17563613113647034,0.21258082053101282,0.2288946545972969,0.24001402156291826,0.24348731200369705,0.24376450473640496,0.2457520671870166,null,0.21412579849243094,0.4092303207891235,0.4764137925938339,1.0,1.0,1.0,1.0,0.6516141718861592,0.46762361097115895,0.3829333692828376,0.2275261337416788,null,null,null],[0.14096962504577096,0.13940914750644562,0.13962690831658642,0.1303746267258068,0.047548944324032186,-0.16163229520105057,-0.23057828651964876,-0.18313889109957082,-0.14215452686990812,-0.12100426902808328,-0.12259258159875006,-0.1298820598378074,-0.13969924153020197,-0.13706048485356467,-0.11962787881022413,-0.02138067478620127,-0.02463737300058211,0.021516325866679814,0.13456237885564004,0.22375432534201475,0.370985344570675,0.49141753548682215,0.5802151797415172,0.6398697017258804,0.6619849821624162,0.6629620394353473,0.6606539994336368,0.6504086405939306,0.6423886273421882,0.6357918853946367,null,0.13988752692967485,0.13971668164288087,0.13844891392216357,0.124200346357573,0.0846899245884533,0.0303633079509316,-0.025356497967583592,-0.06596622125985936,-0.08861737839105915,-0.10131940566261442,-0.1096414770834809,-0.11602591588824573,-0.12077167259630536,-0.12357537220469243,null,0.11452712330901216,0.12584673124007684,0.12513315125714466,0.10121920847484384,0.07989506462984648,0.08963911400298663,0.12537517781252683,0.17563613113647034,0.21258082053101282,0.2288946545972969,0.24001402156291826,0.24348731200369705,0.24376450473640496,0.2457520671870166,null,0.21412579849243094,0.4092303207891235,0.4764137925938339,1.0,1.0,1.0,1.0,0.6516141718861592,0.46762361097115895,0.3829333692828376,0.2275261337416788,null,null,null],[0.14096962504577096,0.13940914750644562,0.13962690831658642,0.1303746267258068,0.047548944324032186,-0.16163229520105057,-0.23057828651964876,-0.18313889109957082,-0.14215452686990812,-0.12100426902808328,-0.12259258159875006,-0.1298820598378074,-0.13969924153020197,-0.13706048485356467,-0.11962787881022413,-0.02138067478620127,-0.02463737300058211,0.021516325866679814,0.13456237885564004,0.22375432534201475,0.370985344570675,0.49141753548682215,0.5802151797415172,0.6398697017258804,0.6619849821624162,0.6629620394353473,0.6606539994336368,0.6504086405939306,0.6423886273421882,0.6357918853946367,null,0.13988752692967485,0.13971668164288087,0.13844891392216357,0.124200346357573,0.0846899245884533,0.0303633079509316,-0.025356497967583592,-0.06596622125985936,-0.08861737839105915,-0.10131940566261442,-0.1096414770834809,-0.11602591588824573,-0.12077167259630536,-0.12357537220469243,null,0.11452712330901216,0.12584673124007684,0.12513315125714466,0.10121920847484384,0.07989506462984648,0.08963911400298663,0.12537517781252683,0.17563613113647034,0.21258082053101282,0.2288946545972969,0.24001402156291826,0.24348731200369705,0.24376450473640496,0.2457520671870166,null,0.21412579849243094,0.4092303207891235,0.4764137925938339,1.0,1.0,1.0,1.0,0.6516141718861592,0.46762361097115895,0.3829333692828376,0.2275261337416788,null,null,null],[0.10457990009916521,0.1081672547856419,0.11239729782082285,0.0974558147457771,0.0045840518409506524,-0.2007099742048656,-0.2657445468423949,-0.22303257202279558,-0.19487265098402,-0.18527966295047987,-0.19387833857773532,-0.20975051471768402,-0.20845798133866464,-0.19023999148599066,-0.15669384053006422,0.04079416629679853,0.038519945621524394,0.08078487912210167,0.15710517846996422,0.23426111881837602,0.32933751860609445,0.4087536982863699,0.46645986152060914,0.5046071569384762,0.5960191818728405,0.6400650220455205,0.661389002826471,0.6576124142211852,0.6493240311646489,0.6419283286534933,null,0.10661024281222853,0.10964754408632443,0.10899235398020955,0.0903582507421737,0.04785732377806285,-0.010986937644191794,-0.07389697895337957,-0.1231397817199999,-0.15375880537156833,-0.17192639541523927,-0.18461496088296253,-0.19371332746702632,-0.19923252520065263,-0.2017876950428468,null,0.006625715710900095,0.05717737362472373,0.09535949514902885,0.07728053838317327,0.04707580497994668,0.027107373170459234,0.03092418601167283,0.049152275268239065,0.07079153855661233,0.08466121925183015,0.09139924163662866,0.10142240242684762,0.10978350129296752,0.11887444656237825,null,0.20299507252892188,0.29776547254635355,0.41565617572226654,0.6516141718861592,0.6516141718861592,0.6516141718861592,0.6516141718861592,1.0,0.6671604051059292,0.48235047630371813,0.2669748328581532,null,null,null],[0.14357787124867732,0.14719335262346603,0.15806279485313127,0.16773533172885607,0.11543022906575169,-0.057074685037339035,-0.20035361749828737,-0.20480580390269074,-0.18735385120488585,-0.1761988296046683,-0.17661373396540792,-0.18212831297758644,-0.17753324686095018,-0.16343938365726218,-0.13990604343198323,-0.018361538274368237,-0.021742630933709938,0.02146544974392806,0.1181254353282738,0.18231140051372693,0.24004300698029477,0.2946313789098689,0.3385769316477208,0.3675949941979776,0.4272074123832121,0.5380908391812491,0.590815584691445,0.5958361699770564,0.5870572528668887,0.5805313887944034,null,0.14532568606577037,0.1507798178585698,0.15916500343840562,0.15785368122494509,0.1339751229017424,0.09035734946917821,0.031882163521834476,-0.022475432588369555,-0.061443328760402434,-0.08671974556929998,-0.10345212217912493,-0.11479297025211689,-0.12192691602350841,-0.12594684740015394,null,0.042158904909913385,0.08826564453818193,0.12463064271268355,0.13206049430031175,0.12976725658113097,0.10977456535220773,0.09448124910732575,0.09795286628963065,0.10755719377961344,0.11959623395669446,0.1319530855983428,0.14435645405559017,0.1511366310418428,0.1563591111440225,null,0.20595954493925805,0.3665524222913041,0.3879481981519823,0.46762361097115895,0.46762361097115895,0.46762361097115895,0.46762361097115895,0.6671604051059292,1.0,0.6767171501117224,0.3584812121477189,null,null,null],[0.05426549051167276,0.055209153512080195,0.05901413439005078,0.058890727519460916,0.00604594911681708,-0.09812371105262144,-0.13818450877796132,-0.12100281948540727,-0.09764586524804554,-0.07916417315444216,-0.07582490365684737,-0.08611921985097137,-0.09930240159059459,-0.09967583064972485,-0.08922881460118146,-0.1089022817459301,-0.11054595071538373,-0.07318633615563323,0.005485259070115416,0.04606995272945698,0.10716157565725709,0.16064261034473887,0.20288256199892926,0.23124356570360086,0.27535534610199724,0.3501889707980904,0.4637017550793501,0.48994384843827105,0.48248669499693336,0.4772736189726915,null,0.0546854179288094,0.05645381636288801,0.05875378004188939,0.05235306613438896,0.02965026013562781,-0.00037589551040408597,-0.034255757419667555,-0.06054191906802461,-0.07429284270270754,-0.08056204885654107,-0.08444230265974999,-0.08825801830917247,-0.09144318087032037,-0.09341489118941862,null,0.007423178221695804,0.03598159593034754,0.053976793336332436,0.04145665378034609,0.03206904308637635,0.019205259769614565,0.010981737736183996,0.022887370698435085,0.042921078382987664,0.05942783830608045,0.07612920373878208,0.08913329479589988,0.09680500372682631,0.1017241088690992,null,0.14405181767196665,0.25159301308034787,0.18274993278262738,0.3829333692828376,0.3829333692828376,0.3829333692828376,0.3829333692828376,0.48235047630371813,0.6767171501117224,1.0,0.5188094739830372,null,null,null],[-0.16199312853162198,-0.16173293983658038,-0.15638669671671035,-0.14247180357310976,-0.11970383564073848,-0.06977444635633911,0.020879354562979017,0.06426904365331296,0.0827588079525182,0.08418505798919508,0.06026636082890274,0.015900314316366345,-0.03363975294570906,-0.06809637732131964,-0.08403677577685573,-0.10825856961217978,-0.10494399398738977,-0.06578546744275325,0.04142405600668417,0.1086185408826646,0.14600131190976656,0.16602705829062872,0.1730394240757279,0.1728535725538251,0.18337892464319017,0.21342763214233845,0.2668777109906922,0.3486352011085622,0.3439115047453975,0.3413872090946664,null,-0.1621240963635946,-0.16010557607348191,-0.15444270089171772,-0.1464427829768741,-0.139831482999258,-0.1316262673106656,-0.11314228085584986,-0.08418402024476955,-0.05607185467213115,-0.03720688083833068,-0.028693719326915706,-0.02763782781420621,-0.03015509361961957,-0.03327947864189328,null,-0.12171669711294793,-0.1707233354010029,-0.17422686770257814,-0.15902872586451172,-0.14761416228928062,-0.12486488556423599,-0.07671741517259527,-0.02171261003459658,0.021046681041039083,0.04800359512924281,0.06419342838835056,0.07322053983611183,0.07700474172973179,0.07795000061397397,null,0.10119358686249486,0.2744303457191688,0.24313009763994411,0.2275261337416788,0.2275261337416788,0.2275261337416788,0.2275261337416788,0.2669748328581532,0.3584812121477189,0.5188094739830372,1.0,null,null,null],[null,null,null,null,null,null,null,null,null,null,null,null,null,null,null,null,null,null,null,null,null,null,null,null,null,null,null,null,null,null,null,null,null,null,null,null,null,null,null,null,null,null,null,null,null,null,null,null,null,null,null,null,null,null,null,null,null,null,null,null,null,null,null,null,null,null,null,null,null,null,null,null,null,null,null],[null,null,null,null,null,null,null,null,null,null,null,null,null,null,null,null,null,null,null,null,null,null,null,null,null,null,null,null,null,null,null,null,null,null,null,null,null,null,null,null,null,null,null,null,null,null,null,null,null,null,null,null,null,null,null,null,null,null,null,null,null,null,null,null,null,null,null,null,null,null,null,null,null,null,null],[null,null,null,null,null,null,null,null,null,null,null,null,null,null,null,null,null,null,null,null,null,null,null,null,null,null,null,null,null,null,null,null,null,null,null,null,null,null,null,null,null,null,null,null,null,null,null,null,null,null,null,null,null,null,null,null,null,null,null,null,null,null,null,null,null,null,null,null,null,null,null,null,null,null,null]],\"type\":\"heatmap\",\"xaxis\":\"x\",\"yaxis\":\"y\",\"hovertemplate\":\"x: %{x}<br>y: %{y}<br>color: %{z}<extra></extra>\"}],                        {\"template\":{\"data\":{\"bar\":[{\"error_x\":{\"color\":\"#2a3f5f\"},\"error_y\":{\"color\":\"#2a3f5f\"},\"marker\":{\"line\":{\"color\":\"#E5ECF6\",\"width\":0.5},\"pattern\":{\"fillmode\":\"overlay\",\"size\":10,\"solidity\":0.2}},\"type\":\"bar\"}],\"barpolar\":[{\"marker\":{\"line\":{\"color\":\"#E5ECF6\",\"width\":0.5},\"pattern\":{\"fillmode\":\"overlay\",\"size\":10,\"solidity\":0.2}},\"type\":\"barpolar\"}],\"carpet\":[{\"aaxis\":{\"endlinecolor\":\"#2a3f5f\",\"gridcolor\":\"white\",\"linecolor\":\"white\",\"minorgridcolor\":\"white\",\"startlinecolor\":\"#2a3f5f\"},\"baxis\":{\"endlinecolor\":\"#2a3f5f\",\"gridcolor\":\"white\",\"linecolor\":\"white\",\"minorgridcolor\":\"white\",\"startlinecolor\":\"#2a3f5f\"},\"type\":\"carpet\"}],\"choropleth\":[{\"colorbar\":{\"outlinewidth\":0,\"ticks\":\"\"},\"type\":\"choropleth\"}],\"contour\":[{\"colorbar\":{\"outlinewidth\":0,\"ticks\":\"\"},\"colorscale\":[[0.0,\"#0d0887\"],[0.1111111111111111,\"#46039f\"],[0.2222222222222222,\"#7201a8\"],[0.3333333333333333,\"#9c179e\"],[0.4444444444444444,\"#bd3786\"],[0.5555555555555556,\"#d8576b\"],[0.6666666666666666,\"#ed7953\"],[0.7777777777777778,\"#fb9f3a\"],[0.8888888888888888,\"#fdca26\"],[1.0,\"#f0f921\"]],\"type\":\"contour\"}],\"contourcarpet\":[{\"colorbar\":{\"outlinewidth\":0,\"ticks\":\"\"},\"type\":\"contourcarpet\"}],\"heatmap\":[{\"colorbar\":{\"outlinewidth\":0,\"ticks\":\"\"},\"colorscale\":[[0.0,\"#0d0887\"],[0.1111111111111111,\"#46039f\"],[0.2222222222222222,\"#7201a8\"],[0.3333333333333333,\"#9c179e\"],[0.4444444444444444,\"#bd3786\"],[0.5555555555555556,\"#d8576b\"],[0.6666666666666666,\"#ed7953\"],[0.7777777777777778,\"#fb9f3a\"],[0.8888888888888888,\"#fdca26\"],[1.0,\"#f0f921\"]],\"type\":\"heatmap\"}],\"heatmapgl\":[{\"colorbar\":{\"outlinewidth\":0,\"ticks\":\"\"},\"colorscale\":[[0.0,\"#0d0887\"],[0.1111111111111111,\"#46039f\"],[0.2222222222222222,\"#7201a8\"],[0.3333333333333333,\"#9c179e\"],[0.4444444444444444,\"#bd3786\"],[0.5555555555555556,\"#d8576b\"],[0.6666666666666666,\"#ed7953\"],[0.7777777777777778,\"#fb9f3a\"],[0.8888888888888888,\"#fdca26\"],[1.0,\"#f0f921\"]],\"type\":\"heatmapgl\"}],\"histogram\":[{\"marker\":{\"pattern\":{\"fillmode\":\"overlay\",\"size\":10,\"solidity\":0.2}},\"type\":\"histogram\"}],\"histogram2d\":[{\"colorbar\":{\"outlinewidth\":0,\"ticks\":\"\"},\"colorscale\":[[0.0,\"#0d0887\"],[0.1111111111111111,\"#46039f\"],[0.2222222222222222,\"#7201a8\"],[0.3333333333333333,\"#9c179e\"],[0.4444444444444444,\"#bd3786\"],[0.5555555555555556,\"#d8576b\"],[0.6666666666666666,\"#ed7953\"],[0.7777777777777778,\"#fb9f3a\"],[0.8888888888888888,\"#fdca26\"],[1.0,\"#f0f921\"]],\"type\":\"histogram2d\"}],\"histogram2dcontour\":[{\"colorbar\":{\"outlinewidth\":0,\"ticks\":\"\"},\"colorscale\":[[0.0,\"#0d0887\"],[0.1111111111111111,\"#46039f\"],[0.2222222222222222,\"#7201a8\"],[0.3333333333333333,\"#9c179e\"],[0.4444444444444444,\"#bd3786\"],[0.5555555555555556,\"#d8576b\"],[0.6666666666666666,\"#ed7953\"],[0.7777777777777778,\"#fb9f3a\"],[0.8888888888888888,\"#fdca26\"],[1.0,\"#f0f921\"]],\"type\":\"histogram2dcontour\"}],\"mesh3d\":[{\"colorbar\":{\"outlinewidth\":0,\"ticks\":\"\"},\"type\":\"mesh3d\"}],\"parcoords\":[{\"line\":{\"colorbar\":{\"outlinewidth\":0,\"ticks\":\"\"}},\"type\":\"parcoords\"}],\"pie\":[{\"automargin\":true,\"type\":\"pie\"}],\"scatter\":[{\"marker\":{\"colorbar\":{\"outlinewidth\":0,\"ticks\":\"\"}},\"type\":\"scatter\"}],\"scatter3d\":[{\"line\":{\"colorbar\":{\"outlinewidth\":0,\"ticks\":\"\"}},\"marker\":{\"colorbar\":{\"outlinewidth\":0,\"ticks\":\"\"}},\"type\":\"scatter3d\"}],\"scattercarpet\":[{\"marker\":{\"colorbar\":{\"outlinewidth\":0,\"ticks\":\"\"}},\"type\":\"scattercarpet\"}],\"scattergeo\":[{\"marker\":{\"colorbar\":{\"outlinewidth\":0,\"ticks\":\"\"}},\"type\":\"scattergeo\"}],\"scattergl\":[{\"marker\":{\"colorbar\":{\"outlinewidth\":0,\"ticks\":\"\"}},\"type\":\"scattergl\"}],\"scattermapbox\":[{\"marker\":{\"colorbar\":{\"outlinewidth\":0,\"ticks\":\"\"}},\"type\":\"scattermapbox\"}],\"scatterpolar\":[{\"marker\":{\"colorbar\":{\"outlinewidth\":0,\"ticks\":\"\"}},\"type\":\"scatterpolar\"}],\"scatterpolargl\":[{\"marker\":{\"colorbar\":{\"outlinewidth\":0,\"ticks\":\"\"}},\"type\":\"scatterpolargl\"}],\"scatterternary\":[{\"marker\":{\"colorbar\":{\"outlinewidth\":0,\"ticks\":\"\"}},\"type\":\"scatterternary\"}],\"surface\":[{\"colorbar\":{\"outlinewidth\":0,\"ticks\":\"\"},\"colorscale\":[[0.0,\"#0d0887\"],[0.1111111111111111,\"#46039f\"],[0.2222222222222222,\"#7201a8\"],[0.3333333333333333,\"#9c179e\"],[0.4444444444444444,\"#bd3786\"],[0.5555555555555556,\"#d8576b\"],[0.6666666666666666,\"#ed7953\"],[0.7777777777777778,\"#fb9f3a\"],[0.8888888888888888,\"#fdca26\"],[1.0,\"#f0f921\"]],\"type\":\"surface\"}],\"table\":[{\"cells\":{\"fill\":{\"color\":\"#EBF0F8\"},\"line\":{\"color\":\"white\"}},\"header\":{\"fill\":{\"color\":\"#C8D4E3\"},\"line\":{\"color\":\"white\"}},\"type\":\"table\"}]},\"layout\":{\"annotationdefaults\":{\"arrowcolor\":\"#2a3f5f\",\"arrowhead\":0,\"arrowwidth\":1},\"autotypenumbers\":\"strict\",\"coloraxis\":{\"colorbar\":{\"outlinewidth\":0,\"ticks\":\"\"}},\"colorscale\":{\"diverging\":[[0,\"#8e0152\"],[0.1,\"#c51b7d\"],[0.2,\"#de77ae\"],[0.3,\"#f1b6da\"],[0.4,\"#fde0ef\"],[0.5,\"#f7f7f7\"],[0.6,\"#e6f5d0\"],[0.7,\"#b8e186\"],[0.8,\"#7fbc41\"],[0.9,\"#4d9221\"],[1,\"#276419\"]],\"sequential\":[[0.0,\"#0d0887\"],[0.1111111111111111,\"#46039f\"],[0.2222222222222222,\"#7201a8\"],[0.3333333333333333,\"#9c179e\"],[0.4444444444444444,\"#bd3786\"],[0.5555555555555556,\"#d8576b\"],[0.6666666666666666,\"#ed7953\"],[0.7777777777777778,\"#fb9f3a\"],[0.8888888888888888,\"#fdca26\"],[1.0,\"#f0f921\"]],\"sequentialminus\":[[0.0,\"#0d0887\"],[0.1111111111111111,\"#46039f\"],[0.2222222222222222,\"#7201a8\"],[0.3333333333333333,\"#9c179e\"],[0.4444444444444444,\"#bd3786\"],[0.5555555555555556,\"#d8576b\"],[0.6666666666666666,\"#ed7953\"],[0.7777777777777778,\"#fb9f3a\"],[0.8888888888888888,\"#fdca26\"],[1.0,\"#f0f921\"]]},\"colorway\":[\"#636efa\",\"#EF553B\",\"#00cc96\",\"#ab63fa\",\"#FFA15A\",\"#19d3f3\",\"#FF6692\",\"#B6E880\",\"#FF97FF\",\"#FECB52\"],\"font\":{\"color\":\"#2a3f5f\"},\"geo\":{\"bgcolor\":\"white\",\"lakecolor\":\"white\",\"landcolor\":\"#E5ECF6\",\"showlakes\":true,\"showland\":true,\"subunitcolor\":\"white\"},\"hoverlabel\":{\"align\":\"left\"},\"hovermode\":\"closest\",\"mapbox\":{\"style\":\"light\"},\"paper_bgcolor\":\"white\",\"plot_bgcolor\":\"#E5ECF6\",\"polar\":{\"angularaxis\":{\"gridcolor\":\"white\",\"linecolor\":\"white\",\"ticks\":\"\"},\"bgcolor\":\"#E5ECF6\",\"radialaxis\":{\"gridcolor\":\"white\",\"linecolor\":\"white\",\"ticks\":\"\"}},\"scene\":{\"xaxis\":{\"backgroundcolor\":\"#E5ECF6\",\"gridcolor\":\"white\",\"gridwidth\":2,\"linecolor\":\"white\",\"showbackground\":true,\"ticks\":\"\",\"zerolinecolor\":\"white\"},\"yaxis\":{\"backgroundcolor\":\"#E5ECF6\",\"gridcolor\":\"white\",\"gridwidth\":2,\"linecolor\":\"white\",\"showbackground\":true,\"ticks\":\"\",\"zerolinecolor\":\"white\"},\"zaxis\":{\"backgroundcolor\":\"#E5ECF6\",\"gridcolor\":\"white\",\"gridwidth\":2,\"linecolor\":\"white\",\"showbackground\":true,\"ticks\":\"\",\"zerolinecolor\":\"white\"}},\"shapedefaults\":{\"line\":{\"color\":\"#2a3f5f\"}},\"ternary\":{\"aaxis\":{\"gridcolor\":\"white\",\"linecolor\":\"white\",\"ticks\":\"\"},\"baxis\":{\"gridcolor\":\"white\",\"linecolor\":\"white\",\"ticks\":\"\"},\"bgcolor\":\"#E5ECF6\",\"caxis\":{\"gridcolor\":\"white\",\"linecolor\":\"white\",\"ticks\":\"\"}},\"title\":{\"x\":0.05},\"xaxis\":{\"automargin\":true,\"gridcolor\":\"white\",\"linecolor\":\"white\",\"ticks\":\"\",\"title\":{\"standoff\":15},\"zerolinecolor\":\"white\",\"zerolinewidth\":2},\"yaxis\":{\"automargin\":true,\"gridcolor\":\"white\",\"linecolor\":\"white\",\"ticks\":\"\",\"title\":{\"standoff\":15},\"zerolinecolor\":\"white\",\"zerolinewidth\":2}}},\"xaxis\":{\"anchor\":\"y\",\"domain\":[0.0,1.0],\"scaleanchor\":\"y\",\"constrain\":\"domain\"},\"yaxis\":{\"anchor\":\"x\",\"domain\":[0.0,1.0],\"autorange\":\"reversed\",\"constrain\":\"domain\"},\"coloraxis\":{\"colorscale\":[[0.0,\"#0d0887\"],[0.1111111111111111,\"#46039f\"],[0.2222222222222222,\"#7201a8\"],[0.3333333333333333,\"#9c179e\"],[0.4444444444444444,\"#bd3786\"],[0.5555555555555556,\"#d8576b\"],[0.6666666666666666,\"#ed7953\"],[0.7777777777777778,\"#fb9f3a\"],[0.8888888888888888,\"#fdca26\"],[1.0,\"#f0f921\"]]},\"margin\":{\"t\":60},\"title\":{\"text\":\"BWU Correlation Matrix among X variables\"}},                        {\"responsive\": true}                    ).then(function(){\n",
              "                            \n",
              "var gd = document.getElementById('abc397aa-8ab9-4b0d-9464-91247441373f');\n",
              "var x = new MutationObserver(function (mutations, observer) {{\n",
              "        var display = window.getComputedStyle(gd).display;\n",
              "        if (!display || display === 'none') {{\n",
              "            console.log([gd, 'removed!']);\n",
              "            Plotly.purge(gd);\n",
              "            observer.disconnect();\n",
              "        }}\n",
              "}});\n",
              "\n",
              "// Listen for the removal of the full notebook cells\n",
              "var notebookContainer = gd.closest('#notebook-container');\n",
              "if (notebookContainer) {{\n",
              "    x.observe(notebookContainer, {childList: true});\n",
              "}}\n",
              "\n",
              "// Listen for the clearing of the current output cell\n",
              "var outputEl = gd.closest('.output');\n",
              "if (outputEl) {{\n",
              "    x.observe(outputEl, {childList: true});\n",
              "}}\n",
              "\n",
              "                        })                };                            </script>        </div>\n",
              "</body>\n",
              "</html>"
            ]
          },
          "metadata": {}
        }
      ]
    },
    {
      "cell_type": "markdown",
      "source": [
        "### Normalized PCA\n",
        "\n",
        "PCA is run on the BWU matrix, bu this time the variables are first normalized with respect to their mean and standard deviation.\n"
      ],
      "metadata": {
        "id": "BSfvxt4hEnj2"
      }
    },
    {
      "cell_type": "code",
      "source": [
        "# Select number of components\n",
        "select_n_components = 10"
      ],
      "metadata": {
        "id": "kgbplE3PfeGp"
      },
      "execution_count": 100,
      "outputs": []
    },
    {
      "cell_type": "code",
      "source": [
        "pca = PCA(n_components=min(min(bwu.shape),select_n_components))\n",
        "# Scale data by mean and standard deviation\n",
        "scaler = StandardScaler()\n",
        "scaled_data = scaler.fit_transform(bwu)\n",
        "pca.fit(scaled_data)\n",
        "expl_var = pca.explained_variance_\n",
        "expl_var_ratio = pca.explained_variance_ratio_\n",
        "pca_n_comp = list(range(1,pca.n_components_+1))\n",
        "components = pca.fit_transform(scaled_data)"
      ],
      "metadata": {
        "id": "n28vGzsxEtpo"
      },
      "execution_count": 105,
      "outputs": []
    },
    {
      "cell_type": "code",
      "source": [
        "# Plot Explained Variance plots\n",
        "fig = px.line(x=pca_n_comp, y=1-expl_var_ratio, color=px.Constant(\"Cumulative explained variance\"), labels=dict(x=\"Principal component index\", y=\"Explained Variance Ratio\", color=\"Legend\"))\n",
        "fig.add_bar(x=pca_n_comp, y=expl_var_ratio, name=\"Individual explained variance\")\n",
        "fig.show()"
      ],
      "metadata": {
        "id": "yag79pojfSQY",
        "outputId": "c50835aa-e36b-4cd6-c475-f9dd00ab7f45",
        "colab": {
          "base_uri": "https://localhost:8080/",
          "height": 542
        }
      },
      "execution_count": 103,
      "outputs": [
        {
          "output_type": "display_data",
          "data": {
            "text/html": [
              "<html>\n",
              "<head><meta charset=\"utf-8\" /></head>\n",
              "<body>\n",
              "    <div>            <script src=\"https://cdnjs.cloudflare.com/ajax/libs/mathjax/2.7.5/MathJax.js?config=TeX-AMS-MML_SVG\"></script><script type=\"text/javascript\">if (window.MathJax) {MathJax.Hub.Config({SVG: {font: \"STIX-Web\"}});}</script>                <script type=\"text/javascript\">window.PlotlyConfig = {MathJaxConfig: 'local'};</script>\n",
              "        <script src=\"https://cdn.plot.ly/plotly-2.8.3.min.js\"></script>                <div id=\"19698a9d-ad8d-4398-98b8-cb1fa5cb1a44\" class=\"plotly-graph-div\" style=\"height:525px; width:100%;\"></div>            <script type=\"text/javascript\">                                    window.PLOTLYENV=window.PLOTLYENV || {};                                    if (document.getElementById(\"19698a9d-ad8d-4398-98b8-cb1fa5cb1a44\")) {                    Plotly.newPlot(                        \"19698a9d-ad8d-4398-98b8-cb1fa5cb1a44\",                        [{\"hovertemplate\":\"Legend=Cumulative explained variance<br>Principal component index=%{x}<br>Explained Variance Ratio=%{y}<extra></extra>\",\"legendgroup\":\"Cumulative explained variance\",\"line\":{\"color\":\"#636efa\",\"dash\":\"solid\"},\"marker\":{\"symbol\":\"circle\"},\"mode\":\"lines\",\"name\":\"Cumulative explained variance\",\"orientation\":\"v\",\"showlegend\":true,\"x\":[1,2,3,4,5,6,7,8,9,10],\"xaxis\":\"x\",\"y\":[0.6237704015034696,0.7241586551910053,0.8482180775275274,0.9227353811199354,0.9674257787604404,0.9784866069570234,0.98266352500709,0.9898102191799153,0.9905005629763953,0.9919612983661154],\"yaxis\":\"y\",\"type\":\"scatter\"},{\"name\":\"Individual explained variance\",\"x\":[1,2,3,4,5,6,7,8,9,10],\"y\":[0.37622959849653037,0.27584134480899475,0.15178192247247252,0.0772646188800646,0.0325742212395596,0.021513393042976663,0.017336474992910064,0.010189780820084688,0.009499437023604663,0.008038701633884631],\"type\":\"bar\"}],                        {\"template\":{\"data\":{\"bar\":[{\"error_x\":{\"color\":\"#2a3f5f\"},\"error_y\":{\"color\":\"#2a3f5f\"},\"marker\":{\"line\":{\"color\":\"#E5ECF6\",\"width\":0.5},\"pattern\":{\"fillmode\":\"overlay\",\"size\":10,\"solidity\":0.2}},\"type\":\"bar\"}],\"barpolar\":[{\"marker\":{\"line\":{\"color\":\"#E5ECF6\",\"width\":0.5},\"pattern\":{\"fillmode\":\"overlay\",\"size\":10,\"solidity\":0.2}},\"type\":\"barpolar\"}],\"carpet\":[{\"aaxis\":{\"endlinecolor\":\"#2a3f5f\",\"gridcolor\":\"white\",\"linecolor\":\"white\",\"minorgridcolor\":\"white\",\"startlinecolor\":\"#2a3f5f\"},\"baxis\":{\"endlinecolor\":\"#2a3f5f\",\"gridcolor\":\"white\",\"linecolor\":\"white\",\"minorgridcolor\":\"white\",\"startlinecolor\":\"#2a3f5f\"},\"type\":\"carpet\"}],\"choropleth\":[{\"colorbar\":{\"outlinewidth\":0,\"ticks\":\"\"},\"type\":\"choropleth\"}],\"contour\":[{\"colorbar\":{\"outlinewidth\":0,\"ticks\":\"\"},\"colorscale\":[[0.0,\"#0d0887\"],[0.1111111111111111,\"#46039f\"],[0.2222222222222222,\"#7201a8\"],[0.3333333333333333,\"#9c179e\"],[0.4444444444444444,\"#bd3786\"],[0.5555555555555556,\"#d8576b\"],[0.6666666666666666,\"#ed7953\"],[0.7777777777777778,\"#fb9f3a\"],[0.8888888888888888,\"#fdca26\"],[1.0,\"#f0f921\"]],\"type\":\"contour\"}],\"contourcarpet\":[{\"colorbar\":{\"outlinewidth\":0,\"ticks\":\"\"},\"type\":\"contourcarpet\"}],\"heatmap\":[{\"colorbar\":{\"outlinewidth\":0,\"ticks\":\"\"},\"colorscale\":[[0.0,\"#0d0887\"],[0.1111111111111111,\"#46039f\"],[0.2222222222222222,\"#7201a8\"],[0.3333333333333333,\"#9c179e\"],[0.4444444444444444,\"#bd3786\"],[0.5555555555555556,\"#d8576b\"],[0.6666666666666666,\"#ed7953\"],[0.7777777777777778,\"#fb9f3a\"],[0.8888888888888888,\"#fdca26\"],[1.0,\"#f0f921\"]],\"type\":\"heatmap\"}],\"heatmapgl\":[{\"colorbar\":{\"outlinewidth\":0,\"ticks\":\"\"},\"colorscale\":[[0.0,\"#0d0887\"],[0.1111111111111111,\"#46039f\"],[0.2222222222222222,\"#7201a8\"],[0.3333333333333333,\"#9c179e\"],[0.4444444444444444,\"#bd3786\"],[0.5555555555555556,\"#d8576b\"],[0.6666666666666666,\"#ed7953\"],[0.7777777777777778,\"#fb9f3a\"],[0.8888888888888888,\"#fdca26\"],[1.0,\"#f0f921\"]],\"type\":\"heatmapgl\"}],\"histogram\":[{\"marker\":{\"pattern\":{\"fillmode\":\"overlay\",\"size\":10,\"solidity\":0.2}},\"type\":\"histogram\"}],\"histogram2d\":[{\"colorbar\":{\"outlinewidth\":0,\"ticks\":\"\"},\"colorscale\":[[0.0,\"#0d0887\"],[0.1111111111111111,\"#46039f\"],[0.2222222222222222,\"#7201a8\"],[0.3333333333333333,\"#9c179e\"],[0.4444444444444444,\"#bd3786\"],[0.5555555555555556,\"#d8576b\"],[0.6666666666666666,\"#ed7953\"],[0.7777777777777778,\"#fb9f3a\"],[0.8888888888888888,\"#fdca26\"],[1.0,\"#f0f921\"]],\"type\":\"histogram2d\"}],\"histogram2dcontour\":[{\"colorbar\":{\"outlinewidth\":0,\"ticks\":\"\"},\"colorscale\":[[0.0,\"#0d0887\"],[0.1111111111111111,\"#46039f\"],[0.2222222222222222,\"#7201a8\"],[0.3333333333333333,\"#9c179e\"],[0.4444444444444444,\"#bd3786\"],[0.5555555555555556,\"#d8576b\"],[0.6666666666666666,\"#ed7953\"],[0.7777777777777778,\"#fb9f3a\"],[0.8888888888888888,\"#fdca26\"],[1.0,\"#f0f921\"]],\"type\":\"histogram2dcontour\"}],\"mesh3d\":[{\"colorbar\":{\"outlinewidth\":0,\"ticks\":\"\"},\"type\":\"mesh3d\"}],\"parcoords\":[{\"line\":{\"colorbar\":{\"outlinewidth\":0,\"ticks\":\"\"}},\"type\":\"parcoords\"}],\"pie\":[{\"automargin\":true,\"type\":\"pie\"}],\"scatter\":[{\"marker\":{\"colorbar\":{\"outlinewidth\":0,\"ticks\":\"\"}},\"type\":\"scatter\"}],\"scatter3d\":[{\"line\":{\"colorbar\":{\"outlinewidth\":0,\"ticks\":\"\"}},\"marker\":{\"colorbar\":{\"outlinewidth\":0,\"ticks\":\"\"}},\"type\":\"scatter3d\"}],\"scattercarpet\":[{\"marker\":{\"colorbar\":{\"outlinewidth\":0,\"ticks\":\"\"}},\"type\":\"scattercarpet\"}],\"scattergeo\":[{\"marker\":{\"colorbar\":{\"outlinewidth\":0,\"ticks\":\"\"}},\"type\":\"scattergeo\"}],\"scattergl\":[{\"marker\":{\"colorbar\":{\"outlinewidth\":0,\"ticks\":\"\"}},\"type\":\"scattergl\"}],\"scattermapbox\":[{\"marker\":{\"colorbar\":{\"outlinewidth\":0,\"ticks\":\"\"}},\"type\":\"scattermapbox\"}],\"scatterpolar\":[{\"marker\":{\"colorbar\":{\"outlinewidth\":0,\"ticks\":\"\"}},\"type\":\"scatterpolar\"}],\"scatterpolargl\":[{\"marker\":{\"colorbar\":{\"outlinewidth\":0,\"ticks\":\"\"}},\"type\":\"scatterpolargl\"}],\"scatterternary\":[{\"marker\":{\"colorbar\":{\"outlinewidth\":0,\"ticks\":\"\"}},\"type\":\"scatterternary\"}],\"surface\":[{\"colorbar\":{\"outlinewidth\":0,\"ticks\":\"\"},\"colorscale\":[[0.0,\"#0d0887\"],[0.1111111111111111,\"#46039f\"],[0.2222222222222222,\"#7201a8\"],[0.3333333333333333,\"#9c179e\"],[0.4444444444444444,\"#bd3786\"],[0.5555555555555556,\"#d8576b\"],[0.6666666666666666,\"#ed7953\"],[0.7777777777777778,\"#fb9f3a\"],[0.8888888888888888,\"#fdca26\"],[1.0,\"#f0f921\"]],\"type\":\"surface\"}],\"table\":[{\"cells\":{\"fill\":{\"color\":\"#EBF0F8\"},\"line\":{\"color\":\"white\"}},\"header\":{\"fill\":{\"color\":\"#C8D4E3\"},\"line\":{\"color\":\"white\"}},\"type\":\"table\"}]},\"layout\":{\"annotationdefaults\":{\"arrowcolor\":\"#2a3f5f\",\"arrowhead\":0,\"arrowwidth\":1},\"autotypenumbers\":\"strict\",\"coloraxis\":{\"colorbar\":{\"outlinewidth\":0,\"ticks\":\"\"}},\"colorscale\":{\"diverging\":[[0,\"#8e0152\"],[0.1,\"#c51b7d\"],[0.2,\"#de77ae\"],[0.3,\"#f1b6da\"],[0.4,\"#fde0ef\"],[0.5,\"#f7f7f7\"],[0.6,\"#e6f5d0\"],[0.7,\"#b8e186\"],[0.8,\"#7fbc41\"],[0.9,\"#4d9221\"],[1,\"#276419\"]],\"sequential\":[[0.0,\"#0d0887\"],[0.1111111111111111,\"#46039f\"],[0.2222222222222222,\"#7201a8\"],[0.3333333333333333,\"#9c179e\"],[0.4444444444444444,\"#bd3786\"],[0.5555555555555556,\"#d8576b\"],[0.6666666666666666,\"#ed7953\"],[0.7777777777777778,\"#fb9f3a\"],[0.8888888888888888,\"#fdca26\"],[1.0,\"#f0f921\"]],\"sequentialminus\":[[0.0,\"#0d0887\"],[0.1111111111111111,\"#46039f\"],[0.2222222222222222,\"#7201a8\"],[0.3333333333333333,\"#9c179e\"],[0.4444444444444444,\"#bd3786\"],[0.5555555555555556,\"#d8576b\"],[0.6666666666666666,\"#ed7953\"],[0.7777777777777778,\"#fb9f3a\"],[0.8888888888888888,\"#fdca26\"],[1.0,\"#f0f921\"]]},\"colorway\":[\"#636efa\",\"#EF553B\",\"#00cc96\",\"#ab63fa\",\"#FFA15A\",\"#19d3f3\",\"#FF6692\",\"#B6E880\",\"#FF97FF\",\"#FECB52\"],\"font\":{\"color\":\"#2a3f5f\"},\"geo\":{\"bgcolor\":\"white\",\"lakecolor\":\"white\",\"landcolor\":\"#E5ECF6\",\"showlakes\":true,\"showland\":true,\"subunitcolor\":\"white\"},\"hoverlabel\":{\"align\":\"left\"},\"hovermode\":\"closest\",\"mapbox\":{\"style\":\"light\"},\"paper_bgcolor\":\"white\",\"plot_bgcolor\":\"#E5ECF6\",\"polar\":{\"angularaxis\":{\"gridcolor\":\"white\",\"linecolor\":\"white\",\"ticks\":\"\"},\"bgcolor\":\"#E5ECF6\",\"radialaxis\":{\"gridcolor\":\"white\",\"linecolor\":\"white\",\"ticks\":\"\"}},\"scene\":{\"xaxis\":{\"backgroundcolor\":\"#E5ECF6\",\"gridcolor\":\"white\",\"gridwidth\":2,\"linecolor\":\"white\",\"showbackground\":true,\"ticks\":\"\",\"zerolinecolor\":\"white\"},\"yaxis\":{\"backgroundcolor\":\"#E5ECF6\",\"gridcolor\":\"white\",\"gridwidth\":2,\"linecolor\":\"white\",\"showbackground\":true,\"ticks\":\"\",\"zerolinecolor\":\"white\"},\"zaxis\":{\"backgroundcolor\":\"#E5ECF6\",\"gridcolor\":\"white\",\"gridwidth\":2,\"linecolor\":\"white\",\"showbackground\":true,\"ticks\":\"\",\"zerolinecolor\":\"white\"}},\"shapedefaults\":{\"line\":{\"color\":\"#2a3f5f\"}},\"ternary\":{\"aaxis\":{\"gridcolor\":\"white\",\"linecolor\":\"white\",\"ticks\":\"\"},\"baxis\":{\"gridcolor\":\"white\",\"linecolor\":\"white\",\"ticks\":\"\"},\"bgcolor\":\"#E5ECF6\",\"caxis\":{\"gridcolor\":\"white\",\"linecolor\":\"white\",\"ticks\":\"\"}},\"title\":{\"x\":0.05},\"xaxis\":{\"automargin\":true,\"gridcolor\":\"white\",\"linecolor\":\"white\",\"ticks\":\"\",\"title\":{\"standoff\":15},\"zerolinecolor\":\"white\",\"zerolinewidth\":2},\"yaxis\":{\"automargin\":true,\"gridcolor\":\"white\",\"linecolor\":\"white\",\"ticks\":\"\",\"title\":{\"standoff\":15},\"zerolinecolor\":\"white\",\"zerolinewidth\":2}}},\"xaxis\":{\"anchor\":\"y\",\"domain\":[0.0,1.0],\"title\":{\"text\":\"Principal component index\"}},\"yaxis\":{\"anchor\":\"x\",\"domain\":[0.0,1.0],\"title\":{\"text\":\"Explained Variance Ratio\"}},\"legend\":{\"title\":{\"text\":\"Legend\"},\"tracegroupgap\":0},\"margin\":{\"t\":60}},                        {\"responsive\": true}                    ).then(function(){\n",
              "                            \n",
              "var gd = document.getElementById('19698a9d-ad8d-4398-98b8-cb1fa5cb1a44');\n",
              "var x = new MutationObserver(function (mutations, observer) {{\n",
              "        var display = window.getComputedStyle(gd).display;\n",
              "        if (!display || display === 'none') {{\n",
              "            console.log([gd, 'removed!']);\n",
              "            Plotly.purge(gd);\n",
              "            observer.disconnect();\n",
              "        }}\n",
              "}});\n",
              "\n",
              "// Listen for the removal of the full notebook cells\n",
              "var notebookContainer = gd.closest('#notebook-container');\n",
              "if (notebookContainer) {{\n",
              "    x.observe(notebookContainer, {childList: true});\n",
              "}}\n",
              "\n",
              "// Listen for the clearing of the current output cell\n",
              "var outputEl = gd.closest('.output');\n",
              "if (outputEl) {{\n",
              "    x.observe(outputEl, {childList: true});\n",
              "}}\n",
              "\n",
              "                        })                };                            </script>        </div>\n",
              "</body>\n",
              "</html>"
            ]
          },
          "metadata": {}
        }
      ]
    },
    {
      "cell_type": "markdown",
      "source": [
        "### Plot scores and loadings\n",
        "\n",
        "In the following plot, the PCA loadings are plotted first with the loadings and then without.\n"
      ],
      "metadata": {
        "id": "8QAIImyPE3rG"
      }
    },
    {
      "cell_type": "code",
      "source": [
        "# Principal component on x-axis\n",
        "select_x_pca = 1\n",
        "# Principal component on y-axis\n",
        "select_y_pca = 2\n",
        "# Color plots by\n",
        "select_coloring = None"
      ],
      "metadata": {
        "id": "3XCKuviEFBm0"
      },
      "execution_count": null,
      "outputs": []
    },
    {
      "cell_type": "code",
      "source": [
        "# Score plot of PCA\n",
        "fig = px.scatter(x=components[:,select_x_pca-1], y=components[:,select_y_pca-1], labels={'x':\"Principal Component - \"+str(select_x_pca), 'y':\"Principal Component - \"+str(select_y_pca)}, title=\"PCA BWU Score plot\")\n",
        "fig.show()"
      ],
      "metadata": {
        "id": "6EHI3aRiLSus",
        "outputId": "f1da7bbe-33b3-4c75-df44-8f03383ed7bf",
        "colab": {
          "base_uri": "https://localhost:8080/",
          "height": 542
        }
      },
      "execution_count": 107,
      "outputs": [
        {
          "output_type": "display_data",
          "data": {
            "text/html": [
              "<html>\n",
              "<head><meta charset=\"utf-8\" /></head>\n",
              "<body>\n",
              "    <div>            <script src=\"https://cdnjs.cloudflare.com/ajax/libs/mathjax/2.7.5/MathJax.js?config=TeX-AMS-MML_SVG\"></script><script type=\"text/javascript\">if (window.MathJax) {MathJax.Hub.Config({SVG: {font: \"STIX-Web\"}});}</script>                <script type=\"text/javascript\">window.PlotlyConfig = {MathJaxConfig: 'local'};</script>\n",
              "        <script src=\"https://cdn.plot.ly/plotly-2.8.3.min.js\"></script>                <div id=\"d0d5d3a1-fa3e-4fc5-aaae-6bd2d828bcf5\" class=\"plotly-graph-div\" style=\"height:525px; width:100%;\"></div>            <script type=\"text/javascript\">                                    window.PLOTLYENV=window.PLOTLYENV || {};                                    if (document.getElementById(\"d0d5d3a1-fa3e-4fc5-aaae-6bd2d828bcf5\")) {                    Plotly.newPlot(                        \"d0d5d3a1-fa3e-4fc5-aaae-6bd2d828bcf5\",                        [{\"hovertemplate\":\"Principal Component - 1=%{x}<br>Principal Component - 2=%{y}<extra></extra>\",\"legendgroup\":\"\",\"marker\":{\"color\":\"#636efa\",\"symbol\":\"circle\"},\"mode\":\"markers\",\"name\":\"\",\"orientation\":\"v\",\"showlegend\":false,\"x\":[-0.9856222065455638,-2.0931510921934144,-5.4275344183293495,3.951242335547286,-0.43445083324624945,-0.5643541312759183,-5.120961679429909,-1.1469934083761968,-3.202649729016196,-1.7851974285225383,-2.930672524217885,-7.643131295816422,-3.1911981736039525,-2.3051517348808357,-5.357060668505211,13.766101680800013,-0.21969156910178375,4.278707745578708,-1.812806927554427,7.245350627693486,4.307127271549294,-5.426521753841927,-5.319208857636575,-1.1064163115346826,-0.6872921676249207,12.613081982903584,-6.040884280461904,13.04738436288445,0.9189154673882735,-5.580982523267486,4.6211135178095395,-2.7667596465178828,1.1143302997561333,0.00533851701191253,-0.324947015033598,-0.09266766189884527,3.733861002203123,4.325462433027186,0.06318862623845725,11.19308860706294,-4.24697503143527,-5.627022817157691,-1.0228723203762495,5.190667017254785,-1.052656591180803,-3.666700762354555,4.331281579870874,-6.188693613750483,7.027423916991942,13.21684366809474,7.290469747652017,-1.494513326700174,-2.7991453206551955,0.3890183827876306,-2.245841896298166,-3.166082866132372,-0.6437105377206809,0.900912935554168,-6.395567463143129,-2.9932447910385056,1.153287747100216,-6.285878152628005,-4.73350045841576,12.57673022508925,-0.382590712187249,5.355340742888959,-0.2903210288064202,-6.25722011466284,-3.7467797393630695,-5.697550305992587,1.6372594448928757,3.549933844754906,-0.5651023870708464,-5.390287709762827,3.912205591340458,-0.676685619616733,-0.7606977107605871,6.609140282188511,-5.6037034096920815,0.059836451455102475,-0.8172664922691388,-3.9589865731549017,-4.273997658857043,-1.0604687914823876,0.4708818572164359,-3.619436336633999,-4.742730526039541,2.7554040256406616,12.061354752345833,-5.961734039293248,6.481169818252596,0.16527584119128905,-3.1142466330085523,1.2278697025324177,10.618392091528927,0.8375909642578796,-4.502345798400799,-5.187351317618077,1.4714681746658311,-3.735836390909051],\"xaxis\":\"x\",\"y\":[4.264864982592111,1.7758336058442745,3.48321044867224,-3.906914852364244,-1.8316655291570083,-1.4876327367750026,3.941652110391476,-0.6569312263640519,-0.996356188299909,2.100550531833302,-0.7222631887477022,4.245376963026722,1.6233152624773686,-1.8041878077715297,2.1000187631545764,2.963537874321961,2.9456696072300455,-6.927100219752253,0.3817160005389504,-1.1928309631494582,-3.9038475069494583,4.82399170687407,1.9334560056802599,-5.2529961207992955,-5.0908253392647556,5.282841751339177,3.4968849458144877,0.5134613981717044,3.170288499980284,2.5596819788253438,-3.737749647666479,6.199076720416061,0.5680722587640681,-1.532821110361222,-3.536052209703802,-0.19338400513180504,-8.407570896803652,-8.883980275426781,-2.1499419763368244,9.460842829092032,0.2372039311708858,5.793654878384685,-4.278921968109241,-4.918730111189064,-4.228762656766737,-1.84632935069873,-4.3257147800259155,3.8688061870839405,5.473071790059688,6.7002086073145275,4.51583117117602,0.41128738321691494,0.24989730299215693,-8.860726629402052,-1.959620314728244,-2.165621668552238,-0.7219184768625356,-0.10307721141787023,3.5929307486586346,-3.3066489263551633,4.531252363792105,3.255703469825375,3.1286930515025615,3.42712194286466,-7.238381387458776,-1.4742276154368306,-5.774047283887828,5.559255535844754,0.5943232305168353,2.120258374334357,-1.189813107438185,4.432189941491602,-2.3383163066664725,1.7566094622836146,-3.747652138964058,-1.5534060931309883,-5.387602110695529,10.350750279777232,1.1020006263209636,-0.40637399471609137,-6.094561615285732,-1.4823486462742306,1.4712541162295327,8.081680232332193,-7.046875987987931,2.746626053280457,3.7718994543112068,5.478246896684305,-1.8209988175818361,2.780385895809083,4.9352076576804595,-7.829278339913421,-0.27000072902766004,-7.732289679404148,7.439202831549808,-7.465053242768355,0.14157665825298518,0.06106791500825155,-9.567421197347683,1.5072299541284495],\"yaxis\":\"y\",\"type\":\"scatter\"}],                        {\"template\":{\"data\":{\"bar\":[{\"error_x\":{\"color\":\"#2a3f5f\"},\"error_y\":{\"color\":\"#2a3f5f\"},\"marker\":{\"line\":{\"color\":\"#E5ECF6\",\"width\":0.5},\"pattern\":{\"fillmode\":\"overlay\",\"size\":10,\"solidity\":0.2}},\"type\":\"bar\"}],\"barpolar\":[{\"marker\":{\"line\":{\"color\":\"#E5ECF6\",\"width\":0.5},\"pattern\":{\"fillmode\":\"overlay\",\"size\":10,\"solidity\":0.2}},\"type\":\"barpolar\"}],\"carpet\":[{\"aaxis\":{\"endlinecolor\":\"#2a3f5f\",\"gridcolor\":\"white\",\"linecolor\":\"white\",\"minorgridcolor\":\"white\",\"startlinecolor\":\"#2a3f5f\"},\"baxis\":{\"endlinecolor\":\"#2a3f5f\",\"gridcolor\":\"white\",\"linecolor\":\"white\",\"minorgridcolor\":\"white\",\"startlinecolor\":\"#2a3f5f\"},\"type\":\"carpet\"}],\"choropleth\":[{\"colorbar\":{\"outlinewidth\":0,\"ticks\":\"\"},\"type\":\"choropleth\"}],\"contour\":[{\"colorbar\":{\"outlinewidth\":0,\"ticks\":\"\"},\"colorscale\":[[0.0,\"#0d0887\"],[0.1111111111111111,\"#46039f\"],[0.2222222222222222,\"#7201a8\"],[0.3333333333333333,\"#9c179e\"],[0.4444444444444444,\"#bd3786\"],[0.5555555555555556,\"#d8576b\"],[0.6666666666666666,\"#ed7953\"],[0.7777777777777778,\"#fb9f3a\"],[0.8888888888888888,\"#fdca26\"],[1.0,\"#f0f921\"]],\"type\":\"contour\"}],\"contourcarpet\":[{\"colorbar\":{\"outlinewidth\":0,\"ticks\":\"\"},\"type\":\"contourcarpet\"}],\"heatmap\":[{\"colorbar\":{\"outlinewidth\":0,\"ticks\":\"\"},\"colorscale\":[[0.0,\"#0d0887\"],[0.1111111111111111,\"#46039f\"],[0.2222222222222222,\"#7201a8\"],[0.3333333333333333,\"#9c179e\"],[0.4444444444444444,\"#bd3786\"],[0.5555555555555556,\"#d8576b\"],[0.6666666666666666,\"#ed7953\"],[0.7777777777777778,\"#fb9f3a\"],[0.8888888888888888,\"#fdca26\"],[1.0,\"#f0f921\"]],\"type\":\"heatmap\"}],\"heatmapgl\":[{\"colorbar\":{\"outlinewidth\":0,\"ticks\":\"\"},\"colorscale\":[[0.0,\"#0d0887\"],[0.1111111111111111,\"#46039f\"],[0.2222222222222222,\"#7201a8\"],[0.3333333333333333,\"#9c179e\"],[0.4444444444444444,\"#bd3786\"],[0.5555555555555556,\"#d8576b\"],[0.6666666666666666,\"#ed7953\"],[0.7777777777777778,\"#fb9f3a\"],[0.8888888888888888,\"#fdca26\"],[1.0,\"#f0f921\"]],\"type\":\"heatmapgl\"}],\"histogram\":[{\"marker\":{\"pattern\":{\"fillmode\":\"overlay\",\"size\":10,\"solidity\":0.2}},\"type\":\"histogram\"}],\"histogram2d\":[{\"colorbar\":{\"outlinewidth\":0,\"ticks\":\"\"},\"colorscale\":[[0.0,\"#0d0887\"],[0.1111111111111111,\"#46039f\"],[0.2222222222222222,\"#7201a8\"],[0.3333333333333333,\"#9c179e\"],[0.4444444444444444,\"#bd3786\"],[0.5555555555555556,\"#d8576b\"],[0.6666666666666666,\"#ed7953\"],[0.7777777777777778,\"#fb9f3a\"],[0.8888888888888888,\"#fdca26\"],[1.0,\"#f0f921\"]],\"type\":\"histogram2d\"}],\"histogram2dcontour\":[{\"colorbar\":{\"outlinewidth\":0,\"ticks\":\"\"},\"colorscale\":[[0.0,\"#0d0887\"],[0.1111111111111111,\"#46039f\"],[0.2222222222222222,\"#7201a8\"],[0.3333333333333333,\"#9c179e\"],[0.4444444444444444,\"#bd3786\"],[0.5555555555555556,\"#d8576b\"],[0.6666666666666666,\"#ed7953\"],[0.7777777777777778,\"#fb9f3a\"],[0.8888888888888888,\"#fdca26\"],[1.0,\"#f0f921\"]],\"type\":\"histogram2dcontour\"}],\"mesh3d\":[{\"colorbar\":{\"outlinewidth\":0,\"ticks\":\"\"},\"type\":\"mesh3d\"}],\"parcoords\":[{\"line\":{\"colorbar\":{\"outlinewidth\":0,\"ticks\":\"\"}},\"type\":\"parcoords\"}],\"pie\":[{\"automargin\":true,\"type\":\"pie\"}],\"scatter\":[{\"marker\":{\"colorbar\":{\"outlinewidth\":0,\"ticks\":\"\"}},\"type\":\"scatter\"}],\"scatter3d\":[{\"line\":{\"colorbar\":{\"outlinewidth\":0,\"ticks\":\"\"}},\"marker\":{\"colorbar\":{\"outlinewidth\":0,\"ticks\":\"\"}},\"type\":\"scatter3d\"}],\"scattercarpet\":[{\"marker\":{\"colorbar\":{\"outlinewidth\":0,\"ticks\":\"\"}},\"type\":\"scattercarpet\"}],\"scattergeo\":[{\"marker\":{\"colorbar\":{\"outlinewidth\":0,\"ticks\":\"\"}},\"type\":\"scattergeo\"}],\"scattergl\":[{\"marker\":{\"colorbar\":{\"outlinewidth\":0,\"ticks\":\"\"}},\"type\":\"scattergl\"}],\"scattermapbox\":[{\"marker\":{\"colorbar\":{\"outlinewidth\":0,\"ticks\":\"\"}},\"type\":\"scattermapbox\"}],\"scatterpolar\":[{\"marker\":{\"colorbar\":{\"outlinewidth\":0,\"ticks\":\"\"}},\"type\":\"scatterpolar\"}],\"scatterpolargl\":[{\"marker\":{\"colorbar\":{\"outlinewidth\":0,\"ticks\":\"\"}},\"type\":\"scatterpolargl\"}],\"scatterternary\":[{\"marker\":{\"colorbar\":{\"outlinewidth\":0,\"ticks\":\"\"}},\"type\":\"scatterternary\"}],\"surface\":[{\"colorbar\":{\"outlinewidth\":0,\"ticks\":\"\"},\"colorscale\":[[0.0,\"#0d0887\"],[0.1111111111111111,\"#46039f\"],[0.2222222222222222,\"#7201a8\"],[0.3333333333333333,\"#9c179e\"],[0.4444444444444444,\"#bd3786\"],[0.5555555555555556,\"#d8576b\"],[0.6666666666666666,\"#ed7953\"],[0.7777777777777778,\"#fb9f3a\"],[0.8888888888888888,\"#fdca26\"],[1.0,\"#f0f921\"]],\"type\":\"surface\"}],\"table\":[{\"cells\":{\"fill\":{\"color\":\"#EBF0F8\"},\"line\":{\"color\":\"white\"}},\"header\":{\"fill\":{\"color\":\"#C8D4E3\"},\"line\":{\"color\":\"white\"}},\"type\":\"table\"}]},\"layout\":{\"annotationdefaults\":{\"arrowcolor\":\"#2a3f5f\",\"arrowhead\":0,\"arrowwidth\":1},\"autotypenumbers\":\"strict\",\"coloraxis\":{\"colorbar\":{\"outlinewidth\":0,\"ticks\":\"\"}},\"colorscale\":{\"diverging\":[[0,\"#8e0152\"],[0.1,\"#c51b7d\"],[0.2,\"#de77ae\"],[0.3,\"#f1b6da\"],[0.4,\"#fde0ef\"],[0.5,\"#f7f7f7\"],[0.6,\"#e6f5d0\"],[0.7,\"#b8e186\"],[0.8,\"#7fbc41\"],[0.9,\"#4d9221\"],[1,\"#276419\"]],\"sequential\":[[0.0,\"#0d0887\"],[0.1111111111111111,\"#46039f\"],[0.2222222222222222,\"#7201a8\"],[0.3333333333333333,\"#9c179e\"],[0.4444444444444444,\"#bd3786\"],[0.5555555555555556,\"#d8576b\"],[0.6666666666666666,\"#ed7953\"],[0.7777777777777778,\"#fb9f3a\"],[0.8888888888888888,\"#fdca26\"],[1.0,\"#f0f921\"]],\"sequentialminus\":[[0.0,\"#0d0887\"],[0.1111111111111111,\"#46039f\"],[0.2222222222222222,\"#7201a8\"],[0.3333333333333333,\"#9c179e\"],[0.4444444444444444,\"#bd3786\"],[0.5555555555555556,\"#d8576b\"],[0.6666666666666666,\"#ed7953\"],[0.7777777777777778,\"#fb9f3a\"],[0.8888888888888888,\"#fdca26\"],[1.0,\"#f0f921\"]]},\"colorway\":[\"#636efa\",\"#EF553B\",\"#00cc96\",\"#ab63fa\",\"#FFA15A\",\"#19d3f3\",\"#FF6692\",\"#B6E880\",\"#FF97FF\",\"#FECB52\"],\"font\":{\"color\":\"#2a3f5f\"},\"geo\":{\"bgcolor\":\"white\",\"lakecolor\":\"white\",\"landcolor\":\"#E5ECF6\",\"showlakes\":true,\"showland\":true,\"subunitcolor\":\"white\"},\"hoverlabel\":{\"align\":\"left\"},\"hovermode\":\"closest\",\"mapbox\":{\"style\":\"light\"},\"paper_bgcolor\":\"white\",\"plot_bgcolor\":\"#E5ECF6\",\"polar\":{\"angularaxis\":{\"gridcolor\":\"white\",\"linecolor\":\"white\",\"ticks\":\"\"},\"bgcolor\":\"#E5ECF6\",\"radialaxis\":{\"gridcolor\":\"white\",\"linecolor\":\"white\",\"ticks\":\"\"}},\"scene\":{\"xaxis\":{\"backgroundcolor\":\"#E5ECF6\",\"gridcolor\":\"white\",\"gridwidth\":2,\"linecolor\":\"white\",\"showbackground\":true,\"ticks\":\"\",\"zerolinecolor\":\"white\"},\"yaxis\":{\"backgroundcolor\":\"#E5ECF6\",\"gridcolor\":\"white\",\"gridwidth\":2,\"linecolor\":\"white\",\"showbackground\":true,\"ticks\":\"\",\"zerolinecolor\":\"white\"},\"zaxis\":{\"backgroundcolor\":\"#E5ECF6\",\"gridcolor\":\"white\",\"gridwidth\":2,\"linecolor\":\"white\",\"showbackground\":true,\"ticks\":\"\",\"zerolinecolor\":\"white\"}},\"shapedefaults\":{\"line\":{\"color\":\"#2a3f5f\"}},\"ternary\":{\"aaxis\":{\"gridcolor\":\"white\",\"linecolor\":\"white\",\"ticks\":\"\"},\"baxis\":{\"gridcolor\":\"white\",\"linecolor\":\"white\",\"ticks\":\"\"},\"bgcolor\":\"#E5ECF6\",\"caxis\":{\"gridcolor\":\"white\",\"linecolor\":\"white\",\"ticks\":\"\"}},\"title\":{\"x\":0.05},\"xaxis\":{\"automargin\":true,\"gridcolor\":\"white\",\"linecolor\":\"white\",\"ticks\":\"\",\"title\":{\"standoff\":15},\"zerolinecolor\":\"white\",\"zerolinewidth\":2},\"yaxis\":{\"automargin\":true,\"gridcolor\":\"white\",\"linecolor\":\"white\",\"ticks\":\"\",\"title\":{\"standoff\":15},\"zerolinecolor\":\"white\",\"zerolinewidth\":2}}},\"xaxis\":{\"anchor\":\"y\",\"domain\":[0.0,1.0],\"title\":{\"text\":\"Principal Component - 1\"}},\"yaxis\":{\"anchor\":\"x\",\"domain\":[0.0,1.0],\"title\":{\"text\":\"Principal Component - 2\"}},\"legend\":{\"tracegroupgap\":0},\"title\":{\"text\":\"PCA BWU Score plot\"}},                        {\"responsive\": true}                    ).then(function(){\n",
              "                            \n",
              "var gd = document.getElementById('d0d5d3a1-fa3e-4fc5-aaae-6bd2d828bcf5');\n",
              "var x = new MutationObserver(function (mutations, observer) {{\n",
              "        var display = window.getComputedStyle(gd).display;\n",
              "        if (!display || display === 'none') {{\n",
              "            console.log([gd, 'removed!']);\n",
              "            Plotly.purge(gd);\n",
              "            observer.disconnect();\n",
              "        }}\n",
              "}});\n",
              "\n",
              "// Listen for the removal of the full notebook cells\n",
              "var notebookContainer = gd.closest('#notebook-container');\n",
              "if (notebookContainer) {{\n",
              "    x.observe(notebookContainer, {childList: true});\n",
              "}}\n",
              "\n",
              "// Listen for the clearing of the current output cell\n",
              "var outputEl = gd.closest('.output');\n",
              "if (outputEl) {{\n",
              "    x.observe(outputEl, {childList: true});\n",
              "}}\n",
              "\n",
              "                        })                };                            </script>        </div>\n",
              "</body>\n",
              "</html>"
            ]
          },
          "metadata": {}
        }
      ]
    },
    {
      "cell_type": "code",
      "source": [
        "# Loading plot of PCA\n",
        "loadings = pca.components_.T * np.sqrt(pca.explained_variance_)\n",
        "features = list(bwu.columns)\n",
        "\n",
        "fig = px.scatter(x=[0,0], y=[0,0], labels={'x':\"Principal Component - \"+str(select_x_pca), 'y':\"Principal Component - \"+str(select_y_pca)}, title=\"PCA Loading plot\")\n",
        "for i, feature in enumerate(features):\n",
        "    fig.add_shape(type='line', x0=0, y0=0, x1=loadings[i, 0], y1=loadings[i, 1])\n",
        "    fig.add_annotation(x=loadings[i, 0], y=loadings[i, 1], ax=0, ay=0, xanchor=\"center\", yanchor=\"bottom\", text=feature)\n",
        "fig.show()\n"
      ],
      "metadata": {
        "id": "mNbbz2YBLWxS",
        "outputId": "c44a92a7-5f04-4700-83ea-7dc09b92f2ab",
        "colab": {
          "base_uri": "https://localhost:8080/",
          "height": 542
        }
      },
      "execution_count": 108,
      "outputs": [
        {
          "output_type": "display_data",
          "data": {
            "text/html": [
              "<html>\n",
              "<head><meta charset=\"utf-8\" /></head>\n",
              "<body>\n",
              "    <div>            <script src=\"https://cdnjs.cloudflare.com/ajax/libs/mathjax/2.7.5/MathJax.js?config=TeX-AMS-MML_SVG\"></script><script type=\"text/javascript\">if (window.MathJax) {MathJax.Hub.Config({SVG: {font: \"STIX-Web\"}});}</script>                <script type=\"text/javascript\">window.PlotlyConfig = {MathJaxConfig: 'local'};</script>\n",
              "        <script src=\"https://cdn.plot.ly/plotly-2.8.3.min.js\"></script>                <div id=\"3ad6a667-73fd-48da-ba7e-cb17e96cb807\" class=\"plotly-graph-div\" style=\"height:525px; width:100%;\"></div>            <script type=\"text/javascript\">                                    window.PLOTLYENV=window.PLOTLYENV || {};                                    if (document.getElementById(\"3ad6a667-73fd-48da-ba7e-cb17e96cb807\")) {                    Plotly.newPlot(                        \"3ad6a667-73fd-48da-ba7e-cb17e96cb807\",                        [{\"hovertemplate\":\"Principal Component - 1=%{x}<br>Principal Component - 2=%{y}<extra></extra>\",\"legendgroup\":\"\",\"marker\":{\"color\":\"#636efa\",\"symbol\":\"circle\"},\"mode\":\"markers\",\"name\":\"\",\"orientation\":\"v\",\"showlegend\":false,\"x\":[0,0],\"xaxis\":\"x\",\"y\":[0,0],\"yaxis\":\"y\",\"type\":\"scatter\"}],                        {\"template\":{\"data\":{\"bar\":[{\"error_x\":{\"color\":\"#2a3f5f\"},\"error_y\":{\"color\":\"#2a3f5f\"},\"marker\":{\"line\":{\"color\":\"#E5ECF6\",\"width\":0.5},\"pattern\":{\"fillmode\":\"overlay\",\"size\":10,\"solidity\":0.2}},\"type\":\"bar\"}],\"barpolar\":[{\"marker\":{\"line\":{\"color\":\"#E5ECF6\",\"width\":0.5},\"pattern\":{\"fillmode\":\"overlay\",\"size\":10,\"solidity\":0.2}},\"type\":\"barpolar\"}],\"carpet\":[{\"aaxis\":{\"endlinecolor\":\"#2a3f5f\",\"gridcolor\":\"white\",\"linecolor\":\"white\",\"minorgridcolor\":\"white\",\"startlinecolor\":\"#2a3f5f\"},\"baxis\":{\"endlinecolor\":\"#2a3f5f\",\"gridcolor\":\"white\",\"linecolor\":\"white\",\"minorgridcolor\":\"white\",\"startlinecolor\":\"#2a3f5f\"},\"type\":\"carpet\"}],\"choropleth\":[{\"colorbar\":{\"outlinewidth\":0,\"ticks\":\"\"},\"type\":\"choropleth\"}],\"contour\":[{\"colorbar\":{\"outlinewidth\":0,\"ticks\":\"\"},\"colorscale\":[[0.0,\"#0d0887\"],[0.1111111111111111,\"#46039f\"],[0.2222222222222222,\"#7201a8\"],[0.3333333333333333,\"#9c179e\"],[0.4444444444444444,\"#bd3786\"],[0.5555555555555556,\"#d8576b\"],[0.6666666666666666,\"#ed7953\"],[0.7777777777777778,\"#fb9f3a\"],[0.8888888888888888,\"#fdca26\"],[1.0,\"#f0f921\"]],\"type\":\"contour\"}],\"contourcarpet\":[{\"colorbar\":{\"outlinewidth\":0,\"ticks\":\"\"},\"type\":\"contourcarpet\"}],\"heatmap\":[{\"colorbar\":{\"outlinewidth\":0,\"ticks\":\"\"},\"colorscale\":[[0.0,\"#0d0887\"],[0.1111111111111111,\"#46039f\"],[0.2222222222222222,\"#7201a8\"],[0.3333333333333333,\"#9c179e\"],[0.4444444444444444,\"#bd3786\"],[0.5555555555555556,\"#d8576b\"],[0.6666666666666666,\"#ed7953\"],[0.7777777777777778,\"#fb9f3a\"],[0.8888888888888888,\"#fdca26\"],[1.0,\"#f0f921\"]],\"type\":\"heatmap\"}],\"heatmapgl\":[{\"colorbar\":{\"outlinewidth\":0,\"ticks\":\"\"},\"colorscale\":[[0.0,\"#0d0887\"],[0.1111111111111111,\"#46039f\"],[0.2222222222222222,\"#7201a8\"],[0.3333333333333333,\"#9c179e\"],[0.4444444444444444,\"#bd3786\"],[0.5555555555555556,\"#d8576b\"],[0.6666666666666666,\"#ed7953\"],[0.7777777777777778,\"#fb9f3a\"],[0.8888888888888888,\"#fdca26\"],[1.0,\"#f0f921\"]],\"type\":\"heatmapgl\"}],\"histogram\":[{\"marker\":{\"pattern\":{\"fillmode\":\"overlay\",\"size\":10,\"solidity\":0.2}},\"type\":\"histogram\"}],\"histogram2d\":[{\"colorbar\":{\"outlinewidth\":0,\"ticks\":\"\"},\"colorscale\":[[0.0,\"#0d0887\"],[0.1111111111111111,\"#46039f\"],[0.2222222222222222,\"#7201a8\"],[0.3333333333333333,\"#9c179e\"],[0.4444444444444444,\"#bd3786\"],[0.5555555555555556,\"#d8576b\"],[0.6666666666666666,\"#ed7953\"],[0.7777777777777778,\"#fb9f3a\"],[0.8888888888888888,\"#fdca26\"],[1.0,\"#f0f921\"]],\"type\":\"histogram2d\"}],\"histogram2dcontour\":[{\"colorbar\":{\"outlinewidth\":0,\"ticks\":\"\"},\"colorscale\":[[0.0,\"#0d0887\"],[0.1111111111111111,\"#46039f\"],[0.2222222222222222,\"#7201a8\"],[0.3333333333333333,\"#9c179e\"],[0.4444444444444444,\"#bd3786\"],[0.5555555555555556,\"#d8576b\"],[0.6666666666666666,\"#ed7953\"],[0.7777777777777778,\"#fb9f3a\"],[0.8888888888888888,\"#fdca26\"],[1.0,\"#f0f921\"]],\"type\":\"histogram2dcontour\"}],\"mesh3d\":[{\"colorbar\":{\"outlinewidth\":0,\"ticks\":\"\"},\"type\":\"mesh3d\"}],\"parcoords\":[{\"line\":{\"colorbar\":{\"outlinewidth\":0,\"ticks\":\"\"}},\"type\":\"parcoords\"}],\"pie\":[{\"automargin\":true,\"type\":\"pie\"}],\"scatter\":[{\"marker\":{\"colorbar\":{\"outlinewidth\":0,\"ticks\":\"\"}},\"type\":\"scatter\"}],\"scatter3d\":[{\"line\":{\"colorbar\":{\"outlinewidth\":0,\"ticks\":\"\"}},\"marker\":{\"colorbar\":{\"outlinewidth\":0,\"ticks\":\"\"}},\"type\":\"scatter3d\"}],\"scattercarpet\":[{\"marker\":{\"colorbar\":{\"outlinewidth\":0,\"ticks\":\"\"}},\"type\":\"scattercarpet\"}],\"scattergeo\":[{\"marker\":{\"colorbar\":{\"outlinewidth\":0,\"ticks\":\"\"}},\"type\":\"scattergeo\"}],\"scattergl\":[{\"marker\":{\"colorbar\":{\"outlinewidth\":0,\"ticks\":\"\"}},\"type\":\"scattergl\"}],\"scattermapbox\":[{\"marker\":{\"colorbar\":{\"outlinewidth\":0,\"ticks\":\"\"}},\"type\":\"scattermapbox\"}],\"scatterpolar\":[{\"marker\":{\"colorbar\":{\"outlinewidth\":0,\"ticks\":\"\"}},\"type\":\"scatterpolar\"}],\"scatterpolargl\":[{\"marker\":{\"colorbar\":{\"outlinewidth\":0,\"ticks\":\"\"}},\"type\":\"scatterpolargl\"}],\"scatterternary\":[{\"marker\":{\"colorbar\":{\"outlinewidth\":0,\"ticks\":\"\"}},\"type\":\"scatterternary\"}],\"surface\":[{\"colorbar\":{\"outlinewidth\":0,\"ticks\":\"\"},\"colorscale\":[[0.0,\"#0d0887\"],[0.1111111111111111,\"#46039f\"],[0.2222222222222222,\"#7201a8\"],[0.3333333333333333,\"#9c179e\"],[0.4444444444444444,\"#bd3786\"],[0.5555555555555556,\"#d8576b\"],[0.6666666666666666,\"#ed7953\"],[0.7777777777777778,\"#fb9f3a\"],[0.8888888888888888,\"#fdca26\"],[1.0,\"#f0f921\"]],\"type\":\"surface\"}],\"table\":[{\"cells\":{\"fill\":{\"color\":\"#EBF0F8\"},\"line\":{\"color\":\"white\"}},\"header\":{\"fill\":{\"color\":\"#C8D4E3\"},\"line\":{\"color\":\"white\"}},\"type\":\"table\"}]},\"layout\":{\"annotationdefaults\":{\"arrowcolor\":\"#2a3f5f\",\"arrowhead\":0,\"arrowwidth\":1},\"autotypenumbers\":\"strict\",\"coloraxis\":{\"colorbar\":{\"outlinewidth\":0,\"ticks\":\"\"}},\"colorscale\":{\"diverging\":[[0,\"#8e0152\"],[0.1,\"#c51b7d\"],[0.2,\"#de77ae\"],[0.3,\"#f1b6da\"],[0.4,\"#fde0ef\"],[0.5,\"#f7f7f7\"],[0.6,\"#e6f5d0\"],[0.7,\"#b8e186\"],[0.8,\"#7fbc41\"],[0.9,\"#4d9221\"],[1,\"#276419\"]],\"sequential\":[[0.0,\"#0d0887\"],[0.1111111111111111,\"#46039f\"],[0.2222222222222222,\"#7201a8\"],[0.3333333333333333,\"#9c179e\"],[0.4444444444444444,\"#bd3786\"],[0.5555555555555556,\"#d8576b\"],[0.6666666666666666,\"#ed7953\"],[0.7777777777777778,\"#fb9f3a\"],[0.8888888888888888,\"#fdca26\"],[1.0,\"#f0f921\"]],\"sequentialminus\":[[0.0,\"#0d0887\"],[0.1111111111111111,\"#46039f\"],[0.2222222222222222,\"#7201a8\"],[0.3333333333333333,\"#9c179e\"],[0.4444444444444444,\"#bd3786\"],[0.5555555555555556,\"#d8576b\"],[0.6666666666666666,\"#ed7953\"],[0.7777777777777778,\"#fb9f3a\"],[0.8888888888888888,\"#fdca26\"],[1.0,\"#f0f921\"]]},\"colorway\":[\"#636efa\",\"#EF553B\",\"#00cc96\",\"#ab63fa\",\"#FFA15A\",\"#19d3f3\",\"#FF6692\",\"#B6E880\",\"#FF97FF\",\"#FECB52\"],\"font\":{\"color\":\"#2a3f5f\"},\"geo\":{\"bgcolor\":\"white\",\"lakecolor\":\"white\",\"landcolor\":\"#E5ECF6\",\"showlakes\":true,\"showland\":true,\"subunitcolor\":\"white\"},\"hoverlabel\":{\"align\":\"left\"},\"hovermode\":\"closest\",\"mapbox\":{\"style\":\"light\"},\"paper_bgcolor\":\"white\",\"plot_bgcolor\":\"#E5ECF6\",\"polar\":{\"angularaxis\":{\"gridcolor\":\"white\",\"linecolor\":\"white\",\"ticks\":\"\"},\"bgcolor\":\"#E5ECF6\",\"radialaxis\":{\"gridcolor\":\"white\",\"linecolor\":\"white\",\"ticks\":\"\"}},\"scene\":{\"xaxis\":{\"backgroundcolor\":\"#E5ECF6\",\"gridcolor\":\"white\",\"gridwidth\":2,\"linecolor\":\"white\",\"showbackground\":true,\"ticks\":\"\",\"zerolinecolor\":\"white\"},\"yaxis\":{\"backgroundcolor\":\"#E5ECF6\",\"gridcolor\":\"white\",\"gridwidth\":2,\"linecolor\":\"white\",\"showbackground\":true,\"ticks\":\"\",\"zerolinecolor\":\"white\"},\"zaxis\":{\"backgroundcolor\":\"#E5ECF6\",\"gridcolor\":\"white\",\"gridwidth\":2,\"linecolor\":\"white\",\"showbackground\":true,\"ticks\":\"\",\"zerolinecolor\":\"white\"}},\"shapedefaults\":{\"line\":{\"color\":\"#2a3f5f\"}},\"ternary\":{\"aaxis\":{\"gridcolor\":\"white\",\"linecolor\":\"white\",\"ticks\":\"\"},\"baxis\":{\"gridcolor\":\"white\",\"linecolor\":\"white\",\"ticks\":\"\"},\"bgcolor\":\"#E5ECF6\",\"caxis\":{\"gridcolor\":\"white\",\"linecolor\":\"white\",\"ticks\":\"\"}},\"title\":{\"x\":0.05},\"xaxis\":{\"automargin\":true,\"gridcolor\":\"white\",\"linecolor\":\"white\",\"ticks\":\"\",\"title\":{\"standoff\":15},\"zerolinecolor\":\"white\",\"zerolinewidth\":2},\"yaxis\":{\"automargin\":true,\"gridcolor\":\"white\",\"linecolor\":\"white\",\"ticks\":\"\",\"title\":{\"standoff\":15},\"zerolinecolor\":\"white\",\"zerolinewidth\":2}}},\"xaxis\":{\"anchor\":\"y\",\"domain\":[0.0,1.0],\"title\":{\"text\":\"Principal Component - 1\"}},\"yaxis\":{\"anchor\":\"x\",\"domain\":[0.0,1.0],\"title\":{\"text\":\"Principal Component - 2\"}},\"legend\":{\"tracegroupgap\":0},\"title\":{\"text\":\"PCA Loading plot\"},\"shapes\":[{\"type\":\"line\",\"x0\":0,\"x1\":-0.4668241404348514,\"y0\":0,\"y1\":0.8252239533984816},{\"type\":\"line\",\"x0\":0,\"x1\":-0.46523162230779275,\"y0\":0,\"y1\":0.837254761776568},{\"type\":\"line\",\"x0\":0,\"x1\":-0.4669085750405937,\"y0\":0,\"y1\":0.8504314600883188},{\"type\":\"line\",\"x0\":0,\"x1\":-0.48883874403743216,\"y0\":0,\"y1\":0.8487834341800231},{\"type\":\"line\",\"x0\":0,\"x1\":-0.5929269315185886,\"y0\":0,\"y1\":0.747796776319528},{\"type\":\"line\",\"x0\":0,\"x1\":-0.8216212324950146,\"y0\":0,\"y1\":0.23811029358081473},{\"type\":\"line\",\"x0\":0,\"x1\":-0.7292461869803902,\"y0\":0,\"y1\":-0.417678373555032},{\"type\":\"line\",\"x0\":0,\"x1\":-0.6085179379688005,\"y0\":0,\"y1\":-0.5947836597572309},{\"type\":\"line\",\"x0\":0,\"x1\":-0.5643638971906803,\"y0\":0,\"y1\":-0.6512284439200999},{\"type\":\"line\",\"x0\":0,\"x1\":-0.5599819898475938,\"y0\":0,\"y1\":-0.6773645609843432},{\"type\":\"line\",\"x0\":0,\"x1\":-0.5541286056477884,\"y0\":0,\"y1\":-0.686844830563975},{\"type\":\"line\",\"x0\":0,\"x1\":-0.5435618177129932,\"y0\":0,\"y1\":-0.6766780542200138},{\"type\":\"line\",\"x0\":0,\"x1\":-0.5228569603261712,\"y0\":0,\"y1\":-0.6519965627932802},{\"type\":\"line\",\"x0\":0,\"x1\":-0.4942781610458419,\"y0\":0,\"y1\":-0.6170336496481651},{\"type\":\"line\",\"x0\":0,\"x1\":-0.46629188528484977,\"y0\":0,\"y1\":-0.5770443221018919},{\"type\":\"line\",\"x0\":0,\"x1\":0.14695268924524651,\"y0\":0,\"y1\":0.40702340946427884},{\"type\":\"line\",\"x0\":0,\"x1\":0.1582108196208047,\"y0\":0,\"y1\":0.38949518398332217},{\"type\":\"line\",\"x0\":0,\"x1\":0.31361145052193756,\"y0\":0,\"y1\":0.3776308845635252},{\"type\":\"line\",\"x0\":0,\"x1\":0.4959150927199525,\"y0\":0,\"y1\":0.35312923266441154},{\"type\":\"line\",\"x0\":0,\"x1\":0.587510882170084,\"y0\":0,\"y1\":0.3092383168547638},{\"type\":\"line\",\"x0\":0,\"x1\":0.6417918994472092,\"y0\":0,\"y1\":0.3095832090618215},{\"type\":\"line\",\"x0\":0,\"x1\":0.6788687348455026,\"y0\":0,\"y1\":0.35502916414060304},{\"type\":\"line\",\"x0\":0,\"x1\":0.7000123523047845,\"y0\":0,\"y1\":0.4162102957539658},{\"type\":\"line\",\"x0\":0,\"x1\":0.7028078544179365,\"y0\":0,\"y1\":0.47392343513972257},{\"type\":\"line\",\"x0\":0,\"x1\":0.7065721915264965,\"y0\":0,\"y1\":0.5210819413121999},{\"type\":\"line\",\"x0\":0,\"x1\":0.6966725614606193,\"y0\":0,\"y1\":0.5622311231637334},{\"type\":\"line\",\"x0\":0,\"x1\":0.6907672593403442,\"y0\":0,\"y1\":0.5729351296055774},{\"type\":\"line\",\"x0\":0,\"x1\":0.694374254995814,\"y0\":0,\"y1\":0.5629980701695629},{\"type\":\"line\",\"x0\":0,\"x1\":0.6998213601888814,\"y0\":0,\"y1\":0.568408126408635},{\"type\":\"line\",\"x0\":0,\"x1\":0.7029844872673117,\"y0\":0,\"y1\":0.5715648525494165},{\"type\":\"line\",\"x0\":0,\"x1\":0.0,\"y0\":0,\"y1\":-0.0},{\"type\":\"line\",\"x0\":0,\"x1\":-0.465827466493203,\"y0\":0,\"y1\":0.832332574168345},{\"type\":\"line\",\"x0\":0,\"x1\":-0.4659404386713061,\"y0\":0,\"y1\":0.8418897552088908},{\"type\":\"line\",\"x0\":0,\"x1\":-0.4725304695107299,\"y0\":0,\"y1\":0.8500218015051414},{\"type\":\"line\",\"x0\":0,\"x1\":-0.500529012080715,\"y0\":0,\"y1\":0.8427971943436219},{\"type\":\"line\",\"x0\":0,\"x1\":-0.5692471082125392,\"y0\":0,\"y1\":0.798601722379905},{\"type\":\"line\",\"x0\":0,\"x1\":-0.6879193245692444,\"y0\":0,\"y1\":0.6960493412750721},{\"type\":\"line\",\"x0\":0,\"x1\":-0.8226426539005308,\"y0\":0,\"y1\":0.5234974292766512},{\"type\":\"line\",\"x0\":0,\"x1\":-0.9145337952278293,\"y0\":0,\"y1\":0.3155061762717396},{\"type\":\"line\",\"x0\":0,\"x1\":-0.9500736565868385,\"y0\":0,\"y1\":0.1317027575669537},{\"type\":\"line\",\"x0\":0,\"x1\":-0.954549798437122,\"y0\":0,\"y1\":-0.003411927744288463},{\"type\":\"line\",\"x0\":0,\"x1\":-0.9484288479267324,\"y0\":0,\"y1\":-0.0947545999251167},{\"type\":\"line\",\"x0\":0,\"x1\":-0.9403837074845566,\"y0\":0,\"y1\":-0.154978423361307},{\"type\":\"line\",\"x0\":0,\"x1\":-0.9329622445575514,\"y0\":0,\"y1\":-0.19430570907582864},{\"type\":\"line\",\"x0\":0,\"x1\":-0.9266115797676671,\"y0\":0,\"y1\":-0.21998363592386333},{\"type\":\"line\",\"x0\":0,\"x1\":0.0,\"y0\":0,\"y1\":-0.0},{\"type\":\"line\",\"x0\":0,\"x1\":-0.3358511325813874,\"y0\":0,\"y1\":0.40703953219750844},{\"type\":\"line\",\"x0\":0,\"x1\":-0.45448555365888593,\"y0\":0,\"y1\":0.6829935037026135},{\"type\":\"line\",\"x0\":0,\"x1\":-0.49004586737085093,\"y0\":0,\"y1\":0.7675052476385626},{\"type\":\"line\",\"x0\":0,\"x1\":-0.5304639545354256,\"y0\":0,\"y1\":0.8019455361932624},{\"type\":\"line\",\"x0\":0,\"x1\":-0.6015392610902814,\"y0\":0,\"y1\":0.7782017596666787},{\"type\":\"line\",\"x0\":0,\"x1\":-0.706769336865327,\"y0\":0,\"y1\":0.6729370813147507},{\"type\":\"line\",\"x0\":0,\"x1\":-0.7819192213566347,\"y0\":0,\"y1\":0.5019865910567247},{\"type\":\"line\",\"x0\":0,\"x1\":-0.8059277506691122,\"y0\":0,\"y1\":0.3203299265404986},{\"type\":\"line\",\"x0\":0,\"x1\":-0.7986929705082877,\"y0\":0,\"y1\":0.18064853041648324},{\"type\":\"line\",\"x0\":0,\"x1\":-0.7790808205710331,\"y0\":0,\"y1\":0.08438521322117831},{\"type\":\"line\",\"x0\":0,\"x1\":-0.7605568935927817,\"y0\":0,\"y1\":0.0311254257788448},{\"type\":\"line\",\"x0\":0,\"x1\":-0.7454845181472105,\"y0\":0,\"y1\":-0.0007735856905852274},{\"type\":\"line\",\"x0\":0,\"x1\":-0.7328250355134664,\"y0\":0,\"y1\":-0.02191198180747208},{\"type\":\"line\",\"x0\":0,\"x1\":-0.7229429542975778,\"y0\":0,\"y1\":-0.03401805703579822},{\"type\":\"line\",\"x0\":0,\"x1\":0.0,\"y0\":0,\"y1\":-0.0},{\"type\":\"line\",\"x0\":0,\"x1\":0.5431350574439684,\"y0\":0,\"y1\":0.22121129457733366},{\"type\":\"line\",\"x0\":0,\"x1\":0.4980431103397147,\"y0\":0,\"y1\":0.29789865931320675},{\"type\":\"line\",\"x0\":0,\"x1\":0.3336757224613213,\"y0\":0,\"y1\":0.3589264352235561},{\"type\":\"line\",\"x0\":0,\"x1\":0.20628154409777977,\"y0\":0,\"y1\":0.4270111719082795},{\"type\":\"line\",\"x0\":0,\"x1\":0.20628154409777977,\"y0\":0,\"y1\":0.4270111719082795},{\"type\":\"line\",\"x0\":0,\"x1\":0.20628154409777977,\"y0\":0,\"y1\":0.4270111719082795},{\"type\":\"line\",\"x0\":0,\"x1\":0.20628154409777977,\"y0\":0,\"y1\":0.4270111719082795},{\"type\":\"line\",\"x0\":0,\"x1\":0.264507361619795,\"y0\":0,\"y1\":0.38255397213296227},{\"type\":\"line\",\"x0\":0,\"x1\":0.1644588302636314,\"y0\":0,\"y1\":0.37975890746326535},{\"type\":\"line\",\"x0\":0,\"x1\":0.1429356593998337,\"y0\":0,\"y1\":0.2203156952552828},{\"type\":\"line\",\"x0\":0,\"x1\":0.15071374260886508,\"y0\":0,\"y1\":-0.006053085585824698},{\"type\":\"line\",\"x0\":0,\"x1\":0.0,\"y0\":0,\"y1\":-0.0},{\"type\":\"line\",\"x0\":0,\"x1\":0.0,\"y0\":0,\"y1\":-0.0},{\"type\":\"line\",\"x0\":0,\"x1\":0.0,\"y0\":0,\"y1\":-0.0}],\"annotations\":[{\"ax\":0,\"ay\":0,\"text\":\"X:VCD:0\",\"x\":-0.4668241404348514,\"xanchor\":\"center\",\"y\":0.8252239533984816,\"yanchor\":\"bottom\"},{\"ax\":0,\"ay\":0,\"text\":\"X:VCD:1\",\"x\":-0.46523162230779275,\"xanchor\":\"center\",\"y\":0.837254761776568,\"yanchor\":\"bottom\"},{\"ax\":0,\"ay\":0,\"text\":\"X:VCD:2\",\"x\":-0.4669085750405937,\"xanchor\":\"center\",\"y\":0.8504314600883188,\"yanchor\":\"bottom\"},{\"ax\":0,\"ay\":0,\"text\":\"X:VCD:3\",\"x\":-0.48883874403743216,\"xanchor\":\"center\",\"y\":0.8487834341800231,\"yanchor\":\"bottom\"},{\"ax\":0,\"ay\":0,\"text\":\"X:VCD:4\",\"x\":-0.5929269315185886,\"xanchor\":\"center\",\"y\":0.747796776319528,\"yanchor\":\"bottom\"},{\"ax\":0,\"ay\":0,\"text\":\"X:VCD:5\",\"x\":-0.8216212324950146,\"xanchor\":\"center\",\"y\":0.23811029358081473,\"yanchor\":\"bottom\"},{\"ax\":0,\"ay\":0,\"text\":\"X:VCD:6\",\"x\":-0.7292461869803902,\"xanchor\":\"center\",\"y\":-0.417678373555032,\"yanchor\":\"bottom\"},{\"ax\":0,\"ay\":0,\"text\":\"X:VCD:7\",\"x\":-0.6085179379688005,\"xanchor\":\"center\",\"y\":-0.5947836597572309,\"yanchor\":\"bottom\"},{\"ax\":0,\"ay\":0,\"text\":\"X:VCD:8\",\"x\":-0.5643638971906803,\"xanchor\":\"center\",\"y\":-0.6512284439200999,\"yanchor\":\"bottom\"},{\"ax\":0,\"ay\":0,\"text\":\"X:VCD:9\",\"x\":-0.5599819898475938,\"xanchor\":\"center\",\"y\":-0.6773645609843432,\"yanchor\":\"bottom\"},{\"ax\":0,\"ay\":0,\"text\":\"X:VCD:10\",\"x\":-0.5541286056477884,\"xanchor\":\"center\",\"y\":-0.686844830563975,\"yanchor\":\"bottom\"},{\"ax\":0,\"ay\":0,\"text\":\"X:VCD:11\",\"x\":-0.5435618177129932,\"xanchor\":\"center\",\"y\":-0.6766780542200138,\"yanchor\":\"bottom\"},{\"ax\":0,\"ay\":0,\"text\":\"X:VCD:12\",\"x\":-0.5228569603261712,\"xanchor\":\"center\",\"y\":-0.6519965627932802,\"yanchor\":\"bottom\"},{\"ax\":0,\"ay\":0,\"text\":\"X:VCD:13\",\"x\":-0.4942781610458419,\"xanchor\":\"center\",\"y\":-0.6170336496481651,\"yanchor\":\"bottom\"},{\"ax\":0,\"ay\":0,\"text\":\"X:VCD:14\",\"x\":-0.46629188528484977,\"xanchor\":\"center\",\"y\":-0.5770443221018919,\"yanchor\":\"bottom\"},{\"ax\":0,\"ay\":0,\"text\":\"X:Glc:0\",\"x\":0.14695268924524651,\"xanchor\":\"center\",\"y\":0.40702340946427884,\"yanchor\":\"bottom\"},{\"ax\":0,\"ay\":0,\"text\":\"X:Glc:1\",\"x\":0.1582108196208047,\"xanchor\":\"center\",\"y\":0.38949518398332217,\"yanchor\":\"bottom\"},{\"ax\":0,\"ay\":0,\"text\":\"X:Glc:2\",\"x\":0.31361145052193756,\"xanchor\":\"center\",\"y\":0.3776308845635252,\"yanchor\":\"bottom\"},{\"ax\":0,\"ay\":0,\"text\":\"X:Glc:3\",\"x\":0.4959150927199525,\"xanchor\":\"center\",\"y\":0.35312923266441154,\"yanchor\":\"bottom\"},{\"ax\":0,\"ay\":0,\"text\":\"X:Glc:4\",\"x\":0.587510882170084,\"xanchor\":\"center\",\"y\":0.3092383168547638,\"yanchor\":\"bottom\"},{\"ax\":0,\"ay\":0,\"text\":\"X:Glc:5\",\"x\":0.6417918994472092,\"xanchor\":\"center\",\"y\":0.3095832090618215,\"yanchor\":\"bottom\"},{\"ax\":0,\"ay\":0,\"text\":\"X:Glc:6\",\"x\":0.6788687348455026,\"xanchor\":\"center\",\"y\":0.35502916414060304,\"yanchor\":\"bottom\"},{\"ax\":0,\"ay\":0,\"text\":\"X:Glc:7\",\"x\":0.7000123523047845,\"xanchor\":\"center\",\"y\":0.4162102957539658,\"yanchor\":\"bottom\"},{\"ax\":0,\"ay\":0,\"text\":\"X:Glc:8\",\"x\":0.7028078544179365,\"xanchor\":\"center\",\"y\":0.47392343513972257,\"yanchor\":\"bottom\"},{\"ax\":0,\"ay\":0,\"text\":\"X:Glc:9\",\"x\":0.7065721915264965,\"xanchor\":\"center\",\"y\":0.5210819413121999,\"yanchor\":\"bottom\"},{\"ax\":0,\"ay\":0,\"text\":\"X:Glc:10\",\"x\":0.6966725614606193,\"xanchor\":\"center\",\"y\":0.5622311231637334,\"yanchor\":\"bottom\"},{\"ax\":0,\"ay\":0,\"text\":\"X:Glc:11\",\"x\":0.6907672593403442,\"xanchor\":\"center\",\"y\":0.5729351296055774,\"yanchor\":\"bottom\"},{\"ax\":0,\"ay\":0,\"text\":\"X:Glc:12\",\"x\":0.694374254995814,\"xanchor\":\"center\",\"y\":0.5629980701695629,\"yanchor\":\"bottom\"},{\"ax\":0,\"ay\":0,\"text\":\"X:Glc:13\",\"x\":0.6998213601888814,\"xanchor\":\"center\",\"y\":0.568408126408635,\"yanchor\":\"bottom\"},{\"ax\":0,\"ay\":0,\"text\":\"X:Glc:14\",\"x\":0.7029844872673117,\"xanchor\":\"center\",\"y\":0.5715648525494165,\"yanchor\":\"bottom\"},{\"ax\":0,\"ay\":0,\"text\":\"X:Lac:0\",\"x\":0.0,\"xanchor\":\"center\",\"y\":-0.0,\"yanchor\":\"bottom\"},{\"ax\":0,\"ay\":0,\"text\":\"X:Lac:1\",\"x\":-0.465827466493203,\"xanchor\":\"center\",\"y\":0.832332574168345,\"yanchor\":\"bottom\"},{\"ax\":0,\"ay\":0,\"text\":\"X:Lac:2\",\"x\":-0.4659404386713061,\"xanchor\":\"center\",\"y\":0.8418897552088908,\"yanchor\":\"bottom\"},{\"ax\":0,\"ay\":0,\"text\":\"X:Lac:3\",\"x\":-0.4725304695107299,\"xanchor\":\"center\",\"y\":0.8500218015051414,\"yanchor\":\"bottom\"},{\"ax\":0,\"ay\":0,\"text\":\"X:Lac:4\",\"x\":-0.500529012080715,\"xanchor\":\"center\",\"y\":0.8427971943436219,\"yanchor\":\"bottom\"},{\"ax\":0,\"ay\":0,\"text\":\"X:Lac:5\",\"x\":-0.5692471082125392,\"xanchor\":\"center\",\"y\":0.798601722379905,\"yanchor\":\"bottom\"},{\"ax\":0,\"ay\":0,\"text\":\"X:Lac:6\",\"x\":-0.6879193245692444,\"xanchor\":\"center\",\"y\":0.6960493412750721,\"yanchor\":\"bottom\"},{\"ax\":0,\"ay\":0,\"text\":\"X:Lac:7\",\"x\":-0.8226426539005308,\"xanchor\":\"center\",\"y\":0.5234974292766512,\"yanchor\":\"bottom\"},{\"ax\":0,\"ay\":0,\"text\":\"X:Lac:8\",\"x\":-0.9145337952278293,\"xanchor\":\"center\",\"y\":0.3155061762717396,\"yanchor\":\"bottom\"},{\"ax\":0,\"ay\":0,\"text\":\"X:Lac:9\",\"x\":-0.9500736565868385,\"xanchor\":\"center\",\"y\":0.1317027575669537,\"yanchor\":\"bottom\"},{\"ax\":0,\"ay\":0,\"text\":\"X:Lac:10\",\"x\":-0.954549798437122,\"xanchor\":\"center\",\"y\":-0.003411927744288463,\"yanchor\":\"bottom\"},{\"ax\":0,\"ay\":0,\"text\":\"X:Lac:11\",\"x\":-0.9484288479267324,\"xanchor\":\"center\",\"y\":-0.0947545999251167,\"yanchor\":\"bottom\"},{\"ax\":0,\"ay\":0,\"text\":\"X:Lac:12\",\"x\":-0.9403837074845566,\"xanchor\":\"center\",\"y\":-0.154978423361307,\"yanchor\":\"bottom\"},{\"ax\":0,\"ay\":0,\"text\":\"X:Lac:13\",\"x\":-0.9329622445575514,\"xanchor\":\"center\",\"y\":-0.19430570907582864,\"yanchor\":\"bottom\"},{\"ax\":0,\"ay\":0,\"text\":\"X:Lac:14\",\"x\":-0.9266115797676671,\"xanchor\":\"center\",\"y\":-0.21998363592386333,\"yanchor\":\"bottom\"},{\"ax\":0,\"ay\":0,\"text\":\"X:Titer:0\",\"x\":0.0,\"xanchor\":\"center\",\"y\":-0.0,\"yanchor\":\"bottom\"},{\"ax\":0,\"ay\":0,\"text\":\"X:Titer:1\",\"x\":-0.3358511325813874,\"xanchor\":\"center\",\"y\":0.40703953219750844,\"yanchor\":\"bottom\"},{\"ax\":0,\"ay\":0,\"text\":\"X:Titer:2\",\"x\":-0.45448555365888593,\"xanchor\":\"center\",\"y\":0.6829935037026135,\"yanchor\":\"bottom\"},{\"ax\":0,\"ay\":0,\"text\":\"X:Titer:3\",\"x\":-0.49004586737085093,\"xanchor\":\"center\",\"y\":0.7675052476385626,\"yanchor\":\"bottom\"},{\"ax\":0,\"ay\":0,\"text\":\"X:Titer:4\",\"x\":-0.5304639545354256,\"xanchor\":\"center\",\"y\":0.8019455361932624,\"yanchor\":\"bottom\"},{\"ax\":0,\"ay\":0,\"text\":\"X:Titer:5\",\"x\":-0.6015392610902814,\"xanchor\":\"center\",\"y\":0.7782017596666787,\"yanchor\":\"bottom\"},{\"ax\":0,\"ay\":0,\"text\":\"X:Titer:6\",\"x\":-0.706769336865327,\"xanchor\":\"center\",\"y\":0.6729370813147507,\"yanchor\":\"bottom\"},{\"ax\":0,\"ay\":0,\"text\":\"X:Titer:7\",\"x\":-0.7819192213566347,\"xanchor\":\"center\",\"y\":0.5019865910567247,\"yanchor\":\"bottom\"},{\"ax\":0,\"ay\":0,\"text\":\"X:Titer:8\",\"x\":-0.8059277506691122,\"xanchor\":\"center\",\"y\":0.3203299265404986,\"yanchor\":\"bottom\"},{\"ax\":0,\"ay\":0,\"text\":\"X:Titer:9\",\"x\":-0.7986929705082877,\"xanchor\":\"center\",\"y\":0.18064853041648324,\"yanchor\":\"bottom\"},{\"ax\":0,\"ay\":0,\"text\":\"X:Titer:10\",\"x\":-0.7790808205710331,\"xanchor\":\"center\",\"y\":0.08438521322117831,\"yanchor\":\"bottom\"},{\"ax\":0,\"ay\":0,\"text\":\"X:Titer:11\",\"x\":-0.7605568935927817,\"xanchor\":\"center\",\"y\":0.0311254257788448,\"yanchor\":\"bottom\"},{\"ax\":0,\"ay\":0,\"text\":\"X:Titer:12\",\"x\":-0.7454845181472105,\"xanchor\":\"center\",\"y\":-0.0007735856905852274,\"yanchor\":\"bottom\"},{\"ax\":0,\"ay\":0,\"text\":\"X:Titer:13\",\"x\":-0.7328250355134664,\"xanchor\":\"center\",\"y\":-0.02191198180747208,\"yanchor\":\"bottom\"},{\"ax\":0,\"ay\":0,\"text\":\"X:Titer:14\",\"x\":-0.7229429542975778,\"xanchor\":\"center\",\"y\":-0.03401805703579822,\"yanchor\":\"bottom\"},{\"ax\":0,\"ay\":0,\"text\":\"W:Feed:0\",\"x\":0.0,\"xanchor\":\"center\",\"y\":-0.0,\"yanchor\":\"bottom\"},{\"ax\":0,\"ay\":0,\"text\":\"W:Feed:1\",\"x\":0.5431350574439684,\"xanchor\":\"center\",\"y\":0.22121129457733366,\"yanchor\":\"bottom\"},{\"ax\":0,\"ay\":0,\"text\":\"W:Feed:2\",\"x\":0.4980431103397147,\"xanchor\":\"center\",\"y\":0.29789865931320675,\"yanchor\":\"bottom\"},{\"ax\":0,\"ay\":0,\"text\":\"W:Feed:3\",\"x\":0.3336757224613213,\"xanchor\":\"center\",\"y\":0.3589264352235561,\"yanchor\":\"bottom\"},{\"ax\":0,\"ay\":0,\"text\":\"W:Feed:4\",\"x\":0.20628154409777977,\"xanchor\":\"center\",\"y\":0.4270111719082795,\"yanchor\":\"bottom\"},{\"ax\":0,\"ay\":0,\"text\":\"W:Feed:5\",\"x\":0.20628154409777977,\"xanchor\":\"center\",\"y\":0.4270111719082795,\"yanchor\":\"bottom\"},{\"ax\":0,\"ay\":0,\"text\":\"W:Feed:6\",\"x\":0.20628154409777977,\"xanchor\":\"center\",\"y\":0.4270111719082795,\"yanchor\":\"bottom\"},{\"ax\":0,\"ay\":0,\"text\":\"W:Feed:7\",\"x\":0.20628154409777977,\"xanchor\":\"center\",\"y\":0.4270111719082795,\"yanchor\":\"bottom\"},{\"ax\":0,\"ay\":0,\"text\":\"W:Feed:8\",\"x\":0.264507361619795,\"xanchor\":\"center\",\"y\":0.38255397213296227,\"yanchor\":\"bottom\"},{\"ax\":0,\"ay\":0,\"text\":\"W:Feed:9\",\"x\":0.1644588302636314,\"xanchor\":\"center\",\"y\":0.37975890746326535,\"yanchor\":\"bottom\"},{\"ax\":0,\"ay\":0,\"text\":\"W:Feed:10\",\"x\":0.1429356593998337,\"xanchor\":\"center\",\"y\":0.2203156952552828,\"yanchor\":\"bottom\"},{\"ax\":0,\"ay\":0,\"text\":\"W:Feed:11\",\"x\":0.15071374260886508,\"xanchor\":\"center\",\"y\":-0.006053085585824698,\"yanchor\":\"bottom\"},{\"ax\":0,\"ay\":0,\"text\":\"W:Feed:12\",\"x\":0.0,\"xanchor\":\"center\",\"y\":-0.0,\"yanchor\":\"bottom\"},{\"ax\":0,\"ay\":0,\"text\":\"W:Feed:13\",\"x\":0.0,\"xanchor\":\"center\",\"y\":-0.0,\"yanchor\":\"bottom\"},{\"ax\":0,\"ay\":0,\"text\":\"W:Feed:14\",\"x\":0.0,\"xanchor\":\"center\",\"y\":-0.0,\"yanchor\":\"bottom\"}]},                        {\"responsive\": true}                    ).then(function(){\n",
              "                            \n",
              "var gd = document.getElementById('3ad6a667-73fd-48da-ba7e-cb17e96cb807');\n",
              "var x = new MutationObserver(function (mutations, observer) {{\n",
              "        var display = window.getComputedStyle(gd).display;\n",
              "        if (!display || display === 'none') {{\n",
              "            console.log([gd, 'removed!']);\n",
              "            Plotly.purge(gd);\n",
              "            observer.disconnect();\n",
              "        }}\n",
              "}});\n",
              "\n",
              "// Listen for the removal of the full notebook cells\n",
              "var notebookContainer = gd.closest('#notebook-container');\n",
              "if (notebookContainer) {{\n",
              "    x.observe(notebookContainer, {childList: true});\n",
              "}}\n",
              "\n",
              "// Listen for the clearing of the current output cell\n",
              "var outputEl = gd.closest('.output');\n",
              "if (outputEl) {{\n",
              "    x.observe(outputEl, {childList: true});\n",
              "}}\n",
              "\n",
              "                        })                };                            </script>        </div>\n",
              "</body>\n",
              "</html>"
            ]
          },
          "metadata": {}
        }
      ]
    },
    {
      "cell_type": "code",
      "source": [
        "# Select which loading to plot\n",
        "select_x_pca = 1"
      ],
      "metadata": {
        "id": "5Eg5E_zFglNW"
      },
      "execution_count": 114,
      "outputs": []
    },
    {
      "cell_type": "code",
      "source": [
        "# Loading plot of PCA alternative\n",
        "loadings = pca.components_.T * np.sqrt(pca.explained_variance_)\n",
        "loading = loadings[:,select_x_pca-1]\n",
        "features = list(bwu.columns)\n",
        "\n",
        "fig = px.bar(x=features, y=loading,labels={'x':\"Variable\", 'y':\"Loading of PC - \"+str(select_x_pca)}, title=\"PCA Loading plot\")\n",
        "fig.show()"
      ],
      "metadata": {
        "id": "SEbOG5fhgRMd",
        "outputId": "e25cc50a-b680-40f7-af5f-59d3fe7f74cc",
        "colab": {
          "base_uri": "https://localhost:8080/",
          "height": 542
        }
      },
      "execution_count": 119,
      "outputs": [
        {
          "output_type": "display_data",
          "data": {
            "text/html": [
              "<html>\n",
              "<head><meta charset=\"utf-8\" /></head>\n",
              "<body>\n",
              "    <div>            <script src=\"https://cdnjs.cloudflare.com/ajax/libs/mathjax/2.7.5/MathJax.js?config=TeX-AMS-MML_SVG\"></script><script type=\"text/javascript\">if (window.MathJax) {MathJax.Hub.Config({SVG: {font: \"STIX-Web\"}});}</script>                <script type=\"text/javascript\">window.PlotlyConfig = {MathJaxConfig: 'local'};</script>\n",
              "        <script src=\"https://cdn.plot.ly/plotly-2.8.3.min.js\"></script>                <div id=\"09b3ffe4-0546-4f72-8679-5862c65d1779\" class=\"plotly-graph-div\" style=\"height:525px; width:100%;\"></div>            <script type=\"text/javascript\">                                    window.PLOTLYENV=window.PLOTLYENV || {};                                    if (document.getElementById(\"09b3ffe4-0546-4f72-8679-5862c65d1779\")) {                    Plotly.newPlot(                        \"09b3ffe4-0546-4f72-8679-5862c65d1779\",                        [{\"alignmentgroup\":\"True\",\"hovertemplate\":\"Variable=%{x}<br>Loading of PC - 1=%{y}<extra></extra>\",\"legendgroup\":\"\",\"marker\":{\"color\":\"#636efa\",\"pattern\":{\"shape\":\"\"}},\"name\":\"\",\"offsetgroup\":\"\",\"orientation\":\"v\",\"showlegend\":false,\"textposition\":\"auto\",\"x\":[\"X:VCD:0\",\"X:VCD:1\",\"X:VCD:2\",\"X:VCD:3\",\"X:VCD:4\",\"X:VCD:5\",\"X:VCD:6\",\"X:VCD:7\",\"X:VCD:8\",\"X:VCD:9\",\"X:VCD:10\",\"X:VCD:11\",\"X:VCD:12\",\"X:VCD:13\",\"X:VCD:14\",\"X:Glc:0\",\"X:Glc:1\",\"X:Glc:2\",\"X:Glc:3\",\"X:Glc:4\",\"X:Glc:5\",\"X:Glc:6\",\"X:Glc:7\",\"X:Glc:8\",\"X:Glc:9\",\"X:Glc:10\",\"X:Glc:11\",\"X:Glc:12\",\"X:Glc:13\",\"X:Glc:14\",\"X:Lac:0\",\"X:Lac:1\",\"X:Lac:2\",\"X:Lac:3\",\"X:Lac:4\",\"X:Lac:5\",\"X:Lac:6\",\"X:Lac:7\",\"X:Lac:8\",\"X:Lac:9\",\"X:Lac:10\",\"X:Lac:11\",\"X:Lac:12\",\"X:Lac:13\",\"X:Lac:14\",\"X:Titer:0\",\"X:Titer:1\",\"X:Titer:2\",\"X:Titer:3\",\"X:Titer:4\",\"X:Titer:5\",\"X:Titer:6\",\"X:Titer:7\",\"X:Titer:8\",\"X:Titer:9\",\"X:Titer:10\",\"X:Titer:11\",\"X:Titer:12\",\"X:Titer:13\",\"X:Titer:14\",\"W:Feed:0\",\"W:Feed:1\",\"W:Feed:2\",\"W:Feed:3\",\"W:Feed:4\",\"W:Feed:5\",\"W:Feed:6\",\"W:Feed:7\",\"W:Feed:8\",\"W:Feed:9\",\"W:Feed:10\",\"W:Feed:11\",\"W:Feed:12\",\"W:Feed:13\",\"W:Feed:14\"],\"xaxis\":\"x\",\"y\":[-0.4668241404348514,-0.46523162230779275,-0.4669085750405937,-0.48883874403743216,-0.5929269315185886,-0.8216212324950146,-0.7292461869803902,-0.6085179379688005,-0.5643638971906803,-0.5599819898475938,-0.5541286056477884,-0.5435618177129932,-0.5228569603261712,-0.4942781610458419,-0.46629188528484977,0.14695268924524651,0.1582108196208047,0.31361145052193756,0.4959150927199525,0.587510882170084,0.6417918994472092,0.6788687348455026,0.7000123523047845,0.7028078544179365,0.7065721915264965,0.6966725614606193,0.6907672593403442,0.694374254995814,0.6998213601888814,0.7029844872673117,0.0,-0.465827466493203,-0.4659404386713061,-0.4725304695107299,-0.500529012080715,-0.5692471082125392,-0.6879193245692444,-0.8226426539005308,-0.9145337952278293,-0.9500736565868385,-0.954549798437122,-0.9484288479267324,-0.9403837074845566,-0.9329622445575514,-0.9266115797676671,0.0,-0.3358511325813874,-0.45448555365888593,-0.49004586737085093,-0.5304639545354256,-0.6015392610902814,-0.706769336865327,-0.7819192213566347,-0.8059277506691122,-0.7986929705082877,-0.7790808205710331,-0.7605568935927817,-0.7454845181472105,-0.7328250355134664,-0.7229429542975778,0.0,0.5431350574439684,0.4980431103397147,0.3336757224613213,0.20628154409777977,0.20628154409777977,0.20628154409777977,0.20628154409777977,0.264507361619795,0.1644588302636314,0.1429356593998337,0.15071374260886508,0.0,0.0,0.0],\"yaxis\":\"y\",\"type\":\"bar\"}],                        {\"template\":{\"data\":{\"bar\":[{\"error_x\":{\"color\":\"#2a3f5f\"},\"error_y\":{\"color\":\"#2a3f5f\"},\"marker\":{\"line\":{\"color\":\"#E5ECF6\",\"width\":0.5},\"pattern\":{\"fillmode\":\"overlay\",\"size\":10,\"solidity\":0.2}},\"type\":\"bar\"}],\"barpolar\":[{\"marker\":{\"line\":{\"color\":\"#E5ECF6\",\"width\":0.5},\"pattern\":{\"fillmode\":\"overlay\",\"size\":10,\"solidity\":0.2}},\"type\":\"barpolar\"}],\"carpet\":[{\"aaxis\":{\"endlinecolor\":\"#2a3f5f\",\"gridcolor\":\"white\",\"linecolor\":\"white\",\"minorgridcolor\":\"white\",\"startlinecolor\":\"#2a3f5f\"},\"baxis\":{\"endlinecolor\":\"#2a3f5f\",\"gridcolor\":\"white\",\"linecolor\":\"white\",\"minorgridcolor\":\"white\",\"startlinecolor\":\"#2a3f5f\"},\"type\":\"carpet\"}],\"choropleth\":[{\"colorbar\":{\"outlinewidth\":0,\"ticks\":\"\"},\"type\":\"choropleth\"}],\"contour\":[{\"colorbar\":{\"outlinewidth\":0,\"ticks\":\"\"},\"colorscale\":[[0.0,\"#0d0887\"],[0.1111111111111111,\"#46039f\"],[0.2222222222222222,\"#7201a8\"],[0.3333333333333333,\"#9c179e\"],[0.4444444444444444,\"#bd3786\"],[0.5555555555555556,\"#d8576b\"],[0.6666666666666666,\"#ed7953\"],[0.7777777777777778,\"#fb9f3a\"],[0.8888888888888888,\"#fdca26\"],[1.0,\"#f0f921\"]],\"type\":\"contour\"}],\"contourcarpet\":[{\"colorbar\":{\"outlinewidth\":0,\"ticks\":\"\"},\"type\":\"contourcarpet\"}],\"heatmap\":[{\"colorbar\":{\"outlinewidth\":0,\"ticks\":\"\"},\"colorscale\":[[0.0,\"#0d0887\"],[0.1111111111111111,\"#46039f\"],[0.2222222222222222,\"#7201a8\"],[0.3333333333333333,\"#9c179e\"],[0.4444444444444444,\"#bd3786\"],[0.5555555555555556,\"#d8576b\"],[0.6666666666666666,\"#ed7953\"],[0.7777777777777778,\"#fb9f3a\"],[0.8888888888888888,\"#fdca26\"],[1.0,\"#f0f921\"]],\"type\":\"heatmap\"}],\"heatmapgl\":[{\"colorbar\":{\"outlinewidth\":0,\"ticks\":\"\"},\"colorscale\":[[0.0,\"#0d0887\"],[0.1111111111111111,\"#46039f\"],[0.2222222222222222,\"#7201a8\"],[0.3333333333333333,\"#9c179e\"],[0.4444444444444444,\"#bd3786\"],[0.5555555555555556,\"#d8576b\"],[0.6666666666666666,\"#ed7953\"],[0.7777777777777778,\"#fb9f3a\"],[0.8888888888888888,\"#fdca26\"],[1.0,\"#f0f921\"]],\"type\":\"heatmapgl\"}],\"histogram\":[{\"marker\":{\"pattern\":{\"fillmode\":\"overlay\",\"size\":10,\"solidity\":0.2}},\"type\":\"histogram\"}],\"histogram2d\":[{\"colorbar\":{\"outlinewidth\":0,\"ticks\":\"\"},\"colorscale\":[[0.0,\"#0d0887\"],[0.1111111111111111,\"#46039f\"],[0.2222222222222222,\"#7201a8\"],[0.3333333333333333,\"#9c179e\"],[0.4444444444444444,\"#bd3786\"],[0.5555555555555556,\"#d8576b\"],[0.6666666666666666,\"#ed7953\"],[0.7777777777777778,\"#fb9f3a\"],[0.8888888888888888,\"#fdca26\"],[1.0,\"#f0f921\"]],\"type\":\"histogram2d\"}],\"histogram2dcontour\":[{\"colorbar\":{\"outlinewidth\":0,\"ticks\":\"\"},\"colorscale\":[[0.0,\"#0d0887\"],[0.1111111111111111,\"#46039f\"],[0.2222222222222222,\"#7201a8\"],[0.3333333333333333,\"#9c179e\"],[0.4444444444444444,\"#bd3786\"],[0.5555555555555556,\"#d8576b\"],[0.6666666666666666,\"#ed7953\"],[0.7777777777777778,\"#fb9f3a\"],[0.8888888888888888,\"#fdca26\"],[1.0,\"#f0f921\"]],\"type\":\"histogram2dcontour\"}],\"mesh3d\":[{\"colorbar\":{\"outlinewidth\":0,\"ticks\":\"\"},\"type\":\"mesh3d\"}],\"parcoords\":[{\"line\":{\"colorbar\":{\"outlinewidth\":0,\"ticks\":\"\"}},\"type\":\"parcoords\"}],\"pie\":[{\"automargin\":true,\"type\":\"pie\"}],\"scatter\":[{\"marker\":{\"colorbar\":{\"outlinewidth\":0,\"ticks\":\"\"}},\"type\":\"scatter\"}],\"scatter3d\":[{\"line\":{\"colorbar\":{\"outlinewidth\":0,\"ticks\":\"\"}},\"marker\":{\"colorbar\":{\"outlinewidth\":0,\"ticks\":\"\"}},\"type\":\"scatter3d\"}],\"scattercarpet\":[{\"marker\":{\"colorbar\":{\"outlinewidth\":0,\"ticks\":\"\"}},\"type\":\"scattercarpet\"}],\"scattergeo\":[{\"marker\":{\"colorbar\":{\"outlinewidth\":0,\"ticks\":\"\"}},\"type\":\"scattergeo\"}],\"scattergl\":[{\"marker\":{\"colorbar\":{\"outlinewidth\":0,\"ticks\":\"\"}},\"type\":\"scattergl\"}],\"scattermapbox\":[{\"marker\":{\"colorbar\":{\"outlinewidth\":0,\"ticks\":\"\"}},\"type\":\"scattermapbox\"}],\"scatterpolar\":[{\"marker\":{\"colorbar\":{\"outlinewidth\":0,\"ticks\":\"\"}},\"type\":\"scatterpolar\"}],\"scatterpolargl\":[{\"marker\":{\"colorbar\":{\"outlinewidth\":0,\"ticks\":\"\"}},\"type\":\"scatterpolargl\"}],\"scatterternary\":[{\"marker\":{\"colorbar\":{\"outlinewidth\":0,\"ticks\":\"\"}},\"type\":\"scatterternary\"}],\"surface\":[{\"colorbar\":{\"outlinewidth\":0,\"ticks\":\"\"},\"colorscale\":[[0.0,\"#0d0887\"],[0.1111111111111111,\"#46039f\"],[0.2222222222222222,\"#7201a8\"],[0.3333333333333333,\"#9c179e\"],[0.4444444444444444,\"#bd3786\"],[0.5555555555555556,\"#d8576b\"],[0.6666666666666666,\"#ed7953\"],[0.7777777777777778,\"#fb9f3a\"],[0.8888888888888888,\"#fdca26\"],[1.0,\"#f0f921\"]],\"type\":\"surface\"}],\"table\":[{\"cells\":{\"fill\":{\"color\":\"#EBF0F8\"},\"line\":{\"color\":\"white\"}},\"header\":{\"fill\":{\"color\":\"#C8D4E3\"},\"line\":{\"color\":\"white\"}},\"type\":\"table\"}]},\"layout\":{\"annotationdefaults\":{\"arrowcolor\":\"#2a3f5f\",\"arrowhead\":0,\"arrowwidth\":1},\"autotypenumbers\":\"strict\",\"coloraxis\":{\"colorbar\":{\"outlinewidth\":0,\"ticks\":\"\"}},\"colorscale\":{\"diverging\":[[0,\"#8e0152\"],[0.1,\"#c51b7d\"],[0.2,\"#de77ae\"],[0.3,\"#f1b6da\"],[0.4,\"#fde0ef\"],[0.5,\"#f7f7f7\"],[0.6,\"#e6f5d0\"],[0.7,\"#b8e186\"],[0.8,\"#7fbc41\"],[0.9,\"#4d9221\"],[1,\"#276419\"]],\"sequential\":[[0.0,\"#0d0887\"],[0.1111111111111111,\"#46039f\"],[0.2222222222222222,\"#7201a8\"],[0.3333333333333333,\"#9c179e\"],[0.4444444444444444,\"#bd3786\"],[0.5555555555555556,\"#d8576b\"],[0.6666666666666666,\"#ed7953\"],[0.7777777777777778,\"#fb9f3a\"],[0.8888888888888888,\"#fdca26\"],[1.0,\"#f0f921\"]],\"sequentialminus\":[[0.0,\"#0d0887\"],[0.1111111111111111,\"#46039f\"],[0.2222222222222222,\"#7201a8\"],[0.3333333333333333,\"#9c179e\"],[0.4444444444444444,\"#bd3786\"],[0.5555555555555556,\"#d8576b\"],[0.6666666666666666,\"#ed7953\"],[0.7777777777777778,\"#fb9f3a\"],[0.8888888888888888,\"#fdca26\"],[1.0,\"#f0f921\"]]},\"colorway\":[\"#636efa\",\"#EF553B\",\"#00cc96\",\"#ab63fa\",\"#FFA15A\",\"#19d3f3\",\"#FF6692\",\"#B6E880\",\"#FF97FF\",\"#FECB52\"],\"font\":{\"color\":\"#2a3f5f\"},\"geo\":{\"bgcolor\":\"white\",\"lakecolor\":\"white\",\"landcolor\":\"#E5ECF6\",\"showlakes\":true,\"showland\":true,\"subunitcolor\":\"white\"},\"hoverlabel\":{\"align\":\"left\"},\"hovermode\":\"closest\",\"mapbox\":{\"style\":\"light\"},\"paper_bgcolor\":\"white\",\"plot_bgcolor\":\"#E5ECF6\",\"polar\":{\"angularaxis\":{\"gridcolor\":\"white\",\"linecolor\":\"white\",\"ticks\":\"\"},\"bgcolor\":\"#E5ECF6\",\"radialaxis\":{\"gridcolor\":\"white\",\"linecolor\":\"white\",\"ticks\":\"\"}},\"scene\":{\"xaxis\":{\"backgroundcolor\":\"#E5ECF6\",\"gridcolor\":\"white\",\"gridwidth\":2,\"linecolor\":\"white\",\"showbackground\":true,\"ticks\":\"\",\"zerolinecolor\":\"white\"},\"yaxis\":{\"backgroundcolor\":\"#E5ECF6\",\"gridcolor\":\"white\",\"gridwidth\":2,\"linecolor\":\"white\",\"showbackground\":true,\"ticks\":\"\",\"zerolinecolor\":\"white\"},\"zaxis\":{\"backgroundcolor\":\"#E5ECF6\",\"gridcolor\":\"white\",\"gridwidth\":2,\"linecolor\":\"white\",\"showbackground\":true,\"ticks\":\"\",\"zerolinecolor\":\"white\"}},\"shapedefaults\":{\"line\":{\"color\":\"#2a3f5f\"}},\"ternary\":{\"aaxis\":{\"gridcolor\":\"white\",\"linecolor\":\"white\",\"ticks\":\"\"},\"baxis\":{\"gridcolor\":\"white\",\"linecolor\":\"white\",\"ticks\":\"\"},\"bgcolor\":\"#E5ECF6\",\"caxis\":{\"gridcolor\":\"white\",\"linecolor\":\"white\",\"ticks\":\"\"}},\"title\":{\"x\":0.05},\"xaxis\":{\"automargin\":true,\"gridcolor\":\"white\",\"linecolor\":\"white\",\"ticks\":\"\",\"title\":{\"standoff\":15},\"zerolinecolor\":\"white\",\"zerolinewidth\":2},\"yaxis\":{\"automargin\":true,\"gridcolor\":\"white\",\"linecolor\":\"white\",\"ticks\":\"\",\"title\":{\"standoff\":15},\"zerolinecolor\":\"white\",\"zerolinewidth\":2}}},\"xaxis\":{\"anchor\":\"y\",\"domain\":[0.0,1.0],\"title\":{\"text\":\"Variable\"}},\"yaxis\":{\"anchor\":\"x\",\"domain\":[0.0,1.0],\"title\":{\"text\":\"Loading of PC - 1\"}},\"legend\":{\"tracegroupgap\":0},\"title\":{\"text\":\"PCA Loading plot\"},\"barmode\":\"relative\"},                        {\"responsive\": true}                    ).then(function(){\n",
              "                            \n",
              "var gd = document.getElementById('09b3ffe4-0546-4f72-8679-5862c65d1779');\n",
              "var x = new MutationObserver(function (mutations, observer) {{\n",
              "        var display = window.getComputedStyle(gd).display;\n",
              "        if (!display || display === 'none') {{\n",
              "            console.log([gd, 'removed!']);\n",
              "            Plotly.purge(gd);\n",
              "            observer.disconnect();\n",
              "        }}\n",
              "}});\n",
              "\n",
              "// Listen for the removal of the full notebook cells\n",
              "var notebookContainer = gd.closest('#notebook-container');\n",
              "if (notebookContainer) {{\n",
              "    x.observe(notebookContainer, {childList: true});\n",
              "}}\n",
              "\n",
              "// Listen for the clearing of the current output cell\n",
              "var outputEl = gd.closest('.output');\n",
              "if (outputEl) {{\n",
              "    x.observe(outputEl, {childList: true});\n",
              "}}\n",
              "\n",
              "                        })                };                            </script>        </div>\n",
              "</body>\n",
              "</html>"
            ]
          },
          "metadata": {}
        }
      ]
    },
    {
      "cell_type": "markdown",
      "source": [
        "### Task: Compute Mahalanobis distances on BWU matrix"
      ],
      "metadata": {
        "id": "mx_SpSBmFNMn"
      }
    },
    {
      "cell_type": "markdown",
      "source": [
        "# Solutions to tasks"
      ],
      "metadata": {
        "id": "1L_-GViSFWzE"
      }
    },
    {
      "cell_type": "markdown",
      "source": [
        "\n",
        "# Main focus process characterization\n",
        "* degrees of freedom\n",
        "* univariate visualization\n",
        "* abnormalities\n",
        "\n",
        "# Main focus PCA\n",
        "* abnormalities in runs/variables\n",
        "* interpretation scores/loadings\n",
        "* differences between OWU/BWU\n"
      ],
      "metadata": {
        "id": "CSKHjGPSSdmp"
      }
    }
  ]
}